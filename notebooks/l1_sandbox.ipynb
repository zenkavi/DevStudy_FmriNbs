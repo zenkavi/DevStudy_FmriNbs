{
 "cells": [
  {
   "cell_type": "markdown",
   "metadata": {},
   "source": [
    "This notebook walks through the level 1 analyses of a single subject for Developmental differences in learning from large losses study. Details of the behavioral analyses can be found [here](https://zenkavi.github.io/DevStudy_Analyses/output/reports/DevStudy_MG_Behavior.nb.html).\n",
    "\n",
    "\n",
    "Import packages"
   ]
  },
  {
   "cell_type": "code",
   "execution_count": 1,
   "metadata": {},
   "outputs": [],
   "source": [
    "import glob\n",
    "import nibabel as nib\n",
    "from nistats.first_level_model import FirstLevelModel\n",
    "import numpy as np\n",
    "import os\n",
    "import pandas as pd\n",
    "import pickle\n",
    "import re\n",
    "import sys\n",
    "sys.path.append(os.environ['SERVER_SCRIPTS'])\n",
    "from utils.mni2vox import mni2vox\n",
    "import warnings"
   ]
  },
  {
   "cell_type": "markdown",
   "metadata": {},
   "source": [
    "Import custom functions"
   ]
  },
  {
   "cell_type": "code",
   "execution_count": 2,
   "metadata": {},
   "outputs": [],
   "source": [
    "from level_1_utils import make_contrasts, add_transform, stdize, get_conditions, get_confounds"
   ]
  },
  {
   "cell_type": "markdown",
   "metadata": {},
   "source": [
    "Import plotting packages"
   ]
  },
  {
   "cell_type": "code",
   "execution_count": 3,
   "metadata": {},
   "outputs": [],
   "source": [
    "from matplotlib.colors import ListedColormap\n",
    "import matplotlib.patheffects as PathEffects\n",
    "import matplotlib.pyplot as plt\n",
    "from scipy.stats import norm\n",
    "import seaborn as sns\n",
    "from nistats.reporting import plot_design_matrix, plot_contrast_matrix\n",
    "import nilearn.plotting\n",
    "\n",
    "%matplotlib inline"
   ]
  },
  {
   "cell_type": "markdown",
   "metadata": {},
   "source": [
    "# Testing level 1 analysis script\n",
    "\n",
    "Declare arguments"
   ]
  },
  {
   "cell_type": "code",
   "execution_count": 4,
   "metadata": {},
   "outputs": [],
   "source": [
    "subnum = '100003'\n",
    "pe = True\n",
    "ev = True\n",
    "data_loc = os.environ['DATA_LOC']\n",
    "server_scripts = os.environ['SERVER_SCRIPTS']"
   ]
  },
  {
   "cell_type": "markdown",
   "metadata": {},
   "source": [
    "Read in events files, make output directories and read in prediction errors"
   ]
  },
  {
   "cell_type": "code",
   "execution_count": 5,
   "metadata": {},
   "outputs": [],
   "source": [
    "events_files = glob.glob('%s/sub-*/func/sub-*_task-machinegame_run-*_events.tsv'%(data_loc))\n",
    "events_files.sort()\n",
    "\n",
    "out_path = \"%s/derivatives/nistats/level_1/sub-%s\"%(data_loc,subnum)\n",
    "if not os.path.exists(out_path):\n",
    "    os.mkdir(out_path)\n",
    "\n",
    "contrasts_path = \"%s/contrasts\"%(out_path)\n",
    "if not os.path.exists(contrasts_path):\n",
    "    os.mkdir(contrasts_path)\n",
    "\n",
    "all_events = pd.DataFrame()\n",
    "\n",
    "for cur_ef in events_files:\n",
    "    df = pd.read_csv(cur_ef, sep = '\\t')\n",
    "    all_events = all_events.append(df, ignore_index= True)\n",
    "\n",
    "all_events = all_events[all_events['response_time'].notnull()]\n",
    "all_events.response_time = all_events.response_time/1000\n",
    "mean_rt = all_events.response_time.mean()\n",
    "\n",
    "del all_events\n",
    "\n",
    "sub_events = [x for x in events_files if subnum in x]\n",
    "\n",
    "all_pes = pd.read_csv('%s/rpe_cors/pred_rpes/exp_exp.csv'%(server_scripts))\n",
    "sub_pes = all_pes.query('sub_id == @subnum')\n",
    "del all_pes\n",
    "\n",
    "all_evs = pd.read_csv('%s/rpe_cors/pred_evs/exp_exp.csv'%(server_scripts))\n",
    "sub_evs = all_evs.query('sub_id == @subnum')\n",
    "del all_evs"
   ]
  },
  {
   "cell_type": "code",
   "execution_count": 7,
   "metadata": {},
   "outputs": [
    {
     "name": "stderr",
     "output_type": "stream",
     "text": [
      "/oak/stanford/groups/russpold/users/zenkavi/DevStudy_ServerScripts/nistats/level_1/level_1_utils.py:99: SettingWithCopyWarning: \n",
      "A value is trying to be set on a copy of a slice from a DataFrame.\n",
      "Try using .loc[row_indexer,col_indexer] = value instead\n",
      "\n",
      "See the caveats in the documentation: http://pandas.pydata.org/pandas-docs/stable/indexing.html#indexing-view-versus-copy\n",
      "  cond_m1_ev['EV'] = cond_m1_ev['EV'].sub(cond_m1_ev['EV'].mean())\n",
      "/oak/stanford/groups/russpold/users/zenkavi/DevStudy_ServerScripts/nistats/level_1/level_1_utils.py:158: FutureWarning: Sorting because non-concatenation axis is not aligned. A future version\n",
      "of pandas will change to not sort by default.\n",
      "\n",
      "To accept the future behavior, pass 'sort=False'.\n",
      "\n",
      "To retain the current behavior and silence the warning, pass 'sort=True'.\n",
      "\n",
      "  formatted_events = pd.concat([cond_m1_ev, cond_m2_ev, cond_m3_ev, cond_m4_ev, cond_m1_rt, cond_m2_rt, cond_m3_rt, cond_m4_rt, cond_hpe, cond_lpe, cond_junk], ignore_index=True)\n",
      "/oak/stanford/groups/russpold/users/zenkavi/DevStudy_ServerScripts/nistats/level_1/level_1_utils.py:182: SettingWithCopyWarning: \n",
      "A value is trying to be set on a copy of a slice from a DataFrame.\n",
      "Try using .loc[row_indexer,col_indexer] = value instead\n",
      "\n",
      "See the caveats in the documentation: http://pandas.pydata.org/pandas-docs/stable/indexing.html#indexing-view-versus-copy\n",
      "  formatted_confounds[where_are_NaNs] = 0\n",
      "/home/groups/russpold/software/miniconda/envs/fmri/lib/python3.5/site-packages/pandas/core/frame.py:3414: SettingWithCopyWarning: \n",
      "A value is trying to be set on a copy of a slice from a DataFrame\n",
      "\n",
      "See the caveats in the documentation: http://pandas.pydata.org/pandas-docs/stable/indexing.html#indexing-view-versus-copy\n",
      "  self._where(-key, value, inplace=True)\n",
      "/home/groups/russpold/software/miniconda/envs/fmri/lib/python3.5/site-packages/pandas/core/frame.py:3391: SettingWithCopyWarning: \n",
      "A value is trying to be set on a copy of a slice from a DataFrame.\n",
      "Try using .loc[row_indexer,col_indexer] = value instead\n",
      "\n",
      "See the caveats in the documentation: http://pandas.pydata.org/pandas-docs/stable/indexing.html#indexing-view-versus-copy\n",
      "  self[k1] = value[k2]\n",
      "/oak/stanford/groups/russpold/users/zenkavi/DevStudy_ServerScripts/nistats/level_1/level_1_utils.py:184: SettingWithCopyWarning: \n",
      "A value is trying to be set on a copy of a slice from a DataFrame\n",
      "\n",
      "See the caveats in the documentation: http://pandas.pydata.org/pandas-docs/stable/indexing.html#indexing-view-versus-copy\n",
      "  formatted_confounds['std_dvars'].iloc[0] = 0\n"
     ]
    }
   ],
   "source": [
    "run_events = sub_events[0]\n",
    "runnum = re.findall('\\d+', os.path.basename(run_events))[1]\n",
    "\n",
    "#fmri_img: path to preproc_bold that the model will be fit on\n",
    "fmri_img = os.path.join(data_loc,\"derivatives/fmriprep_1.4.0/fmriprep/sub-%s/func/sub-%s_task-machinegame_run-%s_space-MNI152NLin2009cAsym_desc-preproc_bold.nii.gz\"%(subnum, subnum, runnum))\n",
    "\n",
    "#read in preproc_bold for that run\n",
    "cur_img = nib.load(fmri_img)\n",
    "cur_img_tr = cur_img.header['pixdim'][4]\n",
    "\n",
    "#read in events.tsv for that run\n",
    "cur_events = pd.read_csv(run_events, sep = '\\t')\n",
    "formatted_events = get_conditions(cur_events, runnum, mean_rt, sub_pes, pe, sub_evs, ev)\n",
    "\n",
    "#process confounds\n",
    "#['X','Y','Z','RotX','RotY','RotY','<-firsttemporalderivative','stdDVARs','FD','scrub']\n",
    "cur_confounds = pd.read_csv(os.path.join(data_loc,\"derivatives/fmriprep_1.4.0/fmriprep/sub-%s/func/sub-%s_task-machinegame_run-%s_desc-confounds_regressors.tsv\"%(subnum, subnum, runnum)), sep='\\t')\n",
    "formatted_confounds = get_confounds(cur_confounds)\n",
    "\n",
    "#define GLM parmeters\n",
    "fmri_glm = FirstLevelModel(t_r=cur_img_tr,\n",
    "                       noise_model='ar1',\n",
    "                       standardize=False,\n",
    "                       hrf_model='spm + derivative',\n",
    "                       drift_model='cosine',\n",
    "                       smoothing_fwhm=5,\n",
    "                       mask='%s/derivatives/fmriprep_1.4.0/fmriprep/sub-%s/func/sub-%s_task-machinegame_run-%s_space-MNI152NLin2009cAsym_desc-brain_mask.nii.gz'%(data_loc, subnum, subnum, runnum))"
   ]
  },
  {
   "cell_type": "code",
   "execution_count": 21,
   "metadata": {},
   "outputs": [
    {
     "data": {
      "text/html": [
       "<div>\n",
       "<style scoped>\n",
       "    .dataframe tbody tr th:only-of-type {\n",
       "        vertical-align: middle;\n",
       "    }\n",
       "\n",
       "    .dataframe tbody tr th {\n",
       "        vertical-align: top;\n",
       "    }\n",
       "\n",
       "    .dataframe thead th {\n",
       "        text-align: right;\n",
       "    }\n",
       "</style>\n",
       "<table border=\"1\" class=\"dataframe\">\n",
       "  <thead>\n",
       "    <tr style=\"text-align: right;\">\n",
       "      <th></th>\n",
       "      <th>onset</th>\n",
       "      <th>duration</th>\n",
       "      <th>trial_type</th>\n",
       "      <th>response</th>\n",
       "      <th>stimulus</th>\n",
       "      <th>response_time</th>\n",
       "      <th>points_earned</th>\n",
       "      <th>iti_start_time</th>\n",
       "      <th>iti_length</th>\n",
       "      <th>rt_shift</th>\n",
       "      <th>EV</th>\n",
       "    </tr>\n",
       "  </thead>\n",
       "  <tbody>\n",
       "    <tr>\n",
       "      <th>0</th>\n",
       "      <td>0.000</td>\n",
       "      <td>2.517</td>\n",
       "      <td>stim_presentation</td>\n",
       "      <td>NaN</td>\n",
       "      <td>2.0</td>\n",
       "      <td>NaN</td>\n",
       "      <td>NaN</td>\n",
       "      <td>551.782</td>\n",
       "      <td>0.519</td>\n",
       "      <td>0.627467</td>\n",
       "      <td>0.000000</td>\n",
       "    </tr>\n",
       "    <tr>\n",
       "      <th>1</th>\n",
       "      <td>5.046</td>\n",
       "      <td>3.642</td>\n",
       "      <td>stim_presentation</td>\n",
       "      <td>NaN</td>\n",
       "      <td>3.0</td>\n",
       "      <td>NaN</td>\n",
       "      <td>NaN</td>\n",
       "      <td>557.953</td>\n",
       "      <td>1.454</td>\n",
       "      <td>1.665467</td>\n",
       "      <td>0.000000</td>\n",
       "    </tr>\n",
       "    <tr>\n",
       "      <th>2</th>\n",
       "      <td>12.151</td>\n",
       "      <td>2.677</td>\n",
       "      <td>stim_presentation</td>\n",
       "      <td>NaN</td>\n",
       "      <td>1.0</td>\n",
       "      <td>NaN</td>\n",
       "      <td>NaN</td>\n",
       "      <td>564.093</td>\n",
       "      <td>1.381</td>\n",
       "      <td>0.054467</td>\n",
       "      <td>0.000000</td>\n",
       "    </tr>\n",
       "    <tr>\n",
       "      <th>3</th>\n",
       "      <td>18.218</td>\n",
       "      <td>2.613</td>\n",
       "      <td>stim_presentation</td>\n",
       "      <td>NaN</td>\n",
       "      <td>4.0</td>\n",
       "      <td>NaN</td>\n",
       "      <td>NaN</td>\n",
       "      <td>570.096</td>\n",
       "      <td>2.868</td>\n",
       "      <td>0.989467</td>\n",
       "      <td>0.000000</td>\n",
       "    </tr>\n",
       "    <tr>\n",
       "      <th>4</th>\n",
       "      <td>25.708</td>\n",
       "      <td>3.913</td>\n",
       "      <td>stim_presentation</td>\n",
       "      <td>NaN</td>\n",
       "      <td>4.0</td>\n",
       "      <td>NaN</td>\n",
       "      <td>NaN</td>\n",
       "      <td>578.886</td>\n",
       "      <td>3.060</td>\n",
       "      <td>-0.723533</td>\n",
       "      <td>0.000000</td>\n",
       "    </tr>\n",
       "    <tr>\n",
       "      <th>5</th>\n",
       "      <td>34.690</td>\n",
       "      <td>3.135</td>\n",
       "      <td>stim_presentation</td>\n",
       "      <td>NaN</td>\n",
       "      <td>4.0</td>\n",
       "      <td>NaN</td>\n",
       "      <td>NaN</td>\n",
       "      <td>587.090</td>\n",
       "      <td>0.942</td>\n",
       "      <td>-0.272533</td>\n",
       "      <td>-0.176820</td>\n",
       "    </tr>\n",
       "    <tr>\n",
       "      <th>6</th>\n",
       "      <td>40.777</td>\n",
       "      <td>2.727</td>\n",
       "      <td>stim_presentation</td>\n",
       "      <td>NaN</td>\n",
       "      <td>3.0</td>\n",
       "      <td>NaN</td>\n",
       "      <td>NaN</td>\n",
       "      <td>592.769</td>\n",
       "      <td>2.101</td>\n",
       "      <td>-0.189533</td>\n",
       "      <td>0.686947</td>\n",
       "    </tr>\n",
       "    <tr>\n",
       "      <th>7</th>\n",
       "      <td>47.614</td>\n",
       "      <td>2.912</td>\n",
       "      <td>stim_presentation</td>\n",
       "      <td>NaN</td>\n",
       "      <td>1.0</td>\n",
       "      <td>NaN</td>\n",
       "      <td>NaN</td>\n",
       "      <td>599.791</td>\n",
       "      <td>0.590</td>\n",
       "      <td>-0.368533</td>\n",
       "      <td>0.238462</td>\n",
       "    </tr>\n",
       "    <tr>\n",
       "      <th>8</th>\n",
       "      <td>53.125</td>\n",
       "      <td>2.576</td>\n",
       "      <td>stim_presentation</td>\n",
       "      <td>NaN</td>\n",
       "      <td>2.0</td>\n",
       "      <td>NaN</td>\n",
       "      <td>NaN</td>\n",
       "      <td>604.966</td>\n",
       "      <td>3.834</td>\n",
       "      <td>-0.245533</td>\n",
       "      <td>-0.075279</td>\n",
       "    </tr>\n",
       "    <tr>\n",
       "      <th>9</th>\n",
       "      <td>61.544</td>\n",
       "      <td>3.739</td>\n",
       "      <td>stim_presentation</td>\n",
       "      <td>NaN</td>\n",
       "      <td>1.0</td>\n",
       "      <td>NaN</td>\n",
       "      <td>NaN</td>\n",
       "      <td>614.548</td>\n",
       "      <td>1.607</td>\n",
       "      <td>0.669467</td>\n",
       "      <td>0.472318</td>\n",
       "    </tr>\n",
       "    <tr>\n",
       "      <th>10</th>\n",
       "      <td>68.899</td>\n",
       "      <td>3.120</td>\n",
       "      <td>stim_presentation</td>\n",
       "      <td>NaN</td>\n",
       "      <td>1.0</td>\n",
       "      <td>NaN</td>\n",
       "      <td>NaN</td>\n",
       "      <td>621.284</td>\n",
       "      <td>3.913</td>\n",
       "      <td>-0.051533</td>\n",
       "      <td>0.472318</td>\n",
       "    </tr>\n",
       "    <tr>\n",
       "      <th>11</th>\n",
       "      <td>77.941</td>\n",
       "      <td>2.571</td>\n",
       "      <td>stim_presentation</td>\n",
       "      <td>NaN</td>\n",
       "      <td>2.0</td>\n",
       "      <td>NaN</td>\n",
       "      <td>NaN</td>\n",
       "      <td>629.777</td>\n",
       "      <td>1.017</td>\n",
       "      <td>-0.073533</td>\n",
       "      <td>-0.150219</td>\n",
       "    </tr>\n",
       "    <tr>\n",
       "      <th>12</th>\n",
       "      <td>83.538</td>\n",
       "      <td>2.848</td>\n",
       "      <td>stim_presentation</td>\n",
       "      <td>NaN</td>\n",
       "      <td>3.0</td>\n",
       "      <td>NaN</td>\n",
       "      <td>NaN</td>\n",
       "      <td>635.651</td>\n",
       "      <td>0.922</td>\n",
       "      <td>-0.087533</td>\n",
       "      <td>0.594081</td>\n",
       "    </tr>\n",
       "    <tr>\n",
       "      <th>13</th>\n",
       "      <td>89.317</td>\n",
       "      <td>2.809</td>\n",
       "      <td>stim_presentation</td>\n",
       "      <td>NaN</td>\n",
       "      <td>4.0</td>\n",
       "      <td>NaN</td>\n",
       "      <td>NaN</td>\n",
       "      <td>641.391</td>\n",
       "      <td>1.697</td>\n",
       "      <td>1.108467</td>\n",
       "      <td>-0.176820</td>\n",
       "    </tr>\n",
       "    <tr>\n",
       "      <th>14</th>\n",
       "      <td>95.832</td>\n",
       "      <td>3.249</td>\n",
       "      <td>stim_presentation</td>\n",
       "      <td>NaN</td>\n",
       "      <td>4.0</td>\n",
       "      <td>NaN</td>\n",
       "      <td>NaN</td>\n",
       "      <td>648.346</td>\n",
       "      <td>1.420</td>\n",
       "      <td>-0.188533</td>\n",
       "      <td>-0.176820</td>\n",
       "    </tr>\n",
       "    <tr>\n",
       "      <th>15</th>\n",
       "      <td>102.511</td>\n",
       "      <td>2.773</td>\n",
       "      <td>stim_presentation</td>\n",
       "      <td>NaN</td>\n",
       "      <td>2.0</td>\n",
       "      <td>NaN</td>\n",
       "      <td>NaN</td>\n",
       "      <td>654.549</td>\n",
       "      <td>0.595</td>\n",
       "      <td>-0.613533</td>\n",
       "      <td>-0.224817</td>\n",
       "    </tr>\n",
       "    <tr>\n",
       "      <th>16</th>\n",
       "      <td>107.888</td>\n",
       "      <td>2.554</td>\n",
       "      <td>stim_presentation</td>\n",
       "      <td>NaN</td>\n",
       "      <td>2.0</td>\n",
       "      <td>NaN</td>\n",
       "      <td>NaN</td>\n",
       "      <td>659.707</td>\n",
       "      <td>1.076</td>\n",
       "      <td>-0.589533</td>\n",
       "      <td>-0.299071</td>\n",
       "    </tr>\n",
       "    <tr>\n",
       "      <th>17</th>\n",
       "      <td>113.527</td>\n",
       "      <td>3.799</td>\n",
       "      <td>stim_presentation</td>\n",
       "      <td>NaN</td>\n",
       "      <td>1.0</td>\n",
       "      <td>NaN</td>\n",
       "      <td>NaN</td>\n",
       "      <td>666.591</td>\n",
       "      <td>1.902</td>\n",
       "      <td>0.819467</td>\n",
       "      <td>0.701472</td>\n",
       "    </tr>\n",
       "    <tr>\n",
       "      <th>18</th>\n",
       "      <td>121.238</td>\n",
       "      <td>3.031</td>\n",
       "      <td>stim_presentation</td>\n",
       "      <td>NaN</td>\n",
       "      <td>3.0</td>\n",
       "      <td>NaN</td>\n",
       "      <td>NaN</td>\n",
       "      <td>673.534</td>\n",
       "      <td>1.928</td>\n",
       "      <td>-0.657533</td>\n",
       "      <td>0.594081</td>\n",
       "    </tr>\n",
       "    <tr>\n",
       "      <th>19</th>\n",
       "      <td>128.207</td>\n",
       "      <td>2.762</td>\n",
       "      <td>stim_presentation</td>\n",
       "      <td>NaN</td>\n",
       "      <td>1.0</td>\n",
       "      <td>NaN</td>\n",
       "      <td>NaN</td>\n",
       "      <td>680.234</td>\n",
       "      <td>1.335</td>\n",
       "      <td>-0.617533</td>\n",
       "      <td>0.925822</td>\n",
       "    </tr>\n",
       "    <tr>\n",
       "      <th>20</th>\n",
       "      <td>134.313</td>\n",
       "      <td>4.220</td>\n",
       "      <td>stim_presentation</td>\n",
       "      <td>NaN</td>\n",
       "      <td>1.0</td>\n",
       "      <td>NaN</td>\n",
       "      <td>NaN</td>\n",
       "      <td>687.798</td>\n",
       "      <td>0.507</td>\n",
       "      <td>-0.641533</td>\n",
       "      <td>0.636975</td>\n",
       "    </tr>\n",
       "    <tr>\n",
       "      <th>21</th>\n",
       "      <td>141.049</td>\n",
       "      <td>2.747</td>\n",
       "      <td>stim_presentation</td>\n",
       "      <td>NaN</td>\n",
       "      <td>1.0</td>\n",
       "      <td>NaN</td>\n",
       "      <td>NaN</td>\n",
       "      <td>693.061</td>\n",
       "      <td>0.701</td>\n",
       "      <td>-0.706533</td>\n",
       "      <td>0.636975</td>\n",
       "    </tr>\n",
       "    <tr>\n",
       "      <th>22</th>\n",
       "      <td>146.506</td>\n",
       "      <td>2.958</td>\n",
       "      <td>stim_presentation</td>\n",
       "      <td>NaN</td>\n",
       "      <td>1.0</td>\n",
       "      <td>NaN</td>\n",
       "      <td>NaN</td>\n",
       "      <td>698.729</td>\n",
       "      <td>0.663</td>\n",
       "      <td>-0.920533</td>\n",
       "      <td>0.636975</td>\n",
       "    </tr>\n",
       "    <tr>\n",
       "      <th>23</th>\n",
       "      <td>152.136</td>\n",
       "      <td>2.523</td>\n",
       "      <td>stim_presentation</td>\n",
       "      <td>NaN</td>\n",
       "      <td>4.0</td>\n",
       "      <td>NaN</td>\n",
       "      <td>NaN</td>\n",
       "      <td>703.924</td>\n",
       "      <td>3.555</td>\n",
       "      <td>0.729467</td>\n",
       "      <td>-0.176820</td>\n",
       "    </tr>\n",
       "    <tr>\n",
       "      <th>24</th>\n",
       "      <td>160.223</td>\n",
       "      <td>2.717</td>\n",
       "      <td>stim_presentation</td>\n",
       "      <td>NaN</td>\n",
       "      <td>3.0</td>\n",
       "      <td>NaN</td>\n",
       "      <td>NaN</td>\n",
       "      <td>712.205</td>\n",
       "      <td>2.412</td>\n",
       "      <td>1.093467</td>\n",
       "      <td>0.594081</td>\n",
       "    </tr>\n",
       "    <tr>\n",
       "      <th>25</th>\n",
       "      <td>167.361</td>\n",
       "      <td>2.676</td>\n",
       "      <td>stim_presentation</td>\n",
       "      <td>NaN</td>\n",
       "      <td>1.0</td>\n",
       "      <td>NaN</td>\n",
       "      <td>NaN</td>\n",
       "      <td>719.302</td>\n",
       "      <td>0.592</td>\n",
       "      <td>0.482467</td>\n",
       "      <td>0.636975</td>\n",
       "    </tr>\n",
       "    <tr>\n",
       "      <th>26</th>\n",
       "      <td>172.638</td>\n",
       "      <td>3.190</td>\n",
       "      <td>stim_presentation</td>\n",
       "      <td>NaN</td>\n",
       "      <td>1.0</td>\n",
       "      <td>NaN</td>\n",
       "      <td>NaN</td>\n",
       "      <td>725.093</td>\n",
       "      <td>1.321</td>\n",
       "      <td>-0.785533</td>\n",
       "      <td>0.636975</td>\n",
       "    </tr>\n",
       "    <tr>\n",
       "      <th>27</th>\n",
       "      <td>179.158</td>\n",
       "      <td>3.634</td>\n",
       "      <td>stim_presentation</td>\n",
       "      <td>NaN</td>\n",
       "      <td>3.0</td>\n",
       "      <td>NaN</td>\n",
       "      <td>NaN</td>\n",
       "      <td>732.057</td>\n",
       "      <td>1.866</td>\n",
       "      <td>-0.306533</td>\n",
       "      <td>0.594081</td>\n",
       "    </tr>\n",
       "    <tr>\n",
       "      <th>28</th>\n",
       "      <td>186.667</td>\n",
       "      <td>2.677</td>\n",
       "      <td>stim_presentation</td>\n",
       "      <td>NaN</td>\n",
       "      <td>4.0</td>\n",
       "      <td>NaN</td>\n",
       "      <td>NaN</td>\n",
       "      <td>738.609</td>\n",
       "      <td>2.291</td>\n",
       "      <td>-0.238533</td>\n",
       "      <td>0.129542</td>\n",
       "    </tr>\n",
       "    <tr>\n",
       "      <th>29</th>\n",
       "      <td>193.645</td>\n",
       "      <td>2.920</td>\n",
       "      <td>stim_presentation</td>\n",
       "      <td>NaN</td>\n",
       "      <td>2.0</td>\n",
       "      <td>NaN</td>\n",
       "      <td>NaN</td>\n",
       "      <td>745.830</td>\n",
       "      <td>2.991</td>\n",
       "      <td>0.038467</td>\n",
       "      <td>-0.299071</td>\n",
       "    </tr>\n",
       "  </tbody>\n",
       "</table>\n",
       "</div>"
      ],
      "text/plain": [
       "      onset  duration         trial_type  response  stimulus  response_time  \\\n",
       "0     0.000     2.517  stim_presentation       NaN       2.0            NaN   \n",
       "1     5.046     3.642  stim_presentation       NaN       3.0            NaN   \n",
       "2    12.151     2.677  stim_presentation       NaN       1.0            NaN   \n",
       "3    18.218     2.613  stim_presentation       NaN       4.0            NaN   \n",
       "4    25.708     3.913  stim_presentation       NaN       4.0            NaN   \n",
       "5    34.690     3.135  stim_presentation       NaN       4.0            NaN   \n",
       "6    40.777     2.727  stim_presentation       NaN       3.0            NaN   \n",
       "7    47.614     2.912  stim_presentation       NaN       1.0            NaN   \n",
       "8    53.125     2.576  stim_presentation       NaN       2.0            NaN   \n",
       "9    61.544     3.739  stim_presentation       NaN       1.0            NaN   \n",
       "10   68.899     3.120  stim_presentation       NaN       1.0            NaN   \n",
       "11   77.941     2.571  stim_presentation       NaN       2.0            NaN   \n",
       "12   83.538     2.848  stim_presentation       NaN       3.0            NaN   \n",
       "13   89.317     2.809  stim_presentation       NaN       4.0            NaN   \n",
       "14   95.832     3.249  stim_presentation       NaN       4.0            NaN   \n",
       "15  102.511     2.773  stim_presentation       NaN       2.0            NaN   \n",
       "16  107.888     2.554  stim_presentation       NaN       2.0            NaN   \n",
       "17  113.527     3.799  stim_presentation       NaN       1.0            NaN   \n",
       "18  121.238     3.031  stim_presentation       NaN       3.0            NaN   \n",
       "19  128.207     2.762  stim_presentation       NaN       1.0            NaN   \n",
       "20  134.313     4.220  stim_presentation       NaN       1.0            NaN   \n",
       "21  141.049     2.747  stim_presentation       NaN       1.0            NaN   \n",
       "22  146.506     2.958  stim_presentation       NaN       1.0            NaN   \n",
       "23  152.136     2.523  stim_presentation       NaN       4.0            NaN   \n",
       "24  160.223     2.717  stim_presentation       NaN       3.0            NaN   \n",
       "25  167.361     2.676  stim_presentation       NaN       1.0            NaN   \n",
       "26  172.638     3.190  stim_presentation       NaN       1.0            NaN   \n",
       "27  179.158     3.634  stim_presentation       NaN       3.0            NaN   \n",
       "28  186.667     2.677  stim_presentation       NaN       4.0            NaN   \n",
       "29  193.645     2.920  stim_presentation       NaN       2.0            NaN   \n",
       "\n",
       "    points_earned  iti_start_time  iti_length  rt_shift        EV  \n",
       "0             NaN         551.782       0.519  0.627467  0.000000  \n",
       "1             NaN         557.953       1.454  1.665467  0.000000  \n",
       "2             NaN         564.093       1.381  0.054467  0.000000  \n",
       "3             NaN         570.096       2.868  0.989467  0.000000  \n",
       "4             NaN         578.886       3.060 -0.723533  0.000000  \n",
       "5             NaN         587.090       0.942 -0.272533 -0.176820  \n",
       "6             NaN         592.769       2.101 -0.189533  0.686947  \n",
       "7             NaN         599.791       0.590 -0.368533  0.238462  \n",
       "8             NaN         604.966       3.834 -0.245533 -0.075279  \n",
       "9             NaN         614.548       1.607  0.669467  0.472318  \n",
       "10            NaN         621.284       3.913 -0.051533  0.472318  \n",
       "11            NaN         629.777       1.017 -0.073533 -0.150219  \n",
       "12            NaN         635.651       0.922 -0.087533  0.594081  \n",
       "13            NaN         641.391       1.697  1.108467 -0.176820  \n",
       "14            NaN         648.346       1.420 -0.188533 -0.176820  \n",
       "15            NaN         654.549       0.595 -0.613533 -0.224817  \n",
       "16            NaN         659.707       1.076 -0.589533 -0.299071  \n",
       "17            NaN         666.591       1.902  0.819467  0.701472  \n",
       "18            NaN         673.534       1.928 -0.657533  0.594081  \n",
       "19            NaN         680.234       1.335 -0.617533  0.925822  \n",
       "20            NaN         687.798       0.507 -0.641533  0.636975  \n",
       "21            NaN         693.061       0.701 -0.706533  0.636975  \n",
       "22            NaN         698.729       0.663 -0.920533  0.636975  \n",
       "23            NaN         703.924       3.555  0.729467 -0.176820  \n",
       "24            NaN         712.205       2.412  1.093467  0.594081  \n",
       "25            NaN         719.302       0.592  0.482467  0.636975  \n",
       "26            NaN         725.093       1.321 -0.785533  0.636975  \n",
       "27            NaN         732.057       1.866 -0.306533  0.594081  \n",
       "28            NaN         738.609       2.291 -0.238533  0.129542  \n",
       "29            NaN         745.830       2.991  0.038467 -0.299071  "
      ]
     },
     "execution_count": 21,
     "metadata": {},
     "output_type": "execute_result"
    }
   ],
   "source": [
    "max_X = int(runnum)*30\n",
    "run_evs = sub_evs.query('X<@max_X')\n",
    "cond_ev = cur_events.query('trial_type == \"stim_presentation\"')\n",
    "cond_ev = pd.concat([cond_ev.reset_index(drop=True), run_evs['EV'].reset_index(drop=True)], axis=1)\n",
    "cond_ev    "
   ]
  },
  {
   "cell_type": "code",
   "execution_count": null,
   "metadata": {},
   "outputs": [],
   "source": [
    "#fit glm to run image using run events\n",
    "print(\"***********************************************\")\n",
    "print(\"Running GLM for sub-%s run-%s\"%(subnum, runnum))\n",
    "print(\"***********************************************\")\n",
    "fmri_glm = fmri_glm.fit(fmri_img, events = formatted_events, confounds = formatted_confounds)"
   ]
  },
  {
   "cell_type": "code",
   "execution_count": null,
   "metadata": {},
   "outputs": [],
   "source": [
    "design_matrix = fmri_glm.design_matrices_[0]\n",
    "contrasts = make_contrasts(design_matrix, pe)\n",
    "contrasts['m1']"
   ]
  },
  {
   "cell_type": "code",
   "execution_count": null,
   "metadata": {},
   "outputs": [],
   "source": [
    "z_map = fmri_glm.compute_contrast(contrasts[\"m1\"], output_type='z_score')"
   ]
  },
  {
   "cell_type": "code",
   "execution_count": null,
   "metadata": {},
   "outputs": [],
   "source": [
    "eff_map = fmri_glm.compute_contrast(contrasts[\"m1\"], output_type='effect_size')"
   ]
  },
  {
   "cell_type": "code",
   "execution_count": null,
   "metadata": {},
   "outputs": [],
   "source": [
    "eff_var_map = fmri_glm.compute_contrast(contrasts[\"m1\"], output_type='effect_variance')"
   ]
  },
  {
   "cell_type": "code",
   "execution_count": null,
   "metadata": {},
   "outputs": [],
   "source": [
    "stat_map = fmri_glm.compute_contrast(contrasts[\"m1\"], output_type='stat')"
   ]
  },
  {
   "cell_type": "code",
   "execution_count": null,
   "metadata": {},
   "outputs": [],
   "source": [
    "z_map_data = z_map.get_fdata()"
   ]
  },
  {
   "cell_type": "code",
   "execution_count": null,
   "metadata": {},
   "outputs": [],
   "source": [
    "eff_map_data = eff_map.get_fdata()"
   ]
  },
  {
   "cell_type": "code",
   "execution_count": null,
   "metadata": {},
   "outputs": [],
   "source": [
    "eff_var_map_data = eff_var_map.get_fdata()"
   ]
  },
  {
   "cell_type": "code",
   "execution_count": null,
   "metadata": {},
   "outputs": [],
   "source": [
    "stat_map_data = stat_map.get_fdata()"
   ]
  },
  {
   "cell_type": "code",
   "execution_count": null,
   "metadata": {},
   "outputs": [],
   "source": [
    "z_map_data.max()"
   ]
  },
  {
   "cell_type": "code",
   "execution_count": null,
   "metadata": {},
   "outputs": [],
   "source": [
    "eff_map_data.max()"
   ]
  },
  {
   "cell_type": "code",
   "execution_count": null,
   "metadata": {},
   "outputs": [],
   "source": [
    "stat_map_data.max()"
   ]
  },
  {
   "cell_type": "code",
   "execution_count": null,
   "metadata": {},
   "outputs": [],
   "source": [
    "tmp1 = nib.load('/oak/stanford/groups/russpold/data/ds000054/0.0.4/derivatives/fsl/level_1/sub-400742/model1/run-001.feat/stats/cope1.nii.gz')"
   ]
  },
  {
   "cell_type": "code",
   "execution_count": null,
   "metadata": {},
   "outputs": [],
   "source": [
    "tmp1.get_fdata().max()"
   ]
  },
  {
   "cell_type": "code",
   "execution_count": null,
   "metadata": {},
   "outputs": [],
   "source": [
    "np.nanmax(eff_map_data/np.sqrt(eff_var_map_data))"
   ]
  },
  {
   "cell_type": "code",
   "execution_count": null,
   "metadata": {},
   "outputs": [],
   "source": []
  },
  {
   "cell_type": "code",
   "execution_count": null,
   "metadata": {},
   "outputs": [],
   "source": []
  },
  {
   "cell_type": "code",
   "execution_count": null,
   "metadata": {},
   "outputs": [],
   "source": [
    "for run_events in sub_events:\n",
    "\n",
    "    runnum = re.findall('\\d+', os.path.basename(run_events))[1]\n",
    "\n",
    "    exists = os.path.isfile(os.path.join(data_loc,\"derivatives/fmriprep_1.4.0/fmriprep/sub-%s/func/sub-%s_task-machinegame_run-%s_space-MNI152NLin2009cAsym_desc-preproc_bold.nii.gz\"%(subnum, subnum, runnum)))\n",
    "\n",
    "    if exists:\n",
    "\n",
    "        #fmri_img: path to preproc_bold that the model will be fit on\n",
    "        fmri_img = os.path.join(data_loc,\"derivatives/fmriprep_1.4.0/fmriprep/sub-%s/func/sub-%s_task-machinegame_run-%s_space-MNI152NLin2009cAsym_desc-preproc_bold.nii.gz\"%(subnum, subnum, runnum))\n",
    "\n",
    "        #read in preproc_bold for that run\n",
    "        cur_img = nib.load(fmri_img)\n",
    "        cur_img_tr = cur_img.header['pixdim'][4]\n",
    "\n",
    "        #read in events.tsv for that run\n",
    "        cur_events = pd.read_csv(run_events, sep = '\\t')\n",
    "        formatted_events = get_conditions(cur_events, runnum, mean_rt, sub_pes, pe)\n",
    "\n",
    "        #process confounds\n",
    "        #['X','Y','Z','RotX','RotY','RotY','<-firsttemporalderivative','stdDVARs','FD','scrub']\n",
    "        cur_confounds = pd.read_csv(os.path.join(data_loc,\"derivatives/fmriprep_1.4.0/fmriprep/sub-%s/func/sub-%s_task-machinegame_run-%s_desc-confounds_regressors.tsv\"%(subnum, subnum, runnum)), sep='\\t')\n",
    "        formatted_confounds = get_confounds(cur_confounds)\n",
    "\n",
    "        #define GLM parmeters\n",
    "        fmri_glm = FirstLevelModel(t_r=cur_img_tr,\n",
    "                               noise_model='ar1',\n",
    "                               standardize=False,\n",
    "                               hrf_model='spm + derivative',\n",
    "                               drift_model='cosine',\n",
    "                               smoothing_fwhm=5,\n",
    "                               mask='%s/derivatives/fmriprep_1.4.0/fmriprep/sub-%s/func/sub-%s_task-machinegame_run-%s_space-MNI152NLin2009cAsym_desc-brain_mask.nii.gz'%(data_loc, subnum, subnum, runnum))\n",
    "\n",
    "        #fit glm to run image using run events\n",
    "        print(\"***********************************************\")\n",
    "        print(\"Running GLM for sub-%s run-%s\"%(subnum, runnum))\n",
    "        print(\"***********************************************\")\n",
    "        fmri_glm = fmri_glm.fit(fmri_img, events = formatted_events, confounds = formatted_confounds)\n",
    "\n",
    "        print(\"***********************************************\")\n",
    "        print(\"Saving GLM for sub-%s run-%s\"%(subnum, runnum))\n",
    "        print(\"***********************************************\")\n",
    "        if pe:\n",
    "            f = open('%s/sub-%s_run-%s_l1_%s_glm.pkl' %(out_path,subnum, runnum, 'pe'), 'wb')\n",
    "        else:\n",
    "            f = open('%s/sub-%s_run-%s_l1_glm.pkl' %(out_path,subnum, runnum), 'wb')\n",
    "        pickle.dump(fmri_glm, f)\n",
    "        f.close()\n",
    "\n",
    "        #Save design matrix\n",
    "        design_matrix = fmri_glm.design_matrices_[0]\n",
    "        print(\"***********************************************\")\n",
    "        print(\"Saving design matrix for sub-%s run-%s\"%(subnum, runnum))\n",
    "        print(\"***********************************************\")\n",
    "        if pe:\n",
    "            design_matrix.to_csv(os.path.join(out_path, 'sub-%s_run-%s_level1_%s_design_matrix.csv' %(subnum, runnum, 'pe')))\n",
    "        else:\n",
    "            design_matrix.to_csv(os.path.join(out_path, 'sub-%s_run-%s_level1_design_matrix.csv' %(subnum, runnum)))\n",
    "\n",
    "        print(\"***********************************************\")\n",
    "        print(\"Running contrasts for sub-%s run-%s\"%(subnum, runnum))\n",
    "        print(\"***********************************************\")\n",
    "        contrasts = make_contrasts(design_matrix, pe)\n",
    "        for index, (contrast_id, contrast_val) in enumerate(contrasts.items()):\n",
    "            z_map = fmri_glm.compute_contrast(contrast_val, output_type='z_score')\n",
    "            nib.save(z_map, '%s/sub-%s_run-%s_%s.nii.gz'%(contrasts_path, subnum, runnum, contrast_id))\n",
    "        print(\"***********************************************\")\n",
    "        print(\"Done saving contrasts for sub-%s run-%s\"%(subnum, runnum))\n",
    "        print(\"***********************************************\")\n",
    "\n",
    "    else:\n",
    "        print(\"***********************************************\")\n",
    "        print(\"No pre-processed BOLD found for sub-%s run-%s\"%(subnum, runnum))\n",
    "        print(\"***********************************************\")"
   ]
  },
  {
   "cell_type": "markdown",
   "metadata": {},
   "source": [
    "# Outputs of level 1 analyses\n",
    "\n",
    "Let's look at the outputs  \n",
    "\n",
    "\n",
    "## Design matrix\n",
    "Design matrix for the last run"
   ]
  },
  {
   "cell_type": "code",
   "execution_count": null,
   "metadata": {},
   "outputs": [],
   "source": [
    "plt.rcParams['figure.figsize'] = [10, 5]\n",
    "plot_design_matrix(design_matrix)"
   ]
  },
  {
   "cell_type": "markdown",
   "metadata": {},
   "source": [
    "Closer look at task regressors"
   ]
  },
  {
   "cell_type": "code",
   "execution_count": null,
   "metadata": {},
   "outputs": [],
   "source": [
    "plot_design_matrix(design_matrix[['m1', 'm2', 'm3', 'm4','m1_rt', 'm2_rt', 'm3_rt', 'm4_rt','hpe', 'lpe']].reset_index(drop=True))"
   ]
  },
  {
   "cell_type": "markdown",
   "metadata": {},
   "source": [
    "## Correlations between regressors\n",
    "\n",
    "Correlations between regressors in the design matrix for the last run"
   ]
  },
  {
   "cell_type": "code",
   "execution_count": null,
   "metadata": {},
   "outputs": [],
   "source": [
    "cc=np.corrcoef(design_matrix.T)\n",
    "plt.imshow(cc,aspect='auto',interpolation='nearest', cmap=plt.cm.viridis)\n",
    "plt.colorbar()"
   ]
  },
  {
   "cell_type": "markdown",
   "metadata": {},
   "source": [
    "The highly correlated regressors are motion regressors"
   ]
  },
  {
   "cell_type": "code",
   "execution_count": null,
   "metadata": {},
   "outputs": [],
   "source": [
    "design_matrix.columns[20:40]"
   ]
  },
  {
   "cell_type": "markdown",
   "metadata": {},
   "source": [
    "## Contrast maps\n",
    "\n",
    "Let's look at contrast maps for the last run"
   ]
  },
  {
   "cell_type": "code",
   "execution_count": null,
   "metadata": {},
   "outputs": [],
   "source": [
    "zmap_paths = glob.glob('%s/*run-006*'%(contrasts_path))\n",
    "zmap_paths.sort()"
   ]
  },
  {
   "cell_type": "code",
   "execution_count": null,
   "metadata": {},
   "outputs": [],
   "source": [
    "for t_map in zmap_paths:\n",
    "    nilearn.plotting.plot_glass_brain(nilearn.image.smooth_img(t_map, 8),\n",
    "                                      display_mode='lyrz', colorbar=True, plot_abs=False, threshold=2.3, title=os.path.basename(t_map))"
   ]
  },
  {
   "cell_type": "code",
   "execution_count": null,
   "metadata": {},
   "outputs": [],
   "source": [
    "for t_map in zmap_paths:\n",
    "    nilearn.plotting.plot_stat_map(nilearn.image.smooth_img(t_map, 8), colorbar=True, threshold=2.3, title=os.path.basename(t_map))"
   ]
  },
  {
   "cell_type": "markdown",
   "metadata": {},
   "source": [
    "For another run the contrast images look like:"
   ]
  },
  {
   "cell_type": "code",
   "execution_count": null,
   "metadata": {},
   "outputs": [],
   "source": [
    "zmap_paths = glob.glob('%s/*run-003*'%(contrasts_path))\n",
    "zmap_paths.sort()\n",
    "for t_map in zmap_paths:\n",
    "    nilearn.plotting.plot_stat_map(nilearn.image.smooth_img(t_map, 8), colorbar=True, threshold=2.3, title=os.path.basename(t_map))"
   ]
  },
  {
   "cell_type": "markdown",
   "metadata": {},
   "source": [
    "# Extracting z-values \n",
    "\n",
    "## Manual extraction"
   ]
  },
  {
   "cell_type": "code",
   "execution_count": null,
   "metadata": {},
   "outputs": [],
   "source": [
    "img_file_name = '%s/sub-%s_run-002_hpe.nii.gz'%(contrasts_path, subnum)\n",
    "img = nib.load(img_file_name)\n",
    "mask_file_name = '/oak/stanford/groups/russpold/data/ds000054/0.0.4/derivatives/rois/tpl-MNI152NLin2009cAsym_res-01_desc-brain_T1w/l_vstr_bin.nii.gz'\n",
    "mask = nib.load(mask_file_name)"
   ]
  },
  {
   "cell_type": "markdown",
   "metadata": {},
   "source": [
    "Extract ROI data manually as in: https://neurostars.org/t/extract-roi-voxels-using-nilearns-niftimasker/3977  \n",
    "\n",
    "**Doesn't work because the BOLD does not have the same dimensionality**"
   ]
  },
  {
   "cell_type": "code",
   "execution_count": null,
   "metadata": {},
   "outputs": [],
   "source": [
    "img_data = img.get_fdata()\n",
    "mask_data = mask.get_fdata()\n",
    "roi_nifti_data = np.where(mask_data == 1,img_data,0)\n",
    "roi_nifti_img = image.new_img_like(img,roi_nifti_data)"
   ]
  },
  {
   "cell_type": "code",
   "execution_count": null,
   "metadata": {},
   "outputs": [],
   "source": [
    "img_data.shape == mask_data.shape"
   ]
  },
  {
   "cell_type": "markdown",
   "metadata": {},
   "source": [
    "Resample mask to statistical map  \n",
    "\n",
    "Note: the resampled image is not longer binarized"
   ]
  },
  {
   "cell_type": "code",
   "execution_count": null,
   "metadata": {},
   "outputs": [],
   "source": [
    "res_mask = nilearn.image.resample_to_img(mask, img)\n",
    "res_mask_data = res_mask.get_fdata()\n",
    "#binarize resampled mask data\n",
    "res_mask_data = np.where(res_mask_data >0.1,1,0)\n",
    "res_mask = nilearn.image.new_img_like(img, res_mask_data)"
   ]
  },
  {
   "cell_type": "code",
   "execution_count": null,
   "metadata": {},
   "outputs": [],
   "source": [
    "nilearn.plotting.plot_stat_map(res_mask, colorbar=True, draw_cross=False)"
   ]
  },
  {
   "cell_type": "markdown",
   "metadata": {},
   "source": [
    "Does it matter which contrast image the ROI is resampled to?"
   ]
  },
  {
   "cell_type": "code",
   "execution_count": null,
   "metadata": {},
   "outputs": [],
   "source": [
    "img2_file_name = '/oak/stanford/groups/russpold/data/ds000054/0.0.4/derivatives/nistats/level_1/sub-407209/contrasts/sub-407209_run-002_hpe.nii.gz'\n",
    "img2 = nib.load(img2_file_name)\n",
    "res2_mask = nilearn.image.resample_to_img(mask, img2)\n",
    "res2_mask_data = res2_mask.get_fdata()\n",
    "#binarize resampled mask data\n",
    "res2_mask_data = np.where(res2_mask_data >0.1,1,0)\n",
    "res2_mask = nilearn.image.new_img_like(img2, res2_mask_data)\n",
    "nilearn.plotting.plot_stat_map(res2_mask, colorbar=True, draw_cross=False)"
   ]
  },
  {
   "cell_type": "markdown",
   "metadata": {},
   "source": [
    "No. The resampled mask seems the same regardless of what contrast image it is registered to"
   ]
  },
  {
   "cell_type": "code",
   "execution_count": null,
   "metadata": {},
   "outputs": [],
   "source": [
    "(res_mask_data != res2_mask_data).sum()"
   ]
  },
  {
   "cell_type": "code",
   "execution_count": null,
   "metadata": {},
   "outputs": [],
   "source": [
    "img_data = img.get_fdata()\n",
    "roi_nifti_data = np.where(res_mask_data == 1,img_data,0)\n",
    "roi_nifti_img = nilearn.image.new_img_like(img,roi_nifti_data)"
   ]
  },
  {
   "cell_type": "code",
   "execution_count": null,
   "metadata": {},
   "outputs": [],
   "source": [
    "nilearn.plotting.plot_stat_map(roi_nifti_img, colorbar=True, draw_cross=False)"
   ]
  },
  {
   "cell_type": "code",
   "execution_count": null,
   "metadata": {},
   "outputs": [],
   "source": [
    "roi_data = roi_nifti_data[roi_nifti_data != 0]\n",
    "cur_betas = pd.DataFrame()\n",
    "cur_betas[\"beta\"] = roi_data\n"
   ]
  },
  {
   "cell_type": "code",
   "execution_count": null,
   "metadata": {},
   "outputs": [],
   "source": [
    "models = glob.glob(os.path.join(server_scripts, 'rpe_cors/pred_rpes/*.csv'))\n",
    "models = [os.path.splitext(os.path.basename(x))[0] for x in models]\n",
    "model = models[7]\n",
    "beta_img_paths = glob.glob('%s/derivatives/rpe_cors/%s/sub-*/contrasts/sub-*_run-*_*pe_betas.nii.gz'%(data_loc, model))\n",
    "cur_beta_img = beta_img_paths[10]\n",
    "os.path.basename(cur_beta_img).split(\"_\")[2]"
   ]
  },
  {
   "cell_type": "code",
   "execution_count": null,
   "metadata": {},
   "outputs": [],
   "source": [
    "nilearn.plotting.plot_stat_map(img, colorbar=True, threshold=2.3, draw_cross=False, cut_coords=[-11,13,-6])"
   ]
  },
  {
   "cell_type": "code",
   "execution_count": null,
   "metadata": {},
   "outputs": [],
   "source": [
    "nilearn.plotting.plot_stat_map(img, colorbar=True, threshold=2.3, draw_cross=False, cut_coords=[-11,13,-6])"
   ]
  },
  {
   "cell_type": "markdown",
   "metadata": {},
   "source": [
    "## Using freesurfer\n",
    "\n",
    "Extract using freesurfer segmentation as described in https://groups.google.com/forum/#!topic/nipy-user/DjnN9q52vH8\n",
    "\n",
    "**Not working due to broken freesurfer path**"
   ]
  },
  {
   "cell_type": "code",
   "execution_count": null,
   "metadata": {},
   "outputs": [],
   "source": [
    "import nipype.interfaces.freesurfer as fs \n",
    "segstat = fs.SegStats() \n",
    "segstat.inputs.segmentation_file = mask_file_name \n",
    "segstat.inputs.in_file = img_file_name \n",
    "segstat.inputs.avgwf_file = True \n",
    "segstat.run() "
   ]
  },
  {
   "cell_type": "markdown",
   "metadata": {},
   "source": [
    "# Check dimensions of fmriprep output"
   ]
  },
  {
   "cell_type": "code",
   "execution_count": null,
   "metadata": {},
   "outputs": [],
   "source": [
    "nib.load('/oak/stanford/groups/russpold/data/ds000054/0.0.4/derivatives/rois/tpl-MNI152NLin2009cAsym_res-01_desc-brain_T1w/tpl-MNI152NLin2009cAsym_res-01_desc-brain_T1w.nii.gz').shape"
   ]
  },
  {
   "cell_type": "code",
   "execution_count": null,
   "metadata": {},
   "outputs": [],
   "source": [
    "nib.load(data_loc+'/derivatives/fmriprep_1.4.0/fmriprep/sub-400742/func/sub-400742_task-machinegame_run-005_space-MNI152NLin2009cAsym_desc-preproc_bold.nii.gz').shape"
   ]
  },
  {
   "cell_type": "code",
   "execution_count": null,
   "metadata": {},
   "outputs": [],
   "source": [
    "nib.load(data_loc+'/derivatives/fmriprep_1.4.0/fmriprep/sub-100003/func/sub-100003_task-machinegame_run-002_space-MNI152NLin2009cAsym_desc-preproc_bold.nii.gz').shape"
   ]
  },
  {
   "cell_type": "code",
   "execution_count": null,
   "metadata": {},
   "outputs": [],
   "source": [
    "nib.load(data_loc+'/derivatives/fmriprep_1.3.0/fmriprep/sub-400742/anat/sub-400742_space-MNI152NLin2009cAsym_desc-preproc_T1w.nii.gz').shape"
   ]
  },
  {
   "cell_type": "code",
   "execution_count": null,
   "metadata": {},
   "outputs": [],
   "source": [
    "nib.load('/home/users/zenkavi/datalad/templateflow/tpl-MNI152NLin2009cAsym/tpl-MNI152NLin2009cAsym_res-02_desc-brain_T1w.nii.gz').shape"
   ]
  },
  {
   "cell_type": "code",
   "execution_count": null,
   "metadata": {},
   "outputs": [],
   "source": [
    "tmp_path = '/oak/stanford/groups/russpold/users/ieisenbe/uh2/fmri_data/BIDS_data/derivatives/fmriprep/fmriprep/sub-s061/ses-1/func'\n",
    "nib.load(tmp_path+'/sub-s061_ses-1_task-stopSignal_run-1_space-MNI152NLin2009cAsym_desc-preproc_bold.nii.gz').shape"
   ]
  },
  {
   "cell_type": "code",
   "execution_count": null,
   "metadata": {},
   "outputs": [],
   "source": [
    "tmp_path = '/oak/stanford/groups/russpold/data/ds000054/0.0.4/sub-400742/func'\n",
    "nib.load(tmp_path+'/sub-400742_task-machinegame_run-001_bold.nii.gz').shape"
   ]
  },
  {
   "cell_type": "code",
   "execution_count": null,
   "metadata": {},
   "outputs": [],
   "source": [
    "tmp_path = '/oak/stanford/groups/russpold/data/ds000054/0.0.4/sub-400742/anat'\n",
    "nib.load(tmp_path+'/sub-400742_T1w.nii.gz').shape"
   ]
  },
  {
   "cell_type": "code",
   "execution_count": null,
   "metadata": {},
   "outputs": [],
   "source": [
    "nib.load('/oak/stanford/groups/russpold/data/templateflow/tpl-MNI152NLin2009cAsym/tpl-MNI152NLin2009cAsym_res-01_desc-brain_T1w.nii.gz').shape"
   ]
  }
 ],
 "metadata": {
  "hide_input": false,
  "kernelspec": {
   "display_name": "Python 3",
   "language": "python",
   "name": "python3"
  },
  "language_info": {
   "codemirror_mode": {
    "name": "ipython",
    "version": 3
   },
   "file_extension": ".py",
   "mimetype": "text/x-python",
   "name": "python",
   "nbconvert_exporter": "python",
   "pygments_lexer": "ipython3",
   "version": "3.5.3"
  },
  "toc": {
   "base_numbering": 1,
   "nav_menu": {},
   "number_sections": true,
   "sideBar": true,
   "skip_h1_title": false,
   "title_cell": "Table of Contents",
   "title_sidebar": "Contents",
   "toc_cell": false,
   "toc_position": {},
   "toc_section_display": true,
   "toc_window_display": true
  }
 },
 "nbformat": 4,
 "nbformat_minor": 2
}
