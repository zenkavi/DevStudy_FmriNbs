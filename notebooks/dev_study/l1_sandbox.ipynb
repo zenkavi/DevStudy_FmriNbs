{
 "cells": [
  {
   "cell_type": "markdown",
   "metadata": {},
   "source": [
    "This notebook walks through the level 1 analyses of a single subject for Developmental differences in learning from large losses study. Details of the behavioral analyses can be found [here](https://zenkavi.github.io/DevStudy_Analyses/output/reports/DevStudy_MG_Behavior.nb.html).\n",
    "\n",
    "\n",
    "Import packages"
   ]
  },
  {
   "cell_type": "code",
   "execution_count": 1,
   "metadata": {},
   "outputs": [],
   "source": [
    "import glob\n",
    "import nibabel as nib\n",
    "from nistats.first_level_model import FirstLevelModel\n",
    "import numpy as np\n",
    "import os\n",
    "import pandas as pd\n",
    "import pickle\n",
    "import re\n",
    "import sys\n",
    "sys.path.append(os.environ['SERVER_SCRIPTS'])\n",
    "from utils.mni2vox import mni2vox\n",
    "import warnings"
   ]
  },
  {
   "cell_type": "markdown",
   "metadata": {},
   "source": [
    "Import custom functions"
   ]
  },
  {
   "cell_type": "code",
   "execution_count": 2,
   "metadata": {},
   "outputs": [],
   "source": [
    "sys.path.append(os.path.join(os.environ['SERVER_SCRIPTS'], 'nistats/level_1'))\n",
    "from level_1_utils import make_contrasts, add_transform, stdize, get_conditions, get_confounds\n"
   ]
  },
  {
   "cell_type": "markdown",
   "metadata": {},
   "source": [
    "Import plotting packages"
   ]
  },
  {
   "cell_type": "code",
   "execution_count": 3,
   "metadata": {},
   "outputs": [],
   "source": [
    "from matplotlib.colors import ListedColormap\n",
    "import matplotlib.patheffects as PathEffects\n",
    "import matplotlib.pyplot as plt\n",
    "from scipy.stats import norm\n",
    "import seaborn as sns\n",
    "from nistats.reporting import plot_design_matrix, plot_contrast_matrix\n",
    "import nilearn.plotting\n",
    "\n",
    "%matplotlib inline"
   ]
  },
  {
   "cell_type": "markdown",
   "metadata": {},
   "source": [
    "# Testing level 1 analysis script\n",
    "\n",
    "Declare arguments"
   ]
  },
  {
   "cell_type": "code",
   "execution_count": null,
   "metadata": {},
   "outputs": [],
   "source": [
    "subnum = '100003'\n",
    "pe = True\n",
    "ev = True\n",
    "data_loc = os.environ['DATA_LOC']\n",
    "server_scripts = os.environ['SERVER_SCRIPTS']"
   ]
  },
  {
   "cell_type": "markdown",
   "metadata": {},
   "source": [
    "Read in events files, make output directories and read in prediction errors"
   ]
  },
  {
   "cell_type": "code",
   "execution_count": null,
   "metadata": {},
   "outputs": [],
   "source": [
    "events_files = glob.glob('%s/sub-*/func/sub-*_task-machinegame_run-*_events.tsv'%(data_loc))\n",
    "events_files.sort()\n",
    "\n",
    "out_path = \"%s/derivatives/nistats/level_1/sub-%s\"%(data_loc,subnum)\n",
    "if not os.path.exists(out_path):\n",
    "    os.mkdir(out_path)\n",
    "\n",
    "contrasts_path = \"%s/contrasts\"%(out_path)\n",
    "if not os.path.exists(contrasts_path):\n",
    "    os.mkdir(contrasts_path)\n",
    "\n",
    "all_events = pd.DataFrame()\n",
    "\n",
    "for cur_ef in events_files:\n",
    "    df = pd.read_csv(cur_ef, sep = '\\t')\n",
    "    all_events = all_events.append(df, ignore_index= True)\n",
    "\n",
    "all_events = all_events[all_events['response_time'].notnull()]\n",
    "all_events.response_time = all_events.response_time/1000\n",
    "mean_rt = all_events.response_time.mean()\n",
    "\n",
    "del all_events\n",
    "\n",
    "sub_events = [x for x in events_files if subnum in x]\n",
    "\n",
    "all_pes = pd.read_csv('%s/rpe_cors/pred_rpes/exp_exp.csv'%(server_scripts))\n",
    "sub_pes = all_pes.query('sub_id == @subnum')\n",
    "del all_pes\n",
    "\n",
    "all_evs = pd.read_csv('%s/rpe_cors/pred_evs/exp_exp.csv'%(server_scripts))\n",
    "sub_evs = all_evs.query('sub_id == @subnum')\n",
    "del all_evs"
   ]
  },
  {
   "cell_type": "code",
   "execution_count": null,
   "metadata": {},
   "outputs": [],
   "source": [
    "run_events = sub_events[0]\n",
    "runnum = re.findall('\\d+', os.path.basename(run_events))[1]\n",
    "\n",
    "#fmri_img: path to preproc_bold that the model will be fit on\n",
    "fmri_img = os.path.join(data_loc,\"derivatives/fmriprep_1.4.0/fmriprep/sub-%s/func/sub-%s_task-machinegame_run-%s_space-MNI152NLin2009cAsym_desc-preproc_bold.nii.gz\"%(subnum, subnum, runnum))\n",
    "\n",
    "#read in preproc_bold for that run\n",
    "cur_img = nib.load(fmri_img)\n",
    "cur_img_tr = cur_img.header['pixdim'][4]\n",
    "\n",
    "#read in events.tsv for that run\n",
    "cur_events = pd.read_csv(run_events, sep = '\\t')\n",
    "formatted_events = get_conditions(cur_events, runnum, mean_rt, sub_pes, pe, sub_evs, ev)\n",
    "\n",
    "#process confounds\n",
    "#['X','Y','Z','RotX','RotY','RotY','<-firsttemporalderivative','stdDVARs','FD','scrub']\n",
    "cur_confounds = pd.read_csv(os.path.join(data_loc,\"derivatives/fmriprep_1.4.0/fmriprep/sub-%s/func/sub-%s_task-machinegame_run-%s_desc-confounds_regressors.tsv\"%(subnum, subnum, runnum)), sep='\\t')\n",
    "formatted_confounds = get_confounds(cur_confounds)\n",
    "\n",
    "#define GLM parmeters\n",
    "fmri_glm = FirstLevelModel(t_r=cur_img_tr,\n",
    "                       noise_model='ar1',\n",
    "                       standardize=False,\n",
    "                       hrf_model='spm + derivative',\n",
    "                       drift_model='cosine',\n",
    "                       smoothing_fwhm=5,\n",
    "                       mask='%s/derivatives/fmriprep_1.4.0/fmriprep/sub-%s/func/sub-%s_task-machinegame_run-%s_space-MNI152NLin2009cAsym_desc-brain_mask.nii.gz'%(data_loc, subnum, subnum, runnum))"
   ]
  },
  {
   "cell_type": "code",
   "execution_count": null,
   "metadata": {},
   "outputs": [],
   "source": [
    "max_X = int(runnum)*30\n",
    "run_evs = sub_evs.query('X<@max_X')\n",
    "cond_ev = cur_events.query('trial_type == \"stim_presentation\"')\n",
    "cond_ev = pd.concat([cond_ev.reset_index(drop=True), run_evs['EV'].reset_index(drop=True)], axis=1)\n",
    "cond_ev    "
   ]
  },
  {
   "cell_type": "code",
   "execution_count": null,
   "metadata": {},
   "outputs": [],
   "source": [
    "#fit glm to run image using run events\n",
    "print(\"***********************************************\")\n",
    "print(\"Running GLM for sub-%s run-%s\"%(subnum, runnum))\n",
    "print(\"***********************************************\")\n",
    "fmri_glm = fmri_glm.fit(fmri_img, events = formatted_events, confounds = formatted_confounds)"
   ]
  },
  {
   "cell_type": "code",
   "execution_count": null,
   "metadata": {},
   "outputs": [],
   "source": [
    "design_matrix = fmri_glm.design_matrices_[0]\n",
    "contrasts = make_contrasts(design_matrix, pe)\n",
    "contrasts['m1']"
   ]
  },
  {
   "cell_type": "code",
   "execution_count": null,
   "metadata": {},
   "outputs": [],
   "source": [
    "z_map = fmri_glm.compute_contrast(contrasts[\"m1\"], output_type='z_score')"
   ]
  },
  {
   "cell_type": "code",
   "execution_count": null,
   "metadata": {},
   "outputs": [],
   "source": [
    "eff_map = fmri_glm.compute_contrast(contrasts[\"m1\"], output_type='effect_size')"
   ]
  },
  {
   "cell_type": "code",
   "execution_count": null,
   "metadata": {},
   "outputs": [],
   "source": [
    "eff_var_map = fmri_glm.compute_contrast(contrasts[\"m1\"], output_type='effect_variance')"
   ]
  },
  {
   "cell_type": "code",
   "execution_count": null,
   "metadata": {},
   "outputs": [],
   "source": [
    "stat_map = fmri_glm.compute_contrast(contrasts[\"m1\"], output_type='stat')"
   ]
  },
  {
   "cell_type": "code",
   "execution_count": null,
   "metadata": {},
   "outputs": [],
   "source": [
    "z_map_data = z_map.get_fdata()"
   ]
  },
  {
   "cell_type": "code",
   "execution_count": null,
   "metadata": {},
   "outputs": [],
   "source": [
    "eff_map_data = eff_map.get_fdata()"
   ]
  },
  {
   "cell_type": "code",
   "execution_count": null,
   "metadata": {},
   "outputs": [],
   "source": [
    "eff_var_map_data = eff_var_map.get_fdata()"
   ]
  },
  {
   "cell_type": "code",
   "execution_count": null,
   "metadata": {},
   "outputs": [],
   "source": [
    "stat_map_data = stat_map.get_fdata()"
   ]
  },
  {
   "cell_type": "code",
   "execution_count": null,
   "metadata": {},
   "outputs": [],
   "source": [
    "z_map_data.max()"
   ]
  },
  {
   "cell_type": "code",
   "execution_count": null,
   "metadata": {},
   "outputs": [],
   "source": [
    "eff_map_data.max()"
   ]
  },
  {
   "cell_type": "code",
   "execution_count": null,
   "metadata": {},
   "outputs": [],
   "source": [
    "stat_map_data.max()"
   ]
  },
  {
   "cell_type": "code",
   "execution_count": null,
   "metadata": {},
   "outputs": [],
   "source": [
    "tmp1 = nib.load('/oak/stanford/groups/russpold/data/ds000054/0.0.4/derivatives/fsl/level_1/sub-400742/model1/run-001.feat/stats/cope1.nii.gz')"
   ]
  },
  {
   "cell_type": "code",
   "execution_count": null,
   "metadata": {},
   "outputs": [],
   "source": [
    "tmp1.get_fdata().max()"
   ]
  },
  {
   "cell_type": "code",
   "execution_count": null,
   "metadata": {},
   "outputs": [],
   "source": [
    "np.nanmax(eff_map_data/np.sqrt(eff_var_map_data))"
   ]
  },
  {
   "cell_type": "code",
   "execution_count": null,
   "metadata": {},
   "outputs": [],
   "source": []
  },
  {
   "cell_type": "code",
   "execution_count": null,
   "metadata": {},
   "outputs": [],
   "source": []
  },
  {
   "cell_type": "code",
   "execution_count": null,
   "metadata": {},
   "outputs": [],
   "source": [
    "for run_events in sub_events:\n",
    "\n",
    "    runnum = re.findall('\\d+', os.path.basename(run_events))[1]\n",
    "\n",
    "    exists = os.path.isfile(os.path.join(data_loc,\"derivatives/fmriprep_1.4.0/fmriprep/sub-%s/func/sub-%s_task-machinegame_run-%s_space-MNI152NLin2009cAsym_desc-preproc_bold.nii.gz\"%(subnum, subnum, runnum)))\n",
    "\n",
    "    if exists:\n",
    "\n",
    "        #fmri_img: path to preproc_bold that the model will be fit on\n",
    "        fmri_img = os.path.join(data_loc,\"derivatives/fmriprep_1.4.0/fmriprep/sub-%s/func/sub-%s_task-machinegame_run-%s_space-MNI152NLin2009cAsym_desc-preproc_bold.nii.gz\"%(subnum, subnum, runnum))\n",
    "\n",
    "        #read in preproc_bold for that run\n",
    "        cur_img = nib.load(fmri_img)\n",
    "        cur_img_tr = cur_img.header['pixdim'][4]\n",
    "\n",
    "        #read in events.tsv for that run\n",
    "        cur_events = pd.read_csv(run_events, sep = '\\t')\n",
    "        formatted_events = get_conditions(cur_events, runnum, mean_rt, sub_pes, pe)\n",
    "\n",
    "        #process confounds\n",
    "        #['X','Y','Z','RotX','RotY','RotY','<-firsttemporalderivative','stdDVARs','FD','scrub']\n",
    "        cur_confounds = pd.read_csv(os.path.join(data_loc,\"derivatives/fmriprep_1.4.0/fmriprep/sub-%s/func/sub-%s_task-machinegame_run-%s_desc-confounds_regressors.tsv\"%(subnum, subnum, runnum)), sep='\\t')\n",
    "        formatted_confounds = get_confounds(cur_confounds)\n",
    "\n",
    "        #define GLM parmeters\n",
    "        fmri_glm = FirstLevelModel(t_r=cur_img_tr,\n",
    "                               noise_model='ar1',\n",
    "                               standardize=False,\n",
    "                               hrf_model='spm + derivative',\n",
    "                               drift_model='cosine',\n",
    "                               smoothing_fwhm=5,\n",
    "                               mask='%s/derivatives/fmriprep_1.4.0/fmriprep/sub-%s/func/sub-%s_task-machinegame_run-%s_space-MNI152NLin2009cAsym_desc-brain_mask.nii.gz'%(data_loc, subnum, subnum, runnum))\n",
    "\n",
    "        #fit glm to run image using run events\n",
    "        print(\"***********************************************\")\n",
    "        print(\"Running GLM for sub-%s run-%s\"%(subnum, runnum))\n",
    "        print(\"***********************************************\")\n",
    "        fmri_glm = fmri_glm.fit(fmri_img, events = formatted_events, confounds = formatted_confounds)\n",
    "\n",
    "        print(\"***********************************************\")\n",
    "        print(\"Saving GLM for sub-%s run-%s\"%(subnum, runnum))\n",
    "        print(\"***********************************************\")\n",
    "        if pe:\n",
    "            f = open('%s/sub-%s_run-%s_l1_%s_glm.pkl' %(out_path,subnum, runnum, 'pe'), 'wb')\n",
    "        else:\n",
    "            f = open('%s/sub-%s_run-%s_l1_glm.pkl' %(out_path,subnum, runnum), 'wb')\n",
    "        pickle.dump(fmri_glm, f)\n",
    "        f.close()\n",
    "\n",
    "        #Save design matrix\n",
    "        design_matrix = fmri_glm.design_matrices_[0]\n",
    "        print(\"***********************************************\")\n",
    "        print(\"Saving design matrix for sub-%s run-%s\"%(subnum, runnum))\n",
    "        print(\"***********************************************\")\n",
    "        if pe:\n",
    "            design_matrix.to_csv(os.path.join(out_path, 'sub-%s_run-%s_level1_%s_design_matrix.csv' %(subnum, runnum, 'pe')))\n",
    "        else:\n",
    "            design_matrix.to_csv(os.path.join(out_path, 'sub-%s_run-%s_level1_design_matrix.csv' %(subnum, runnum)))\n",
    "\n",
    "        print(\"***********************************************\")\n",
    "        print(\"Running contrasts for sub-%s run-%s\"%(subnum, runnum))\n",
    "        print(\"***********************************************\")\n",
    "        contrasts = make_contrasts(design_matrix, pe)\n",
    "        for index, (contrast_id, contrast_val) in enumerate(contrasts.items()):\n",
    "            z_map = fmri_glm.compute_contrast(contrast_val, output_type='z_score')\n",
    "            nib.save(z_map, '%s/sub-%s_run-%s_%s.nii.gz'%(contrasts_path, subnum, runnum, contrast_id))\n",
    "        print(\"***********************************************\")\n",
    "        print(\"Done saving contrasts for sub-%s run-%s\"%(subnum, runnum))\n",
    "        print(\"***********************************************\")\n",
    "\n",
    "    else:\n",
    "        print(\"***********************************************\")\n",
    "        print(\"No pre-processed BOLD found for sub-%s run-%s\"%(subnum, runnum))\n",
    "        print(\"***********************************************\")"
   ]
  },
  {
   "cell_type": "markdown",
   "metadata": {},
   "source": [
    "# Outputs of level 1 analyses\n",
    "\n",
    "Let's look at the outputs  \n",
    "\n",
    "\n",
    "## Design matrix\n",
    "Design matrix for the last run"
   ]
  },
  {
   "cell_type": "code",
   "execution_count": null,
   "metadata": {},
   "outputs": [],
   "source": [
    "plt.rcParams['figure.figsize'] = [10, 5]\n",
    "plot_design_matrix(design_matrix)"
   ]
  },
  {
   "cell_type": "markdown",
   "metadata": {},
   "source": [
    "Closer look at task regressors"
   ]
  },
  {
   "cell_type": "code",
   "execution_count": null,
   "metadata": {},
   "outputs": [],
   "source": [
    "plot_design_matrix(design_matrix[['m1', 'm2', 'm3', 'm4','m1_rt', 'm2_rt', 'm3_rt', 'm4_rt','hpe', 'lpe']].reset_index(drop=True))"
   ]
  },
  {
   "cell_type": "markdown",
   "metadata": {},
   "source": [
    "## Correlations between regressors\n",
    "\n",
    "Correlations between regressors in the design matrix for the last run"
   ]
  },
  {
   "cell_type": "code",
   "execution_count": null,
   "metadata": {},
   "outputs": [],
   "source": [
    "cc=np.corrcoef(design_matrix.T)\n",
    "plt.imshow(cc,aspect='auto',interpolation='nearest', cmap=plt.cm.viridis)\n",
    "plt.colorbar()"
   ]
  },
  {
   "cell_type": "markdown",
   "metadata": {},
   "source": [
    "The highly correlated regressors are motion regressors"
   ]
  },
  {
   "cell_type": "code",
   "execution_count": null,
   "metadata": {},
   "outputs": [],
   "source": [
    "design_matrix.columns[20:40]"
   ]
  },
  {
   "cell_type": "markdown",
   "metadata": {},
   "source": [
    "## Contrast maps\n",
    "\n",
    "Let's look at contrast maps for the last run"
   ]
  },
  {
   "cell_type": "code",
   "execution_count": null,
   "metadata": {},
   "outputs": [],
   "source": [
    "zmap_paths = glob.glob('%s/*run-006*'%(contrasts_path))\n",
    "zmap_paths.sort()"
   ]
  },
  {
   "cell_type": "code",
   "execution_count": null,
   "metadata": {},
   "outputs": [],
   "source": [
    "for t_map in zmap_paths:\n",
    "    nilearn.plotting.plot_glass_brain(nilearn.image.smooth_img(t_map, 8),\n",
    "                                      display_mode='lyrz', colorbar=True, plot_abs=False, threshold=2.3, title=os.path.basename(t_map))"
   ]
  },
  {
   "cell_type": "code",
   "execution_count": null,
   "metadata": {},
   "outputs": [],
   "source": [
    "for t_map in zmap_paths:\n",
    "    nilearn.plotting.plot_stat_map(nilearn.image.smooth_img(t_map, 8), colorbar=True, threshold=2.3, title=os.path.basename(t_map))"
   ]
  },
  {
   "cell_type": "markdown",
   "metadata": {},
   "source": [
    "For another run the contrast images look like:"
   ]
  },
  {
   "cell_type": "code",
   "execution_count": null,
   "metadata": {},
   "outputs": [],
   "source": [
    "zmap_paths = glob.glob('%s/*run-003*'%(contrasts_path))\n",
    "zmap_paths.sort()\n",
    "for t_map in zmap_paths:\n",
    "    nilearn.plotting.plot_stat_map(nilearn.image.smooth_img(t_map, 8), colorbar=True, threshold=2.3, title=os.path.basename(t_map))"
   ]
  },
  {
   "cell_type": "markdown",
   "metadata": {},
   "source": [
    "# Extracting z-values \n",
    "\n",
    "## Manual extraction"
   ]
  },
  {
   "cell_type": "code",
   "execution_count": null,
   "metadata": {},
   "outputs": [],
   "source": [
    "img_file_name = '%s/sub-%s_run-002_hpe.nii.gz'%(contrasts_path, subnum)\n",
    "img = nib.load(img_file_name)\n",
    "mask_file_name = '/oak/stanford/groups/russpold/data/ds000054/0.0.4/derivatives/rois/tpl-MNI152NLin2009cAsym_res-01_desc-brain_T1w/l_vstr_bin.nii.gz'\n",
    "mask = nib.load(mask_file_name)"
   ]
  },
  {
   "cell_type": "markdown",
   "metadata": {},
   "source": [
    "Extract ROI data manually as in: https://neurostars.org/t/extract-roi-voxels-using-nilearns-niftimasker/3977  \n",
    "\n",
    "**Doesn't work because the BOLD does not have the same dimensionality**"
   ]
  },
  {
   "cell_type": "code",
   "execution_count": null,
   "metadata": {},
   "outputs": [],
   "source": [
    "img_data = img.get_fdata()\n",
    "mask_data = mask.get_fdata()\n",
    "roi_nifti_data = np.where(mask_data == 1,img_data,0)\n",
    "roi_nifti_img = image.new_img_like(img,roi_nifti_data)"
   ]
  },
  {
   "cell_type": "code",
   "execution_count": null,
   "metadata": {},
   "outputs": [],
   "source": [
    "img_data.shape == mask_data.shape"
   ]
  },
  {
   "cell_type": "markdown",
   "metadata": {},
   "source": [
    "Resample mask to statistical map  \n",
    "\n",
    "Note: the resampled image is not longer binarized"
   ]
  },
  {
   "cell_type": "code",
   "execution_count": null,
   "metadata": {},
   "outputs": [],
   "source": [
    "res_mask = nilearn.image.resample_to_img(mask, img)\n",
    "res_mask_data = res_mask.get_fdata()\n",
    "#binarize resampled mask data\n",
    "res_mask_data = np.where(res_mask_data >0.1,1,0)\n",
    "res_mask = nilearn.image.new_img_like(img, res_mask_data)"
   ]
  },
  {
   "cell_type": "code",
   "execution_count": null,
   "metadata": {},
   "outputs": [],
   "source": [
    "nilearn.plotting.plot_stat_map(res_mask, colorbar=True, draw_cross=False)"
   ]
  },
  {
   "cell_type": "markdown",
   "metadata": {},
   "source": [
    "Does it matter which contrast image the ROI is resampled to?"
   ]
  },
  {
   "cell_type": "code",
   "execution_count": null,
   "metadata": {},
   "outputs": [],
   "source": [
    "img2_file_name = '/oak/stanford/groups/russpold/data/ds000054/0.0.4/derivatives/nistats/level_1/sub-407209/contrasts/sub-407209_run-002_hpe.nii.gz'\n",
    "img2 = nib.load(img2_file_name)\n",
    "res2_mask = nilearn.image.resample_to_img(mask, img2)\n",
    "res2_mask_data = res2_mask.get_fdata()\n",
    "#binarize resampled mask data\n",
    "res2_mask_data = np.where(res2_mask_data >0.1,1,0)\n",
    "res2_mask = nilearn.image.new_img_like(img2, res2_mask_data)\n",
    "nilearn.plotting.plot_stat_map(res2_mask, colorbar=True, draw_cross=False)"
   ]
  },
  {
   "cell_type": "markdown",
   "metadata": {},
   "source": [
    "No. The resampled mask seems the same regardless of what contrast image it is registered to"
   ]
  },
  {
   "cell_type": "code",
   "execution_count": null,
   "metadata": {},
   "outputs": [],
   "source": [
    "(res_mask_data != res2_mask_data).sum()"
   ]
  },
  {
   "cell_type": "code",
   "execution_count": null,
   "metadata": {},
   "outputs": [],
   "source": [
    "img_data = img.get_fdata()\n",
    "roi_nifti_data = np.where(res_mask_data == 1,img_data,0)\n",
    "roi_nifti_img = nilearn.image.new_img_like(img,roi_nifti_data)"
   ]
  },
  {
   "cell_type": "code",
   "execution_count": null,
   "metadata": {},
   "outputs": [],
   "source": [
    "nilearn.plotting.plot_stat_map(roi_nifti_img, colorbar=True, draw_cross=False)"
   ]
  },
  {
   "cell_type": "code",
   "execution_count": null,
   "metadata": {},
   "outputs": [],
   "source": [
    "roi_data = roi_nifti_data[roi_nifti_data != 0]\n",
    "cur_betas = pd.DataFrame()\n",
    "cur_betas[\"beta\"] = roi_data\n"
   ]
  },
  {
   "cell_type": "code",
   "execution_count": null,
   "metadata": {},
   "outputs": [],
   "source": [
    "models = glob.glob(os.path.join(server_scripts, 'rpe_cors/pred_rpes/*.csv'))\n",
    "models = [os.path.splitext(os.path.basename(x))[0] for x in models]\n",
    "model = models[7]\n",
    "beta_img_paths = glob.glob('%s/derivatives/rpe_cors/%s/sub-*/contrasts/sub-*_run-*_*pe_betas.nii.gz'%(data_loc, model))\n",
    "cur_beta_img = beta_img_paths[10]\n",
    "os.path.basename(cur_beta_img).split(\"_\")[2]"
   ]
  },
  {
   "cell_type": "code",
   "execution_count": null,
   "metadata": {},
   "outputs": [],
   "source": [
    "nilearn.plotting.plot_stat_map(img, colorbar=True, threshold=2.3, draw_cross=False, cut_coords=[-11,13,-6])"
   ]
  },
  {
   "cell_type": "code",
   "execution_count": null,
   "metadata": {},
   "outputs": [],
   "source": [
    "nilearn.plotting.plot_stat_map(img, colorbar=True, threshold=2.3, draw_cross=False, cut_coords=[-11,13,-6])"
   ]
  },
  {
   "cell_type": "markdown",
   "metadata": {},
   "source": [
    "## Using freesurfer\n",
    "\n",
    "Extract using freesurfer segmentation as described in https://groups.google.com/forum/#!topic/nipy-user/DjnN9q52vH8\n",
    "\n",
    "**Not working due to broken freesurfer path**"
   ]
  },
  {
   "cell_type": "code",
   "execution_count": null,
   "metadata": {},
   "outputs": [],
   "source": [
    "import nipype.interfaces.freesurfer as fs \n",
    "segstat = fs.SegStats() \n",
    "segstat.inputs.segmentation_file = mask_file_name \n",
    "segstat.inputs.in_file = img_file_name \n",
    "segstat.inputs.avgwf_file = True \n",
    "segstat.run() "
   ]
  },
  {
   "cell_type": "markdown",
   "metadata": {},
   "source": [
    "# Check dimensions of fmriprep output"
   ]
  },
  {
   "cell_type": "code",
   "execution_count": null,
   "metadata": {},
   "outputs": [],
   "source": [
    "nib.load('/oak/stanford/groups/russpold/data/ds000054/0.0.4/derivatives/rois/tpl-MNI152NLin2009cAsym_res-01_desc-brain_T1w/tpl-MNI152NLin2009cAsym_res-01_desc-brain_T1w.nii.gz').shape"
   ]
  },
  {
   "cell_type": "code",
   "execution_count": null,
   "metadata": {},
   "outputs": [],
   "source": [
    "nib.load(data_loc+'/derivatives/fmriprep_1.4.0/fmriprep/sub-400742/func/sub-400742_task-machinegame_run-005_space-MNI152NLin2009cAsym_desc-preproc_bold.nii.gz').shape"
   ]
  },
  {
   "cell_type": "code",
   "execution_count": null,
   "metadata": {},
   "outputs": [],
   "source": [
    "nib.load(data_loc+'/derivatives/fmriprep_1.4.0/fmriprep/sub-100003/func/sub-100003_task-machinegame_run-002_space-MNI152NLin2009cAsym_desc-preproc_bold.nii.gz').shape"
   ]
  },
  {
   "cell_type": "code",
   "execution_count": null,
   "metadata": {},
   "outputs": [],
   "source": [
    "nib.load(data_loc+'/derivatives/fmriprep_1.3.0/fmriprep/sub-400742/anat/sub-400742_space-MNI152NLin2009cAsym_desc-preproc_T1w.nii.gz').shape"
   ]
  },
  {
   "cell_type": "code",
   "execution_count": null,
   "metadata": {},
   "outputs": [],
   "source": [
    "nib.load('/home/users/zenkavi/datalad/templateflow/tpl-MNI152NLin2009cAsym/tpl-MNI152NLin2009cAsym_res-02_desc-brain_T1w.nii.gz').shape"
   ]
  },
  {
   "cell_type": "code",
   "execution_count": null,
   "metadata": {},
   "outputs": [],
   "source": [
    "tmp_path = '/oak/stanford/groups/russpold/users/ieisenbe/uh2/fmri_data/BIDS_data/derivatives/fmriprep/fmriprep/sub-s061/ses-1/func'\n",
    "nib.load(tmp_path+'/sub-s061_ses-1_task-stopSignal_run-1_space-MNI152NLin2009cAsym_desc-preproc_bold.nii.gz').shape"
   ]
  },
  {
   "cell_type": "code",
   "execution_count": null,
   "metadata": {},
   "outputs": [],
   "source": [
    "tmp_path = '/oak/stanford/groups/russpold/data/ds000054/0.0.4/sub-400742/func'\n",
    "nib.load(tmp_path+'/sub-400742_task-machinegame_run-001_bold.nii.gz').shape"
   ]
  },
  {
   "cell_type": "code",
   "execution_count": null,
   "metadata": {},
   "outputs": [],
   "source": [
    "tmp_path = '/oak/stanford/groups/russpold/data/ds000054/0.0.4/sub-400742/anat'\n",
    "nib.load(tmp_path+'/sub-400742_T1w.nii.gz').shape"
   ]
  },
  {
   "cell_type": "code",
   "execution_count": null,
   "metadata": {},
   "outputs": [],
   "source": [
    "nib.load('/oak/stanford/groups/russpold/data/templateflow/tpl-MNI152NLin2009cAsym/tpl-MNI152NLin2009cAsym_res-01_desc-brain_T1w.nii.gz').shape"
   ]
  },
  {
   "cell_type": "markdown",
   "metadata": {},
   "source": [
    "# Effect_size maps"
   ]
  },
  {
   "cell_type": "markdown",
   "metadata": {},
   "source": [
    "- Get to the bottom of `effect_size` maps in nistats\n",
    "    - For level 1's run regressions of time series of voxel ~ design matrix\n",
    "    - Do this regression for both nistats AND fsl (using its own design matrix) to understand what the values are"
   ]
  },
  {
   "cell_type": "code",
   "execution_count": 12,
   "metadata": {},
   "outputs": [],
   "source": [
    "import statsmodels.api as sm\n",
    "from sklearn.preprocessing import scale\n",
    "from nibabel.processing import smooth_image\n",
    "from scipy.stats.mstats import zscore"
   ]
  },
  {
   "cell_type": "code",
   "execution_count": 32,
   "metadata": {},
   "outputs": [],
   "source": [
    "data_loc = os.environ['DATA_LOC']\n",
    "subnum = '200148'\n",
    "runnum = '002'\n",
    "reg = \"m1\"\n",
    "fmriprep_path = '%s/derivatives/fmriprep_1.4.0/fmriprep' %(data_loc)\n",
    "raw_img = nib.load('%s/sub-%s/func/sub-%s_task-machinegame_run-%s_space-MNI152NLin2009cAsym_desc-preproc_bold.nii.gz'%(fmriprep_path, subnum, subnum, runnum))\n",
    "ns_path = '%s/derivatives/rpe_cors/exp_exp' %(data_loc)\n",
    "ns_z_img = nib.load(\"%s/sub-%s/contrasts/sub-%s_run-%s_%s.nii.gz\"%(ns_path, subnum, subnum, runnum, reg))\n",
    "ns_b_img = nib.load(\"%s/sub-%s/contrasts/sub-%s_run-%s_%s_betas.nii.gz\"%(ns_path, subnum, subnum, runnum, reg))\n",
    "ns_design = pd.read_csv('%s/sub-%s/sub-%s_run-%s_level1_pe_design_matrix.csv'%(ns_path, subnum, subnum, runnum))\n",
    "ns_design = ns_design.drop(columns=[\"Unnamed: 0\"])\n",
    "fsl_path = '%s/derivatives/fsl/level_1' %(data_loc)\n",
    "fsl_t_img = nib.load('%s/sub-%s/model1/run-%s.feat/stats/tstat1.nii.gz'%(fsl_path, subnum, runnum))\n",
    "fsl_z_img = nib.load('%s/sub-%s/model1/run-%s.feat/stats/zstat1.nii.gz'%(fsl_path, subnum, runnum))\n",
    "fsl_cope_img = nib.load('%s/sub-%s/model1/run-%s.feat/stats/cope1.nii.gz'%(fsl_path, subnum, runnum))\n",
    "fsl_filtered_func = nib.load('%s/sub-%s/model1/run-%s.feat/filtered_func_data.nii.gz'%(fsl_path, subnum, runnum))\n",
    "fsl_design = pd.read_csv('%s/sub-%s/model1/run-%s.feat/design.tsv'%(fsl_path, subnum, runnum), sep=\"\\t\", header=None)\n",
    "fsl_design=fsl_design.drop(columns=fsl_design.columns[23])"
   ]
  },
  {
   "cell_type": "code",
   "execution_count": 8,
   "metadata": {},
   "outputs": [],
   "source": [
    "smooth_img = smooth_image(raw_img, 5)"
   ]
  },
  {
   "cell_type": "code",
   "execution_count": 73,
   "metadata": {},
   "outputs": [],
   "source": [
    "vox_ts = smooth_img.get_fdata()[19,60,35]"
   ]
  },
  {
   "cell_type": "code",
   "execution_count": 74,
   "metadata": {},
   "outputs": [
    {
     "data": {
      "text/plain": [
       "0.22778420397516183"
      ]
     },
     "execution_count": 74,
     "metadata": {},
     "output_type": "execute_result"
    }
   ],
   "source": [
    "ns_z_img.get_fdata()[19,60,35]"
   ]
  },
  {
   "cell_type": "code",
   "execution_count": 75,
   "metadata": {},
   "outputs": [
    {
     "data": {
      "text/plain": [
       "0.19938380575277337"
      ]
     },
     "execution_count": 75,
     "metadata": {},
     "output_type": "execute_result"
    }
   ],
   "source": [
    "ns_b_img.get_fdata()[19,60,35]"
   ]
  },
  {
   "cell_type": "code",
   "execution_count": 77,
   "metadata": {},
   "outputs": [
    {
     "data": {
      "text/plain": [
       "0.01728503240450035"
      ]
     },
     "execution_count": 77,
     "metadata": {},
     "output_type": "execute_result"
    }
   ],
   "source": [
    "ns_b_img.get_fdata()[19,60,35]*ns_design.m1.std()"
   ]
  },
  {
   "cell_type": "markdown",
   "metadata": {},
   "source": [
    "So to convert `effect_size` images to betas you can multiply the unstandardized beta image you have with the std of the regressor from the design matrix (posted on neurostars to verify)"
   ]
  },
  {
   "cell_type": "code",
   "execution_count": 76,
   "metadata": {},
   "outputs": [
    {
     "data": {
      "text/html": [
       "<table class=\"simpletable\">\n",
       "<caption>OLS Regression Results</caption>\n",
       "<tr>\n",
       "  <th>Dep. Variable:</th>            <td>y</td>        <th>  R-squared:         </th> <td>   0.557</td>\n",
       "</tr>\n",
       "<tr>\n",
       "  <th>Model:</th>                   <td>OLS</td>       <th>  Adj. R-squared:    </th> <td>   0.419</td>\n",
       "</tr>\n",
       "<tr>\n",
       "  <th>Method:</th>             <td>Least Squares</td>  <th>  F-statistic:       </th> <td>   4.035</td>\n",
       "</tr>\n",
       "<tr>\n",
       "  <th>Date:</th>             <td>Wed, 24 Jul 2019</td> <th>  Prob (F-statistic):</th> <td>6.76e-12</td>\n",
       "</tr>\n",
       "<tr>\n",
       "  <th>Time:</th>                 <td>11:41:10</td>     <th>  Log-Likelihood:    </th> <td> -218.68</td>\n",
       "</tr>\n",
       "<tr>\n",
       "  <th>No. Observations:</th>      <td>   216</td>      <th>  AIC:               </th> <td>   541.4</td>\n",
       "</tr>\n",
       "<tr>\n",
       "  <th>Df Residuals:</th>          <td>   164</td>      <th>  BIC:               </th> <td>   716.9</td>\n",
       "</tr>\n",
       "<tr>\n",
       "  <th>Df Model:</th>              <td>    51</td>      <th>                     </th>     <td> </td>   \n",
       "</tr>\n",
       "<tr>\n",
       "  <th>Covariance Type:</th>      <td>nonrobust</td>    <th>                     </th>     <td> </td>   \n",
       "</tr>\n",
       "</table>\n",
       "<table class=\"simpletable\">\n",
       "<tr>\n",
       "               <td></td>                 <th>coef</th>     <th>std err</th>      <th>t</th>      <th>P>|t|</th>  <th>[0.025</th>    <th>0.975]</th>  \n",
       "</tr>\n",
       "<tr>\n",
       "  <th>hpe</th>                        <td>   -0.0038</td> <td>    0.034</td> <td>   -0.112</td> <td> 0.911</td> <td>   -0.071</td> <td>    0.063</td>\n",
       "</tr>\n",
       "<tr>\n",
       "  <th>hpe_derivative</th>             <td>    0.0647</td> <td>    0.120</td> <td>    0.540</td> <td> 0.590</td> <td>   -0.172</td> <td>    0.301</td>\n",
       "</tr>\n",
       "<tr>\n",
       "  <th>junk</th>                       <td>   -0.5945</td> <td>    0.407</td> <td>   -1.460</td> <td> 0.146</td> <td>   -1.399</td> <td>    0.210</td>\n",
       "</tr>\n",
       "<tr>\n",
       "  <th>junk_derivative</th>            <td>    0.2476</td> <td>    1.521</td> <td>    0.163</td> <td> 0.871</td> <td>   -2.756</td> <td>    3.251</td>\n",
       "</tr>\n",
       "<tr>\n",
       "  <th>lpe</th>                        <td>    0.0170</td> <td>    0.009</td> <td>    1.845</td> <td> 0.067</td> <td>   -0.001</td> <td>    0.035</td>\n",
       "</tr>\n",
       "<tr>\n",
       "  <th>lpe_derivative</th>             <td>   -0.0276</td> <td>    0.026</td> <td>   -1.052</td> <td> 0.294</td> <td>   -0.079</td> <td>    0.024</td>\n",
       "</tr>\n",
       "<tr>\n",
       "  <th>m1</th>                         <td>    0.2808</td> <td>    1.194</td> <td>    0.235</td> <td> 0.814</td> <td>   -2.076</td> <td>    2.638</td>\n",
       "</tr>\n",
       "<tr>\n",
       "  <th>m1_derivative</th>              <td>   -0.9423</td> <td>    1.984</td> <td>   -0.475</td> <td> 0.635</td> <td>   -4.859</td> <td>    2.974</td>\n",
       "</tr>\n",
       "<tr>\n",
       "  <th>m1_rt</th>                      <td>   -0.4298</td> <td>    1.306</td> <td>   -0.329</td> <td> 0.742</td> <td>   -3.008</td> <td>    2.149</td>\n",
       "</tr>\n",
       "<tr>\n",
       "  <th>m1_rt_derivative</th>           <td>    2.3557</td> <td>    3.245</td> <td>    0.726</td> <td> 0.469</td> <td>   -4.052</td> <td>    8.763</td>\n",
       "</tr>\n",
       "<tr>\n",
       "  <th>m2</th>                         <td>   -1.0212</td> <td>    1.690</td> <td>   -0.604</td> <td> 0.547</td> <td>   -4.359</td> <td>    2.316</td>\n",
       "</tr>\n",
       "<tr>\n",
       "  <th>m2_derivative</th>              <td>   -1.0186</td> <td>    3.488</td> <td>   -0.292</td> <td> 0.771</td> <td>   -7.906</td> <td>    5.869</td>\n",
       "</tr>\n",
       "<tr>\n",
       "  <th>m2_rt</th>                      <td>    2.8258</td> <td>    1.706</td> <td>    1.656</td> <td> 0.100</td> <td>   -0.543</td> <td>    6.195</td>\n",
       "</tr>\n",
       "<tr>\n",
       "  <th>m2_rt_derivative</th>           <td>   -0.8037</td> <td>    4.395</td> <td>   -0.183</td> <td> 0.855</td> <td>   -9.482</td> <td>    7.874</td>\n",
       "</tr>\n",
       "<tr>\n",
       "  <th>m3</th>                         <td>   -0.4952</td> <td>    1.389</td> <td>   -0.357</td> <td> 0.722</td> <td>   -3.238</td> <td>    2.248</td>\n",
       "</tr>\n",
       "<tr>\n",
       "  <th>m3_derivative</th>              <td>    0.5782</td> <td>    2.315</td> <td>    0.250</td> <td> 0.803</td> <td>   -3.993</td> <td>    5.149</td>\n",
       "</tr>\n",
       "<tr>\n",
       "  <th>m3_rt</th>                      <td>    1.0230</td> <td>    1.060</td> <td>    0.965</td> <td> 0.336</td> <td>   -1.070</td> <td>    3.116</td>\n",
       "</tr>\n",
       "<tr>\n",
       "  <th>m3_rt_derivative</th>           <td>    0.3407</td> <td>    2.613</td> <td>    0.130</td> <td> 0.896</td> <td>   -4.819</td> <td>    5.501</td>\n",
       "</tr>\n",
       "<tr>\n",
       "  <th>m4</th>                         <td>    0.9349</td> <td>    1.559</td> <td>    0.600</td> <td> 0.549</td> <td>   -2.143</td> <td>    4.012</td>\n",
       "</tr>\n",
       "<tr>\n",
       "  <th>m4_derivative</th>              <td>    2.6561</td> <td>    3.302</td> <td>    0.804</td> <td> 0.422</td> <td>   -3.865</td> <td>    9.177</td>\n",
       "</tr>\n",
       "<tr>\n",
       "  <th>m4_rt</th>                      <td>    1.9887</td> <td>    2.572</td> <td>    0.773</td> <td> 0.440</td> <td>   -3.089</td> <td>    7.066</td>\n",
       "</tr>\n",
       "<tr>\n",
       "  <th>m4_rt_derivative</th>           <td>   -2.5018</td> <td>    7.288</td> <td>   -0.343</td> <td> 0.732</td> <td>  -16.892</td> <td>   11.889</td>\n",
       "</tr>\n",
       "<tr>\n",
       "  <th>trans_x</th>                    <td>    4.8373</td> <td>   25.269</td> <td>    0.191</td> <td> 0.848</td> <td>  -45.058</td> <td>   54.732</td>\n",
       "</tr>\n",
       "<tr>\n",
       "  <th>trans_x_derivative1</th>        <td>    8.1949</td> <td>    9.834</td> <td>    0.833</td> <td> 0.406</td> <td>  -11.224</td> <td>   27.613</td>\n",
       "</tr>\n",
       "<tr>\n",
       "  <th>trans_x_derivative1_power2</th> <td> -113.5410</td> <td>  574.953</td> <td>   -0.197</td> <td> 0.844</td> <td>-1248.806</td> <td> 1021.724</td>\n",
       "</tr>\n",
       "<tr>\n",
       "  <th>trans_x_power2</th>             <td>  -33.9255</td> <td>  361.908</td> <td>   -0.094</td> <td> 0.925</td> <td> -748.525</td> <td>  680.674</td>\n",
       "</tr>\n",
       "<tr>\n",
       "  <th>trans_y</th>                    <td>    3.0397</td> <td>   14.628</td> <td>    0.208</td> <td> 0.836</td> <td>  -25.843</td> <td>   31.923</td>\n",
       "</tr>\n",
       "<tr>\n",
       "  <th>trans_y_derivative1</th>        <td>    7.2159</td> <td>    2.968</td> <td>    2.431</td> <td> 0.016</td> <td>    1.356</td> <td>   13.076</td>\n",
       "</tr>\n",
       "<tr>\n",
       "  <th>trans_y_derivative1_power2</th> <td>   37.8276</td> <td>   32.697</td> <td>    1.157</td> <td> 0.249</td> <td>  -26.733</td> <td>  102.389</td>\n",
       "</tr>\n",
       "<tr>\n",
       "  <th>trans_y_power2</th>             <td>  -27.0442</td> <td>   35.206</td> <td>   -0.768</td> <td> 0.443</td> <td>  -96.559</td> <td>   42.471</td>\n",
       "</tr>\n",
       "<tr>\n",
       "  <th>trans_z</th>                    <td>    4.6055</td> <td>    5.097</td> <td>    0.904</td> <td> 0.368</td> <td>   -5.458</td> <td>   14.669</td>\n",
       "</tr>\n",
       "<tr>\n",
       "  <th>trans_z_derivative1</th>        <td>   -7.6969</td> <td>    3.856</td> <td>   -1.996</td> <td> 0.048</td> <td>  -15.310</td> <td>   -0.084</td>\n",
       "</tr>\n",
       "<tr>\n",
       "  <th>trans_z_derivative1_power2</th> <td>   27.3479</td> <td>   36.107</td> <td>    0.757</td> <td> 0.450</td> <td>  -43.947</td> <td>   98.643</td>\n",
       "</tr>\n",
       "<tr>\n",
       "  <th>trans_z_power2</th>             <td>  -17.2468</td> <td>   32.113</td> <td>   -0.537</td> <td> 0.592</td> <td>  -80.656</td> <td>   46.162</td>\n",
       "</tr>\n",
       "<tr>\n",
       "  <th>rot_x</th>                      <td>  337.3368</td> <td>  405.914</td> <td>    0.831</td> <td> 0.407</td> <td> -464.154</td> <td> 1138.828</td>\n",
       "</tr>\n",
       "<tr>\n",
       "  <th>rot_x_derivative1</th>          <td>  319.9679</td> <td>  303.115</td> <td>    1.056</td> <td> 0.293</td> <td> -278.543</td> <td>  918.479</td>\n",
       "</tr>\n",
       "<tr>\n",
       "  <th>rot_x_derivative1_power2</th>   <td>-2.452e+05</td> <td> 1.79e+05</td> <td>   -1.372</td> <td> 0.172</td> <td>-5.98e+05</td> <td> 1.08e+05</td>\n",
       "</tr>\n",
       "<tr>\n",
       "  <th>rot_x_power2</th>               <td> 1.781e+05</td> <td>  1.6e+05</td> <td>    1.113</td> <td> 0.267</td> <td>-1.38e+05</td> <td> 4.94e+05</td>\n",
       "</tr>\n",
       "<tr>\n",
       "  <th>rot_y</th>                      <td>  180.9409</td> <td> 1024.236</td> <td>    0.177</td> <td> 0.860</td> <td>-1841.448</td> <td> 2203.330</td>\n",
       "</tr>\n",
       "<tr>\n",
       "  <th>rot_y_derivative1</th>          <td> -169.1175</td> <td>  330.467</td> <td>   -0.512</td> <td> 0.610</td> <td> -821.636</td> <td>  483.401</td>\n",
       "</tr>\n",
       "<tr>\n",
       "  <th>rot_y_derivative1_power2</th>   <td> 7.753e+05</td> <td>  8.3e+05</td> <td>    0.935</td> <td> 0.351</td> <td>-8.63e+05</td> <td> 2.41e+06</td>\n",
       "</tr>\n",
       "<tr>\n",
       "  <th>rot_y_power2</th>               <td>-3.696e+05</td> <td> 3.85e+05</td> <td>   -0.960</td> <td> 0.339</td> <td>-1.13e+06</td> <td> 3.91e+05</td>\n",
       "</tr>\n",
       "<tr>\n",
       "  <th>rot_z</th>                      <td> 2132.4924</td> <td> 8232.762</td> <td>    0.259</td> <td> 0.796</td> <td>-1.41e+04</td> <td> 1.84e+04</td>\n",
       "</tr>\n",
       "<tr>\n",
       "  <th>rot_z_derivative1</th>          <td>  555.2561</td> <td>  769.859</td> <td>    0.721</td> <td> 0.472</td> <td> -964.857</td> <td> 2075.369</td>\n",
       "</tr>\n",
       "<tr>\n",
       "  <th>rot_z_power2</th>               <td>-6.979e+05</td> <td> 2.13e+06</td> <td>   -0.327</td> <td> 0.744</td> <td>-4.91e+06</td> <td> 3.51e+06</td>\n",
       "</tr>\n",
       "<tr>\n",
       "  <th>rot_z_derivative1_power2</th>   <td> 1.931e+06</td> <td> 2.48e+06</td> <td>    0.778</td> <td> 0.438</td> <td>-2.97e+06</td> <td> 6.83e+06</td>\n",
       "</tr>\n",
       "<tr>\n",
       "  <th>std_dvars</th>                  <td>    1.2038</td> <td>    0.641</td> <td>    1.878</td> <td> 0.062</td> <td>   -0.062</td> <td>    2.469</td>\n",
       "</tr>\n",
       "<tr>\n",
       "  <th>framewise_displacement</th>     <td>   -4.5811</td> <td>    2.587</td> <td>   -1.771</td> <td> 0.079</td> <td>   -9.690</td> <td>    0.528</td>\n",
       "</tr>\n",
       "<tr>\n",
       "  <th>scrub</th>                      <td>   -6.7882</td> <td>    2.216</td> <td>   -3.063</td> <td> 0.003</td> <td>  -11.165</td> <td>   -2.412</td>\n",
       "</tr>\n",
       "<tr>\n",
       "  <th>drift_1</th>                    <td>   -6.2209</td> <td>    3.176</td> <td>   -1.959</td> <td> 0.052</td> <td>  -12.491</td> <td>    0.049</td>\n",
       "</tr>\n",
       "<tr>\n",
       "  <th>drift_2</th>                    <td>   -0.6753</td> <td>    1.775</td> <td>   -0.380</td> <td> 0.704</td> <td>   -4.181</td> <td>    2.830</td>\n",
       "</tr>\n",
       "<tr>\n",
       "  <th>constant</th>                   <td>   -1.5498</td> <td>    8.331</td> <td>   -0.186</td> <td> 0.853</td> <td>  -17.999</td> <td>   14.900</td>\n",
       "</tr>\n",
       "</table>\n",
       "<table class=\"simpletable\">\n",
       "<tr>\n",
       "  <th>Omnibus:</th>       <td> 1.818</td> <th>  Durbin-Watson:     </th> <td>   1.966</td>\n",
       "</tr>\n",
       "<tr>\n",
       "  <th>Prob(Omnibus):</th> <td> 0.403</td> <th>  Jarque-Bera (JB):  </th> <td>   1.592</td>\n",
       "</tr>\n",
       "<tr>\n",
       "  <th>Skew:</th>          <td> 0.079</td> <th>  Prob(JB):          </th> <td>   0.451</td>\n",
       "</tr>\n",
       "<tr>\n",
       "  <th>Kurtosis:</th>      <td> 2.611</td> <th>  Cond. No.          </th> <td>4.46e+08</td>\n",
       "</tr>\n",
       "</table><br/><br/>Warnings:<br/>[1] Standard Errors assume that the covariance matrix of the errors is correctly specified.<br/>[2] The smallest eigenvalue is 7.83e-14. This might indicate that there are<br/>strong multicollinearity problems or that the design matrix is singular."
      ],
      "text/plain": [
       "<class 'statsmodels.iolib.summary.Summary'>\n",
       "\"\"\"\n",
       "                            OLS Regression Results                            \n",
       "==============================================================================\n",
       "Dep. Variable:                      y   R-squared:                       0.557\n",
       "Model:                            OLS   Adj. R-squared:                  0.419\n",
       "Method:                 Least Squares   F-statistic:                     4.035\n",
       "Date:                Wed, 24 Jul 2019   Prob (F-statistic):           6.76e-12\n",
       "Time:                        11:41:10   Log-Likelihood:                -218.68\n",
       "No. Observations:                 216   AIC:                             541.4\n",
       "Df Residuals:                     164   BIC:                             716.9\n",
       "Df Model:                          51                                         \n",
       "Covariance Type:            nonrobust                                         \n",
       "==============================================================================================\n",
       "                                 coef    std err          t      P>|t|      [0.025      0.975]\n",
       "----------------------------------------------------------------------------------------------\n",
       "hpe                           -0.0038      0.034     -0.112      0.911      -0.071       0.063\n",
       "hpe_derivative                 0.0647      0.120      0.540      0.590      -0.172       0.301\n",
       "junk                          -0.5945      0.407     -1.460      0.146      -1.399       0.210\n",
       "junk_derivative                0.2476      1.521      0.163      0.871      -2.756       3.251\n",
       "lpe                            0.0170      0.009      1.845      0.067      -0.001       0.035\n",
       "lpe_derivative                -0.0276      0.026     -1.052      0.294      -0.079       0.024\n",
       "m1                             0.2808      1.194      0.235      0.814      -2.076       2.638\n",
       "m1_derivative                 -0.9423      1.984     -0.475      0.635      -4.859       2.974\n",
       "m1_rt                         -0.4298      1.306     -0.329      0.742      -3.008       2.149\n",
       "m1_rt_derivative               2.3557      3.245      0.726      0.469      -4.052       8.763\n",
       "m2                            -1.0212      1.690     -0.604      0.547      -4.359       2.316\n",
       "m2_derivative                 -1.0186      3.488     -0.292      0.771      -7.906       5.869\n",
       "m2_rt                          2.8258      1.706      1.656      0.100      -0.543       6.195\n",
       "m2_rt_derivative              -0.8037      4.395     -0.183      0.855      -9.482       7.874\n",
       "m3                            -0.4952      1.389     -0.357      0.722      -3.238       2.248\n",
       "m3_derivative                  0.5782      2.315      0.250      0.803      -3.993       5.149\n",
       "m3_rt                          1.0230      1.060      0.965      0.336      -1.070       3.116\n",
       "m3_rt_derivative               0.3407      2.613      0.130      0.896      -4.819       5.501\n",
       "m4                             0.9349      1.559      0.600      0.549      -2.143       4.012\n",
       "m4_derivative                  2.6561      3.302      0.804      0.422      -3.865       9.177\n",
       "m4_rt                          1.9887      2.572      0.773      0.440      -3.089       7.066\n",
       "m4_rt_derivative              -2.5018      7.288     -0.343      0.732     -16.892      11.889\n",
       "trans_x                        4.8373     25.269      0.191      0.848     -45.058      54.732\n",
       "trans_x_derivative1            8.1949      9.834      0.833      0.406     -11.224      27.613\n",
       "trans_x_derivative1_power2  -113.5410    574.953     -0.197      0.844   -1248.806    1021.724\n",
       "trans_x_power2               -33.9255    361.908     -0.094      0.925    -748.525     680.674\n",
       "trans_y                        3.0397     14.628      0.208      0.836     -25.843      31.923\n",
       "trans_y_derivative1            7.2159      2.968      2.431      0.016       1.356      13.076\n",
       "trans_y_derivative1_power2    37.8276     32.697      1.157      0.249     -26.733     102.389\n",
       "trans_y_power2               -27.0442     35.206     -0.768      0.443     -96.559      42.471\n",
       "trans_z                        4.6055      5.097      0.904      0.368      -5.458      14.669\n",
       "trans_z_derivative1           -7.6969      3.856     -1.996      0.048     -15.310      -0.084\n",
       "trans_z_derivative1_power2    27.3479     36.107      0.757      0.450     -43.947      98.643\n",
       "trans_z_power2               -17.2468     32.113     -0.537      0.592     -80.656      46.162\n",
       "rot_x                        337.3368    405.914      0.831      0.407    -464.154    1138.828\n",
       "rot_x_derivative1            319.9679    303.115      1.056      0.293    -278.543     918.479\n",
       "rot_x_derivative1_power2   -2.452e+05   1.79e+05     -1.372      0.172   -5.98e+05    1.08e+05\n",
       "rot_x_power2                1.781e+05    1.6e+05      1.113      0.267   -1.38e+05    4.94e+05\n",
       "rot_y                        180.9409   1024.236      0.177      0.860   -1841.448    2203.330\n",
       "rot_y_derivative1           -169.1175    330.467     -0.512      0.610    -821.636     483.401\n",
       "rot_y_derivative1_power2    7.753e+05    8.3e+05      0.935      0.351   -8.63e+05    2.41e+06\n",
       "rot_y_power2               -3.696e+05   3.85e+05     -0.960      0.339   -1.13e+06    3.91e+05\n",
       "rot_z                       2132.4924   8232.762      0.259      0.796   -1.41e+04    1.84e+04\n",
       "rot_z_derivative1            555.2561    769.859      0.721      0.472    -964.857    2075.369\n",
       "rot_z_power2               -6.979e+05   2.13e+06     -0.327      0.744   -4.91e+06    3.51e+06\n",
       "rot_z_derivative1_power2    1.931e+06   2.48e+06      0.778      0.438   -2.97e+06    6.83e+06\n",
       "std_dvars                      1.2038      0.641      1.878      0.062      -0.062       2.469\n",
       "framewise_displacement        -4.5811      2.587     -1.771      0.079      -9.690       0.528\n",
       "scrub                         -6.7882      2.216     -3.063      0.003     -11.165      -2.412\n",
       "drift_1                       -6.2209      3.176     -1.959      0.052     -12.491       0.049\n",
       "drift_2                       -0.6753      1.775     -0.380      0.704      -4.181       2.830\n",
       "constant                      -1.5498      8.331     -0.186      0.853     -17.999      14.900\n",
       "==============================================================================\n",
       "Omnibus:                        1.818   Durbin-Watson:                   1.966\n",
       "Prob(Omnibus):                  0.403   Jarque-Bera (JB):                1.592\n",
       "Skew:                           0.079   Prob(JB):                        0.451\n",
       "Kurtosis:                       2.611   Cond. No.                     4.46e+08\n",
       "==============================================================================\n",
       "\n",
       "Warnings:\n",
       "[1] Standard Errors assume that the covariance matrix of the errors is correctly specified.\n",
       "[2] The smallest eigenvalue is 7.83e-14. This might indicate that there are\n",
       "strong multicollinearity problems or that the design matrix is singular.\n",
       "\"\"\""
      ]
     },
     "execution_count": 76,
     "metadata": {},
     "output_type": "execute_result"
    }
   ],
   "source": [
    "model = sm.OLS(scale(vox_ts), ns_design).fit()\n",
    "#for betas you would you do\n",
    "#model = sm.OLS(scale(vox_ts), scale(ns_design)).fit()\n",
    "model.summary()"
   ]
  },
  {
   "cell_type": "code",
   "execution_count": 22,
   "metadata": {},
   "outputs": [
    {
     "data": {
      "text/plain": [
       "[<matplotlib.lines.Line2D at 0x7efe2d0fd898>]"
      ]
     },
     "execution_count": 22,
     "metadata": {},
     "output_type": "execute_result"
    },
    {
     "data": {
      "image/png": "[encoded data removed]",
      "text/plain": [
       "<Figure size 432x288 with 1 Axes>"
      ]
     },
     "metadata": {
      "needs_background": "light"
     },
     "output_type": "display_data"
    }
   ],
   "source": [
    "#plt.plot(scale(ns_design.m1), scale(vox_ts), 'o', label='data')\n",
    "plt.plot(np.arange(0, 216), scale(vox_ts), 'o', label='data')\n",
    "plt.plot(np.arange(0, 216), ns_design.m1, 'o', label='data')"
   ]
  },
  {
   "cell_type": "code",
   "execution_count": 23,
   "metadata": {},
   "outputs": [],
   "source": [
    "fsl_smooth_filtered_func = nib.processing.smooth_image(fsl_filtered_func, 5)\n",
    "fsl_vox_ts = fsl_smooth_filtered_func.get_fdata()[19,70,50]"
   ]
  },
  {
   "cell_type": "code",
   "execution_count": 24,
   "metadata": {},
   "outputs": [
    {
     "data": {
      "text/plain": [
       "0.11769688874483109"
      ]
     },
     "execution_count": 24,
     "metadata": {},
     "output_type": "execute_result"
    }
   ],
   "source": [
    "fsl_t_img.get_fdata()[19,70,50]"
   ]
  },
  {
   "cell_type": "code",
   "execution_count": 25,
   "metadata": {},
   "outputs": [
    {
     "data": {
      "text/plain": [
       "0.11754161864519119"
      ]
     },
     "execution_count": 25,
     "metadata": {},
     "output_type": "execute_result"
    }
   ],
   "source": [
    "fsl_z_img.get_fdata()[19,70,50]"
   ]
  },
  {
   "cell_type": "code",
   "execution_count": 26,
   "metadata": {},
   "outputs": [
    {
     "data": {
      "text/plain": [
       "11.627188682556152"
      ]
     },
     "execution_count": 26,
     "metadata": {},
     "output_type": "execute_result"
    }
   ],
   "source": [
    "fsl_cope_img.get_fdata()[19,70,50]"
   ]
  },
  {
   "cell_type": "code",
   "execution_count": 38,
   "metadata": {},
   "outputs": [
    {
     "name": "stderr",
     "output_type": "stream",
     "text": [
      "/home/groups/russpold/software/miniconda/envs/fmri/lib/python3.5/site-packages/numpy/core/fromnumeric.py:2389: FutureWarning: Method .ptp is deprecated and will be removed in a future version. Use numpy.ptp instead.\n",
      "  return ptp(axis=axis, out=out, **kwargs)\n",
      "/home/groups/russpold/software/miniconda/envs/fmri/lib/python3.5/site-packages/statsmodels/regression/linear_model.py:1633: RuntimeWarning: divide by zero encountered in double_scalars\n",
      "  return np.sqrt(eigvals[0]/eigvals[-1])\n",
      "/home/groups/russpold/software/miniconda/envs/fmri/lib/python3.5/site-packages/statsmodels/base/model.py:1100: RuntimeWarning: invalid value encountered in true_divide\n",
      "  return self.params / self.bse\n",
      "/home/groups/russpold/software/miniconda/envs/fmri/lib/python3.5/site-packages/scipy/stats/_distn_infrastructure.py:877: RuntimeWarning: invalid value encountered in greater\n",
      "  return (self.a < x) & (x < self.b)\n",
      "/home/groups/russpold/software/miniconda/envs/fmri/lib/python3.5/site-packages/scipy/stats/_distn_infrastructure.py:877: RuntimeWarning: invalid value encountered in less\n",
      "  return (self.a < x) & (x < self.b)\n",
      "/home/groups/russpold/software/miniconda/envs/fmri/lib/python3.5/site-packages/scipy/stats/_distn_infrastructure.py:1831: RuntimeWarning: invalid value encountered in less_equal\n",
      "  cond2 = cond0 & (x <= self.a)\n"
     ]
    },
    {
     "data": {
      "text/html": [
       "<table class=\"simpletable\">\n",
       "<caption>OLS Regression Results</caption>\n",
       "<tr>\n",
       "  <th>Dep. Variable:</th>            <td>y</td>        <th>  R-squared:         </th> <td>   0.108</td>\n",
       "</tr>\n",
       "<tr>\n",
       "  <th>Model:</th>                   <td>OLS</td>       <th>  Adj. R-squared:    </th> <td>   0.012</td>\n",
       "</tr>\n",
       "<tr>\n",
       "  <th>Method:</th>             <td>Least Squares</td>  <th>  F-statistic:       </th> <td>   1.120</td>\n",
       "</tr>\n",
       "<tr>\n",
       "  <th>Date:</th>             <td>Wed, 24 Jul 2019</td> <th>  Prob (F-statistic):</th>  <td> 0.329</td> \n",
       "</tr>\n",
       "<tr>\n",
       "  <th>Time:</th>                 <td>11:04:46</td>     <th>  Log-Likelihood:    </th> <td> -1175.1</td>\n",
       "</tr>\n",
       "<tr>\n",
       "  <th>No. Observations:</th>      <td>   216</td>      <th>  AIC:               </th> <td>   2394.</td>\n",
       "</tr>\n",
       "<tr>\n",
       "  <th>Df Residuals:</th>          <td>   194</td>      <th>  BIC:               </th> <td>   2468.</td>\n",
       "</tr>\n",
       "<tr>\n",
       "  <th>Df Model:</th>              <td>    21</td>      <th>                     </th>     <td> </td>   \n",
       "</tr>\n",
       "<tr>\n",
       "  <th>Covariance Type:</th>      <td>nonrobust</td>    <th>                     </th>     <td> </td>   \n",
       "</tr>\n",
       "</table>\n",
       "<table class=\"simpletable\">\n",
       "<tr>\n",
       "    <td></td>       <th>coef</th>     <th>std err</th>      <th>t</th>      <th>P>|t|</th>  <th>[0.025</th>    <th>0.975]</th>  \n",
       "</tr>\n",
       "<tr>\n",
       "  <th>const</th> <td> 4413.5344</td> <td>    4.004</td> <td> 1102.370</td> <td> 0.000</td> <td> 4405.638</td> <td> 4421.431</td>\n",
       "</tr>\n",
       "<tr>\n",
       "  <th>0</th>     <td>   31.4964</td> <td>   84.890</td> <td>    0.371</td> <td> 0.711</td> <td> -135.930</td> <td>  198.923</td>\n",
       "</tr>\n",
       "<tr>\n",
       "  <th>1</th>     <td>   33.1820</td> <td>  173.002</td> <td>    0.192</td> <td> 0.848</td> <td> -308.025</td> <td>  374.389</td>\n",
       "</tr>\n",
       "<tr>\n",
       "  <th>2</th>     <td>  -14.4927</td> <td>  123.387</td> <td>   -0.117</td> <td> 0.907</td> <td> -257.845</td> <td>  228.859</td>\n",
       "</tr>\n",
       "<tr>\n",
       "  <th>3</th>     <td>  -54.2238</td> <td>  266.698</td> <td>   -0.203</td> <td> 0.839</td> <td> -580.224</td> <td>  471.777</td>\n",
       "</tr>\n",
       "<tr>\n",
       "  <th>4</th>     <td>   17.1429</td> <td>   89.100</td> <td>    0.192</td> <td> 0.848</td> <td> -158.585</td> <td>  192.871</td>\n",
       "</tr>\n",
       "<tr>\n",
       "  <th>5</th>     <td>  134.7108</td> <td>  191.547</td> <td>    0.703</td> <td> 0.483</td> <td> -243.071</td> <td>  512.492</td>\n",
       "</tr>\n",
       "<tr>\n",
       "  <th>6</th>     <td>  146.1188</td> <td>   98.442</td> <td>    1.484</td> <td> 0.139</td> <td>  -48.035</td> <td>  340.273</td>\n",
       "</tr>\n",
       "<tr>\n",
       "  <th>7</th>     <td>  128.5884</td> <td>  223.965</td> <td>    0.574</td> <td> 0.567</td> <td> -313.130</td> <td>  570.307</td>\n",
       "</tr>\n",
       "<tr>\n",
       "  <th>8</th>     <td>   87.6505</td> <td>   77.882</td> <td>    1.125</td> <td> 0.262</td> <td>  -65.953</td> <td>  241.254</td>\n",
       "</tr>\n",
       "<tr>\n",
       "  <th>9</th>     <td>  -81.7225</td> <td>  224.631</td> <td>   -0.364</td> <td> 0.716</td> <td> -524.755</td> <td>  361.310</td>\n",
       "</tr>\n",
       "<tr>\n",
       "  <th>10</th>    <td> -136.5304</td> <td>  128.485</td> <td>   -1.063</td> <td> 0.289</td> <td> -389.937</td> <td>  116.877</td>\n",
       "</tr>\n",
       "<tr>\n",
       "  <th>11</th>    <td> -236.7896</td> <td>  344.654</td> <td>   -0.687</td> <td> 0.493</td> <td> -916.540</td> <td>  442.961</td>\n",
       "</tr>\n",
       "<tr>\n",
       "  <th>12</th>    <td>   61.9773</td> <td>   58.610</td> <td>    1.057</td> <td> 0.292</td> <td>  -53.617</td> <td>  177.571</td>\n",
       "</tr>\n",
       "<tr>\n",
       "  <th>13</th>    <td> -110.7505</td> <td>  177.981</td> <td>   -0.622</td> <td> 0.535</td> <td> -461.777</td> <td>  240.276</td>\n",
       "</tr>\n",
       "<tr>\n",
       "  <th>14</th>    <td>  150.6902</td> <td>  164.789</td> <td>    0.914</td> <td> 0.362</td> <td> -174.317</td> <td>  475.698</td>\n",
       "</tr>\n",
       "<tr>\n",
       "  <th>15</th>    <td>  479.3904</td> <td>  527.157</td> <td>    0.909</td> <td> 0.364</td> <td> -560.305</td> <td> 1519.086</td>\n",
       "</tr>\n",
       "<tr>\n",
       "  <th>16</th>    <td>    2.0420</td> <td>    1.469</td> <td>    1.390</td> <td> 0.166</td> <td>   -0.856</td> <td>    4.940</td>\n",
       "</tr>\n",
       "<tr>\n",
       "  <th>17</th>    <td>    2.7709</td> <td>    5.623</td> <td>    0.493</td> <td> 0.623</td> <td>   -8.318</td> <td>   13.860</td>\n",
       "</tr>\n",
       "<tr>\n",
       "  <th>18</th>    <td>  -34.6260</td> <td>   47.662</td> <td>   -0.726</td> <td> 0.468</td> <td> -128.629</td> <td>   59.377</td>\n",
       "</tr>\n",
       "<tr>\n",
       "  <th>19</th>    <td>  268.0172</td> <td>  151.526</td> <td>    1.769</td> <td> 0.079</td> <td>  -30.833</td> <td>  566.868</td>\n",
       "</tr>\n",
       "<tr>\n",
       "  <th>20</th>    <td>         0</td> <td>        0</td> <td>      nan</td> <td>   nan</td> <td>        0</td> <td>        0</td>\n",
       "</tr>\n",
       "<tr>\n",
       "  <th>21</th>    <td>         0</td> <td>        0</td> <td>      nan</td> <td>   nan</td> <td>        0</td> <td>        0</td>\n",
       "</tr>\n",
       "<tr>\n",
       "  <th>22</th>    <td>  -52.0357</td> <td>   39.722</td> <td>   -1.310</td> <td> 0.192</td> <td> -130.378</td> <td>   26.307</td>\n",
       "</tr>\n",
       "</table>\n",
       "<table class=\"simpletable\">\n",
       "<tr>\n",
       "  <th>Omnibus:</th>       <td>14.768</td> <th>  Durbin-Watson:     </th> <td>   1.630</td>\n",
       "</tr>\n",
       "<tr>\n",
       "  <th>Prob(Omnibus):</th> <td> 0.001</td> <th>  Jarque-Bera (JB):  </th> <td>  42.277</td>\n",
       "</tr>\n",
       "<tr>\n",
       "  <th>Skew:</th>          <td>-0.053</td> <th>  Prob(JB):          </th> <td>6.60e-10</td>\n",
       "</tr>\n",
       "<tr>\n",
       "  <th>Kurtosis:</th>      <td> 5.165</td> <th>  Cond. No.          </th> <td>     inf</td>\n",
       "</tr>\n",
       "</table><br/><br/>Warnings:<br/>[1] Standard Errors assume that the covariance matrix of the errors is correctly specified.<br/>[2] The smallest eigenvalue is      0. This might indicate that there are<br/>strong multicollinearity problems or that the design matrix is singular."
      ],
      "text/plain": [
       "<class 'statsmodels.iolib.summary.Summary'>\n",
       "\"\"\"\n",
       "                            OLS Regression Results                            \n",
       "==============================================================================\n",
       "Dep. Variable:                      y   R-squared:                       0.108\n",
       "Model:                            OLS   Adj. R-squared:                  0.012\n",
       "Method:                 Least Squares   F-statistic:                     1.120\n",
       "Date:                Wed, 24 Jul 2019   Prob (F-statistic):              0.329\n",
       "Time:                        11:04:46   Log-Likelihood:                -1175.1\n",
       "No. Observations:                 216   AIC:                             2394.\n",
       "Df Residuals:                     194   BIC:                             2468.\n",
       "Df Model:                          21                                         \n",
       "Covariance Type:            nonrobust                                         \n",
       "==============================================================================\n",
       "                 coef    std err          t      P>|t|      [0.025      0.975]\n",
       "------------------------------------------------------------------------------\n",
       "const       4413.5344      4.004   1102.370      0.000    4405.638    4421.431\n",
       "0             31.4964     84.890      0.371      0.711    -135.930     198.923\n",
       "1             33.1820    173.002      0.192      0.848    -308.025     374.389\n",
       "2            -14.4927    123.387     -0.117      0.907    -257.845     228.859\n",
       "3            -54.2238    266.698     -0.203      0.839    -580.224     471.777\n",
       "4             17.1429     89.100      0.192      0.848    -158.585     192.871\n",
       "5            134.7108    191.547      0.703      0.483    -243.071     512.492\n",
       "6            146.1188     98.442      1.484      0.139     -48.035     340.273\n",
       "7            128.5884    223.965      0.574      0.567    -313.130     570.307\n",
       "8             87.6505     77.882      1.125      0.262     -65.953     241.254\n",
       "9            -81.7225    224.631     -0.364      0.716    -524.755     361.310\n",
       "10          -136.5304    128.485     -1.063      0.289    -389.937     116.877\n",
       "11          -236.7896    344.654     -0.687      0.493    -916.540     442.961\n",
       "12            61.9773     58.610      1.057      0.292     -53.617     177.571\n",
       "13          -110.7505    177.981     -0.622      0.535    -461.777     240.276\n",
       "14           150.6902    164.789      0.914      0.362    -174.317     475.698\n",
       "15           479.3904    527.157      0.909      0.364    -560.305    1519.086\n",
       "16             2.0420      1.469      1.390      0.166      -0.856       4.940\n",
       "17             2.7709      5.623      0.493      0.623      -8.318      13.860\n",
       "18           -34.6260     47.662     -0.726      0.468    -128.629      59.377\n",
       "19           268.0172    151.526      1.769      0.079     -30.833     566.868\n",
       "20                  0          0        nan        nan           0           0\n",
       "21                  0          0        nan        nan           0           0\n",
       "22           -52.0357     39.722     -1.310      0.192    -130.378      26.307\n",
       "==============================================================================\n",
       "Omnibus:                       14.768   Durbin-Watson:                   1.630\n",
       "Prob(Omnibus):                  0.001   Jarque-Bera (JB):               42.277\n",
       "Skew:                          -0.053   Prob(JB):                     6.60e-10\n",
       "Kurtosis:                       5.165   Cond. No.                          inf\n",
       "==============================================================================\n",
       "\n",
       "Warnings:\n",
       "[1] Standard Errors assume that the covariance matrix of the errors is correctly specified.\n",
       "[2] The smallest eigenvalue is      0. This might indicate that there are\n",
       "strong multicollinearity problems or that the design matrix is singular.\n",
       "\"\"\""
      ]
     },
     "execution_count": 38,
     "metadata": {},
     "output_type": "execute_result"
    }
   ],
   "source": [
    "fsl_design = sm.add_constant(fsl_design)\n",
    "model = sm.OLS(fsl_vox_ts, fsl_design).fit()\n",
    "model.summary()"
   ]
  },
  {
   "cell_type": "code",
   "execution_count": null,
   "metadata": {},
   "outputs": [],
   "source": [
    "plt.plot(np.arange(0, 216), scale(vox_ts), 'o', label='data')\n",
    "plt.plot(np.arange(0, 216), fsl_design.iloc[:,1], 'o', label='data')"
   ]
  },
  {
   "cell_type": "code",
   "execution_count": null,
   "metadata": {},
   "outputs": [],
   "source": [
    "#the m1 regressor is almost identical in both design matrices\n",
    "plt.plot(fsl_design.iloc[:,1], ns_design.m1, 'o', label='data')"
   ]
  },
  {
   "cell_type": "code",
   "execution_count": null,
   "metadata": {},
   "outputs": [],
   "source": [
    "plt.plot(fsl_filtered_func.get_fdata()[19,70,50], vox_ts, 'o', label='data')"
   ]
  },
  {
   "cell_type": "code",
   "execution_count": null,
   "metadata": {},
   "outputs": [],
   "source": []
  },
  {
   "cell_type": "code",
   "execution_count": null,
   "metadata": {},
   "outputs": [],
   "source": []
  }
 ],
 "metadata": {
  "hide_input": false,
  "kernelspec": {
   "display_name": "Python 3",
   "language": "python",
   "name": "python3"
  },
  "language_info": {
   "codemirror_mode": {
    "name": "ipython",
    "version": 3
   },
   "file_extension": ".py",
   "mimetype": "text/x-python",
   "name": "python",
   "nbconvert_exporter": "python",
   "pygments_lexer": "ipython3",
   "version": "3.5.3"
  },
  "toc": {
   "base_numbering": 1,
   "nav_menu": {},
   "number_sections": true,
   "sideBar": true,
   "skip_h1_title": false,
   "title_cell": "Table of Contents",
   "title_sidebar": "Contents",
   "toc_cell": false,
   "toc_position": {},
   "toc_section_display": true,
   "toc_window_display": true
  }
 },
 "nbformat": 4,
 "nbformat_minor": 2
}
