{
 "cells": [
  {
   "cell_type": "code",
   "execution_count": 1,
   "metadata": {},
   "outputs": [],
   "source": [
    "import numpy as np\n",
    "import matplotlib.pyplot as plt\n",
    "import matplotlib.collections as collections\n",
    "import pandas as pd\n",
    "import seaborn as sns\n",
    "import scipy\n",
    "\n",
    "import pymc3 as pm\n",
    "import theano\n",
    "import theano.tensor as tt\n",
    "from theano import tensor as T\n",
    "import arviz as az\n",
    "\n",
    "from NUTS_more_pars_helpers import generate_data, llik_td_vectorized#, update_Q, theano_llik_td, get_nuts_est"
   ]
  },
  {
   "cell_type": "markdown",
   "metadata": {},
   "source": [
    "## Parameter recoverability using NUTS with more pars"
   ]
  },
  {
   "cell_type": "code",
   "execution_count": 2,
   "metadata": {},
   "outputs": [],
   "source": [
    "true_alpha_neg = .3\n",
    "true_alpha_pos = .3\n",
    "true_exp_neg = 1\n",
    "true_exp_pos = 1\n",
    "true_beta = 1.5\n",
    "#est_df = get_nuts_est(t_alpha_neg = true_alpha_neg, t_alpha_pos = true_alpha_pos, t_exp_neg = true_exp_neg, t_exp_pos = true_exp_pos, t_beta = true_beta, n=60)"
   ]
  },
  {
   "cell_type": "code",
   "execution_count": 3,
   "metadata": {},
   "outputs": [],
   "source": [
    "machines, actions, rewards, all_Qs = generate_data(alpha_neg= true_alpha_neg, alpha_pos= true_alpha_pos, exp_neg= true_exp_neg, exp_pos= true_exp_pos, beta= true_beta)"
   ]
  },
  {
   "cell_type": "code",
   "execution_count": 4,
   "metadata": {},
   "outputs": [
    {
     "data": {
      "text/plain": [
       "6.099425664800121"
      ]
     },
     "execution_count": 4,
     "metadata": {},
     "output_type": "execute_result"
    }
   ],
   "source": [
    "llik_td_vectorized([true_alpha_neg, true_alpha_pos, true_exp_neg, true_exp_pos, true_beta], *(machines, actions, rewards))"
   ]
  },
  {
   "cell_type": "code",
   "execution_count": 5,
   "metadata": {},
   "outputs": [],
   "source": [
    "machines_ = theano.shared(np.asarray(machines, dtype='int16'))\n",
    "actions_ = theano.shared(np.asarray(actions, dtype='int16'))\n",
    "rewards_ = theano.shared(np.asarray(rewards, dtype='int16'))"
   ]
  },
  {
   "cell_type": "code",
   "execution_count": 6,
   "metadata": {},
   "outputs": [],
   "source": [
    "Qs = tt.zeros((4,2), dtype='float64')"
   ]
  },
  {
   "cell_type": "code",
   "execution_count": null,
   "metadata": {},
   "outputs": [],
   "source": [
    "def update_Q(machine, action, reward,\n",
    "             Q,\n",
    "            alpha_neg, alpha_pos, exp_neg, exp_pos):\n",
    "\n",
    "    rpe = (reward - Q[machine, action])\n",
    "    get_rpe = theano.function(inputs=[reward, Q[machine, action]], outputs=[rpe], updates=updates)\n",
    "\n",
    "    if rpe.eval() < 0:\n",
    "        Q_upd = Q[machine, action] + alpha_neg * abs(rpe)**exp_neg * (-1)\n",
    "\n",
    "    if rpe.eval() >= 0:\n",
    "        Q_upd = Q[machine, action] + alpha_pos * rpe**exp_pos\n",
    "\n",
    "    Q = tt.set_subtensor(Q[machine, action], Q_upd)\n",
    "    return Q"
   ]
  },
  {
   "cell_type": "code",
   "execution_count": null,
   "metadata": {},
   "outputs": [],
   "source": [
    "tmp = update_Q(machines_[0], actions_[0], rewards_[0], Qs, true_alpha_neg, true_alpha_pos, true_exp_neg, true_exp_pos)\n",
    "tmp.eval()"
   ]
  },
  {
   "cell_type": "code",
   "execution_count": null,
   "metadata": {},
   "outputs": [],
   "source": [
    "Qs = tt.zeros((4,2), dtype='float64')\n",
    "alpha_neg = tt.scalar(\"alpha_neg\")\n",
    "alpha_pos = tt.scalar(\"alpha_pos\")\n",
    "exp_neg = tt.scalar(\"exp_neg\")\n",
    "exp_pos = tt.scalar(\"exp_pos\")\n",
    "Qs, updates = theano.scan(\n",
    "        fn=update_Q,\n",
    "        sequences=[machines_, actions_, rewards_],\n",
    "        outputs_info=[Qs],\n",
    "        non_sequences=[alpha_neg, alpha_pos, exp_neg, exp_pos],\n",
    "        strict=True)\n",
    "\n",
    "theano_llik_td = theano.function(inputs=[alpha_neg, alpha_pos, exp_neg, exp_pos], outputs=[Qs], updates = updates)\n",
    "result = theano_llik_td(true_alpha_neg, true_alpha_pos, true_exp_neg, true_exp_pos)"
   ]
  },
  {
   "cell_type": "markdown",
   "metadata": {},
   "source": [
    "Next steps:\n",
    "\n",
    "Simulations:\n",
    "\n",
    "-  Can pyMC recover parameters better for the whole range?\n",
    "    -  Conclusion: Not necessarily but   \n",
    "        - it keeps all values within bounds\n",
    "        - it does not fail in any other way compared to the realistic MLE estimates (i.e. those starting from random values instead of the true values used for data generation)  \n",
    "        \n",
    "- Is recoverability worse for generating processes with more parameters\n",
    "    - TODO: Write new/more generalizable ~~data generation~~ and par recovery functions for different RL models (with more parameters)\n",
    "    - Compare parameter recoverability for at least one more RL model with more parameters \n",
    "    - Not interested in comparing MLE versus NUTS but compare simulation results of NUTS estimates between more simple and complicated processes\n",
    "    \n",
    "Fitting:\n",
    "\n",
    "- Convert the recoverability function to fitting function\n",
    "\n",
    "```\n",
    " # NUTS estimate\n",
    "    actions_ = theano.shared(np.asarray(actions, dtype='int16'))\n",
    "    with pm.Model() as m:\n",
    "        alpha = pm.Beta('alpha', 1, 1)\n",
    "        beta = pm.HalfNormal('beta', 10)\n",
    "        like = pm.Potential('like', theano_llik_td(alpha, beta, machines, actions, rewards, n))\n",
    "        tr = pm.sample()\n",
    "    \n",
    "    nuts_alpha_ave = np.mean(tr.alpha)\n",
    "    nuts_beta_ave = np.mean(tr.beta)\n",
    "    nuts_alpha_std = np.std(tr.alpha)\n",
    "    nuts_beta_std = np.std(tr.beta)\n",
    "    nuts_llik = llik_td_vectorized([nuts_alpha_ave, nuts_beta_ave], *(machines, actions, rewards))\n",
    "```\n",
    "- Fit to one subject's data (using the fitting function created above in fit_rl_cv.py)\n",
    "- Fit to all subjects' data"
   ]
  },
  {
   "cell_type": "code",
   "execution_count": null,
   "metadata": {},
   "outputs": [],
   "source": []
  }
 ],
 "metadata": {
  "kernelspec": {
   "display_name": "Python 3",
   "language": "python",
   "name": "python3"
  },
  "language_info": {
   "codemirror_mode": {
    "name": "ipython",
    "version": 3
   },
   "file_extension": ".py",
   "mimetype": "text/x-python",
   "name": "python",
   "nbconvert_exporter": "python",
   "pygments_lexer": "ipython3",
   "version": "3.7.2"
  }
 },
 "nbformat": 4,
 "nbformat_minor": 4
}
