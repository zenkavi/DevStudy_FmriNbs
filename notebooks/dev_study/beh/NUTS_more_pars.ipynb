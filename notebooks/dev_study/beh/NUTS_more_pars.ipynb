{
 "cells": [
  {
   "cell_type": "code",
   "execution_count": 1,
   "metadata": {},
   "outputs": [],
   "source": [
    "import numpy as np\n",
    "import matplotlib.pyplot as plt\n",
    "import matplotlib.collections as collections\n",
    "import pandas as pd\n",
    "import seaborn as sns\n",
    "import scipy\n",
    "\n",
    "import pymc3 as pm\n",
    "import theano\n",
    "import theano.tensor as tt\n",
    "from theano import tensor as T\n",
    "import arviz as az\n",
    "\n",
    "from NUTS_more_pars_helpers import generate_data, llik_td_vectorized, update_Q, theano_llik_td, get_nuts_est"
   ]
  },
  {
   "cell_type": "markdown",
   "metadata": {},
   "source": [
    "## Parameter recoverability using NUTS with more pars"
   ]
  },
  {
   "cell_type": "code",
   "execution_count": 2,
   "metadata": {},
   "outputs": [
    {
     "ename": "ValueError",
     "evalue": "Cannot compute test value: input 0 (a) of Op Elemwise{lt,no_inplace}(a, b) missing default value.  \nBacktrace when that variable is created:\n\n  File \"/Users/zeynepenkavi/anaconda/envs/py37/lib/python3.7/site-packages/IPython/core/interactiveshell.py\", line 3058, in run_cell_async\n    interactivity=interactivity, compiler=compiler, result=result)\n  File \"/Users/zeynepenkavi/anaconda/envs/py37/lib/python3.7/site-packages/IPython/core/interactiveshell.py\", line 3249, in run_ast_nodes\n    if (await self.run_code(code, result,  async_=asy)):\n  File \"/Users/zeynepenkavi/anaconda/envs/py37/lib/python3.7/site-packages/IPython/core/interactiveshell.py\", line 3326, in run_code\n    exec(code_obj, self.user_global_ns, self.user_ns)\n  File \"<ipython-input-2-d83c31aede13>\", line 6, in <module>\n    est_df = get_nuts_est(t_alpha_neg = true_alpha_neg, t_alpha_pos = true_alpha_pos, t_exp_neg = true_exp_neg, t_exp_pos = true_exp_pos, t_beta = true_beta, n=60)\n  File \"/Users/zeynepenkavi/Documents/fmri-nbs/notebooks/dev_study/beh/NUTS_more_pars_helpers.py\", line 198, in get_nuts_est\n    like = pm.Potential('like', theano_llik_td(s_alpha_neg, s_alpha_pos, s_exp_neg, s_exp_pos, s_beta, machines, actions, rewards, n))\n  File \"/Users/zeynepenkavi/Documents/fmri-nbs/notebooks/dev_study/beh/NUTS_more_pars_helpers.py\", line 165, in theano_llik_td\n    non_sequences=[alpha_neg, alpha_pos, exp_neg, exp_pos])\n  File \"/Users/zeynepenkavi/anaconda/envs/py37/lib/python3.7/site-packages/theano/scan_module/scan.py\", line 774, in scan\n    condition, outputs, updates = scan_utils.get_updates_and_outputs(fn(*args))\n  File \"/Users/zeynepenkavi/Documents/fmri-nbs/notebooks/dev_study/beh/NUTS_more_pars_helpers.py\", line 132, in update_Q\n    a,b = T.scalars('a', 'b')\n",
     "output_type": "error",
     "traceback": [
      "\u001b[0;31m---------------------------------------------------------------------------\u001b[0m",
      "\u001b[0;31mAttributeError\u001b[0m                            Traceback (most recent call last)",
      "\u001b[0;32m~/anaconda/envs/py37/lib/python3.7/site-packages/theano/gof/op.py\u001b[0m in \u001b[0;36m__call__\u001b[0;34m(self, *inputs, **kwargs)\u001b[0m\n\u001b[1;32m    624\u001b[0m                 \u001b[0;32mtry\u001b[0m\u001b[0;34m:\u001b[0m\u001b[0;34m\u001b[0m\u001b[0;34m\u001b[0m\u001b[0m\n\u001b[0;32m--> 625\u001b[0;31m                     \u001b[0mstorage_map\u001b[0m\u001b[0;34m[\u001b[0m\u001b[0mins\u001b[0m\u001b[0;34m]\u001b[0m \u001b[0;34m=\u001b[0m \u001b[0;34m[\u001b[0m\u001b[0mself\u001b[0m\u001b[0;34m.\u001b[0m\u001b[0m_get_test_value\u001b[0m\u001b[0;34m(\u001b[0m\u001b[0mins\u001b[0m\u001b[0;34m)\u001b[0m\u001b[0;34m]\u001b[0m\u001b[0;34m\u001b[0m\u001b[0;34m\u001b[0m\u001b[0m\n\u001b[0m\u001b[1;32m    626\u001b[0m                     \u001b[0mcompute_map\u001b[0m\u001b[0;34m[\u001b[0m\u001b[0mins\u001b[0m\u001b[0;34m]\u001b[0m \u001b[0;34m=\u001b[0m \u001b[0;34m[\u001b[0m\u001b[0;32mTrue\u001b[0m\u001b[0;34m]\u001b[0m\u001b[0;34m\u001b[0m\u001b[0;34m\u001b[0m\u001b[0m\n",
      "\u001b[0;32m~/anaconda/envs/py37/lib/python3.7/site-packages/theano/gof/op.py\u001b[0m in \u001b[0;36m_get_test_value\u001b[0;34m(cls, v)\u001b[0m\n\u001b[1;32m    580\u001b[0m         \u001b[0mdetailed_err_msg\u001b[0m \u001b[0;34m=\u001b[0m \u001b[0mutils\u001b[0m\u001b[0;34m.\u001b[0m\u001b[0mget_variable_trace_string\u001b[0m\u001b[0;34m(\u001b[0m\u001b[0mv\u001b[0m\u001b[0;34m)\u001b[0m\u001b[0;34m\u001b[0m\u001b[0;34m\u001b[0m\u001b[0m\n\u001b[0;32m--> 581\u001b[0;31m         \u001b[0;32mraise\u001b[0m \u001b[0mAttributeError\u001b[0m\u001b[0;34m(\u001b[0m\u001b[0;34m'%s has no test value %s'\u001b[0m \u001b[0;34m%\u001b[0m \u001b[0;34m(\u001b[0m\u001b[0mv\u001b[0m\u001b[0;34m,\u001b[0m \u001b[0mdetailed_err_msg\u001b[0m\u001b[0;34m)\u001b[0m\u001b[0;34m)\u001b[0m\u001b[0;34m\u001b[0m\u001b[0;34m\u001b[0m\u001b[0m\n\u001b[0m\u001b[1;32m    582\u001b[0m \u001b[0;34m\u001b[0m\u001b[0m\n",
      "\u001b[0;31mAttributeError\u001b[0m: a has no test value  \nBacktrace when that variable is created:\n\n  File \"/Users/zeynepenkavi/anaconda/envs/py37/lib/python3.7/site-packages/IPython/core/interactiveshell.py\", line 3058, in run_cell_async\n    interactivity=interactivity, compiler=compiler, result=result)\n  File \"/Users/zeynepenkavi/anaconda/envs/py37/lib/python3.7/site-packages/IPython/core/interactiveshell.py\", line 3249, in run_ast_nodes\n    if (await self.run_code(code, result,  async_=asy)):\n  File \"/Users/zeynepenkavi/anaconda/envs/py37/lib/python3.7/site-packages/IPython/core/interactiveshell.py\", line 3326, in run_code\n    exec(code_obj, self.user_global_ns, self.user_ns)\n  File \"<ipython-input-2-d83c31aede13>\", line 6, in <module>\n    est_df = get_nuts_est(t_alpha_neg = true_alpha_neg, t_alpha_pos = true_alpha_pos, t_exp_neg = true_exp_neg, t_exp_pos = true_exp_pos, t_beta = true_beta, n=60)\n  File \"/Users/zeynepenkavi/Documents/fmri-nbs/notebooks/dev_study/beh/NUTS_more_pars_helpers.py\", line 198, in get_nuts_est\n    like = pm.Potential('like', theano_llik_td(s_alpha_neg, s_alpha_pos, s_exp_neg, s_exp_pos, s_beta, machines, actions, rewards, n))\n  File \"/Users/zeynepenkavi/Documents/fmri-nbs/notebooks/dev_study/beh/NUTS_more_pars_helpers.py\", line 165, in theano_llik_td\n    non_sequences=[alpha_neg, alpha_pos, exp_neg, exp_pos])\n  File \"/Users/zeynepenkavi/anaconda/envs/py37/lib/python3.7/site-packages/theano/scan_module/scan.py\", line 774, in scan\n    condition, outputs, updates = scan_utils.get_updates_and_outputs(fn(*args))\n  File \"/Users/zeynepenkavi/Documents/fmri-nbs/notebooks/dev_study/beh/NUTS_more_pars_helpers.py\", line 132, in update_Q\n    a,b = T.scalars('a', 'b')\n",
      "\nDuring handling of the above exception, another exception occurred:\n",
      "\u001b[0;31mValueError\u001b[0m                                Traceback (most recent call last)",
      "\u001b[0;32m<ipython-input-2-d83c31aede13>\u001b[0m in \u001b[0;36m<module>\u001b[0;34m\u001b[0m\n\u001b[1;32m      4\u001b[0m \u001b[0mtrue_exp_pos\u001b[0m \u001b[0;34m=\u001b[0m \u001b[0;36m1\u001b[0m\u001b[0;34m\u001b[0m\u001b[0;34m\u001b[0m\u001b[0m\n\u001b[1;32m      5\u001b[0m \u001b[0mtrue_beta\u001b[0m \u001b[0;34m=\u001b[0m \u001b[0;36m1.5\u001b[0m\u001b[0;34m\u001b[0m\u001b[0;34m\u001b[0m\u001b[0m\n\u001b[0;32m----> 6\u001b[0;31m \u001b[0mest_df\u001b[0m \u001b[0;34m=\u001b[0m \u001b[0mget_nuts_est\u001b[0m\u001b[0;34m(\u001b[0m\u001b[0mt_alpha_neg\u001b[0m \u001b[0;34m=\u001b[0m \u001b[0mtrue_alpha_neg\u001b[0m\u001b[0;34m,\u001b[0m \u001b[0mt_alpha_pos\u001b[0m \u001b[0;34m=\u001b[0m \u001b[0mtrue_alpha_pos\u001b[0m\u001b[0;34m,\u001b[0m \u001b[0mt_exp_neg\u001b[0m \u001b[0;34m=\u001b[0m \u001b[0mtrue_exp_neg\u001b[0m\u001b[0;34m,\u001b[0m \u001b[0mt_exp_pos\u001b[0m \u001b[0;34m=\u001b[0m \u001b[0mtrue_exp_pos\u001b[0m\u001b[0;34m,\u001b[0m \u001b[0mt_beta\u001b[0m \u001b[0;34m=\u001b[0m \u001b[0mtrue_beta\u001b[0m\u001b[0;34m,\u001b[0m \u001b[0mn\u001b[0m\u001b[0;34m=\u001b[0m\u001b[0;36m60\u001b[0m\u001b[0;34m)\u001b[0m\u001b[0;34m\u001b[0m\u001b[0;34m\u001b[0m\u001b[0m\n\u001b[0m",
      "\u001b[0;32m~/Documents/fmri-nbs/notebooks/dev_study/beh/NUTS_more_pars_helpers.py\u001b[0m in \u001b[0;36mget_nuts_est\u001b[0;34m(t_alpha_neg, t_alpha_pos, t_exp_neg, t_exp_pos, t_beta, n)\u001b[0m\n\u001b[1;32m    196\u001b[0m         \u001b[0ms_beta\u001b[0m \u001b[0;34m=\u001b[0m \u001b[0mpm\u001b[0m\u001b[0;34m.\u001b[0m\u001b[0mHalfNormal\u001b[0m\u001b[0;34m(\u001b[0m\u001b[0;34m'beta'\u001b[0m\u001b[0;34m,\u001b[0m \u001b[0;36m10\u001b[0m\u001b[0;34m)\u001b[0m\u001b[0;34m\u001b[0m\u001b[0;34m\u001b[0m\u001b[0m\n\u001b[1;32m    197\u001b[0m \u001b[0;34m\u001b[0m\u001b[0m\n\u001b[0;32m--> 198\u001b[0;31m         \u001b[0mlike\u001b[0m \u001b[0;34m=\u001b[0m \u001b[0mpm\u001b[0m\u001b[0;34m.\u001b[0m\u001b[0mPotential\u001b[0m\u001b[0;34m(\u001b[0m\u001b[0;34m'like'\u001b[0m\u001b[0;34m,\u001b[0m \u001b[0mtheano_llik_td\u001b[0m\u001b[0;34m(\u001b[0m\u001b[0ms_alpha_neg\u001b[0m\u001b[0;34m,\u001b[0m \u001b[0ms_alpha_pos\u001b[0m\u001b[0;34m,\u001b[0m \u001b[0ms_exp_neg\u001b[0m\u001b[0;34m,\u001b[0m \u001b[0ms_exp_pos\u001b[0m\u001b[0;34m,\u001b[0m \u001b[0ms_beta\u001b[0m\u001b[0;34m,\u001b[0m \u001b[0mmachines\u001b[0m\u001b[0;34m,\u001b[0m \u001b[0mactions\u001b[0m\u001b[0;34m,\u001b[0m \u001b[0mrewards\u001b[0m\u001b[0;34m,\u001b[0m \u001b[0mn\u001b[0m\u001b[0;34m)\u001b[0m\u001b[0;34m)\u001b[0m\u001b[0;34m\u001b[0m\u001b[0;34m\u001b[0m\u001b[0m\n\u001b[0m\u001b[1;32m    199\u001b[0m         \u001b[0mtr\u001b[0m \u001b[0;34m=\u001b[0m \u001b[0mpm\u001b[0m\u001b[0;34m.\u001b[0m\u001b[0msample\u001b[0m\u001b[0;34m(\u001b[0m\u001b[0;34m)\u001b[0m\u001b[0;34m\u001b[0m\u001b[0;34m\u001b[0m\u001b[0m\n\u001b[1;32m    200\u001b[0m \u001b[0;34m\u001b[0m\u001b[0m\n",
      "\u001b[0;32m~/Documents/fmri-nbs/notebooks/dev_study/beh/NUTS_more_pars_helpers.py\u001b[0m in \u001b[0;36mtheano_llik_td\u001b[0;34m(alpha_neg, alpha_pos, exp_neg, exp_pos, beta, machines, actions, rewards, n)\u001b[0m\n\u001b[1;32m    163\u001b[0m         \u001b[0msequences\u001b[0m\u001b[0;34m=\u001b[0m\u001b[0;34m[\u001b[0m\u001b[0mmachines_\u001b[0m\u001b[0;34m,\u001b[0m \u001b[0mactions_\u001b[0m\u001b[0;34m,\u001b[0m \u001b[0mrewards_\u001b[0m\u001b[0;34m]\u001b[0m\u001b[0;34m,\u001b[0m\u001b[0;34m\u001b[0m\u001b[0;34m\u001b[0m\u001b[0m\n\u001b[1;32m    164\u001b[0m         \u001b[0moutputs_info\u001b[0m\u001b[0;34m=\u001b[0m\u001b[0;34m[\u001b[0m\u001b[0mQs\u001b[0m\u001b[0;34m]\u001b[0m\u001b[0;34m,\u001b[0m\u001b[0;34m\u001b[0m\u001b[0;34m\u001b[0m\u001b[0m\n\u001b[0;32m--> 165\u001b[0;31m         non_sequences=[alpha_neg, alpha_pos, exp_neg, exp_pos])\n\u001b[0m\u001b[1;32m    166\u001b[0m \u001b[0;34m\u001b[0m\u001b[0m\n\u001b[1;32m    167\u001b[0m     \u001b[0mint_Qs\u001b[0m \u001b[0;34m=\u001b[0m \u001b[0mtt\u001b[0m\u001b[0;34m.\u001b[0m\u001b[0mzeros\u001b[0m\u001b[0;34m(\u001b[0m\u001b[0;34m(\u001b[0m\u001b[0;36m1\u001b[0m\u001b[0;34m,\u001b[0m \u001b[0;36m4\u001b[0m\u001b[0;34m,\u001b[0m\u001b[0;36m2\u001b[0m\u001b[0;34m)\u001b[0m\u001b[0;34m,\u001b[0m \u001b[0mdtype\u001b[0m\u001b[0;34m=\u001b[0m\u001b[0;34m'float64'\u001b[0m\u001b[0;34m)\u001b[0m\u001b[0;34m\u001b[0m\u001b[0;34m\u001b[0m\u001b[0m\n",
      "\u001b[0;32m~/anaconda/envs/py37/lib/python3.7/site-packages/theano/scan_module/scan.py\u001b[0m in \u001b[0;36mscan\u001b[0;34m(fn, sequences, outputs_info, non_sequences, n_steps, truncate_gradient, go_backwards, mode, name, profile, allow_gc, strict, return_list)\u001b[0m\n\u001b[1;32m    772\u001b[0m     \u001b[0;31m# and outputs that needs to be separated\u001b[0m\u001b[0;34m\u001b[0m\u001b[0;34m\u001b[0m\u001b[0;34m\u001b[0m\u001b[0m\n\u001b[1;32m    773\u001b[0m \u001b[0;34m\u001b[0m\u001b[0m\n\u001b[0;32m--> 774\u001b[0;31m     \u001b[0mcondition\u001b[0m\u001b[0;34m,\u001b[0m \u001b[0moutputs\u001b[0m\u001b[0;34m,\u001b[0m \u001b[0mupdates\u001b[0m \u001b[0;34m=\u001b[0m \u001b[0mscan_utils\u001b[0m\u001b[0;34m.\u001b[0m\u001b[0mget_updates_and_outputs\u001b[0m\u001b[0;34m(\u001b[0m\u001b[0mfn\u001b[0m\u001b[0;34m(\u001b[0m\u001b[0;34m*\u001b[0m\u001b[0margs\u001b[0m\u001b[0;34m)\u001b[0m\u001b[0;34m)\u001b[0m\u001b[0;34m\u001b[0m\u001b[0;34m\u001b[0m\u001b[0m\n\u001b[0m\u001b[1;32m    775\u001b[0m     \u001b[0;32mif\u001b[0m \u001b[0mcondition\u001b[0m \u001b[0;32mis\u001b[0m \u001b[0;32mnot\u001b[0m \u001b[0;32mNone\u001b[0m\u001b[0;34m:\u001b[0m\u001b[0;34m\u001b[0m\u001b[0;34m\u001b[0m\u001b[0m\n\u001b[1;32m    776\u001b[0m         \u001b[0mas_while\u001b[0m \u001b[0;34m=\u001b[0m \u001b[0;32mTrue\u001b[0m\u001b[0;34m\u001b[0m\u001b[0;34m\u001b[0m\u001b[0m\n",
      "\u001b[0;32m~/Documents/fmri-nbs/notebooks/dev_study/beh/NUTS_more_pars_helpers.py\u001b[0m in \u001b[0;36mupdate_Q\u001b[0;34m(machine, action, reward, Q, alpha_neg, alpha_pos, exp_neg, exp_pos)\u001b[0m\n\u001b[1;32m    132\u001b[0m     \u001b[0ma\u001b[0m\u001b[0;34m,\u001b[0m\u001b[0mb\u001b[0m \u001b[0;34m=\u001b[0m \u001b[0mT\u001b[0m\u001b[0;34m.\u001b[0m\u001b[0mscalars\u001b[0m\u001b[0;34m(\u001b[0m\u001b[0;34m'a'\u001b[0m\u001b[0;34m,\u001b[0m \u001b[0;34m'b'\u001b[0m\u001b[0;34m)\u001b[0m\u001b[0;34m\u001b[0m\u001b[0;34m\u001b[0m\u001b[0m\n\u001b[1;32m    133\u001b[0m     \u001b[0;31m#z_switch = T.switch(T.lt(a, b), Q[machine, action] + alpha_neg * abs(rpe)**exp_neg * (-1), Q[machine, action] + alpha_pos * rpe**exp_pos)\u001b[0m\u001b[0;34m\u001b[0m\u001b[0;34m\u001b[0m\u001b[0;34m\u001b[0m\u001b[0m\n\u001b[0;32m--> 134\u001b[0;31m     \u001b[0mz_ifelse\u001b[0m \u001b[0;34m=\u001b[0m \u001b[0mtifelse\u001b[0m\u001b[0;34m(\u001b[0m\u001b[0mT\u001b[0m\u001b[0;34m.\u001b[0m\u001b[0mlt\u001b[0m\u001b[0;34m(\u001b[0m\u001b[0ma\u001b[0m\u001b[0;34m,\u001b[0m \u001b[0mb\u001b[0m\u001b[0;34m)\u001b[0m\u001b[0;34m,\u001b[0m \u001b[0mQ\u001b[0m\u001b[0;34m[\u001b[0m\u001b[0mmachine\u001b[0m\u001b[0;34m,\u001b[0m \u001b[0maction\u001b[0m\u001b[0;34m]\u001b[0m \u001b[0;34m+\u001b[0m \u001b[0malpha_neg\u001b[0m \u001b[0;34m*\u001b[0m \u001b[0mabs\u001b[0m\u001b[0;34m(\u001b[0m\u001b[0mrpe\u001b[0m\u001b[0;34m)\u001b[0m\u001b[0;34m**\u001b[0m\u001b[0mexp_neg\u001b[0m \u001b[0;34m*\u001b[0m \u001b[0;34m(\u001b[0m\u001b[0;34m-\u001b[0m\u001b[0;36m1\u001b[0m\u001b[0;34m)\u001b[0m\u001b[0;34m,\u001b[0m \u001b[0mQ\u001b[0m\u001b[0;34m[\u001b[0m\u001b[0mmachine\u001b[0m\u001b[0;34m,\u001b[0m \u001b[0maction\u001b[0m\u001b[0;34m]\u001b[0m \u001b[0;34m+\u001b[0m \u001b[0malpha_pos\u001b[0m \u001b[0;34m*\u001b[0m \u001b[0mrpe\u001b[0m\u001b[0;34m**\u001b[0m\u001b[0mexp_pos\u001b[0m\u001b[0;34m)\u001b[0m\u001b[0;34m\u001b[0m\u001b[0;34m\u001b[0m\u001b[0m\n\u001b[0m\u001b[1;32m    135\u001b[0m \u001b[0;34m\u001b[0m\u001b[0m\n\u001b[1;32m    136\u001b[0m     \u001b[0;31m#f_switch = theano.function([a, b], z_switch, mode=theano.Mode(linker='vm'))\u001b[0m\u001b[0;34m\u001b[0m\u001b[0;34m\u001b[0m\u001b[0;34m\u001b[0m\u001b[0m\n",
      "\u001b[0;32m~/anaconda/envs/py37/lib/python3.7/site-packages/theano/gof/op.py\u001b[0m in \u001b[0;36m__call__\u001b[0;34m(self, *inputs, **kwargs)\u001b[0m\n\u001b[1;32m    637\u001b[0m                         raise ValueError(\n\u001b[1;32m    638\u001b[0m                             \u001b[0;34m'Cannot compute test value: input %i (%s) of Op %s missing default value. %s'\u001b[0m \u001b[0;34m%\u001b[0m\u001b[0;34m\u001b[0m\u001b[0;34m\u001b[0m\u001b[0m\n\u001b[0;32m--> 639\u001b[0;31m                             (i, ins, node, detailed_err_msg))\n\u001b[0m\u001b[1;32m    640\u001b[0m                     \u001b[0;32melif\u001b[0m \u001b[0mconfig\u001b[0m\u001b[0;34m.\u001b[0m\u001b[0mcompute_test_value\u001b[0m \u001b[0;34m==\u001b[0m \u001b[0;34m'ignore'\u001b[0m\u001b[0;34m:\u001b[0m\u001b[0;34m\u001b[0m\u001b[0;34m\u001b[0m\u001b[0m\n\u001b[1;32m    641\u001b[0m                         \u001b[0;31m# silently skip test\u001b[0m\u001b[0;34m\u001b[0m\u001b[0;34m\u001b[0m\u001b[0;34m\u001b[0m\u001b[0m\n",
      "\u001b[0;31mValueError\u001b[0m: Cannot compute test value: input 0 (a) of Op Elemwise{lt,no_inplace}(a, b) missing default value.  \nBacktrace when that variable is created:\n\n  File \"/Users/zeynepenkavi/anaconda/envs/py37/lib/python3.7/site-packages/IPython/core/interactiveshell.py\", line 3058, in run_cell_async\n    interactivity=interactivity, compiler=compiler, result=result)\n  File \"/Users/zeynepenkavi/anaconda/envs/py37/lib/python3.7/site-packages/IPython/core/interactiveshell.py\", line 3249, in run_ast_nodes\n    if (await self.run_code(code, result,  async_=asy)):\n  File \"/Users/zeynepenkavi/anaconda/envs/py37/lib/python3.7/site-packages/IPython/core/interactiveshell.py\", line 3326, in run_code\n    exec(code_obj, self.user_global_ns, self.user_ns)\n  File \"<ipython-input-2-d83c31aede13>\", line 6, in <module>\n    est_df = get_nuts_est(t_alpha_neg = true_alpha_neg, t_alpha_pos = true_alpha_pos, t_exp_neg = true_exp_neg, t_exp_pos = true_exp_pos, t_beta = true_beta, n=60)\n  File \"/Users/zeynepenkavi/Documents/fmri-nbs/notebooks/dev_study/beh/NUTS_more_pars_helpers.py\", line 198, in get_nuts_est\n    like = pm.Potential('like', theano_llik_td(s_alpha_neg, s_alpha_pos, s_exp_neg, s_exp_pos, s_beta, machines, actions, rewards, n))\n  File \"/Users/zeynepenkavi/Documents/fmri-nbs/notebooks/dev_study/beh/NUTS_more_pars_helpers.py\", line 165, in theano_llik_td\n    non_sequences=[alpha_neg, alpha_pos, exp_neg, exp_pos])\n  File \"/Users/zeynepenkavi/anaconda/envs/py37/lib/python3.7/site-packages/theano/scan_module/scan.py\", line 774, in scan\n    condition, outputs, updates = scan_utils.get_updates_and_outputs(fn(*args))\n  File \"/Users/zeynepenkavi/Documents/fmri-nbs/notebooks/dev_study/beh/NUTS_more_pars_helpers.py\", line 132, in update_Q\n    a,b = T.scalars('a', 'b')\n"
     ]
    }
   ],
   "source": [
    "true_alpha_neg = .3\n",
    "true_alpha_pos = .3\n",
    "true_exp_neg = 1\n",
    "true_exp_pos = 1\n",
    "true_beta = 1.5\n",
    "est_df = get_nuts_est(t_alpha_neg = true_alpha_neg, t_alpha_pos = true_alpha_pos, t_exp_neg = true_exp_neg, t_exp_pos = true_exp_pos, t_beta = true_beta, n=60)"
   ]
  },
  {
   "cell_type": "code",
   "execution_count": null,
   "metadata": {},
   "outputs": [],
   "source": [
    "a,b = T.scalars('a', 'b')\n",
    "x,y = T.matrices('x', 'y')\n",
    "\n",
    "z_switch = T.switch(T.lt(a, b), T.mean(x), T.mean(y))\n",
    "\n",
    "f_switch = theano.function([a, b, x, y], z_switch,\n",
    "                           mode=theano.Mode(linker='vm'))\n",
    "\n",
    "val1 = 0.\n",
    "val2 = 1.\n",
    "big_mat1 = np.ones((10000, 1000))\n",
    "big_mat2 = np.ones((10000, 1000))\n",
    "\n",
    "f_switch(val1, val2, big_mat1, big_mat2)"
   ]
  },
  {
   "cell_type": "code",
   "execution_count": null,
   "metadata": {},
   "outputs": [],
   "source": [
    "a = f_switch(val1, val2, big_mat1, big_mat2)"
   ]
  },
  {
   "cell_type": "code",
   "execution_count": null,
   "metadata": {},
   "outputs": [],
   "source": [
    "t,u = T.scalars('t', 'u')\n",
    "zt = T.lt(t, u)\n",
    "ft = theano.function([t, u], zt, mode =theano.Mode(linker='vm'))\n",
    "ft(val1, 0)"
   ]
  },
  {
   "cell_type": "markdown",
   "metadata": {},
   "source": [
    "Next steps:\n",
    "\n",
    "Simulations:\n",
    "\n",
    "-  Can pyMC recover parameters better for the whole range?\n",
    "    -  Conclusion: Not necessarily but   \n",
    "        - it keeps all values within bounds\n",
    "        - it does not fail in any other way compared to the realistic MLE estimates (i.e. those starting from random values instead of the true values used for data generation)  \n",
    "        \n",
    "- Is recoverability worse for generating processes with more parameters\n",
    "    - TODO: Write new/more generalizable ~~data generation~~ and par recovery functions for different RL models (with more parameters)\n",
    "    - Compare parameter recoverability for at least one more RL model with more parameters \n",
    "    - Not interested in comparing MLE versus NUTS but compare simulation results of NUTS estimates between more simple and complicated processes\n",
    "    \n",
    "Fitting:\n",
    "\n",
    "- Convert the recoverability function to fitting function\n",
    "\n",
    "```\n",
    " # NUTS estimate\n",
    "    actions_ = theano.shared(np.asarray(actions, dtype='int16'))\n",
    "    with pm.Model() as m:\n",
    "        alpha = pm.Beta('alpha', 1, 1)\n",
    "        beta = pm.HalfNormal('beta', 10)\n",
    "        like = pm.Potential('like', theano_llik_td(alpha, beta, machines, actions, rewards, n))\n",
    "        tr = pm.sample()\n",
    "    \n",
    "    nuts_alpha_ave = np.mean(tr.alpha)\n",
    "    nuts_beta_ave = np.mean(tr.beta)\n",
    "    nuts_alpha_std = np.std(tr.alpha)\n",
    "    nuts_beta_std = np.std(tr.beta)\n",
    "    nuts_llik = llik_td_vectorized([nuts_alpha_ave, nuts_beta_ave], *(machines, actions, rewards))\n",
    "```\n",
    "- Fit to one subject's data (using the fitting function created above in fit_rl_cv.py)\n",
    "- Fit to all subjects' data"
   ]
  },
  {
   "cell_type": "code",
   "execution_count": null,
   "metadata": {},
   "outputs": [],
   "source": []
  }
 ],
 "metadata": {
  "kernelspec": {
   "display_name": "Python 3",
   "language": "python",
   "name": "python3"
  },
  "language_info": {
   "codemirror_mode": {
    "name": "ipython",
    "version": 3
   },
   "file_extension": ".py",
   "mimetype": "text/x-python",
   "name": "python",
   "nbconvert_exporter": "python",
   "pygments_lexer": "ipython3",
   "version": "3.7.2"
  }
 },
 "nbformat": 4,
 "nbformat_minor": 4
}
