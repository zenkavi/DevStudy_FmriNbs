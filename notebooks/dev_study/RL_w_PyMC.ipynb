{
 "cells": [
  {
   "cell_type": "code",
   "execution_count": 1,
   "metadata": {},
   "outputs": [],
   "source": [
    "import numpy as np\n",
    "import matplotlib.pyplot as plt\n",
    "import seaborn as sns\n",
    "import scipy\n",
    "\n",
    "import pymc3 as pm\n",
    "import theano\n",
    "import theano.tensor as tt\n",
    "import arviz as az"
   ]
  },
  {
   "cell_type": "code",
   "execution_count": 9,
   "metadata": {},
   "outputs": [],
   "source": [
    "def generate_data(alpha, beta, n=100, \n",
    "                  p_r={'high_var': [.95, .05], 'low_var': [.5,.5]},\n",
    "                  rs = np.array(([5.0, -495.0],[-5.0, 495.0],[10.0, -100.0],[-10.0, 100.0])),\n",
    "                  sQ = np.zeros((4, 2))\n",
    "                 ):\n",
    "    \n",
    "    # Need to denote both machine type and action\n",
    "    \n",
    "    # Pre-specify machines for each trial in a randomly balanced manner\n",
    "    if n%4 != 0:\n",
    "        print(\"Number of trials is not divisable by 4.\\nCreating trials for %s trials.\"%(str(n-(n%4))))\n",
    "        n = n-(n%4)\n",
    "    \n",
    "    machs = np.array([0,1,2,3])\n",
    "    machs = np.tile(machs, int(n/4))\n",
    "    np.random.shuffle(machs)\n",
    "    \n",
    "    # Initialize empty array that will be populated in the loop based on Q values\n",
    "    acts = np.zeros(n, dtype=np.int)\n",
    "    \n",
    "    # Generate by coin flip for machine with differing probabilities and outcomes\n",
    "    rews = np.zeros(n, dtype=np.int)\n",
    "\n",
    "    # Stores the expected value for each of 4 machines in each trial for each action\n",
    "    Qs = np.zeros((n, 4, 2))\n",
    "\n",
    "    # Initialize Q table\n",
    "    # Denotes expected value of each action\n",
    "    # Should look like [0, 0] for each machine\n",
    "    # *** The expected value of not playing should not change from 0! ***\n",
    "    # Could these initial expected values/beliefs also be estimated from data?\n",
    "    # E.g. what if kids have more optimistic priors about each machine though they learn at the same rate\n",
    "    Q = sQ.copy()\n",
    "    \n",
    "    for i in range(n):\n",
    "        \n",
    "        cur_machine = machs[i]\n",
    "        \n",
    "        # Apply the Softmax transformation\n",
    "        exp_Q = np.exp(beta*Q[cur_machine])\n",
    "        prob_a = exp_Q / np.sum(exp_Q)\n",
    "\n",
    "        # Simulate choice\n",
    "        a = np.random.choice([0, 1], p=prob_a)\n",
    "        \n",
    "        # Simulate reward if machine is played\n",
    "        if a == 1:\n",
    "    \n",
    "            # Before sampling reward determine which variance condition machine is in\n",
    "            if cur_machine>1:\n",
    "                cur_p = 'low_var'\n",
    "            else:\n",
    "                cur_p = 'high_var'\n",
    "\n",
    "            # Sample reward for current machine given its reward probs and outcome options\n",
    "            r = np.random.choice(rs[cur_machine], p = p_r[cur_p]) \n",
    "            \n",
    "            # Update Q table only if the machine is played\n",
    "            # And only the value of playing NOT of not playing\n",
    "            Q[cur_machine][a] = Q[cur_machine][a] + alpha * (r - Q[cur_machine][a])\n",
    "        \n",
    "        # If the machine is not played then Q remains unchanged and no reward is received\n",
    "        else:\n",
    "            r = 0.0\n",
    "\n",
    "        # Store values\n",
    "        acts[i] = a\n",
    "        rews[i] = r\n",
    "        #Qs[i] = Q.copy()\n",
    "        Qs[i] = Q\n",
    "\n",
    "    return machs, acts, rews, Qs"
   ]
  },
  {
   "cell_type": "code",
   "execution_count": 10,
   "metadata": {},
   "outputs": [],
   "source": [
    "true_alpha = .3\n",
    "true_beta = 1\n",
    "n = 80\n",
    "machines, actions, rewards, all_Qs = generate_data(true_alpha, true_beta, n)"
   ]
  },
  {
   "cell_type": "code",
   "execution_count": 11,
   "metadata": {},
   "outputs": [
    {
     "data": {
      "text/plain": [
       "array([2, 3, 0, 1, 1, 3, 2, 3, 0, 1, 3, 3, 0, 1, 1, 2, 3, 3, 2, 1, 1, 2,\n",
       "       0, 1, 3, 0, 1, 1, 0, 2, 1, 2, 0, 1, 1, 3, 0, 3, 2, 3, 0, 1, 2, 0,\n",
       "       0, 2, 2, 0, 3, 3, 2, 2, 1, 3, 0, 3, 1, 0, 2, 3, 3, 1, 2, 2, 3, 0,\n",
       "       3, 0, 2, 1, 0, 2, 1, 0, 2, 0, 1, 2, 3, 0])"
      ]
     },
     "execution_count": 11,
     "metadata": {},
     "output_type": "execute_result"
    }
   ],
   "source": [
    "machines"
   ]
  },
  {
   "cell_type": "code",
   "execution_count": 12,
   "metadata": {},
   "outputs": [
    {
     "data": {
      "text/plain": [
       "array([1, 1, 1, 0, 0, 0, 0, 0, 1, 1, 0, 0, 1, 0, 0, 0, 0, 0, 0, 0, 0, 0,\n",
       "       1, 0, 0, 1, 1, 0, 1, 0, 0, 0, 1, 0, 0, 0, 1, 0, 0, 1, 1, 1, 0, 1,\n",
       "       1, 0, 0, 1, 0, 0, 0, 0, 0, 0, 1, 0, 0, 1, 0, 0, 0, 0, 0, 0, 0, 1,\n",
       "       0, 1, 0, 0, 1, 0, 0, 1, 0, 1, 0, 0, 0, 1])"
      ]
     },
     "execution_count": 12,
     "metadata": {},
     "output_type": "execute_result"
    }
   ],
   "source": [
    "actions"
   ]
  },
  {
   "cell_type": "code",
   "execution_count": 13,
   "metadata": {},
   "outputs": [
    {
     "data": {
      "text/plain": [
       "array([-100,  -10,    5,    0,    0,    0,    0,    0,    5,   -5,    0,\n",
       "          0,    5,    0,    0,    0,    0,    0,    0,    0,    0,    0,\n",
       "          5,    0,    0,    5,   -5,    0,    5,    0,    0,    0,    5,\n",
       "          0,    0,    0,    5,    0,    0,  -10,    5,   -5,    0,    5,\n",
       "          5,    0,    0,    5,    0,    0,    0,    0,    0,    0,    5,\n",
       "          0,    0,    5,    0,    0,    0,    0,    0,    0,    0,    5,\n",
       "          0,    5,    0,    0,    5,    0,    0,    5,    0,    5,    0,\n",
       "          0,    0,    5])"
      ]
     },
     "execution_count": 13,
     "metadata": {},
     "output_type": "execute_result"
    }
   ],
   "source": [
    "rewards"
   ]
  },
  {
   "cell_type": "code",
   "execution_count": 27,
   "metadata": {},
   "outputs": [
    {
     "data": {
      "text/plain": [
       "array([[[  0.        ,   0.        ],\n",
       "        [  0.        ,   0.        ],\n",
       "        [  0.        , -30.        ],\n",
       "        [  0.        ,   0.        ]],\n",
       "\n",
       "       [[  0.        ,   4.99601039],\n",
       "        [  0.        ,  -3.285     ],\n",
       "        [  0.        , -30.        ],\n",
       "        [  0.        ,  -5.1       ]]])"
      ]
     },
     "execution_count": 27,
     "metadata": {},
     "output_type": "execute_result"
    }
   ],
   "source": [
    "np.array([all_Qs[0],all_Qs[-1]])"
   ]
  },
  {
   "cell_type": "code",
   "execution_count": 16,
   "metadata": {},
   "outputs": [
    {
     "data": {
      "text/plain": [
       "array([[   0.    , -146.2005],\n",
       "       [   0.    ,   -2.55  ],\n",
       "       [   0.    ,  -27.9   ],\n",
       "       [   0.    ,   -5.1   ]])"
      ]
     },
     "execution_count": 16,
     "metadata": {},
     "output_type": "execute_result"
    }
   ],
   "source": [
    "machines2, actions2, rewards2, all_Qs2 = generate_data(true_alpha, true_beta, n)\n",
    "all_Qs2[-1]"
   ]
  },
  {
   "cell_type": "code",
   "execution_count": 17,
   "metadata": {},
   "outputs": [
    {
     "data": {
      "text/plain": [
       "array([[   0.        , -145.02373781],\n",
       "       [   0.        ,   -1.96480345],\n",
       "       [   0.        ,  -30.        ],\n",
       "       [   0.        ,   73.25225799]])"
      ]
     },
     "execution_count": 17,
     "metadata": {},
     "output_type": "execute_result"
    }
   ],
   "source": [
    "machines3, actions3, rewards3, all_Qs3 = generate_data(true_alpha, true_beta, n)\n",
    "all_Qs3[-1]"
   ]
  },
  {
   "cell_type": "code",
   "execution_count": null,
   "metadata": {},
   "outputs": [],
   "source": []
  }
 ],
 "metadata": {
  "kernelspec": {
   "display_name": "Python 3",
   "language": "python",
   "name": "python3"
  },
  "language_info": {
   "codemirror_mode": {
    "name": "ipython",
    "version": 3
   },
   "file_extension": ".py",
   "mimetype": "text/x-python",
   "name": "python",
   "nbconvert_exporter": "python",
   "pygments_lexer": "ipython3",
   "version": "3.7.2"
  }
 },
 "nbformat": 4,
 "nbformat_minor": 4
}
