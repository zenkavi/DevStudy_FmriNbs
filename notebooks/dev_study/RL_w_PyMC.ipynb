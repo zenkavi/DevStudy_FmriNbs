{
 "cells": [
  {
   "cell_type": "code",
   "execution_count": 3,
   "metadata": {},
   "outputs": [],
   "source": [
    "import numpy as np\n",
    "import matplotlib.pyplot as plt\n",
    "import seaborn as sns\n",
    "import scipy\n",
    "\n",
    "import pymc3 as pm\n",
    "import theano\n",
    "import theano.tensor as tt\n",
    "import arviz as az"
   ]
  },
  {
   "cell_type": "code",
   "execution_count": 34,
   "metadata": {},
   "outputs": [
    {
     "data": {
      "text/plain": [
       "0"
      ]
     },
     "execution_count": 34,
     "metadata": {},
     "output_type": "execute_result"
    }
   ],
   "source": [
    "#def generate_data(alpha, beta, n=100, p_r=[.4, .6]):\n",
    "def generate_data(alpha, beta, n=100, p_r={'high_var': [.95, .05], 'low_var': [.5,.5]}):\n",
    "    \n",
    "    actions = np.zeros(n, dtype=np.int)\n",
    "    rewards = np.zeros(n, dtype=np.int)\n",
    "    #Qs = np.zeros((n, 2))\n",
    "    #Stores the expected value for each machine in each trial\n",
    "    Qs = np.zeros((n, 4))\n",
    "\n",
    "    # Initialize Q table\n",
    "    Q = np.array([.5, .5])\n",
    "    for i in range(n):\n",
    "        # Apply the Softmax transformation\n",
    "        exp_Q = np.exp(beta*Q)\n",
    "        prob_a = exp_Q / np.sum(exp_Q)\n",
    "\n",
    "        # Simulate choice and reward\n",
    "        a = np.random.choice([0, 1], p=prob_a)\n",
    "        r = np.random.rand() < p_r[a]\n",
    "\n",
    "        # Update Q table\n",
    "        Q[a] = Q[a] + alpha * (r - Q[a])\n",
    "\n",
    "        # Store values\n",
    "        actions[i] = a\n",
    "        rewards[i] = r\n",
    "        Qs[i] = Q.copy()\n",
    "\n",
    "    return actions, rewards, Qs"
   ]
  },
  {
   "cell_type": "markdown",
   "metadata": {},
   "source": [
    "Task 1: Change data generation function to emulate machine game (MG) behavior.\n",
    "Instead of right and left action for one machine, MG has 4 machines with r(pass)=0 but r(play) can be [-5,+495], [+5,-495], [+10, -100] or [-10, +100] with probs [.95, .05] or [.5, .5]"
   ]
  },
  {
   "cell_type": "code",
   "execution_count": 39,
   "metadata": {},
   "outputs": [
    {
     "data": {
      "text/plain": [
       "array([[0., 0.],\n",
       "       [0., 0.],\n",
       "       [0., 0.],\n",
       "       [0., 0.],\n",
       "       [0., 0.],\n",
       "       [0., 0.],\n",
       "       [0., 0.],\n",
       "       [0., 0.],\n",
       "       [0., 0.],\n",
       "       [0., 0.]])"
      ]
     },
     "execution_count": 39,
     "metadata": {},
     "output_type": "execute_result"
    }
   ],
   "source": [
    "np.zeros((10, 2))"
   ]
  },
  {
   "cell_type": "code",
   "execution_count": null,
   "metadata": {},
   "outputs": [],
   "source": []
  }
 ],
 "metadata": {
  "kernelspec": {
   "display_name": "Python 3",
   "language": "python",
   "name": "python3"
  },
  "language_info": {
   "codemirror_mode": {
    "name": "ipython",
    "version": 3
   },
   "file_extension": ".py",
   "mimetype": "text/x-python",
   "name": "python",
   "nbconvert_exporter": "python",
   "pygments_lexer": "ipython3",
   "version": "3.7.2"
  }
 },
 "nbformat": 4,
 "nbformat_minor": 4
}
