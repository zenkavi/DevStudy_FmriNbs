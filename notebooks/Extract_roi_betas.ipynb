{
 "cells": [
  {
   "cell_type": "markdown",
   "metadata": {},
   "source": [
    "# Test script"
   ]
  },
  {
   "cell_type": "code",
   "execution_count": 1,
   "metadata": {},
   "outputs": [],
   "source": [
    "import glob\n",
    "import numpy as np\n",
    "import nibabel as nib\n",
    "import nilearn\n",
    "import os\n",
    "import pandas as pd\n",
    "import re"
   ]
  },
  {
   "cell_type": "code",
   "execution_count": 3,
   "metadata": {},
   "outputs": [],
   "source": [
    "data_loc = os.environ['DATA_LOC']\n",
    "server_scripts = os.environ['SERVER_SCRIPTS']"
   ]
  },
  {
   "cell_type": "code",
   "execution_count": 15,
   "metadata": {},
   "outputs": [],
   "source": [
    "regions = ['l_vstr', 'r_vstr']\n",
    "\n",
    "models = glob.glob(os.path.join(server_scripts, 'rpe_cors/pred_rpes/*.csv'))\n",
    "models = [os.path.splitext(os.path.basename(x))[0] for x in models]\n",
    "\n",
    "all_betas = pd.DataFrame()"
   ]
  },
  {
   "cell_type": "code",
   "execution_count": 6,
   "metadata": {},
   "outputs": [],
   "source": [
    "model = models[0]"
   ]
  },
  {
   "cell_type": "code",
   "execution_count": 8,
   "metadata": {},
   "outputs": [],
   "source": [
    "beta_img_paths = glob.glob('%s/derivatives/rpe_cors/%s/sub-*/contrasts/sub-*_run-*_*pe_betas.nii.gz'%(data_loc, model))\n"
   ]
  },
  {
   "cell_type": "code",
   "execution_count": 16,
   "metadata": {},
   "outputs": [],
   "source": [
    "region = regions[0]"
   ]
  },
  {
   "cell_type": "code",
   "execution_count": 22,
   "metadata": {},
   "outputs": [],
   "source": [
    "import nilearn.plotting"
   ]
  },
  {
   "cell_type": "code",
   "execution_count": 23,
   "metadata": {},
   "outputs": [],
   "source": [
    "tmp_img_file_name = beta_img_paths[0]\n",
    "tmp_img = nib.load(tmp_img_file_name)\n",
    "mask_file_name = '/oak/stanford/groups/russpold/data/ds000054/0.0.4/derivatives/rois/tpl-MNI152NLin2009cAsym_res-01_desc-brain_T1w/%s_bin.nii.gz'%(region)\n",
    "mask = nib.load(mask_file_name)\n",
    "tmp_img_data = tmp_img.get_fdata()\n",
    "mask_data = mask.get_fdata()\n",
    "if tmp_img_data.shape != mask_data.shape:\n",
    "    mask = nilearn.image.resample_to_img(mask, tmp_img)\n",
    "    mask_data = mask.get_fdata()\n",
    "    #binarize resampled mask data\n",
    "    mask_data = np.where(mask_data >0.1,1,0)\n",
    "    mask = nilearn.image.new_img_like(tmp_img, mask_data)"
   ]
  },
  {
   "cell_type": "code",
   "execution_count": 29,
   "metadata": {},
   "outputs": [
    {
     "name": "stderr",
     "output_type": "stream",
     "text": [
      "/home/groups/russpold/software/miniconda/envs/fmri/lib/python3.5/site-packages/pandas/core/frame.py:6692: FutureWarning: Sorting because non-concatenation axis is not aligned. A future version\n",
      "of pandas will change to not sort by default.\n",
      "\n",
      "To accept the future behavior, pass 'sort=False'.\n",
      "\n",
      "To retain the current behavior and silence the warning, pass 'sort=True'.\n",
      "\n",
      "  sort=sort)\n"
     ]
    }
   ],
   "source": [
    "cur_beta_img = beta_img_paths[0]\n",
    "img_data = nib.load(cur_beta_img).get_fdata()\n",
    "roi_data = np.where(mask_data == 1,img_data,0)\n",
    "roi_data = roi_data[roi_data != 0]\n",
    "cur_betas = pd.DataFrame()\n",
    "cur_betas[\"beta\"] = roi_data\n",
    "cur_betas[\"sub_num\"] = re.findall('\\d+', os.path.basename(cur_beta_img))[0] #take from cur_beta_img\n",
    "cur_betas[\"run_num\"] = re.findall('\\d+', os.path.basename(cur_beta_img))[1] #take from cur_beta_img\n",
    "cur_betas[\"pe_type\"] = os.path.basename(cur_beta_img).split(\"_\")[2] #take from cur_beta_img\n",
    "cur_betas[\"roi\"] = region\n",
    "cur_betas[\"model\"] = model\n",
    "all_betas = all_betas.append(cur_betas, ignore_index= True)"
   ]
  },
  {
   "cell_type": "code",
   "execution_count": 32,
   "metadata": {},
   "outputs": [
    {
     "data": {
      "text/plain": [
       "'/oak/stanford/groups/russpold/data/ds000054/0.0.4/derivatives/rpe_cors/all_vstr_betas.csv'"
      ]
     },
     "execution_count": 32,
     "metadata": {},
     "output_type": "execute_result"
    }
   ],
   "source": [
    "'%s/derivatives/rpe_cors/all_vstr_betas.csv'%(data_loc)"
   ]
  },
  {
   "cell_type": "markdown",
   "metadata": {},
   "source": [
    "# Notes on two methods \n",
    "\n",
    "## Manual extraction"
   ]
  },
  {
   "cell_type": "markdown",
   "metadata": {},
   "source": [
    "Extract ROI data manually as in: https://neurostars.org/t/extract-roi-voxels-using-nilearns-niftimasker/3977  \n",
    "\n",
    "**Won't work if the BOLD does not have the same dimensionality as the mask**\n",
    "\n",
    "If that's the case, resample the mask"
   ]
  },
  {
   "cell_type": "code",
   "execution_count": null,
   "metadata": {},
   "outputs": [],
   "source": [
    "nilearn.plotting.plot_stat_map(res_mask, colorbar=True, draw_cross=False)"
   ]
  },
  {
   "cell_type": "code",
   "execution_count": null,
   "metadata": {},
   "outputs": [],
   "source": [
    "nilearn.plotting.plot_stat_map(roi_nifti_img, colorbar=True, draw_cross=False)"
   ]
  },
  {
   "cell_type": "markdown",
   "metadata": {},
   "source": [
    "## Using freesurfer\n",
    "\n",
    "Extract using freesurfer segmentation as described in https://groups.google.com/forum/#!topic/nipy-user/DjnN9q52vH8\n",
    "\n",
    "**Not working due to broken freesurfer path**"
   ]
  },
  {
   "cell_type": "code",
   "execution_count": null,
   "metadata": {},
   "outputs": [],
   "source": [
    "import nipype.interfaces.freesurfer as fs \n",
    "segstat = fs.SegStats() \n",
    "segstat.inputs.segmentation_file = mask_file_name \n",
    "segstat.inputs.in_file = img_file_name \n",
    "segstat.inputs.avgwf_file = True \n",
    "segstat.run() "
   ]
  }
 ],
 "metadata": {
  "hide_input": false,
  "kernelspec": {
   "display_name": "Python 3",
   "language": "python",
   "name": "python3"
  },
  "language_info": {
   "codemirror_mode": {
    "name": "ipython",
    "version": 3
   },
   "file_extension": ".py",
   "mimetype": "text/x-python",
   "name": "python",
   "nbconvert_exporter": "python",
   "pygments_lexer": "ipython3",
   "version": "3.5.3"
  },
  "toc": {
   "base_numbering": 1,
   "nav_menu": {},
   "number_sections": true,
   "sideBar": true,
   "skip_h1_title": false,
   "title_cell": "Table of Contents",
   "title_sidebar": "Contents",
   "toc_cell": false,
   "toc_position": {},
   "toc_section_display": true,
   "toc_window_display": true
  }
 },
 "nbformat": 4,
 "nbformat_minor": 2
}
