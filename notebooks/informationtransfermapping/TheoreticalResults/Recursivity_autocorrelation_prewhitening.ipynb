{
 "cells": [
  {
   "cell_type": "code",
   "execution_count": 1,
   "metadata": {},
   "outputs": [],
   "source": [
    "import copy\n",
    "import sys\n",
    "sys.path.append('../utils/')\n",
    "import numpy as np\n",
    "import matplotlib.pyplot as plt\n",
    "% matplotlib inline\n",
    "import pandas as pd\n",
    "import seaborn as sns\n",
    "sns.set_style(\"white\")\n",
    "import scipy.stats as stats\n",
    "import statsmodels.api as sm\n",
    "from statsmodels.tsa.arima_model import ARIMA, ARMA\n",
    "from statsmodels.tsa.filters.filtertools import recursive_filter\n",
    "\n",
    "## Import custom modules\n",
    "# Primary module with most model functions\n",
    "import model\n",
    "# Module for FC regression\n",
    "import multregressionconnectivity as mreg"
   ]
  },
  {
   "cell_type": "code",
   "execution_count": 2,
   "metadata": {},
   "outputs": [],
   "source": [
    "T = np.arange(0,500,1)"
   ]
  },
  {
   "cell_type": "code",
   "execution_count": 3,
   "metadata": {},
   "outputs": [],
   "source": [
    "tasktiming = np.zeros((1,len(T)))\n",
    "for t in range(len(T)):\n",
    "    if t%25>10 and t%25<21:\n",
    "        tasktiming[0,t] = 1.0"
   ]
  },
  {
   "cell_type": "code",
   "execution_count": 4,
   "metadata": {},
   "outputs": [
    {
     "data": {
      "text/plain": [
       "(0, 100)"
      ]
     },
     "execution_count": 4,
     "metadata": {},
     "output_type": "execute_result"
    },
    {
     "data": {
      "image/png": "[encoded data removed]",
      "text/plain": [
       "<Figure size 432x288 with 1 Axes>"
      ]
     },
     "metadata": {
      "needs_background": "light"
     },
     "output_type": "display_data"
    }
   ],
   "source": [
    "plt.plot(T, tasktiming[0])\n",
    "#plt.ylim(top = 1.2, bottom = -0.1)\n",
    "plt.xlim(0,100)"
   ]
  },
  {
   "cell_type": "code",
   "execution_count": 5,
   "metadata": {},
   "outputs": [],
   "source": [
    "x = copy.copy(tasktiming[0])"
   ]
  },
  {
   "cell_type": "code",
   "execution_count": 11,
   "metadata": {},
   "outputs": [],
   "source": [
    "def make_y(x, phi, rho, mu=0, sigma=1):\n",
    "    y = y = np.zeros(len(x))\n",
    "    \n",
    "    noise = np.random.normal(mu, sigma, len(y))\n",
    "    \n",
    "    for i in range(len(y)):\n",
    "        if i == 0:\n",
    "            y[i] = copy.copy(x[i])\n",
    "        else:\n",
    "            noise[i] = rho*noise[i-1]+noise[i]\n",
    "            y[i] = phi*y[i-1]+(1-phi)*x[i]+noise[i]\n",
    "            \n",
    "    return(y)"
   ]
  },
  {
   "cell_type": "code",
   "execution_count": 49,
   "metadata": {},
   "outputs": [],
   "source": [
    "phi_no_r = 0\n",
    "rho_no_ac = 0\n",
    "\n",
    "phi_\n",
    "\n",
    "y_no_r_no_ac = make_y(x, rho=rho_no_ac, phi = phi_no_r)"
   ]
  },
  {
   "cell_type": "code",
   "execution_count": 59,
   "metadata": {},
   "outputs": [
    {
     "name": "stdout",
     "output_type": "stream",
     "text": [
      "Actual phi = 0; estimated phi = 0.02412\n"
     ]
    }
   ],
   "source": [
    "X = x.reshape(-1,1)\n",
    "## Constant/GLM:\n",
    "#X = sm.add_constant(X)\n",
    "y_lag = np.r_[0, y_no_r_no_ac[:-1]]\n",
    "y_lag = y_lag.reshape(-1,1)\n",
    "X = np.concatenate((X, y_lag), 1)\n",
    "\n",
    "#No intercept model\n",
    "mod = sm.OLS(y_no_r_no_ac, X)\n",
    "res = mod.fit()\n",
    "est_phi = res.params[1]\n",
    "print(\"Actual phi = %s; estimated phi = %s\"%(phi_no_r,str(round(est_phi, 5))))"
   ]
  },
  {
   "cell_type": "code",
   "execution_count": 58,
   "metadata": {},
   "outputs": [
    {
     "name": "stdout",
     "output_type": "stream",
     "text": [
      "Actual rho = 0; estimated rho = -0.00046\n"
     ]
    }
   ],
   "source": [
    "errors = res.resid\n",
    "\n",
    "errors_lag = np.r_[0, errors[:-1]]\n",
    "errors_X = errors_lag.reshape(-1,1)\n",
    "\n",
    "#No intercept model\n",
    "error_mod = sm.OLS(errors, errors_X)\n",
    "error_res = error_mod.fit()\n",
    "est_rho = error_res.params[0]\n",
    "print(\"Actual rho = %s; estimated rho = %s\"%(rho_no_ac, str(round(est_rho, 5))))"
   ]
  },
  {
   "cell_type": "code",
   "execution_count": null,
   "metadata": {},
   "outputs": [],
   "source": [
    "def prewhiten(y, p=1, q=0):\n",
    "    mod1 = ARMA(taskdata_short_pw[region,:], order=(p,q))\n",
    "    res1 = mod1.fit()\n",
    "    out = {'y_pw': res1.resid,\n",
    "          'ar': res1.params[1]}\n",
    "    return(out)\n",
    "    "
   ]
  },
  {
   "cell_type": "code",
   "execution_count": null,
   "metadata": {},
   "outputs": [],
   "source": [
    "def get_phi_rho(x, y, phi_stim, rho_stim, mu_stim=0, sigma_stim=1, verbose = True):"
   ]
  },
  {
   "cell_type": "code",
   "execution_count": null,
   "metadata": {},
   "outputs": [],
   "source": [
    "def sim_rec_ac(x, y, phi_stim, rho_stim, mu_stim=0, sigma_stim=1, prewhiten = True, verbose = False):\n",
    "    #calls make_y(x, phi)\n",
    "    \n",
    "    if prewhiten:\n",
    "        y_pw = prewhiten(y)\n",
    "        get_phi_rho()"
   ]
  },
  {
   "cell_type": "markdown",
   "metadata": {},
   "source": [
    "Create predicted versus actual gradient/heat map\n",
    "\n",
    "For \n",
    "10 values of phi  \n",
    "10 values of rho  \n",
    "plot absolute diff between predicted and actual parameter estimate  \n",
    "separately for sans prewhitening and with prewhitening  "
   ]
  },
  {
   "cell_type": "code",
   "execution_count": null,
   "metadata": {},
   "outputs": [],
   "source": []
  }
 ],
 "metadata": {
  "hide_input": false,
  "kernelspec": {
   "display_name": "Python 3",
   "language": "python",
   "name": "python3"
  },
  "language_info": {
   "codemirror_mode": {
    "name": "ipython",
    "version": 3
   },
   "file_extension": ".py",
   "mimetype": "text/x-python",
   "name": "python",
   "nbconvert_exporter": "python",
   "pygments_lexer": "ipython3",
   "version": "3.5.3"
  },
  "toc": {
   "base_numbering": 1,
   "nav_menu": {},
   "number_sections": true,
   "sideBar": true,
   "skip_h1_title": false,
   "title_cell": "Table of Contents",
   "title_sidebar": "Contents",
   "toc_cell": false,
   "toc_position": {},
   "toc_section_display": true,
   "toc_window_display": false
  }
 },
 "nbformat": 4,
 "nbformat_minor": 2
}
