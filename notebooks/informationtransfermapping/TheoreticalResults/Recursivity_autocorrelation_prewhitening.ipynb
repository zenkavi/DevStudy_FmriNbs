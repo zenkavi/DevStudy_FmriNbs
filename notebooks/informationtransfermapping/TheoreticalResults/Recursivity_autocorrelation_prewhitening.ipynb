{
 "cells": [
  {
   "cell_type": "code",
   "execution_count": 1,
   "metadata": {},
   "outputs": [],
   "source": [
    "import copy\n",
    "import sys\n",
    "sys.path.append('../utils/')\n",
    "import numpy as np\n",
    "import matplotlib.pyplot as plt\n",
    "% matplotlib inline\n",
    "import pandas as pd\n",
    "import seaborn as sns\n",
    "sns.set_style(\"white\")\n",
    "import scipy.stats as stats\n",
    "import statsmodels.api as sm\n",
    "from statsmodels.tsa.arima_model import ARIMA, ARMA\n",
    "from statsmodels.tsa.filters.filtertools import recursive_filter\n",
    "\n",
    "## Import custom modules\n",
    "# Primary module with most model functions\n",
    "import model\n",
    "# Module for FC regression\n",
    "import multregressionconnectivity as mreg"
   ]
  },
  {
   "cell_type": "code",
   "execution_count": 2,
   "metadata": {},
   "outputs": [],
   "source": [
    "T = np.arange(0,500,1)\n",
    "tasktiming = np.zeros((1,len(T)))\n",
    "for t in range(len(T)):\n",
    "    if t%25>10 and t%25<21:\n",
    "        tasktiming[0,t] = 1.0\n",
    "plt.plot(T, tasktiming[0])\n",
    "#plt.ylim(top = 1.2, bottom = -0.1)\n",
    "plt.xlim(0,100)"
   ]
  },
  {
   "cell_type": "code",
   "execution_count": 11,
   "metadata": {},
   "outputs": [],
   "source": [
    "def make_y(x, phi, rho, mu=0, sigma=1):\n",
    "    y = y = np.zeros(len(x))\n",
    "    \n",
    "    noise = np.random.normal(mu, sigma, len(y))\n",
    "    \n",
    "    for i in range(len(y)):\n",
    "        if i == 0:\n",
    "            y[i] = copy.copy(x[i])\n",
    "        else:\n",
    "            noise[i] = rho*noise[i-1]+noise[i]\n",
    "            y[i] = phi*y[i-1]+(1-phi)*x[i]+noise[i]\n",
    "            \n",
    "    return(y)"
   ]
  },
  {
   "cell_type": "code",
   "execution_count": null,
   "metadata": {},
   "outputs": [],
   "source": [
    "def prewhiten(y, p=1, q=0):\n",
    "    mod1 = ARMA(taskdata_short_pw[region,:], order=(p,q))\n",
    "    res1 = mod1.fit()\n",
    "    out = {'y_pw': res1.resid,\n",
    "          'ar': res1.params[1]}\n",
    "    return(out)\n",
    "    "
   ]
  },
  {
   "cell_type": "code",
   "execution_count": null,
   "metadata": {},
   "outputs": [],
   "source": [
    "def get_phi_rho(x=None, y=None, Tmax = 500, phi_stim, rho_stim, mu_stim=0, sigma_stim=1, verbose = True):\n",
    "    \n",
    "    if x is None:\n",
    "        T = np.arange(0,Tmax,1)\n",
    "        tasktiming = np.zeros((1,len(T)))\n",
    "        for t in range(len(T)):\n",
    "            if t%25>10 and t%25<21:\n",
    "                tasktiming[0,t] = 1.0\n",
    "        x = copy.copy(tasktiming[0])\n",
    "    \n",
    "    if y is None:\n",
    "        y = make_y(x, rho=rho_stim, phi = phi_stim)\n",
    "    \n",
    "    X = x.reshape(-1,1)\n",
    "    ## Constant/GLM:\n",
    "    #X = sm.add_constant(X)\n",
    "    y_lag = np.r_[0, y_no_r_no_ac[:-1]]\n",
    "    y_lag = y_lag.reshape(-1,1)\n",
    "    X = np.concatenate((X, y_lag), 1)\n",
    "\n",
    "    #No intercept model\n",
    "    mod = sm.OLS(y_no_r_no_ac, X)\n",
    "    res = mod.fit()\n",
    "    est_phi = res.params[1]\n",
    "    \n",
    "    errors = res.resid\n",
    "\n",
    "    errors_lag = np.r_[0, errors[:-1]]\n",
    "    errors_X = errors_lag.reshape(-1,1)\n",
    "\n",
    "    #No intercept model\n",
    "    error_mod = sm.OLS(errors, errors_X)\n",
    "    error_res = error_mod.fit()\n",
    "    est_rho = error_res.params[0]\n",
    "    \n",
    "    if verbose:\n",
    "        print(\"Actual phi = %s; estimated phi = %s\"%(phi_no_r,str(round(est_phi, 5))))\n",
    "        print(\"Actual rho = %s; estimated rho = %s\"%(rho_no_ac, str(round(est_rho, 5))))\n",
    "    \n",
    "    out = {\"phi_stim\": phi_stim,\n",
    "          'rho_stim': rho_stim,\n",
    "          'phi_est': phi_est\n",
    "          'rho_est': rho_est}\n",
    "    \n",
    "    return(out)"
   ]
  },
  {
   "cell_type": "code",
   "execution_count": null,
   "metadata": {},
   "outputs": [],
   "source": [
    "def sim_rec_ac(phi_stim, rho_stim, mu_stim=0, sigma_stim=1, verbose = False, prewhiten = True):\n",
    "    \n",
    "    out = get_phi_rho(phi_stim=phi_stim, rho_stim=rho_stim, mu_stim=mu_stim, sigma_stim=sigma_stim, verbose = verbose)\n",
    "    \n",
    "    if prewhiten:\n",
    "        y_pw = prewhiten(y)\n",
    "        avec_pw = get_phi_rho(x=x, y=y_pw, phi_stim=phi_stim, rho_stim=rho_stim, mu_stim=mu_stim, sigma_stim=sigma_stim, verbose = verbose)\n",
    "        out.update(avec_pw)\n",
    "    \n",
    "    return(out)"
   ]
  },
  {
   "cell_type": "markdown",
   "metadata": {},
   "source": [
    "Create predicted versus actual gradient/heat map\n",
    "\n",
    "For \n",
    "10 values of phi  \n",
    "10 values of rho  \n",
    "plot absolute diff between predicted and actual parameter estimate  \n",
    "separately for sans prewhitening and with prewhitening  "
   ]
  },
  {
   "cell_type": "code",
   "execution_count": null,
   "metadata": {},
   "outputs": [],
   "source": []
  }
 ],
 "metadata": {
  "hide_input": false,
  "kernelspec": {
   "display_name": "Python 3",
   "language": "python",
   "name": "python3"
  },
  "language_info": {
   "codemirror_mode": {
    "name": "ipython",
    "version": 3
   },
   "file_extension": ".py",
   "mimetype": "text/x-python",
   "name": "python",
   "nbconvert_exporter": "python",
   "pygments_lexer": "ipython3",
   "version": "3.5.3"
  },
  "toc": {
   "base_numbering": 1,
   "nav_menu": {},
   "number_sections": true,
   "sideBar": true,
   "skip_h1_title": false,
   "title_cell": "Table of Contents",
   "title_sidebar": "Contents",
   "toc_cell": false,
   "toc_position": {},
   "toc_section_display": true,
   "toc_window_display": false
  }
 },
 "nbformat": 4,
 "nbformat_minor": 2
}
