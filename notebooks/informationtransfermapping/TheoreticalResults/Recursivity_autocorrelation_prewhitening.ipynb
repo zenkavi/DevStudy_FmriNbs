{
 "cells": [
  {
   "cell_type": "code",
   "execution_count": 1,
   "metadata": {},
   "outputs": [],
   "source": [
    "import copy\n",
    "import sys\n",
    "sys.path.append('../utils/')\n",
    "import numpy as np\n",
    "import matplotlib.pyplot as plt\n",
    "% matplotlib inline\n",
    "import pandas as pd\n",
    "import seaborn as sns\n",
    "sns.set_style(\"white\")\n",
    "import scipy.stats as stats\n",
    "import statsmodels.api as sm\n",
    "from statsmodels.tsa.arima_model import ARMA"
   ]
  },
  {
   "cell_type": "code",
   "execution_count": 36,
   "metadata": {},
   "outputs": [
    {
     "data": {
      "text/plain": [
       "(0, 100)"
      ]
     },
     "execution_count": 36,
     "metadata": {},
     "output_type": "execute_result"
    },
    {
     "data": {
      "image/png": "[encoded data removed]",
      "text/plain": [
       "<Figure size 576x288 with 1 Axes>"
      ]
     },
     "metadata": {
      "needs_background": "light"
     },
     "output_type": "display_data"
    }
   ],
   "source": [
    "T = np.arange(0,500,1)\n",
    "tasktiming = np.zeros((1,len(T)))\n",
    "for t in range(len(T)):\n",
    "    if t%25>10 and t%25<21:\n",
    "        tasktiming[0,t] = 1.0\n",
    "plt.plot(T, tasktiming[0])\n",
    "#plt.ylim(top = 1.2, bottom = -0.1)\n",
    "plt.xlim(0,100)"
   ]
  },
  {
   "cell_type": "code",
   "execution_count": 2,
   "metadata": {},
   "outputs": [],
   "source": [
    "def make_y(x, phi, rho, mu=0, sigma=1):\n",
    "    y = y = np.zeros(len(x))\n",
    "    \n",
    "    noise = np.random.normal(mu, sigma, len(y))\n",
    "    \n",
    "    for i in range(len(y)):\n",
    "        if i == 0:\n",
    "            y[i] = copy.copy(x[i])\n",
    "        else:\n",
    "            noise[i] = rho*noise[i-1]+noise[i]\n",
    "            y[i] = phi*y[i-1]+(1-phi)*x[i]+noise[i]\n",
    "            \n",
    "    return(y)"
   ]
  },
  {
   "cell_type": "code",
   "execution_count": null,
   "metadata": {},
   "outputs": [],
   "source": [
    "def whiten(y, p=1, q=0):\n",
    "    \n",
    "    try:\n",
    "        mod1 = ARMA(y, order=(p,q))\n",
    "        res1 = mod1.fit()\n",
    "        out = {'y_pw': res1.resid,\n",
    "              'ar': res1.params[1]}\n",
    "    except:\n",
    "        out = {'y_pw': np.nan,\n",
    "              'ar': np.nan}\n",
    "    return(out)\n",
    "    "
   ]
  },
  {
   "cell_type": "code",
   "execution_count": 3,
   "metadata": {},
   "outputs": [],
   "source": [
    "def get_phi_rho(phi_stim, rho_stim, x=None, y=None, Tmax = 500, mu_stim=0, sigma_stim=1, verbose = True, ar_correction = True):\n",
    "    \n",
    "    if x is None:\n",
    "        T = np.arange(0,Tmax,1)\n",
    "        tasktiming = np.zeros((1,len(T)))\n",
    "        for t in range(len(T)):\n",
    "            if t%25>10 and t%25<21:\n",
    "                tasktiming[0,t] = 1.0\n",
    "        x = copy.copy(tasktiming[0])\n",
    "    \n",
    "    if y is None:\n",
    "        y = make_y(x, rho=rho_stim, phi = phi_stim)\n",
    "    \n",
    "    X = x.reshape(-1,1)\n",
    "    ## Constant/GLM:\n",
    "    #X = sm.add_constant(X)\n",
    "    y_lag = np.r_[0, y[:-1]]\n",
    "    y_lag = y_lag.reshape(-1,1)\n",
    "    X = np.concatenate((X, y_lag), 1)\n",
    "\n",
    "    #No intercept model\n",
    "    mod = sm.OLS(y, X)\n",
    "    res = mod.fit()\n",
    "    est_phi = res.params[1]\n",
    "    \n",
    "    errors = res.resid\n",
    "\n",
    "    errors_lag = np.r_[0, errors[:-1]]\n",
    "    errors_X = errors_lag.reshape(-1,1)\n",
    "\n",
    "    #No intercept model\n",
    "    error_mod = sm.OLS(errors, errors_X)\n",
    "    error_res = error_mod.fit()\n",
    "    est_rho = error_res.params[0]\n",
    "    \n",
    "    if verbose:\n",
    "        print(\"Actual phi = %s; estimated phi = %s\"%(phi_stim,str(round(est_phi, 5))))\n",
    "        print(\"Actual rho = %s; estimated rho = %s\"%(rho_stim, str(round(est_rho, 5))))\n",
    "    \n",
    "    out = {\"phi_stim\": phi_stim,\n",
    "          'rho_stim': rho_stim,\n",
    "          'phi_est': est_phi,\n",
    "          'rho_est': est_rho}\n",
    "    \n",
    "    if ar_correction:\n",
    "        arc_X = copy.copy(y_lag)\n",
    "        y_lag2 = np.r_[0, np.r_[0, y[:-1]][:-1]]\n",
    "        y_lag2 = y_lag2.reshape(-1,1)\n",
    "        arc_X = np.concatenate((arc_X, y_lag2), 1)\n",
    "        arc_X = np.concatenate((arc_X, x.reshape(-1,1)), 1)\n",
    "        x_lag = np.r_[0, x[:-1]]\n",
    "        x_lag = x_lag.reshape(-1,1)\n",
    "        arc_X = np.concatenate((arc_X, x_lag), 1)\n",
    "    \n",
    "        arc_mod = sm.OLS(y, arc_X)\n",
    "        arc_res = arc_mod.fit()\n",
    "        \n",
    "        est_phi_arc = 1 - arc_res.params[2]\n",
    "        \n",
    "        out.update({\"phi_est_arc\": est_phi_arc})\n",
    "        \n",
    "        if verbose:\n",
    "            print(\"Actual phi = %s; estimated phi = %s\"%(phi_stim,str(round(est_phi_arc, 5))))\n",
    "    \n",
    "    return(out, y)"
   ]
  },
  {
   "cell_type": "code",
   "execution_count": null,
   "metadata": {},
   "outputs": [],
   "source": [
    "get_phi_rho(0.5,0.5)"
   ]
  },
  {
   "cell_type": "code",
   "execution_count": 4,
   "metadata": {},
   "outputs": [],
   "source": [
    "def sim_rec_ac(phi_stim, rho_stim, x = None, y = None, mu_stim=0, sigma_stim=1, verbose = False, prewhiten = False, ar_correction=True):\n",
    "        \n",
    "    all_out = get_phi_rho(phi_stim=phi_stim, rho_stim=rho_stim, x=x, y=y, mu_stim=mu_stim, sigma_stim=sigma_stim, verbose = verbose, ar_correction=ar_correction)\n",
    "    \n",
    "    out = all_out[0]\n",
    "    \n",
    "    y = all_out[1]\n",
    "    \n",
    "    if prewhiten:\n",
    "        if verbose:\n",
    "            print(\"Prewhitening...\")\n",
    "            \n",
    "        try:\n",
    "            white_out = whiten(y)\n",
    "            y_pw = white_out['y_pw']\n",
    "            out.update({'ar': white_out['ar']})\n",
    "            avec_pw = get_phi_rho(x=x, y=y_pw, phi_stim=phi_stim, rho_stim=rho_stim, mu_stim=mu_stim, sigma_stim=sigma_stim, verbose = verbose, ar_correction=False)[0]\n",
    "            pw_adds = {'phi_est_pw': avec_pw['phi_est'],\n",
    "                      'rho_est_pw': avec_pw['rho_est']}\n",
    "        except:\n",
    "            pw_adds = {'phi_est_pw': np.nan,\n",
    "                       'rho_est_pw': np.nan}\n",
    "        \n",
    "        out.update(pw_adds)\n",
    "    \n",
    "    return(out)"
   ]
  },
  {
   "cell_type": "markdown",
   "metadata": {},
   "source": [
    "Create predicted versus actual gradient/heat map\n",
    "\n",
    "For \n",
    "10 values of phi  \n",
    "10 values of rho  \n",
    "plot absolute diff between predicted and actual parameter estimate  \n",
    "separately for sans prewhitening and with prewhitening  "
   ]
  },
  {
   "cell_type": "code",
   "execution_count": 5,
   "metadata": {},
   "outputs": [],
   "source": [
    "phi_stims=np.arange(0,1.1,.1)\n",
    "rho_stims=np.arange(0,1.1,.1)\n",
    "\n",
    "out = {}\n",
    "\n",
    "for p in phi_stims:\n",
    "    for r in rho_stims:\n",
    "        sim_id = \"phi_%s_rho_%s\"%(p, r)\n",
    "        out[sim_id] = sim_rec_ac(p, r)"
   ]
  },
  {
   "cell_type": "code",
   "execution_count": 7,
   "metadata": {},
   "outputs": [],
   "source": [
    "out_df = pd.DataFrame(out).T"
   ]
  },
  {
   "cell_type": "code",
   "execution_count": 8,
   "metadata": {},
   "outputs": [],
   "source": [
    "out_df.reset_index(drop=True,inplace=True)"
   ]
  },
  {
   "cell_type": "code",
   "execution_count": 9,
   "metadata": {},
   "outputs": [],
   "source": [
    "out_df['phi_stim'] = round(out_df['phi_stim'],1)\n",
    "out_df['rho_stim'] = round(out_df['rho_stim'],1)\n",
    "\n",
    "out_df['phi_pct_diff'] = abs(out_df['phi_est'] - out_df['phi_stim'])/(out_df['phi_stim']+0.0000000000000001)\n",
    "out_df['phi_pct_diff_arc'] = abs(out_df['phi_est_arc'] - out_df['phi_stim'])/(out_df['phi_stim']+0.0000000000000001)\n"
   ]
  },
  {
   "cell_type": "code",
   "execution_count": 10,
   "metadata": {},
   "outputs": [
    {
     "name": "stderr",
     "output_type": "stream",
     "text": [
      "/home/groups/russpold/software/miniconda/envs/fmri/lib/python3.5/site-packages/matplotlib/figure.py:2369: UserWarning: This figure includes Axes that are not compatible with tight_layout, so results might be incorrect.\n",
      "  warnings.warn(\"This figure includes Axes that are not compatible \"\n"
     ]
    },
    {
     "data": {
      "image/png": "[encoded data removed]",
      "text/plain": [
       "<Figure size 576x288 with 3 Axes>"
      ]
     },
     "metadata": {
      "needs_background": "light"
     },
     "output_type": "display_data"
    }
   ],
   "source": [
    "plt.rcParams[\"figure.figsize\"][0] = 8\n",
    "plt.rcParams[\"figure.figsize\"][1] = 4\n",
    "fig, axn = plt.subplots(1, 2, sharex=True, sharey=True)\n",
    "cbar_ax = fig.add_axes([.91, .3, .03, .4])\n",
    "vals = ['phi_pct_diff','phi_pct_diff_arc']\n",
    "ax_titles = ['Estimation of Phi', 'Estimation of Phi (ARC)']\n",
    "for i, ax in enumerate(axn.flat):\n",
    "    df = out_df.pivot(index='phi_stim',columns='rho_stim',values='%s'%(vals[i]))\n",
    "    sns.heatmap(df, ax=ax,\n",
    "                cbar=i == 0,\n",
    "                vmin=0, vmax=1,\n",
    "                xticklabels=False, yticklabels=True,\n",
    "                cbar_ax=None if i else cbar_ax)\n",
    "    ax.set_title('%s'%(ax_titles[i]))\n",
    "    ax.set_ylabel('')    \n",
    "    ax.set_xlabel('')\n",
    "    ax.invert_yaxis()\n",
    "\n",
    "fig.suptitle(\"Percentage difference between simulated and estimated parameter\", fontsize=14, y = 1.1)\n",
    "fig.text(-0.04, 0.5, 'Recursiveness (phi)', va='center', rotation='vertical', size=13)\n",
    "fig.text(0.5, -0.04, 'Autocorrelation (rho)', ha='center', size = 13)\n",
    "fig.tight_layout(rect=[0, 0, .9, 1])\n"
   ]
  },
  {
   "cell_type": "code",
   "execution_count": 31,
   "metadata": {},
   "outputs": [],
   "source": [
    "def make_correlogram(y, max_lag):\n",
    "    for i in range(2,max_lag):\n",
    "        #y_lag = np.roll(y, -i)\n",
    "        y_lag = np.roll(y, i)\n",
    "        #y_lag = y_lag[:-i]\n",
    "        y_lag[:i] = 0\n",
    "        y_cur = y[:len(y_lag)]\n",
    "        ac = (np.cov(y_cur, y_lag)[0][1]) / (np.var(y_cur))\n",
    "        print(\"s = %s, AC = %s\"%(str(i), str(ac)))"
   ]
  },
  {
   "cell_type": "code",
   "execution_count": 40,
   "metadata": {},
   "outputs": [
    {
     "name": "stdout",
     "output_type": "stream",
     "text": [
      "s = 2, AC = 0.9702397034278211\n",
      "s = 3, AC = 0.952511099247532\n",
      "s = 4, AC = 0.9354360978844465\n",
      "s = 5, AC = 0.9178131210923319\n",
      "s = 6, AC = 0.898870406337761\n",
      "s = 7, AC = 0.8800593585144488\n",
      "s = 8, AC = 0.8593642799611753\n",
      "s = 9, AC = 0.8377472033135286\n"
     ]
    }
   ],
   "source": [
    "x = copy.copy(tasktiming[0])\n",
    "y = make_y(x, 1, 0)\n",
    "make_correlogram(y, 10)"
   ]
  },
  {
   "cell_type": "code",
   "execution_count": 41,
   "metadata": {},
   "outputs": [
    {
     "name": "stdout",
     "output_type": "stream",
     "text": [
      "s = 2, AC = 0.2758945430587769\n",
      "s = 3, AC = 0.12113914242392318\n",
      "s = 4, AC = 0.09775485832093248\n",
      "s = 5, AC = 0.08209861562021274\n",
      "s = 6, AC = 0.02230529417696815\n",
      "s = 7, AC = 0.009330226150367328\n",
      "s = 8, AC = -0.027083704767734515\n",
      "s = 9, AC = -0.023345447192153933\n"
     ]
    }
   ],
   "source": [
    "y = make_y(x, .1, 0.5)\n",
    "make_correlogram(y, 10)"
   ]
  },
  {
   "cell_type": "code",
   "execution_count": null,
   "metadata": {},
   "outputs": [],
   "source": []
  }
 ],
 "metadata": {
  "hide_input": false,
  "kernelspec": {
   "display_name": "Python 3",
   "language": "python",
   "name": "python3"
  },
  "language_info": {
   "codemirror_mode": {
    "name": "ipython",
    "version": 3
   },
   "file_extension": ".py",
   "mimetype": "text/x-python",
   "name": "python",
   "nbconvert_exporter": "python",
   "pygments_lexer": "ipython3",
   "version": "3.5.3"
  },
  "toc": {
   "base_numbering": 1,
   "nav_menu": {},
   "number_sections": true,
   "sideBar": true,
   "skip_h1_title": false,
   "title_cell": "Table of Contents",
   "title_sidebar": "Contents",
   "toc_cell": false,
   "toc_position": {},
   "toc_section_display": true,
   "toc_window_display": false
  }
 },
 "nbformat": 4,
 "nbformat_minor": 2
}
