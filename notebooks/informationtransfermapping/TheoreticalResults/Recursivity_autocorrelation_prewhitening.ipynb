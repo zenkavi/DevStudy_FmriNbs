{
 "cells": [
  {
   "cell_type": "code",
   "execution_count": 1,
   "metadata": {},
   "outputs": [],
   "source": [
    "import copy\n",
    "import sys\n",
    "sys.path.append('../utils/')\n",
    "import numpy as np\n",
    "import matplotlib.pyplot as plt\n",
    "% matplotlib inline\n",
    "import pandas as pd\n",
    "import seaborn as sns\n",
    "sns.set_style(\"white\")\n",
    "import scipy.stats as stats\n",
    "import statsmodels.api as sm\n",
    "from statsmodels.tsa.arima_model import ARMA"
   ]
  },
  {
   "cell_type": "code",
   "execution_count": 2,
   "metadata": {},
   "outputs": [
    {
     "data": {
      "text/plain": [
       "(0, 100)"
      ]
     },
     "execution_count": 2,
     "metadata": {},
     "output_type": "execute_result"
    },
    {
     "data": {
      "image/png": "[encoded data removed]",
      "text/plain": [
       "<Figure size 432x288 with 1 Axes>"
      ]
     },
     "metadata": {
      "needs_background": "light"
     },
     "output_type": "display_data"
    }
   ],
   "source": [
    "T = np.arange(0,500,1)\n",
    "tasktiming = np.zeros((1,len(T)))\n",
    "for t in range(len(T)):\n",
    "    if t%25>10 and t%25<21:\n",
    "        tasktiming[0,t] = 1.0\n",
    "plt.plot(T, tasktiming[0])\n",
    "#plt.ylim(top = 1.2, bottom = -0.1)\n",
    "plt.xlim(0,100)"
   ]
  },
  {
   "cell_type": "code",
   "execution_count": 3,
   "metadata": {},
   "outputs": [],
   "source": [
    "def make_y(x, phi, rho, mu=0, sigma=1):\n",
    "    y = y = np.zeros(len(x))\n",
    "    \n",
    "    noise = np.random.normal(mu, sigma, len(y))\n",
    "    \n",
    "    for i in range(len(y)):\n",
    "        if i == 0:\n",
    "            y[i] = copy.copy(x[i])\n",
    "        else:\n",
    "            noise[i] = rho*noise[i-1]+noise[i]\n",
    "            y[i] = phi*y[i-1]+(1-phi)*x[i]+noise[i]\n",
    "            \n",
    "    return(y)"
   ]
  },
  {
   "cell_type": "code",
   "execution_count": 4,
   "metadata": {},
   "outputs": [],
   "source": [
    "def whiten(y, p=1, q=0):\n",
    "    \n",
    "    try:\n",
    "        mod1 = ARMA(y, order=(p,q))\n",
    "        res1 = mod1.fit()\n",
    "        out = {'y_pw': res1.resid,\n",
    "              'ar': res1.params[1]}\n",
    "    except:\n",
    "        out = {'y_pw': np.nan,\n",
    "              'ar': np.nan}\n",
    "    return(out)\n",
    "    "
   ]
  },
  {
   "cell_type": "code",
   "execution_count": 5,
   "metadata": {},
   "outputs": [],
   "source": [
    "def get_phi_rho(phi_stim, rho_stim, x=None, y=None, Tmax = 500, mu_stim=0, sigma_stim=1, verbose = True):\n",
    "    \n",
    "    if x is None:\n",
    "        T = np.arange(0,Tmax,1)\n",
    "        tasktiming = np.zeros((1,len(T)))\n",
    "        for t in range(len(T)):\n",
    "            if t%25>10 and t%25<21:\n",
    "                tasktiming[0,t] = 1.0\n",
    "        x = copy.copy(tasktiming[0])\n",
    "    \n",
    "    if y is None:\n",
    "        y = make_y(x, rho=rho_stim, phi = phi_stim)\n",
    "    \n",
    "    X = x.reshape(-1,1)\n",
    "    ## Constant/GLM:\n",
    "    #X = sm.add_constant(X)\n",
    "    y_lag = np.r_[0, y[:-1]]\n",
    "    y_lag = y_lag.reshape(-1,1)\n",
    "    X = np.concatenate((X, y_lag), 1)\n",
    "\n",
    "    #No intercept model\n",
    "    mod = sm.OLS(y, X)\n",
    "    res = mod.fit()\n",
    "    est_phi = res.params[1]\n",
    "    \n",
    "    errors = res.resid\n",
    "\n",
    "    errors_lag = np.r_[0, errors[:-1]]\n",
    "    errors_X = errors_lag.reshape(-1,1)\n",
    "\n",
    "    #No intercept model\n",
    "    error_mod = sm.OLS(errors, errors_X)\n",
    "    error_res = error_mod.fit()\n",
    "    est_rho = error_res.params[0]\n",
    "    \n",
    "    if verbose:\n",
    "        print(\"Actual phi = %s; estimated phi = %s\"%(phi_stim,str(round(est_phi, 5))))\n",
    "        print(\"Actual rho = %s; estimated rho = %s\"%(rho_stim, str(round(est_rho, 5))))\n",
    "    \n",
    "    out = {\"phi_stim\": phi_stim,\n",
    "          'rho_stim': rho_stim,\n",
    "          'phi_est': est_phi,\n",
    "          'rho_est': est_rho}\n",
    "    \n",
    "    return(out, y)"
   ]
  },
  {
   "cell_type": "code",
   "execution_count": 6,
   "metadata": {},
   "outputs": [],
   "source": [
    "def sim_rec_ac(phi_stim, rho_stim, x = None, y = None, mu_stim=0, sigma_stim=1, verbose = False, prewhiten = True):\n",
    "        \n",
    "    all_out = get_phi_rho(phi_stim=phi_stim, rho_stim=rho_stim, x=x, y=y, mu_stim=mu_stim, sigma_stim=sigma_stim, verbose = verbose)\n",
    "    \n",
    "    out = all_out[0]\n",
    "    \n",
    "    y = all_out[1]\n",
    "    \n",
    "    if prewhiten:\n",
    "        if verbose:\n",
    "            print(\"Prewhitening...\")\n",
    "            \n",
    "        try:\n",
    "            white_out = whiten(y)\n",
    "            y_pw = white_out['y_pw']\n",
    "            out.update({'ar': white_out['ar']})\n",
    "            avec_pw = get_phi_rho(x=x, y=y_pw, phi_stim=phi_stim, rho_stim=rho_stim, mu_stim=mu_stim, sigma_stim=sigma_stim, verbose = verbose)[0]\n",
    "            pw_adds = {'phi_est_pw': avec_pw['phi_est'],\n",
    "                      'rho_est_pw': avec_pw['rho_est']}\n",
    "        except:\n",
    "            pw_adds = {'phi_est_pw': np.nan,\n",
    "                       'rho_est_pw': np.nan}\n",
    "        \n",
    "        out.update(pw_adds)\n",
    "    \n",
    "    return(out)"
   ]
  },
  {
   "cell_type": "markdown",
   "metadata": {},
   "source": [
    "Create predicted versus actual gradient/heat map\n",
    "\n",
    "For \n",
    "10 values of phi  \n",
    "10 values of rho  \n",
    "plot absolute diff between predicted and actual parameter estimate  \n",
    "separately for sans prewhitening and with prewhitening  "
   ]
  },
  {
   "cell_type": "code",
   "execution_count": 7,
   "metadata": {},
   "outputs": [
    {
     "name": "stderr",
     "output_type": "stream",
     "text": [
      "/home/groups/russpold/software/miniconda/envs/fmri/lib/python3.5/site-packages/statsmodels/base/model.py:488: HessianInversionWarning: Inverting hessian failed, no bse or cov_params available\n",
      "  'available', HessianInversionWarning)\n",
      "/home/groups/russpold/software/miniconda/envs/fmri/lib/python3.5/site-packages/statsmodels/tsa/kalmanf/kalmanfilter.py:649: RuntimeWarning: divide by zero encountered in true_divide\n",
      "  R_mat, T_mat)\n",
      "/home/groups/russpold/software/miniconda/envs/fmri/lib/python3.5/site-packages/statsmodels/tsa/tsatools.py:606: RuntimeWarning: overflow encountered in exp\n",
      "  newparams = ((1-np.exp(-params))/\n",
      "/home/groups/russpold/software/miniconda/envs/fmri/lib/python3.5/site-packages/statsmodels/tsa/tsatools.py:607: RuntimeWarning: overflow encountered in exp\n",
      "  (1+np.exp(-params))).copy()\n",
      "/home/groups/russpold/software/miniconda/envs/fmri/lib/python3.5/site-packages/statsmodels/tsa/tsatools.py:607: RuntimeWarning: invalid value encountered in true_divide\n",
      "  (1+np.exp(-params))).copy()\n",
      "/home/groups/russpold/software/miniconda/envs/fmri/lib/python3.5/site-packages/statsmodels/tsa/tsatools.py:608: RuntimeWarning: overflow encountered in exp\n",
      "  tmp = ((1-np.exp(-params))/\n",
      "/home/groups/russpold/software/miniconda/envs/fmri/lib/python3.5/site-packages/statsmodels/tsa/tsatools.py:609: RuntimeWarning: overflow encountered in exp\n",
      "  (1+np.exp(-params))).copy()\n",
      "/home/groups/russpold/software/miniconda/envs/fmri/lib/python3.5/site-packages/statsmodels/tsa/tsatools.py:609: RuntimeWarning: invalid value encountered in true_divide\n",
      "  (1+np.exp(-params))).copy()\n",
      "/home/groups/russpold/software/miniconda/envs/fmri/lib/python3.5/site-packages/statsmodels/base/model.py:488: HessianInversionWarning: Inverting hessian failed, no bse or cov_params available\n",
      "  'available', HessianInversionWarning)\n"
     ]
    }
   ],
   "source": [
    "phi_stims=np.arange(0,1.1,.1)\n",
    "rho_stims=np.arange(0,1.1,.1)\n",
    "\n",
    "out = {}\n",
    "\n",
    "for p in phi_stims:\n",
    "    for r in rho_stims:\n",
    "        sim_id = \"phi_%s_rho_%s\"%(p, r)\n",
    "        out[sim_id] = sim_rec_ac(p, r)"
   ]
  },
  {
   "cell_type": "code",
   "execution_count": 8,
   "metadata": {},
   "outputs": [],
   "source": [
    "out_df = pd.DataFrame(out).T"
   ]
  },
  {
   "cell_type": "code",
   "execution_count": 9,
   "metadata": {},
   "outputs": [],
   "source": [
    "out_df.reset_index(drop=True,inplace=True)"
   ]
  },
  {
   "cell_type": "code",
   "execution_count": 10,
   "metadata": {},
   "outputs": [],
   "source": [
    "out_df['phi_stim'] = round(out_df['phi_stim'],1)\n",
    "out_df['rho_stim'] = round(out_df['rho_stim'],1)\n",
    "out_df['phi_abs_diff'] = abs(out_df['phi_est'] - out_df['phi_stim'])\n",
    "out_df['rho_abs_diff'] = abs(out_df['rho_est'] - out_df['rho_stim'])\n",
    "out_df['phi_abs_diff_pw'] = abs(out_df['phi_est_pw'] - out_df['phi_stim'])\n",
    "out_df['rho_abs_diff_pw'] = abs(out_df['rho_est_pw'] - out_df['rho_stim'])"
   ]
  },
  {
   "cell_type": "code",
   "execution_count": 33,
   "metadata": {},
   "outputs": [
    {
     "name": "stderr",
     "output_type": "stream",
     "text": [
      "/home/groups/russpold/software/miniconda/envs/fmri/lib/python3.5/site-packages/matplotlib/figure.py:2369: UserWarning: This figure includes Axes that are not compatible with tight_layout, so results might be incorrect.\n",
      "  warnings.warn(\"This figure includes Axes that are not compatible \"\n"
     ]
    },
    {
     "data": {
      "image/png": "[encoded data removed]",
      "text/plain": [
       "<Figure size 432x288 with 5 Axes>"
      ]
     },
     "metadata": {
      "needs_background": "light"
     },
     "output_type": "display_data"
    }
   ],
   "source": [
    "fig, axn = plt.subplots(2, 2, sharex=True, sharey=True)\n",
    "cbar_ax = fig.add_axes([.91, .3, .03, .4])\n",
    "vals = ['phi_abs_diff', 'rho_abs_diff', 'phi_abs_diff_pw', 'rho_abs_diff_pw']\n",
    "ax_titles = ['']\n",
    "for i, ax in enumerate(axn.flat):\n",
    "    df = out_df.pivot(index='phi_stim',columns='rho_stim',values='%s'%(vals[i]))\n",
    "    sns.heatmap(df, ax=ax,\n",
    "                cbar=i == 0,\n",
    "                vmin=0, vmax=1,\n",
    "                xticklabels=False, yticklabels=False,\n",
    "                cbar_ax=None if i else cbar_ax)\n",
    "    ax.set_title('%s'%(vals[i]))\n",
    "    ax.set_ylabel('')    \n",
    "    ax.set_xlabel('')\n",
    "    ax.invert_yaxis()\n",
    "\n",
    "fig.text(-0.04, 0.5, 'Recursiveness', va='center', rotation='vertical', size=13)\n",
    "fig.text(0.5, -0.04, 'Autocorrelation', ha='center', size = 13)\n",
    "fig.tight_layout(rect=[0, 0, .9, 1])"
   ]
  },
  {
   "cell_type": "code",
   "execution_count": null,
   "metadata": {},
   "outputs": [],
   "source": []
  }
 ],
 "metadata": {
  "hide_input": false,
  "kernelspec": {
   "display_name": "Python 3",
   "language": "python",
   "name": "python3"
  },
  "language_info": {
   "codemirror_mode": {
    "name": "ipython",
    "version": 3
   },
   "file_extension": ".py",
   "mimetype": "text/x-python",
   "name": "python",
   "nbconvert_exporter": "python",
   "pygments_lexer": "ipython3",
   "version": "3.5.3"
  },
  "toc": {
   "base_numbering": 1,
   "nav_menu": {},
   "number_sections": true,
   "sideBar": true,
   "skip_h1_title": false,
   "title_cell": "Table of Contents",
   "title_sidebar": "Contents",
   "toc_cell": false,
   "toc_position": {},
   "toc_section_display": true,
   "toc_window_display": false
  }
 },
 "nbformat": 4,
 "nbformat_minor": 2
}
