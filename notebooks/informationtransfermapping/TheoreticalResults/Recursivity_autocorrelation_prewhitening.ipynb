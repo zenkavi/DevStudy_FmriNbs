{
 "cells": [
  {
   "cell_type": "markdown",
   "metadata": {},
   "source": [
    "# Effects of recursivity and autocorrelated noise in timeseries analysis\n",
    "\n",
    "This notebook simulates data to understand the effects of recursivity and autocorrelated noise on estimating parameters in timeseries analyses.\n",
    "\n",
    "Recursivity is defined as the extent to which each time point in the timeseries **data** depends on previous timepoints.  \n",
    "\n",
    "Autocorrelated noise is the extent to which the residuals/**error** from the predictions of a linear model depend on residuals from previous time points. This violates the assumption of normally distributed IID errors in the linear regression framework.  \n",
    "\n",
    "In this notebook we generate data that mimmicks the time course of a single voxel in response to a block design task. Two parameters control the amount of recursivity in the data and autocorrelation in the residuals. We recover the recursivity parameter on simulated data both with and without accounting for autocorrelated noise. The \"task regressor\" coefficient is defined with respect to the recursivity parameter so this exercise gives us an idea of the impact of not accounting for autocorrelated noise in GLMs with real data.  \n",
    "\n",
    "First we set up our environment."
   ]
  },
  {
   "cell_type": "code",
   "execution_count": 1,
   "metadata": {},
   "outputs": [],
   "source": [
    "import copy\n",
    "import sys\n",
    "sys.path.append('../utils/')\n",
    "import numpy as np\n",
    "import matplotlib.pyplot as plt\n",
    "% matplotlib inline\n",
    "import pandas as pd\n",
    "import seaborn as sns\n",
    "sns.set_style(\"white\")\n",
    "import scipy.stats as stats\n",
    "import statsmodels.api as sm\n",
    "from statsmodels.tsa.arima_model import ARMA"
   ]
  },
  {
   "cell_type": "markdown",
   "metadata": {},
   "source": [
    "Our task is a block design that goes on for 500 ms and comes on for 10 ms every 15 ms after the first block at 11 ms. In total there are 20 events/blocks. Below is the first 100 ms."
   ]
  },
  {
   "cell_type": "code",
   "execution_count": 2,
   "metadata": {},
   "outputs": [
    {
     "data": {
      "text/plain": [
       "(0, 100)"
      ]
     },
     "execution_count": 2,
     "metadata": {},
     "output_type": "execute_result"
    },
    {
     "data": {
      "image/png": "[encoded data removed]",
      "text/plain": [
       "<Figure size 432x288 with 1 Axes>"
      ]
     },
     "metadata": {
      "needs_background": "light"
     },
     "output_type": "display_data"
    }
   ],
   "source": [
    "T = np.arange(0,500,1)\n",
    "tasktiming = np.zeros((1,len(T)))\n",
    "for t in range(len(T)):\n",
    "    if t%25>10 and t%25<21:\n",
    "        tasktiming[0,t] = 1.0\n",
    "plt.plot(T, tasktiming[0])\n",
    "#plt.ylim(top = 1.2, bottom = -0.1)\n",
    "plt.xlim(0,100)"
   ]
  },
  {
   "cell_type": "markdown",
   "metadata": {},
   "source": [
    "We define the data generating process in `make_y` as:\n",
    "\n",
    "\\begin{equation*}\n",
    "y(t) = \\phi y(t-1) + (1-\\phi)x(t) + \\epsilon(t)\n",
    "\\end{equation*}\n",
    "\n",
    "where $\\phi$ is the recursivity parameter determining the effect of the previous time point on the current time point.  \n",
    "\n",
    "$x(t)$ is the task regressor where its effect on the data/timeseries is linked (for exercise purposes, albeit unrealistically for real data) to the recursivity parameter.  \n",
    "\n",
    "$\\epsilon$ is the autocorrelated error defined as \n",
    "\n",
    "\\begin{equation*}\n",
    "\\epsilon(t) = \\rho \\epsilon(t-1) + v(t)\n",
    "\\end{equation*}\n",
    "\n",
    "where $\\rho$ determines the degree to which the error term from the previous time point affects the error terms in the current time point. $v(t)$ is IID and in line with regression assumptions.\n",
    "\n",
    "## Accounting for autocorrelated noise\n",
    "\n",
    "This is done by eliminating the effect of $\\epsilon$ in the estimation of $\\phi$. We start by substituting the error term in the original equation \n",
    "\n",
    "\\begin{equation*}\n",
    "y(t) = \\phi y(t-1) + (1-\\phi)x(t) + \\rho \\epsilon(t-1) + v(t)\n",
    "\\end{equation*}\n",
    "\n",
    "where\n",
    "\n",
    "\\begin{equation*}\n",
    "\\epsilon(t-1) = y(t-1) - \\phi y(t-2) - (1-\\phi)x(t-1)\n",
    "\\end{equation*}\n",
    "\n",
    "so to remove $\\epsilon$ from the estimation of $y(t)$ where the only error terms left the IID $v(t)$ we rewrite the equation as:  \n",
    "\n",
    "\\begin{equation*}\n",
    "y(t) = \\phi y(t-1) + (1-\\phi)x(t) + \\rho (y(t-1) - \\phi y(t-2) - (1-\\phi)x(t-1)) + v(t)\n",
    "\\end{equation*}\n",
    "\n",
    "which can be rearranged as:  \n",
    "\\begin{equation*}\n",
    "y(t) = \\phi y(t-1) + (1-\\phi)x(t) + \\rho y(t-1) - \\rho\\phi y(t-2) - \\rho(1-\\phi)x(t-1) + v(t)  \n",
    "\\end{equation*}\n",
    "\n",
    "\n",
    "\\begin{equation*}\n",
    "y(t) = (\\phi+\\rho) y(t-1)  - \\rho\\phi y(t-2) + (1-\\phi)x(t) - \\rho(1-\\phi)x(t-1) + v(t)\n",
    "\\end{equation*}\n",
    "\n",
    "where $\\beta_3 = (1-\\phi)$ would yield a un-/less biased estimate of $\\phi$\n",
    "\n",
    "Note: The other coefficients from this model could/should also yield better estimates of $\\phi$ but since we don't know the true $\\rho$ in the estimation step (as opposed to the simulation step) and instead estimate it as $\\hat{\\rho}$ using the residuals from the uncorrected model using the other coefficients to estimate a corrected $\\phi$ would depend on the how well $\\hat{\\rho}$ is estimated.\n"
   ]
  },
  {
   "cell_type": "markdown",
   "metadata": {},
   "source": [
    "## Prewhitening\n",
    "\n",
    "Translating the steps in [this blog post by Mandy Mejia](https://mandymejia.com/2016/11/06/how-to-efficiently-prewhiten-fmri-timeseries-the-right-way/) to estimate a voxelwise prewhitening matrix and rerun regression\n",
    "\n",
    "### Run GLM without prewhitening\n",
    "\n"
   ]
  },
  {
   "cell_type": "code",
   "execution_count": 4,
   "metadata": {},
   "outputs": [],
   "source": [
    "def make_y(x, phi, rho, mu=0, sigma=1):\n",
    "    y = y = np.zeros(len(x))\n",
    "    \n",
    "    noise = np.random.normal(mu, sigma, len(y))\n",
    "    \n",
    "    for i in range(len(y)):\n",
    "        if i == 0:\n",
    "            y[i] = copy.copy(x[i])\n",
    "        else:\n",
    "            noise[i] = rho*noise[i-1]+noise[i]\n",
    "            y[i] = phi*y[i-1]+(1-phi)*x[i]+noise[i]\n",
    "            \n",
    "    return(y)"
   ]
  },
  {
   "cell_type": "code",
   "execution_count": 18,
   "metadata": {},
   "outputs": [],
   "source": [
    "x = copy.copy(tasktiming[0])\n",
    "y = make_y(x, .5, .7)\n",
    "\n",
    "X = x.reshape(-1,1)\n",
    "## Constant/GLM:\n",
    "#X = sm.add_constant(X)\n",
    "y_lag = np.r_[0, y[:-1]]\n",
    "y_lag = y_lag.reshape(-1,1)\n",
    "X = np.concatenate((X, y_lag), 1)\n",
    "\n",
    "#No intercept model\n",
    "mod = sm.OLS(y, X)\n",
    "res = mod.fit()\n",
    "est_phi = res.params[1]"
   ]
  },
  {
   "cell_type": "markdown",
   "metadata": {},
   "source": [
    "### Run AR(p) on residuals of GLM\n",
    "\n"
   ]
  },
  {
   "cell_type": "code",
   "execution_count": 19,
   "metadata": {},
   "outputs": [],
   "source": [
    "errors = res.resid\n",
    "#Running AR(1) since that is the data generating process\n",
    "mod1 = ARMA(errors, order=(1,0))\n",
    "res1 = mod1.fit()"
   ]
  },
  {
   "cell_type": "markdown",
   "metadata": {},
   "source": [
    "### Calculate A using p coefficients\n",
    "\n"
   ]
  },
  {
   "cell_type": "code",
   "execution_count": 20,
   "metadata": {},
   "outputs": [
    {
     "data": {
      "text/plain": [
       "array([ 1.        , -0.24987823])"
      ]
     },
     "execution_count": 20,
     "metadata": {},
     "output_type": "execute_result"
    }
   ],
   "source": [
    "first_col = np.insert(-res1.params[1:], 0, 1)\n",
    "first_col"
   ]
  },
  {
   "cell_type": "code",
   "execution_count": 21,
   "metadata": {},
   "outputs": [],
   "source": [
    "for i in range(len(y)-1):\n",
    "    if i == 0:\n",
    "        cur_col = copy.copy(first_col)\n",
    "        cur_col = np.insert(cur_col, 2, np.zeros(len(y)-len(res1.params)))\n",
    "        A = cur_col.reshape(-1,1)\n",
    "    else:\n",
    "        cur_col = A[:,i]\n",
    "    col_lag = np.r_[0, cur_col[:-1]]\n",
    "    col_lag = col_lag.reshape(-1,1)\n",
    "    A = np.concatenate((A, col_lag), 1)"
   ]
  },
  {
   "cell_type": "code",
   "execution_count": 22,
   "metadata": {},
   "outputs": [
    {
     "data": {
      "text/plain": [
       "array([[ 1.        ,  0.        ,  0.        , ...,  0.        ,\n",
       "         0.        ,  0.        ],\n",
       "       [-0.24987823,  1.        ,  0.        , ...,  0.        ,\n",
       "         0.        ,  0.        ],\n",
       "       [ 0.        , -0.24987823,  1.        , ...,  0.        ,\n",
       "         0.        ,  0.        ],\n",
       "       ...,\n",
       "       [ 0.        ,  0.        ,  0.        , ...,  1.        ,\n",
       "         0.        ,  0.        ],\n",
       "       [ 0.        ,  0.        ,  0.        , ..., -0.24987823,\n",
       "         1.        ,  0.        ],\n",
       "       [ 0.        ,  0.        ,  0.        , ...,  0.        ,\n",
       "        -0.24987823,  1.        ]])"
      ]
     },
     "execution_count": 22,
     "metadata": {},
     "output_type": "execute_result"
    }
   ],
   "source": [
    "A"
   ]
  },
  {
   "cell_type": "markdown",
   "metadata": {},
   "source": [
    "### Calculate $V^{-1}$\n"
   ]
  },
  {
   "cell_type": "code",
   "execution_count": 23,
   "metadata": {},
   "outputs": [],
   "source": [
    "V = np.dot(A,A.T)"
   ]
  },
  {
   "cell_type": "code",
   "execution_count": 24,
   "metadata": {},
   "outputs": [],
   "source": [
    "V_inv = np.linalg.inv(V)"
   ]
  },
  {
   "cell_type": "markdown",
   "metadata": {},
   "source": [
    "### Calculate W\n"
   ]
  },
  {
   "cell_type": "code",
   "execution_count": 25,
   "metadata": {},
   "outputs": [],
   "source": [
    "u, d, vh = np.linalg.svd(V_inv)"
   ]
  },
  {
   "cell_type": "code",
   "execution_count": 26,
   "metadata": {},
   "outputs": [],
   "source": [
    "W=u*np.sqrt(d)*u.T"
   ]
  },
  {
   "cell_type": "markdown",
   "metadata": {},
   "source": [
    "\n",
    "### Run prewhitened GLM"
   ]
  },
  {
   "cell_type": "code",
   "execution_count": 27,
   "metadata": {},
   "outputs": [],
   "source": [
    "Wy = np.dot(W,y)"
   ]
  },
  {
   "cell_type": "code",
   "execution_count": 28,
   "metadata": {},
   "outputs": [],
   "source": [
    "WX = np.dot(W,X)"
   ]
  },
  {
   "cell_type": "code",
   "execution_count": 29,
   "metadata": {},
   "outputs": [],
   "source": [
    "mod_cr = sm.OLS(Wy, WX)\n",
    "res_cr = mod_cr.fit()\n",
    "est_phi_cr = res_cr.params[1]"
   ]
  },
  {
   "cell_type": "code",
   "execution_count": 30,
   "metadata": {},
   "outputs": [
    {
     "name": "stdout",
     "output_type": "stream",
     "text": [
      "True value: 0.5\n",
      "Estimated value pre correction: 0.887\n",
      "Estimated value post correction: 0.906\n"
     ]
    }
   ],
   "source": [
    "print(\"True value: %s\\nEstimated value pre correction: %s\\nEstimated value post correction: %s\"%(.5,round(est_phi,3), round(est_phi_cr, 3)))"
   ]
  },
  {
   "cell_type": "markdown",
   "metadata": {},
   "source": [
    "## Simulations\n",
    "\n",
    "### Helper functions"
   ]
  },
  {
   "cell_type": "code",
   "execution_count": 31,
   "metadata": {},
   "outputs": [],
   "source": [
    "def whiten(mod_obj, p=1, q=0):\n",
    "    \n",
    "    err = mod_obj.fit().resid\n",
    "    X = mod_obj.exog\n",
    "    y = mod_obj.endog\n",
    "    \n",
    "    try:\n",
    "        ar_mod = ARMA(err, order=(p,0))\n",
    "        ar_res = ar_mod.fit()\n",
    "        first_col = np.insert(-ar_res.params[1:], 0, 1)\n",
    "        for i in range(len(y)-1):\n",
    "            if i == 0:\n",
    "                cur_col = copy.copy(first_col)\n",
    "                cur_col = np.insert(cur_col, 2, np.zeros(len(y)-len(res1.params)))\n",
    "                A = cur_col.reshape(-1,1)\n",
    "            else:\n",
    "                cur_col = A[:,i]\n",
    "            col_lag = np.r_[0, cur_col[:-1]]\n",
    "            col_lag = col_lag.reshape(-1,1)\n",
    "            A = np.concatenate((A, col_lag), 1)\n",
    "        V = np.dot(A,A.T)\n",
    "        V_inv = np.linalg.inv(V)\n",
    "        u, d, vh = np.linalg.svd(V_inv)\n",
    "        W=u*np.sqrt(d)*u.T\n",
    "        Wy = np.dot(W,y)\n",
    "        WX = np.dot(W,X)\n",
    "        mod_pw = sm.OLS(Wy, WX)\n",
    "        res_pw = mod_cr.fit()\n",
    "        out = res_pw.params\n",
    "        \n",
    "    except:\n",
    "        print(\"Whitening failed!\")\n",
    "        out = np.nan\n",
    "    return(out)"
   ]
  },
  {
   "cell_type": "markdown",
   "metadata": {},
   "source": [
    "Function to recover the $\\phi$ and $\\rho$ parameters from either given data or after simulating data.  \n",
    "\n",
    "Arguments:\n",
    "\n",
    "`phi_stim`: $\\phi$ that will be used if simulating data.  \n",
    "`rho_stim`: $\\rho$ that will be used if simulating data.  \n",
    "`x`: Simulate task data if None; numpy array with task timeseries otherwise.  \n",
    "`y`: Simulate task data if none; numpy array with response timeseries otherwise.  \n",
    "`Tmax`: Number of timepoints to simulate data for.  \n",
    "`mu_stim`: Mean of error term.  \n",
    "`sigma_stim`: SD of error term.  \n",
    "`verbose`: Print true and estimated parameter estimates while running.  \n",
    "`ar_correction`: Return recursivity parameter after accounting for autocorrelated noise.  \n",
    "\n",
    "Output:\n",
    "\n",
    "Dictionary with simulation and estimation parameters  "
   ]
  },
  {
   "cell_type": "code",
   "execution_count": 32,
   "metadata": {},
   "outputs": [],
   "source": [
    "def get_phi_rho(phi_stim, rho_stim, x=None, y=None, Tmax = 500, mu_stim=0, sigma_stim=1, verbose = True, ar_correction = True, prewhiten=True, arp=1):\n",
    "    \n",
    "    if x is None:\n",
    "        T = np.arange(0,Tmax,1)\n",
    "        tasktiming = np.zeros((1,len(T)))\n",
    "        for t in range(len(T)):\n",
    "            if t%25>10 and t%25<21:\n",
    "                tasktiming[0,t] = 1.0\n",
    "        x = copy.copy(tasktiming[0])\n",
    "    \n",
    "    if y is None:\n",
    "        y = make_y(x, rho=rho_stim, phi = phi_stim)\n",
    "    \n",
    "    X = x.reshape(-1,1)\n",
    "    ## Constant/GLM:\n",
    "    #X = sm.add_constant(X)\n",
    "    y_lag = np.r_[0, y[:-1]]\n",
    "    y_lag = y_lag.reshape(-1,1)\n",
    "    X = np.concatenate((X, y_lag), 1)\n",
    "\n",
    "    #No intercept model\n",
    "    mod = sm.OLS(y, X)\n",
    "    res = mod.fit()\n",
    "    est_phi = res.params[1]\n",
    "    \n",
    "    errors = res.resid\n",
    "\n",
    "    errors_lag = np.r_[0, errors[:-1]]\n",
    "    errors_X = errors_lag.reshape(-1,1)\n",
    "\n",
    "    #No intercept model\n",
    "    error_mod = sm.OLS(errors, errors_X)\n",
    "    error_res = error_mod.fit()\n",
    "    est_rho = error_res.params[0]\n",
    "    \n",
    "    if verbose:\n",
    "        print(\"Actual phi = %s; estimated phi = %s\"%(phi_stim,str(round(est_phi, 5))))\n",
    "        print(\"Actual rho = %s; estimated rho = %s\"%(rho_stim, str(round(est_rho, 5))))\n",
    "    \n",
    "    out = {\"phi_stim\": phi_stim,\n",
    "          'rho_stim': rho_stim,\n",
    "          'phi_est': est_phi,\n",
    "          'rho_est': est_rho}\n",
    "    \n",
    "    if ar_correction:\n",
    "        arc_X = copy.copy(y_lag)\n",
    "        y_lag2 = np.r_[0, np.r_[0, y[:-1]][:-1]]\n",
    "        y_lag2 = y_lag2.reshape(-1,1)\n",
    "        arc_X = np.concatenate((arc_X, y_lag2), 1)\n",
    "        arc_X = np.concatenate((arc_X, x.reshape(-1,1)), 1)\n",
    "        x_lag = np.r_[0, x[:-1]]\n",
    "        x_lag = x_lag.reshape(-1,1)\n",
    "        arc_X = np.concatenate((arc_X, x_lag), 1)\n",
    "    \n",
    "        arc_mod = sm.OLS(y, arc_X)\n",
    "        arc_res = arc_mod.fit()\n",
    "        \n",
    "        est_phi_arc = 1 - arc_res.params[2]\n",
    "        \n",
    "        out.update({\"phi_est_arc\": est_phi_arc})\n",
    "        \n",
    "        if verbose:\n",
    "            print(\"Actual phi = %s; estimated phi with arc = %s\"%(phi_stim,str(round(est_phi_arc, 5))))\n",
    "            \n",
    "    if prewhiten:\n",
    "        pw_params = whiten(mod_obj=mod, p=arp, q=0)\n",
    "        \n",
    "        out.update({\"phi_est_pw\": pw_params[1]})\n",
    "        \n",
    "        if verbose:\n",
    "            print(\"Actual phi = %s; estimated phi with pw = %s\"%(phi_stim,str(round(pw_params[1], 5))))\n",
    "        \n",
    "    return(out)"
   ]
  },
  {
   "cell_type": "code",
   "execution_count": 34,
   "metadata": {},
   "outputs": [
    {
     "name": "stdout",
     "output_type": "stream",
     "text": [
      "Actual phi = 0.5; estimated phi = 0.91945\n",
      "Actual rho = 0.8; estimated rho = 0.40196\n",
      "Actual phi = 0.5; estimated phi with arc = 0.37762\n",
      "Actual phi = 0.5; estimated phi with pw = 0.90572\n"
     ]
    },
    {
     "data": {
      "text/plain": [
       "{'phi_est': 0.9194492354903888,\n",
       " 'phi_est_arc': 0.37762163818548955,\n",
       " 'phi_est_pw': 0.9057229804850522,\n",
       " 'phi_stim': 0.5,\n",
       " 'rho_est': 0.40195833634874956,\n",
       " 'rho_stim': 0.8}"
      ]
     },
     "execution_count": 34,
     "metadata": {},
     "output_type": "execute_result"
    }
   ],
   "source": [
    "get_phi_rho(.5, .8)"
   ]
  },
  {
   "cell_type": "markdown",
   "metadata": {},
   "source": [
    "### Simulation results\n",
    "\n",
    "For $\\phi$ and $\\rho$ ranging from 0 to 1 with .1 increments simulate recursive data with autocorrelated noise and estimate the recursivity parameter using ordinary least squares with and without accounting for the autocorrelation."
   ]
  },
  {
   "cell_type": "code",
   "execution_count": 45,
   "metadata": {},
   "outputs": [],
   "source": [
    "phi_stims=np.arange(0,1.1,.1)\n",
    "rho_stims=np.arange(0,1.1,.1)\n",
    "\n",
    "out = {}\n",
    "\n",
    "for p in phi_stims:\n",
    "    for r in rho_stims:\n",
    "        sim_id = \"phi_%s_rho_%s\"%(p, r)\n",
    "        out[sim_id] = get_phi_rho(p, r, verbose=False)"
   ]
  },
  {
   "cell_type": "markdown",
   "metadata": {},
   "source": [
    "Organize output"
   ]
  },
  {
   "cell_type": "code",
   "execution_count": 46,
   "metadata": {},
   "outputs": [],
   "source": [
    "out_df = pd.DataFrame(out).T\n",
    "out_df['phi_stim'] = round(out_df['phi_stim'],1)\n",
    "out_df['rho_stim'] = round(out_df['rho_stim'],1)"
   ]
  },
  {
   "cell_type": "code",
   "execution_count": 47,
   "metadata": {},
   "outputs": [],
   "source": [
    "out_df.reset_index(drop=True,inplace=True)"
   ]
  },
  {
   "cell_type": "markdown",
   "metadata": {},
   "source": [
    "Calculate the degree to which estimated parameters deviate from the true variable used in the simulation\n",
    "\n",
    "\\begin{equation*}\n",
    "deviation = |estimate - truth|\n",
    "\\end{equation*}"
   ]
  },
  {
   "cell_type": "code",
   "execution_count": 48,
   "metadata": {},
   "outputs": [],
   "source": [
    "out_df['phi_pct_diff'] = abs(out_df['phi_est'] - out_df['phi_stim'])\n",
    "out_df['phi_pct_diff_arc'] = abs(out_df['phi_est_arc'] - out_df['phi_stim'])\n",
    "out_df['phi_pct_diff_pw'] = abs(out_df['phi_est_pw'] - out_df['phi_stim'])\n",
    "out_df['rho_pct_diff'] = abs(out_df['rho_est'] - out_df['rho_stim'])\n",
    "#out_df['phi_improvement'] = (out_df['phi_pct_diff'] - out_df['phi_pct_diff_arc'])*(-1)"
   ]
  },
  {
   "cell_type": "markdown",
   "metadata": {},
   "source": [
    "Darker colors are larger deviations from truth (\"bad\")\n",
    "\n",
    "Largest improvements in estimating $\\phi$ are when $\\rho$ is large too (>0.3) **regardless** of how good the $\\hat{\\rho}$ is."
   ]
  },
  {
   "cell_type": "code",
   "execution_count": 49,
   "metadata": {},
   "outputs": [
    {
     "name": "stderr",
     "output_type": "stream",
     "text": [
      "/home/groups/russpold/software/miniconda/envs/fmri/lib/python3.5/site-packages/matplotlib/figure.py:2369: UserWarning: This figure includes Axes that are not compatible with tight_layout, so results might be incorrect.\n",
      "  warnings.warn(\"This figure includes Axes that are not compatible \"\n"
     ]
    },
    {
     "data": {
      "image/png": "[encoded data removed]",
      "text/plain": [
       "<Figure size 576x576 with 5 Axes>"
      ]
     },
     "metadata": {
      "needs_background": "light"
     },
     "output_type": "display_data"
    }
   ],
   "source": [
    "plt.rcParams[\"figure.figsize\"][0] = 8\n",
    "plt.rcParams[\"figure.figsize\"][1] = 8\n",
    "fig, axn = plt.subplots(2, 2, sharex=True, sharey=True)\n",
    "cbar_ax = fig.add_axes([.91, .3, .03, .4])\n",
    "vals = ['phi_pct_diff','phi_pct_diff_arc','phi_pct_diff_pw', 'rho_pct_diff']\n",
    "ax_titles = ['Estimation of Phi','Estimation of Phi (ARC)', 'Estimation of Phi (PW)', 'Estimation of Rho']\n",
    "for i, ax in enumerate(axn.flat):\n",
    "    df = out_df.pivot(index='phi_stim',columns='rho_stim',values='%s'%(vals[i]))\n",
    "    sns.heatmap(df, ax=ax,\n",
    "                cbar=i == 0,\n",
    "                vmin=0, vmax=1,\n",
    "                xticklabels=True, yticklabels=True,\n",
    "                cbar_ax=None if i else cbar_ax)\n",
    "    ax.set_title('%s'%(ax_titles[i]))\n",
    "    ax.set_ylabel('')    \n",
    "    ax.set_xlabel('')\n",
    "    ax.invert_yaxis()\n",
    "\n",
    "fig.suptitle(\"Absolute difference between simulated and estimated parameter\", fontsize=14, y = 1.1)\n",
    "fig.text(-0.04, 0.5, 'Recursiveness (phi)', va='center', rotation='vertical', size=13)\n",
    "fig.text(0.5, -0.04, 'Autocorrelation (rho)', ha='center', size = 13)\n",
    "fig.tight_layout(rect=[0, 0, .9, 1])\n"
   ]
  },
  {
   "cell_type": "markdown",
   "metadata": {},
   "source": [
    "## Additional concerns with timeseries analyses\n",
    "\n"
   ]
  },
  {
   "cell_type": "markdown",
   "metadata": {},
   "source": [
    "### Direct test of stationarity: Unit test\n",
    "\n",
    "If |$\\phi|<1$ AR(1) process is stationary (where phi is the parameter that determines the relationship between $y(t)$ and $y(t+1))$\n",
    "\n",
    "When $\\phi$ is not known (ie. not simulated data) you can use the first derivative of the timeseries to check if the slope is negative (if yes, then stationary).\n",
    "\n",
    "\n",
    "#### Why is stationarity important?   \n",
    "- because a regression between two nonstationary variables can produce spurious results (e.g. regressing the time series of one voxel over the time series of a task, of another voxel etc.)  \n",
    "\n",
    "#### How do you make a time series stationary?  \n",
    "- by taking the derivative until $|\\phi|<1$ \n",
    "\n",
    "### Indirect test of stationarity: Correlogram and autocorrelation"
   ]
  },
  {
   "cell_type": "code",
   "execution_count": null,
   "metadata": {},
   "outputs": [],
   "source": [
    "def make_correlogram(y, max_lag):\n",
    "    for i in range(2,max_lag):\n",
    "        #y_lag = np.roll(y, -i)\n",
    "        y_lag = np.roll(y, i)\n",
    "        #y_lag = y_lag[:-i]\n",
    "        y_lag[:i] = 0\n",
    "        y_cur = y[:len(y_lag)]\n",
    "        ac = (np.cov(y_cur, y_lag)[0][1]) / (np.var(y_cur))\n",
    "        print(\"s = %s, AC = %s\"%(str(i), str(ac)))"
   ]
  },
  {
   "cell_type": "markdown",
   "metadata": {},
   "source": [
    "When the time series are **not** stationary the autocorrelation does **not** decline quickly.  \n",
    "\n",
    "Note: As explained below only $\\phi$=1 is the time series we generate are not stationary."
   ]
  },
  {
   "cell_type": "code",
   "execution_count": null,
   "metadata": {},
   "outputs": [],
   "source": [
    "x = copy.copy(tasktiming[0])\n",
    "y = make_y(x, 1, 0)\n",
    "make_correlogram(y, 10)"
   ]
  },
  {
   "cell_type": "code",
   "execution_count": null,
   "metadata": {},
   "outputs": [],
   "source": [
    "y = make_y(x, .1, 0.5)\n",
    "make_correlogram(y, 10)"
   ]
  },
  {
   "cell_type": "code",
   "execution_count": null,
   "metadata": {},
   "outputs": [],
   "source": [
    "y = make_y(x, .8, 0.5)\n",
    "make_correlogram(y, 10)"
   ]
  },
  {
   "cell_type": "markdown",
   "metadata": {},
   "source": [
    "### Wrap it all in one function\n",
    "\n",
    "Arguments:\n",
    "\n",
    "`model_obj`:\n",
    "\n",
    "Output:"
   ]
  },
  {
   "cell_type": "code",
   "execution_count": null,
   "metadata": {},
   "outputs": [],
   "source": []
  },
  {
   "cell_type": "code",
   "execution_count": null,
   "metadata": {},
   "outputs": [],
   "source": [
    "whiten(mod)"
   ]
  },
  {
   "cell_type": "code",
   "execution_count": null,
   "metadata": {},
   "outputs": [],
   "source": []
  }
 ],
 "metadata": {
  "hide_input": false,
  "kernelspec": {
   "display_name": "Python 3",
   "language": "python",
   "name": "python3"
  },
  "language_info": {
   "codemirror_mode": {
    "name": "ipython",
    "version": 3
   },
   "file_extension": ".py",
   "mimetype": "text/x-python",
   "name": "python",
   "nbconvert_exporter": "python",
   "pygments_lexer": "ipython3",
   "version": "3.5.3"
  },
  "toc": {
   "base_numbering": 1,
   "nav_menu": {},
   "number_sections": true,
   "sideBar": true,
   "skip_h1_title": false,
   "title_cell": "Table of Contents",
   "title_sidebar": "Contents",
   "toc_cell": false,
   "toc_position": {
    "height": "calc(100% - 180px)",
    "left": "10px",
    "top": "150px",
    "width": "300.188px"
   },
   "toc_section_display": true,
   "toc_window_display": true
  }
 },
 "nbformat": 4,
 "nbformat_minor": 2
}
