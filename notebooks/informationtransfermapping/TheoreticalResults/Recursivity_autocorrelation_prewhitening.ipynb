{
 "cells": [
  {
   "cell_type": "code",
   "execution_count": 1,
   "metadata": {},
   "outputs": [],
   "source": [
    "import copy\n",
    "import sys\n",
    "sys.path.append('../utils/')\n",
    "import numpy as np\n",
    "import matplotlib.pyplot as plt\n",
    "% matplotlib inline\n",
    "import pandas as pd\n",
    "import seaborn as sns\n",
    "sns.set_style(\"white\")\n",
    "import scipy.stats as stats\n",
    "import statsmodels.api as sm\n",
    "from statsmodels.tsa.arima_model import ARMA"
   ]
  },
  {
   "cell_type": "code",
   "execution_count": 2,
   "metadata": {},
   "outputs": [
    {
     "data": {
      "text/plain": [
       "(0, 100)"
      ]
     },
     "execution_count": 2,
     "metadata": {},
     "output_type": "execute_result"
    },
    {
     "data": {
      "image/png": "[encoded data removed]",
      "text/plain": [
       "<Figure size 432x288 with 1 Axes>"
      ]
     },
     "metadata": {
      "needs_background": "light"
     },
     "output_type": "display_data"
    }
   ],
   "source": [
    "T = np.arange(0,500,1)\n",
    "tasktiming = np.zeros((1,len(T)))\n",
    "for t in range(len(T)):\n",
    "    if t%25>10 and t%25<21:\n",
    "        tasktiming[0,t] = 1.0\n",
    "plt.plot(T, tasktiming[0])\n",
    "#plt.ylim(top = 1.2, bottom = -0.1)\n",
    "plt.xlim(0,100)"
   ]
  },
  {
   "cell_type": "code",
   "execution_count": 3,
   "metadata": {},
   "outputs": [],
   "source": [
    "def make_y(x, phi, rho, mu=0, sigma=1):\n",
    "    y = y = np.zeros(len(x))\n",
    "    \n",
    "    noise = np.random.normal(mu, sigma, len(y))\n",
    "    \n",
    "    for i in range(len(y)):\n",
    "        if i == 0:\n",
    "            y[i] = copy.copy(x[i])\n",
    "        else:\n",
    "            noise[i] = rho*noise[i-1]+noise[i]\n",
    "            y[i] = phi*y[i-1]+(1-phi)*x[i]+noise[i]\n",
    "            \n",
    "    return(y)"
   ]
  },
  {
   "cell_type": "code",
   "execution_count": null,
   "metadata": {},
   "outputs": [],
   "source": [
    "def whiten(y, p=1, q=0):\n",
    "    \n",
    "    try:\n",
    "        mod1 = ARMA(y, order=(p,q))\n",
    "        res1 = mod1.fit()\n",
    "        out = {'y_pw': res1.resid,\n",
    "              'ar': res1.params[1]}\n",
    "    except:\n",
    "        out = {'y_pw': np.nan,\n",
    "              'ar': np.nan}\n",
    "    return(out)\n",
    "    "
   ]
  },
  {
   "cell_type": "code",
   "execution_count": 7,
   "metadata": {},
   "outputs": [],
   "source": [
    "def get_phi_rho(phi_stim, rho_stim, x=None, y=None, Tmax = 500, mu_stim=0, sigma_stim=1, verbose = True, ar_correction = True):\n",
    "    \n",
    "    if x is None:\n",
    "        T = np.arange(0,Tmax,1)\n",
    "        tasktiming = np.zeros((1,len(T)))\n",
    "        for t in range(len(T)):\n",
    "            if t%25>10 and t%25<21:\n",
    "                tasktiming[0,t] = 1.0\n",
    "        x = copy.copy(tasktiming[0])\n",
    "    \n",
    "    if y is None:\n",
    "        y = make_y(x, rho=rho_stim, phi = phi_stim)\n",
    "    \n",
    "    X = x.reshape(-1,1)\n",
    "    ## Constant/GLM:\n",
    "    #X = sm.add_constant(X)\n",
    "    y_lag = np.r_[0, y[:-1]]\n",
    "    y_lag = y_lag.reshape(-1,1)\n",
    "    X = np.concatenate((X, y_lag), 1)\n",
    "\n",
    "    #No intercept model\n",
    "    mod = sm.OLS(y, X)\n",
    "    res = mod.fit()\n",
    "    est_phi = res.params[1]\n",
    "    \n",
    "    errors = res.resid\n",
    "\n",
    "    errors_lag = np.r_[0, errors[:-1]]\n",
    "    errors_X = errors_lag.reshape(-1,1)\n",
    "\n",
    "    #No intercept model\n",
    "    error_mod = sm.OLS(errors, errors_X)\n",
    "    error_res = error_mod.fit()\n",
    "    est_rho = error_res.params[0]\n",
    "    \n",
    "    if verbose:\n",
    "        print(\"Actual phi = %s; estimated phi = %s\"%(phi_stim,str(round(est_phi, 5))))\n",
    "        print(\"Actual rho = %s; estimated rho = %s\"%(rho_stim, str(round(est_rho, 5))))\n",
    "    \n",
    "    out = {\"phi_stim\": phi_stim,\n",
    "          'rho_stim': rho_stim,\n",
    "          'phi_est': est_phi,\n",
    "          'rho_est': est_rho}\n",
    "    \n",
    "    if ar_correction:\n",
    "        arc_X = copy.copy(y_lag)\n",
    "        y_lag2 = np.r_[0, np.r_[0, y[:-1]][:-1]]\n",
    "        y_lag2 = y_lag2.reshape(-1,1)\n",
    "        arc_X = np.concatenate((arc_X, y_lag2), 1)\n",
    "        arc_X = np.concatenate((arc_X, x.reshape(-1,1)), 1)\n",
    "        x_lag = np.r_[0, x[:-1]]\n",
    "        x_lag = x_lag.reshape(-1,1)\n",
    "        arc_X = np.concatenate((arc_X, x_lag), 1)\n",
    "    \n",
    "        arc_mod = sm.OLS(y, arc_X)\n",
    "        arc_res = arc_mod.fit()\n",
    "        b1 = arc_res.params[0]\n",
    "        b2 = arc_res.params[1]\n",
    "        b3 = arc_res.params[2]\n",
    "        b4 = arc_res.params[3]\n",
    "        \n",
    "        est_phi_arc = 1 - b3\n",
    "        est_rho_arc1 = b1 - 1 + b3\n",
    "        est_rho_arc2 = (-b2)/(1-b3)\n",
    "        est_rho_arc3 =  (-b4)/b3\n",
    "        \n",
    "        \n",
    "        out.update({\"phi_est_arc\": est_phi_arc,\n",
    "                   \"rho_est_arc1\": est_rho_arc1,\n",
    "                   \"rho_est_arc2\": est_rho_arc2,\n",
    "                   \"rho_est_arc3\": est_rho_arc3})\n",
    "        \n",
    "        if verbose:\n",
    "            print(\"Actual phi = %s; estimated phi = %s\"%(phi_stim,str(round(est_phi_arc, 5))))\n",
    "            print(\"Actual rho = %s; estimated rho 1 = %s\"%(rho_stim, str(round(est_rho_arc1, 5))))\n",
    "            print(\"Actual rho = %s; estimated rho 2 = %s\"%(rho_stim, str(round(est_rho_arc2, 5))))\n",
    "            print(\"Actual rho = %s; estimated rho 3 = %s\"%(rho_stim, str(round(est_rho_arc3, 5))))\n",
    "    \n",
    "    return(out, y)"
   ]
  },
  {
   "cell_type": "code",
   "execution_count": 8,
   "metadata": {},
   "outputs": [
    {
     "name": "stdout",
     "output_type": "stream",
     "text": [
      "Actual phi = 0.5; estimated phi = 0.81312\n",
      "Actual rho = 0.5; estimated rho = 0.22739\n",
      "Actual phi = 0.5; estimated phi = 0.37855\n",
      "Actual rho = 0.5; estimated rho 1 = 0.66044\n",
      "Actual rho = 0.5; estimated rho 2 = 0.70466\n",
      "Actual rho = 0.5; estimated rho 3 = 0.64192\n"
     ]
    },
    {
     "data": {
      "text/plain": [
       "({'phi_est': 0.8131196826256049,\n",
       "  'phi_est_arc': 0.37855156129288003,\n",
       "  'phi_stim': 0.5,\n",
       "  'rho_est': 0.22739210548218944,\n",
       "  'rho_est_arc1': 0.6604405770517814,\n",
       "  'rho_est_arc2': 0.704660203036352,\n",
       "  'rho_est_arc3': 0.6419233644565122,\n",
       "  'rho_stim': 0.5},\n",
       " array([ 0.        ,  2.38387977,  0.90029066,  0.85758714,  1.36287124,\n",
       "         0.84511986,  0.95942254,  0.42373527,  0.688254  ,  1.27572026,\n",
       "         0.82971795,  0.76699017,  0.00843818, -0.30992313,  0.55896637,\n",
       "         0.3388962 ,  1.76789639,  1.85013475,  1.19558981, -1.14650131,\n",
       "        -0.45470706, -0.61400737,  0.05256732,  0.47441855, -0.13370891,\n",
       "         0.74398225, -1.41352621, -1.9076539 , -1.65216261,  0.62125542,\n",
       "         1.27327695,  2.15852204,  3.11832549,  2.8970702 ,  1.477551  ,\n",
       "         2.46745134,  5.26815261,  3.84066237,  2.81297796,  2.53442524,\n",
       "         1.4145805 ,  1.10090478,  0.59115363, -2.19201566, -3.99593622,\n",
       "        -2.43931968, -0.21877427,  3.42134277,  3.90453942,  0.80879752,\n",
       "        -1.09678811,  0.05050646,  0.50228011,  0.58499691,  1.45219178,\n",
       "        -0.49102732, -1.84258472, -2.39072608, -1.77020024, -2.08041382,\n",
       "        -2.56296292, -2.26568508, -0.64966445, -0.51639406, -0.88008389,\n",
       "        -0.34388769,  0.21958294,  0.89290613,  0.09587631, -0.23386369,\n",
       "        -0.02305675, -0.20796285,  0.47628748,  1.14211072,  1.73168866,\n",
       "         1.00964403,  0.28116176,  0.26749282,  0.99981553,  1.75371691,\n",
       "         1.70011235,  1.06603067,  2.34745798,  2.63682019,  1.55677198,\n",
       "         0.97420428,  1.48346126,  2.92196185,  1.14236174,  0.20901166,\n",
       "        -2.64076943, -2.128104  , -0.87636973,  1.00575533,  0.73533804,\n",
       "        -0.27854305,  0.36362483, -0.2036116 ,  0.51329477,  1.39964148,\n",
       "         2.15425747,  2.54945606,  3.36714049,  3.49471549,  3.02161356,\n",
       "         2.73476326,  2.40171775,  2.05822331,  1.20092456,  0.8091364 ,\n",
       "         2.55382608,  4.78889646,  4.03439723,  3.32336892,  1.11952414,\n",
       "        -0.14883145, -0.40254979,  0.93807755,  0.92337581,  0.97751651,\n",
       "         2.07560101,  3.51556742,  1.89733649,  1.45940613, -0.18074372,\n",
       "        -0.68619055, -1.60590272, -0.71689377,  0.53162879,  0.5623709 ,\n",
       "         0.12332925, -0.38109601, -0.36931814,  0.16242393,  1.76624513,\n",
       "         0.78744959,  3.62015826,  2.60352024,  2.71144277,  2.17943417,\n",
       "         0.29425279,  0.52983275,  1.67116153,  2.21159099,  1.71413227,\n",
       "         1.28387205,  0.71100222, -0.97479311, -0.63258588, -1.57400307,\n",
       "        -0.95450564, -0.15068897, -0.55049733, -0.29425881, -0.23335413,\n",
       "        -1.06629925, -0.29156085, -0.52708841, -1.45407739, -0.28438974,\n",
       "        -0.19532602,  1.47261859,  1.56182882,  1.83694946, -0.57559696,\n",
       "        -0.93437873, -0.47541751,  0.28155162,  0.39398663,  1.74255533,\n",
       "         3.31552235,  1.4928436 ,  0.54670507, -0.51858189, -1.5373589 ,\n",
       "         1.43212502,  1.10126204,  1.46260316,  1.66865404,  2.25908588,\n",
       "         2.85887002,  2.60988759,  2.79694659,  3.00977838,  3.22060913,\n",
       "         3.58652193,  4.26183258,  4.13182084,  4.68695128,  3.38031046,\n",
       "         2.72872657,  2.96099578,  0.55754082, -0.40019532, -1.39875373,\n",
       "        -1.60135836, -1.04682044, -0.66891796,  1.66398503,  4.39600922,\n",
       "         4.96945994,  4.86622904,  0.80019417, -1.39243974, -1.51020362,\n",
       "        -1.45838893, -0.72723085,  0.81542628,  1.38363103,  0.58567534,\n",
       "        -0.25685486, -1.26605606, -1.39082405, -1.05225354, -0.21996809,\n",
       "         0.78142703,  2.39055748,  1.46034251,  1.28145347,  1.13147998,\n",
       "         1.38479391, -0.22736241, -0.88419589, -1.38048941, -1.66615626,\n",
       "        -0.80520604,  1.93047917,  2.32140915,  1.33300222,  1.05369286,\n",
       "        -0.07059437, -0.46418299, -2.24039615, -2.87923718, -1.75470123,\n",
       "        -0.6610879 ,  1.98495733,  2.85446733,  4.93527826,  4.26568907,\n",
       "         3.619827  ,  2.39617582,  3.28592669,  2.2866911 ,  1.36714915,\n",
       "         2.24237979,  1.61049022,  1.33078792,  1.62855668,  1.3425126 ,\n",
       "        -0.9137994 , -1.3860199 , -0.32220693, -1.18833973, -1.81060571,\n",
       "        -0.98614568, -0.86621467,  0.4474782 ,  1.57678537,  0.59142749,\n",
       "         0.12865537,  0.45430689,  0.0727674 , -0.7694866 ,  0.54923913,\n",
       "         0.52658495,  1.90911923,  2.9103893 ,  4.98882051,  5.53544249,\n",
       "         5.88734229,  6.37357445,  3.75195294,  1.66839888,  1.18440138,\n",
       "        -0.56181918, -2.00880437, -2.28282476, -2.36779131, -2.15444366,\n",
       "        -2.28022309, -2.74528525, -1.64554883, -0.75612856, -0.86459164,\n",
       "        -0.470634  , -0.78300754, -0.40858441,  0.22790805,  1.87826979,\n",
       "         1.7469589 ,  2.23896786,  4.38066309,  3.46112911,  2.99688394,\n",
       "         1.43198843, -0.37547521, -2.21689738, -0.95665213, -0.6081063 ,\n",
       "        -1.10242425, -1.18940711, -2.82774752, -2.29135466, -1.22961409,\n",
       "        -1.60332911, -4.05734712, -2.23725404, -0.46679204,  0.74190475,\n",
       "        -0.91602494, -0.38219033, -0.23005825, -0.30102882,  0.00702765,\n",
       "         1.97718561,  1.79521528,  0.6981014 , -0.32918598, -1.50498807,\n",
       "        -1.42956528, -1.2571992 , -0.64257089, -0.22633248,  0.09174985,\n",
       "        -0.25892103, -0.46280799,  2.62446697,  3.32285382,  5.48643317,\n",
       "         3.80062326,  3.14810662,  1.67157983,  0.67464857,  1.64468972,\n",
       "         3.43320036,  3.93841282,  3.85123373,  3.41083522,  3.48685439,\n",
       "         3.48318443,  1.59158659,  1.04290275,  2.16315518,  3.65841887,\n",
       "         4.76309623,  4.5069784 ,  2.79568477,  2.74588249,  1.58315287,\n",
       "         1.41236007,  2.37612663,  1.66499483,  0.63441899, -0.63686161,\n",
       "        -2.86652807, -2.635019  , -1.25555391, -1.42926957, -1.40194947,\n",
       "        -0.68816846, -1.65043813,  0.99320025,  2.31714067,  1.4974794 ,\n",
       "         1.26188893, -0.80078703, -0.04130532,  0.56890466,  0.72772666,\n",
       "        -0.22345034, -2.02815877, -1.19114472, -1.41702973, -0.03428835,\n",
       "         0.66540483,  0.46791242,  0.29162781, -0.83209828, -0.82997357,\n",
       "        -0.78539922, -1.68980892, -0.63117296, -1.42650257, -0.63492731,\n",
       "        -1.15963632, -1.3682483 ,  0.18896909,  1.49198637,  1.37189915,\n",
       "        -0.07197103,  0.84886272,  1.08715343,  0.4679384 ,  0.28918372,\n",
       "         1.14343297,  1.18387126,  0.95892388,  0.21989416,  0.34495037,\n",
       "        -0.4332651 ,  0.87029552,  1.64251833,  2.74466386,  2.62806591,\n",
       "         1.91835761,  1.62686453,  0.68379962, -1.26801799, -0.74792104,\n",
       "        -0.49448948,  0.91395751,  2.68285541,  1.74173902,  1.29315945,\n",
       "         1.94187249,  1.25143547,  0.72079416,  0.96907199,  0.57962775,\n",
       "         0.66599566, -0.8893823 ,  0.4362196 ,  0.40298964, -0.60996558,\n",
       "        -0.50171269, -0.45572635, -0.63992437, -1.28971232, -2.35052109,\n",
       "        -2.82131336, -1.64713932, -1.43539077,  0.26312356, -0.8285021 ,\n",
       "        -1.42090984,  0.37945118,  1.63167182,  1.89247802,  2.18114516,\n",
       "         1.78468999, -0.1898106 , -0.35656216,  0.3087068 , -0.42709914,\n",
       "        -0.64163349,  0.01340225, -0.65449657,  0.20249279, -0.88900933,\n",
       "         1.38530238,  1.83075686,  1.49215375, -0.39179991, -0.55697274,\n",
       "        -0.3469404 , -0.17396515, -1.74392121, -1.50221571, -0.172074  ,\n",
       "        -1.268185  , -0.04924182, -1.18659671, -1.87031933, -1.66605681,\n",
       "        -2.96227873, -2.90906815, -2.86788768, -2.27576073, -1.40460883,\n",
       "        -1.53781299, -2.73907505, -3.84837118, -2.84082719, -2.69416004,\n",
       "        -2.23355181, -3.26771755, -2.00056581, -0.47223407,  0.18563284,\n",
       "         0.07502337, -0.95190311,  0.58475468,  2.0745119 ,  1.66646674,\n",
       "         4.04207285,  4.02919969,  4.05904524,  2.08202121,  2.91278225,\n",
       "         3.32805046,  1.61003499,  0.94545757,  1.03193742,  1.12869433,\n",
       "         0.42452834,  1.01179814,  0.56521623,  0.02413333,  0.07936574]))"
      ]
     },
     "execution_count": 8,
     "metadata": {},
     "output_type": "execute_result"
    }
   ],
   "source": [
    "get_phi_rho(0.5,0.5)"
   ]
  },
  {
   "cell_type": "code",
   "execution_count": 11,
   "metadata": {},
   "outputs": [],
   "source": [
    "def sim_rec_ac(phi_stim, rho_stim, x = None, y = None, mu_stim=0, sigma_stim=1, verbose = False, prewhiten = False, ar_correction=True):\n",
    "        \n",
    "    all_out = get_phi_rho(phi_stim=phi_stim, rho_stim=rho_stim, x=x, y=y, mu_stim=mu_stim, sigma_stim=sigma_stim, verbose = verbose, ar_correction=ar_correction)\n",
    "    \n",
    "    out = all_out[0]\n",
    "    \n",
    "    y = all_out[1]\n",
    "    \n",
    "    if prewhiten:\n",
    "        if verbose:\n",
    "            print(\"Prewhitening...\")\n",
    "            \n",
    "        try:\n",
    "            white_out = whiten(y)\n",
    "            y_pw = white_out['y_pw']\n",
    "            out.update({'ar': white_out['ar']})\n",
    "            avec_pw = get_phi_rho(x=x, y=y_pw, phi_stim=phi_stim, rho_stim=rho_stim, mu_stim=mu_stim, sigma_stim=sigma_stim, verbose = verbose, ar_correction=False)[0]\n",
    "            pw_adds = {'phi_est_pw': avec_pw['phi_est'],\n",
    "                      'rho_est_pw': avec_pw['rho_est']}\n",
    "        except:\n",
    "            pw_adds = {'phi_est_pw': np.nan,\n",
    "                       'rho_est_pw': np.nan}\n",
    "        \n",
    "        out.update(pw_adds)\n",
    "    \n",
    "    return(out)"
   ]
  },
  {
   "cell_type": "markdown",
   "metadata": {},
   "source": [
    "Create predicted versus actual gradient/heat map\n",
    "\n",
    "For \n",
    "10 values of phi  \n",
    "10 values of rho  \n",
    "plot absolute diff between predicted and actual parameter estimate  \n",
    "separately for sans prewhitening and with prewhitening  "
   ]
  },
  {
   "cell_type": "code",
   "execution_count": 12,
   "metadata": {},
   "outputs": [],
   "source": [
    "phi_stims=np.arange(0,1.1,.1)\n",
    "rho_stims=np.arange(0,1.1,.1)\n",
    "\n",
    "out = {}\n",
    "\n",
    "for p in phi_stims:\n",
    "    for r in rho_stims:\n",
    "        sim_id = \"phi_%s_rho_%s\"%(p, r)\n",
    "        out[sim_id] = sim_rec_ac(p, r)"
   ]
  },
  {
   "cell_type": "code",
   "execution_count": 21,
   "metadata": {},
   "outputs": [],
   "source": [
    "out_df = pd.DataFrame(out).T"
   ]
  },
  {
   "cell_type": "code",
   "execution_count": 22,
   "metadata": {},
   "outputs": [],
   "source": [
    "out_df.reset_index(drop=True,inplace=True)"
   ]
  },
  {
   "cell_type": "code",
   "execution_count": 26,
   "metadata": {},
   "outputs": [],
   "source": [
    "out_df['phi_stim'] = round(out_df['phi_stim'],1)\n",
    "out_df['rho_stim'] = round(out_df['rho_stim'],1)\n",
    "\n",
    "#out_df['phi_pct_diff'] = abs(out_df['phi_est'] - out_df['phi_stim'])/out_df['phi_stim']\n",
    "#out_df['rho_pct_diff'] = abs(out_df['rho_est'] - out_df['rho_stim'])/out_df['rho_stim']\n",
    "#out_df['phi_pct_diff_pw'] = abs(out_df['phi_est_pw'] - out_df['phi_stim'])/out_df['phi_stim']\n",
    "#out_df['rho_pct_diff_pw'] = abs(out_df['rho_est_pw'] - out_df['rho_stim'])/out_df['rho_stim']\n",
    "\n",
    "out_df['phi_pct_diff'] = abs(out_df['phi_est'] - out_df['phi_stim'])/(out_df['phi_stim']+0.00000001)\n",
    "#out_df['rho_pct_diff'] = abs(out_df['rho_est'] - out_df['rho_stim'])/(out_df['rho_stim']+0.00000001)\n",
    "out_df['phi_pct_diff_arc'] = abs(out_df['phi_est_arc'] - out_df['phi_stim'])/(out_df['phi_stim']+0.00000001)\n",
    "#out_df['rho_pct_diff_arc1'] = abs(out_df['rho_est_arc1'] - out_df['rho_stim'])/(out_df['rho_stim']+0.00000001)\n",
    "#out_df['rho_pct_diff_arc2'] = abs(out_df['rho_est_arc2'] - out_df['rho_stim'])/(out_df['rho_stim']+0.00000001)\n",
    "#out_df['rho_pct_diff_arc3'] = abs(out_df['rho_est_arc3'] - out_df['rho_stim'])/(out_df['rho_stim']+0.00000001)"
   ]
  },
  {
   "cell_type": "code",
   "execution_count": 28,
   "metadata": {},
   "outputs": [
    {
     "name": "stderr",
     "output_type": "stream",
     "text": [
      "/home/groups/russpold/software/miniconda/envs/fmri/lib/python3.5/site-packages/matplotlib/figure.py:2369: UserWarning: This figure includes Axes that are not compatible with tight_layout, so results might be incorrect.\n",
      "  warnings.warn(\"This figure includes Axes that are not compatible \"\n"
     ]
    },
    {
     "data": {
      "image/png": "[encoded data removed]",
      "text/plain": [
       "<Figure size 432x288 with 3 Axes>"
      ]
     },
     "metadata": {
      "needs_background": "light"
     },
     "output_type": "display_data"
    }
   ],
   "source": [
    "fig, axn = plt.subplots(1, 2, sharex=True, sharey=True)\n",
    "cbar_ax = fig.add_axes([.91, .3, .03, .4])\n",
    "#vals = ['phi_pct_diff', 'rho_pct_diff', 'phi_pct_diff_pw', 'rho_pct_diff_pw']\n",
    "#vals = ['phi_pct_diff', 'rho_pct_diff', 'phi_pct_diff_arc', 'rho_pct_diff_arc1', 'rho_pct_diff_arc2', 'rho_pct_diff_arc3']\n",
    "vals = ['phi_pct_diff','phi_pct_diff_arc']\n",
    "#ax_titles = ['Estimation of Phi', 'Estimation of Rho', 'Estimation of Phi (ARC)', 'Estimation of Rho (ARC1)', 'Estimation of Rho (ARC2)', 'Estimation of Rho (ARC3)']\n",
    "#ax_titles = ['Estimation of Phi', 'Estimation of Phi (ARC)']\n",
    "for i, ax in enumerate(axn.flat):\n",
    "    df = out_df.pivot(index='phi_stim',columns='rho_stim',values='%s'%(vals[i]))\n",
    "    sns.heatmap(df, ax=ax,\n",
    "                cbar=i == 0,\n",
    "                vmin=0, vmax=1,\n",
    "                xticklabels=False, yticklabels=False,\n",
    "                cbar_ax=None if i else cbar_ax)\n",
    "    ax.set_title('%s'%(ax_titles[i]))\n",
    "    ax.set_ylabel('')    \n",
    "    ax.set_xlabel('')\n",
    "    ax.invert_yaxis()\n",
    "\n",
    "fig.suptitle(\"Percentage difference between simulated and estimated parameter\", fontsize=14, y = 1.1)\n",
    "fig.text(-0.04, 0.5, 'Recursiveness (phi)', va='center', rotation='vertical', size=13)\n",
    "fig.text(0.5, -0.04, 'Autocorrelation (rho)', ha='center', size = 13)\n",
    "fig.tight_layout(rect=[0, 0, .9, 1])"
   ]
  },
  {
   "cell_type": "code",
   "execution_count": null,
   "metadata": {},
   "outputs": [],
   "source": []
  }
 ],
 "metadata": {
  "hide_input": false,
  "kernelspec": {
   "display_name": "Python 3",
   "language": "python",
   "name": "python3"
  },
  "language_info": {
   "codemirror_mode": {
    "name": "ipython",
    "version": 3
   },
   "file_extension": ".py",
   "mimetype": "text/x-python",
   "name": "python",
   "nbconvert_exporter": "python",
   "pygments_lexer": "ipython3",
   "version": "3.5.3"
  },
  "toc": {
   "base_numbering": 1,
   "nav_menu": {},
   "number_sections": true,
   "sideBar": true,
   "skip_h1_title": false,
   "title_cell": "Table of Contents",
   "title_sidebar": "Contents",
   "toc_cell": false,
   "toc_position": {},
   "toc_section_display": true,
   "toc_window_display": false
  }
 },
 "nbformat": 4,
 "nbformat_minor": 2
}
