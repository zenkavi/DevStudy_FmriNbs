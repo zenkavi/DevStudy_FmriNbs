{
 "cells": [
  {
   "cell_type": "markdown",
   "metadata": {
    "hide_input": false
   },
   "source": [
    "# Expanding on Ito et al. (2017) to recover simulated task activity using connectivity matrix\n"
   ]
  },
  {
   "cell_type": "markdown",
   "metadata": {},
   "source": [
    "Set up environment"
   ]
  },
  {
   "cell_type": "code",
   "execution_count": 1,
   "metadata": {
    "jupyter": {
     "source_hidden": true
    }
   },
   "outputs": [
    {
     "name": "stderr",
     "output_type": "stream",
     "text": [
      "/Users/zeynepenkavi/anaconda/envs/py37/lib/python3.7/site-packages/statsmodels/compat/pandas.py:49: FutureWarning: The Panel class is removed from pandas. Accessing it from the top-level namespace will also be removed in the next version\n",
      "  data_klasses = (pandas.Series, pandas.DataFrame, pandas.Panel)\n"
     ]
    }
   ],
   "source": [
    "from collections import OrderedDict\n",
    "import copy\n",
    "import sys\n",
    "import numpy as np\n",
    "import matplotlib.pyplot as plt\n",
    "%matplotlib inline\n",
    "import pandas as pd\n",
    "import seaborn as sns\n",
    "sns.set_style(\"white\")\n",
    "import scipy.stats as stats\n",
    "import statsmodels.api as sm"
   ]
  },
  {
   "cell_type": "markdown",
   "metadata": {},
   "source": [
    "Import custom modules"
   ]
  },
  {
   "cell_type": "code",
   "execution_count": 2,
   "metadata": {
    "jupyter": {
     "source_hidden": true
    }
   },
   "outputs": [],
   "source": [
    "sys.path.append('../')\n",
    "sys.path.append('../../utils/')\n",
    "\n",
    "# Primary module with most model functions\n",
    "import model"
   ]
  },
  {
   "cell_type": "markdown",
   "metadata": {},
   "source": [
    "Helper functions"
   ]
  },
  {
   "cell_type": "code",
   "execution_count": 3,
   "metadata": {
    "jupyter": {
     "source_hidden": true
    }
   },
   "outputs": [],
   "source": [
    "phi = lambda x: np.tanh(x)\n",
    "\n",
    "inv_phi = lambda x: np.arctanh(x)\n",
    "\n",
    "def check_symmetric(a, rtol=1e-05, atol=1e-08):\n",
    "    return np.allclose(a, a.T, rtol=rtol, atol=atol)"
   ]
  },
  {
   "cell_type": "markdown",
   "metadata": {},
   "source": [
    "\n",
    "## Neural network model\n",
    "\n",
    "In this notebook we expand on simulations described in [Ito et al. (2017)](https://www.nature.com/articles/s41467-017-01000-w.pdf). Ito et al. propose a dynamic neural network model to simulate resting state and task data. Accordingly change in activity in each node is a function of the local connectivity determined by $s$, global connectivity determined by $g$ and task activity for that node described in $I$\n",
    "\n",
    "\\begin{equation*}\n",
    "\\frac{dx_i}{dt}\\tau_i = -x_i(t) + s\\phi\\big(x_i(t)\\big) + g\\Bigg(\\sum_{j\\neq i}^{N} W_{ij}\\phi\\big(x_j(t)\\big)\\Bigg) + I_i(t)\n",
    "\\end{equation*}"
   ]
  },
  {
   "cell_type": "markdown",
   "metadata": {},
   "source": [
    "where transformation function $\\phi$ is\n",
    "\\begin{equation*}\n",
    "\\phi(x) = \\tanh(x) = \\frac{\\sinh(x)}{\\cosh(x)} = \\frac{e^{2x}-1}{e^{2x}+1}\n",
    "\\end{equation*}\n",
    "\n",
    "This transformation is intended to introduce *\"a nonlinearity to the interactions among units that is\n",
    "similar to aggregate nonlinearity from neuronal action potentials\"* as explained in [Cole et al. (2016)](https://www.nature.com/articles/nn.4406.pdf). The effect of this transformation can be seen below in the attenuated signal of the transformed timeseries."
   ]
  },
  {
   "cell_type": "code",
   "execution_count": null,
   "metadata": {
    "jupyter": {
     "source_hidden": true
    }
   },
   "outputs": [],
   "source": [
    "plt.rcParams[\"figure.figsize\"][0] = 6\n",
    "plt.rcParams[\"figure.figsize\"][1] = 5\n",
    "a = np.random.normal(size=100)\n",
    "pa = phi(a)\n",
    "plt.plot(a, label=\"Untransformed\")\n",
    "plt.plot(pa, label=\"Transformed\")\n",
    "plt.axhline(y=1,linewidth=2, color='gray', ls = \"--\")\n",
    "plt.axhline(y=-1,linewidth=2, color='gray', ls = \"--\")\n",
    "plt.legend()"
   ]
  },
  {
   "cell_type": "markdown",
   "metadata": {},
   "source": [
    "In Ito et al. (2017) $\\tau_i$, $s$, $g$ and $dt$ are set to 1. This simplifies the equation to:\n",
    "\n",
    "\\begin{equation*}\n",
    "x_i(t) + \\frac{dx_i}{dt} = \\phi\\big(x_i(t)\\big) + \\sum_{j\\neq i}^{N} W_{ij}\\phi\\big(x_j(t)\\big) + I_i(t)\n",
    "\\end{equation*}"
   ]
  },
  {
   "cell_type": "markdown",
   "metadata": {},
   "source": [
    "Note in the synaptic connectivity weight matrix:\n",
    "\n",
    "`W[..., x]` : column x of matrix denotes all outgoing connection weights from node x  \n",
    "`W[x, ...]` : row x of matrix denotes all incoming connection weights to node x"
   ]
  },
  {
   "cell_type": "markdown",
   "metadata": {},
   "source": [
    "`taskdata` is an $n$ by $t$ matrix containing the timeseries for each node where $n$-rows are for nodes and $t$ columns are for the time points.\n",
    "\n",
    "It is generated by updating each column (each time point) for **all nodes**  \n",
    "\n",
    "At each time point the differential equation describing the change in activity is solved using the [Runge-Kutta second order method](https://lpsa.swarthmore.edu/NumInt/NumIntSecond.html). Runge-Kutta methods are used to discretize the problem of updating values for continuous time when solving differential equations. Ito et al. hypothesize the differential equation determining the amount of change in each timestep as:\n",
    "\n",
    "\\begin{equation*}\n",
    "\\frac{dx_i}{dt} = \\frac{-x_i(t) + g\\Bigg(\\sum_{j\\neq i}^{N} W_{ij}\\phi\\big(x_j(t)\\big)\\Bigg) + s\\phi\\big(x_i(t)\\big) + I_i(t)}{\\tau_i}\n",
    "\\end{equation*}\n",
    "\n",
    "Thus `taskdata` for all nodes $x_i$ consists of the current activity plus a weighted sum of approximate changes in activity calculated using the differential equation.\n",
    "\n",
    "\\begin{equation*}\n",
    "x_{i}(t+dt) = x_{i}(t) + \\frac{k1_{i}+k2_{i}}{2}\n",
    "\\end{equation*}\n",
    "\n",
    "The first derivative based on $t(0)$ that is used for the approximation is\n",
    "\n",
    "\\begin{equation*}\n",
    "k1_{i} = \\frac{-x_{i}(t) + g\\Bigg(\\sum_{j\\neq i}^{N} W_{ij}\\phi\\big(\\hat{I}_j(t)\\big)\\Bigg) + s\\phi\\big(x_{i}(t)\\big) + \\hat{I}_{i}(t)}{\\tau}\n",
    "\\end{equation*}\n",
    "\n",
    "$\\hat{I}_{i}(t)$ is the spontaneous activity that is the sum of randomly generated noise and task-related stimulation ($\\hat{I}_{i}(t) = {I}_{i}(t)+\\epsilon(t)$). Since the column-vector of task-related stimulation activity is very sparse ($|I_{i}(t)| \\neq 0$ only for $i$ that is the third of the hub nodes and only for a short window of timepoints $t$) **most of the activity feeds into updating the activity of a node is noise (which in this framework is the equivalent of rest activity)**.\n",
    "\n",
    "Using this slope the first intermediate approximation at the endpoint is\n",
    "\n",
    "\\begin{equation*}\n",
    "x_{i}^*(t+dt) = x_{i}(t) + k1_{i} dt\n",
    "\\end{equation*}\n",
    "\n",
    "and the second order approximation for the change in activity is\n",
    "\n",
    "\\begin{equation*}\n",
    "k2_{i} = \\frac{-x_{i}^*(t+dt) + g\\Bigg(\\sum_{j\\neq i}^{N} W_{ij}\\phi\\big(\\hat{I}_j(t+1)\\big)\\Bigg) + s\\phi\\big(x_{i}^*(t+dt)\\big) + \\hat{I}_{i}(t+1)}{\\tau}\n",
    "\\end{equation*}\n",
    "\n",
    "If we discretize and work through the algebra the row-wise (node-centric) 'expanded' GLM for the column-wise (timepoint-centric) generated data using the Runge-Kutte method would be:\n",
    "\n",
    "\\begin{equation*}\n",
    "x_{i}(t+1) = x_{i}(t) + dt\\frac{k1_{i}+k2_{i}}{2}\n",
    "\\end{equation*}"
   ]
  },
  {
   "cell_type": "markdown",
   "metadata": {},
   "source": [
    "\\begin{equation*}\n",
    "x_{i}(t+1) = x_{i}(t) + dt\\frac{\\frac{-x_{i}(t) + g\\Bigg(\\sum_{j\\neq i}^{N} W_{ij}\\phi\\big(\\hat{I}_j(t)\\big)\\Bigg) + s\\phi\\big(x_{i}(t)\\big) + \\hat{I}_{i}(t)}{\\tau}+\\frac{-x_{i}^*(t+dt) + g\\Bigg(\\sum_{j\\neq i}^{N} W_{ij}\\phi\\big(\\hat{I}_j(t+1)\\big)\\Bigg) + s\\phi\\big(x_{i}^*(t+dt)\\big) + \\hat{I}_{i}(t+1)}{\\tau}}{2}\n",
    "\\end{equation*}"
   ]
  },
  {
   "cell_type": "markdown",
   "metadata": {},
   "source": [
    "Replacing $x_{i}^*(t+dt)$\n",
    "\n",
    "\\begin{equation*}\n",
    "x_{i}(t+1) = x_{i}(t) + dt\\frac{\\frac{-x_{i}(t) + g\\Bigg(\\sum_{j\\neq i}^{N} W_{ij}\\phi\\big(\\hat{I}_j(t)\\big)\\Bigg) + s\\phi\\big(x_{i}(t)\\big) + \\hat{I}_{i}(t)}{\\tau}+\\frac{-x_{i}(t) - k1_{i} dt + g\\Bigg(\\sum_{j\\neq i}^{N} W_{ij}\\phi\\big(\\hat{I}_j(t+1)\\big)\\Bigg) + s\\phi\\big(x_{i}(t) + k1_{i} dt\\big) + \\hat{I}_{i}(t+1)}{\\tau}}{2}\n",
    "\\end{equation*}"
   ]
  },
  {
   "cell_type": "markdown",
   "metadata": {},
   "source": [
    "To write out a general equation for $x_i(t+1)$ first we replace the $k1_i$ in the equation. Since $k1_i$ appears always in the context of $x_i(t)+k1_idt$ we plug in the formula for $k1_i$ into this expression and simplify\n",
    "\n",
    "\\begin{equation*}\n",
    "x_{i}(t) + k1_{i}dt = x_{i}(t)+dt\\frac{-x_{i}(t) + g\\Bigg(\\sum_{j\\neq i}^{N} W_{ij}\\phi\\big(\\hat{I}_j(t)\\big)\\Bigg) + s\\phi\\big(x_{i}(t)\\big) + \\hat{I}_{i}(t)}{\\tau}\n",
    "\\end{equation*}\n",
    "\n",
    "\\begin{equation*}\n",
    "x_{i}(t) + k1_{i}dt = \\frac{\\tau-dt}{\\tau}x_{i}(t)+\\frac{dt}{\\tau}\\Bigg[g\\Bigg(\\sum_{j\\neq i}^{N} W_{ij}\\phi\\big(\\hat{I}_j(t)\\big)\\Bigg) + s\\phi\\big(x_{i}(t)\\big) + \\hat{I}_{i}(t)\\Bigg]\n",
    "\\end{equation*}\n"
   ]
  },
  {
   "cell_type": "markdown",
   "metadata": {},
   "source": [
    "Then we use this expression in the formula of $x_{i}(t+1)$ \n",
    "\n",
    "\\begin{equation*}\n",
    "x_{i}(t+1) = x_{i}(t) + \\frac{dt}{2\\tau}\\Bigg[-x_{i}(t) + g\\Bigg(\\sum_{j\\neq i}^{N} W_{ij}\\phi\\big(\\hat{I}_j(t)\\big)\\Bigg) + s\\phi\\big(x_{i}(t)\\big) + \\hat{I}_{i}(t) - \\big(x_{i}(t) + k1_{i} dt\\big) + g\\Bigg(\\sum_{j\\neq i}^{N} W_{ij}\\phi\\big(\\hat{I}_j(t+1)\\big)\\Bigg) + s\\phi\\big(x_{i}(t) + k1_{i} dt\\big) + \\hat{I}_{i}(t+1)\\Bigg]\n",
    "\\end{equation*}"
   ]
  },
  {
   "cell_type": "markdown",
   "metadata": {},
   "source": [
    "Plugging in $x_{i}(t) + k1_{i}dt$\n",
    "\n",
    "\\begin{equation*}\n",
    "x_{i}(t+1) = x_{i}(t) + \\frac{dt}{2\\tau}\\Bigg[-x_{i}(t) + g\\Bigg(\\sum_{j\\neq i}^{N} W_{ij}\\phi\\big(\\hat{I}_j(t)\\big)\\Bigg) + s\\phi\\big(x_{i}(t)\\big) + \\hat{I}_{i}(t) - \\big(\\frac{\\tau-dt}{\\tau}x_{i}(t)+\\frac{dt}{\\tau}\\Bigg[g\\Bigg(\\sum_{j\\neq i}^{N} W_{ij}\\phi\\big(\\hat{I}_j(t)\\big)\\Bigg) + s\\phi\\big(x_{i}(t)\\big) + \\hat{I}_{i}(t)\\Bigg]\\big) + g\\Bigg(\\sum_{j\\neq i}^{N} W_{ij}\\phi\\big(\\hat{I}_j(t+1)\\big)\\Bigg) + s\\phi\\big(\\frac{\\tau-dt}{\\tau}x_{i}(t)+\\frac{dt}{\\tau}\\Bigg[g\\Bigg(\\sum_{j\\neq i}^{N} W_{ij}\\phi\\big(\\hat{I}_j(t)\\big)\\Bigg) + s\\phi\\big(x_{i}(t)\\big) + \\hat{I}_{i}(t)\\Bigg]\\big) + \\hat{I}_{i}(t+1)\\Bigg]\n",
    "\\end{equation*}"
   ]
  },
  {
   "cell_type": "markdown",
   "metadata": {},
   "source": [
    "Simplifying common terms\n",
    "\n",
    "\\begin{equation*}\n",
    "x_{i}(t+1) = x_{i}(t) + \\frac{dt}{2\\tau}\\Bigg[\\frac{dt-2\\tau}{\\tau}x_{i}(t) + \\frac{\\tau-dt}{\\tau}\\Bigg[g\\Bigg(\\sum_{j\\neq i}^{N} W_{ij}\\phi\\big(\\hat{I}_j(t)\\big)\\Bigg) + s\\phi\\big(x_{i}(t)\\big) + \\hat{I}_{i}(t)\\Bigg] + g\\Bigg(\\sum_{j\\neq i}^{N} W_{ij}\\phi\\big(\\hat{I}_j(t+1)\\big)\\Bigg) + s\\phi\\big(\\frac{\\tau-dt}{\\tau}x_{i}(t)+\\frac{dt}{\\tau}\\Bigg[g\\Bigg(\\sum_{j\\neq i}^{N} W_{ij}\\phi\\big(\\hat{I}_j(t)\\big)\\Bigg) + s\\phi\\big(x_{i}(t)\\big) + \\hat{I}_{i}(t)\\Bigg]\\big) + \\hat{I}_{i}(t+1)\\Bigg]\n",
    "\\end{equation*}"
   ]
  },
  {
   "cell_type": "markdown",
   "metadata": {},
   "source": [
    "Extracting $x_{i}(t)$ outside the rest of the expression\n",
    "\n",
    "\\begin{equation*}\n",
    "x_{i}(t+1) = \\frac{2\\tau^2+dt(dt-2\\tau)}{2\\tau^2}x_{i}(t) + \\frac{dt}{2\\tau}\\Bigg[\\frac{\\tau-dt}{\\tau}\\Bigg(g\\Bigg(\\sum_{j\\neq i}^{N} W_{ij}\\phi\\big(\\hat{I}_j(t)\\big)\\Bigg) + s\\phi\\big(x_{i}(t)\\big) + \\hat{I}_{i}(t)\\Bigg) + g\\Bigg(\\sum_{j\\neq i}^{N} W_{ij}\\phi\\big(\\hat{I}_j(t+1)\\big)\\Bigg) + s\\phi\\big(\\frac{\\tau-dt}{\\tau}x_{i}(t)+\\frac{dt}{\\tau}\\Bigg(g\\Bigg(\\sum_{j\\neq i}^{N} W_{ij}\\phi\\big(\\hat{I}_j(t)\\big)\\Bigg) + s\\phi\\big(x_{i}(t)\\big) + \\hat{I}_{i}(t)\\Bigg)\\big) + \\hat{I}_{i}(t+1)\\Bigg]\n",
    "\\end{equation*}"
   ]
  },
  {
   "cell_type": "markdown",
   "metadata": {},
   "source": [
    "This is a pretty messy expression. In words it describes the activity in the next time point for a node as a function of:\n",
    "- current node activity \n",
    "- current activity depending on connectivity with other nodes, local connectivity and task stimulation \n",
    "- activity in the next time step depending on connectivity with other nodes, first order approximation in the current node and task stimulation  \n",
    "all of which are weigted by different constants that depends on the time steps\n",
    "\n",
    "Since this is just the generalized form of the simplified extended GLM equation including all the terms that were previously omitted because their values were known to be 1 we should get the same results if we rewrite the code for the extended GLM with this equation."
   ]
  },
  {
   "cell_type": "markdown",
   "metadata": {},
   "source": [
    "We can use this equation to expand the traditinal GLM. A traditional GLM would have modeled\n",
    "\n",
    "\\begin{equation*}\n",
    "x_{i}(t) = h(t) \\circledast I(t) + \\epsilon_i(t)\n",
    "\\end{equation*}\n",
    "\n",
    "that is the activity of a voxel at a given time point would have been a function of the convolved task activity for that node at that time point plus some noise (For these simulations we ignore other movement confounds etc. included in level 1 models in real data).  "
   ]
  },
  {
   "cell_type": "markdown",
   "metadata": {},
   "source": [
    "Note: Extending the GLM in this way is intended to account for the connectivity between nodes and how **task** activity in the previous step affects task activity in the current step for a given node. I don't think this is the same thing as 'subtracting out' resting state to look at the remaining task activity.\n"
   ]
  },
  {
   "cell_type": "markdown",
   "metadata": {},
   "source": [
    "## Extended GLM functions"
   ]
  },
  {
   "cell_type": "code",
   "execution_count": 4,
   "metadata": {
    "jupyter": {
     "source_hidden": true
    }
   },
   "outputs": [],
   "source": [
    "def run_ucr_glm(all_nodes_ts, task_reg):\n",
    "    nregions = all_nodes_ts.shape[0]\n",
    "    ucr_task_betas = np.zeros((nregions))\n",
    "    \n",
    "    for region in range(0, nregions):\n",
    "        cur_y = all_nodes_ts[region,:]\n",
    "        ucr_mod = sm.OLS(cur_y, task_reg)\n",
    "        ucr_res = ucr_mod.fit()\n",
    "        ucr_task_betas[region] = ucr_res.params[0]\n",
    "    \n",
    "    return ucr_task_betas"
   ]
  },
  {
   "cell_type": "code",
   "execution_count": 5,
   "metadata": {
    "jupyter": {
     "source_hidden": true
    }
   },
   "outputs": [],
   "source": [
    "def run_ext_glm(all_nodes_ts, task_reg, weight_matrix, dt, tau, g, s): \n",
    "    \n",
    "    nregions = all_nodes_ts.shape[0]\n",
    "    ext_task_betas = np.zeros((nregions))\n",
    "    \n",
    "    for region in range(0, nregions):\n",
    "        cur_y = all_nodes_ts[region,:]\n",
    "        incoming_connections = weight_matrix[region, :]\n",
    "        incoming_connections = np.delete(incoming_connections,region)\n",
    "        drop_region = [region]\n",
    "        \n",
    "        #DV\n",
    "        next_y = cur_y[1:] #shift column up to predict activity in next time point\n",
    "\n",
    "        #IV 1\n",
    "        cur_y = cur_y[:-1] #drop last time point\n",
    "        cur_y = ((2*(tau**2)+dt*(dt-2*tau))/(2*(tau**2)))*cur_y\n",
    "        \n",
    "        #IV 2\n",
    "        other_ns_cur_spont = np.delete(all_nodes_ts, drop_region, axis=0)[:,:-1] #dropping last col/timepoint\n",
    "        other_ns_cur_spont = other_ns_cur_spont.T\n",
    "        other_ns_cur_spont = np.apply_along_axis(phi, 0, other_ns_cur_spont)\n",
    "        other_ns_cur_spont = np.sum(other_ns_cur_spont*incoming_connections, axis = 1) \n",
    "        other_ns_cur_spont = (dt/(2*tau))*((tau-dt)/tau)*g*other_ns_cur_spont\n",
    "        \n",
    "        #IV 3\n",
    "        cur_y_phi = all_nodes_ts[region,:]\n",
    "        cur_y_phi = cur_y_phi[:-1]\n",
    "        cur_y_phi = (dt/(2*tau))*((tau-dt)/tau)*s*phi(cur_y_phi)\n",
    "        \n",
    "        #IV 4\n",
    "        cur_n_task = (dt/(2*tau))*((tau-dt)/tau)*task_reg[:-1]\n",
    "        \n",
    "        #IV 5\n",
    "        other_ns_next_spont = np.delete(all_nodes_ts, drop_region, axis=0)[:,1:] #dropping first col/timepoint\n",
    "        other_ns_next_spont = other_ns_next_spont.T\n",
    "        other_ns_next_spont = np.apply_along_axis(phi, 0, other_ns_next_spont)\n",
    "        other_ns_next_spont = np.sum(other_ns_next_spont*incoming_connections, axis = 1)\n",
    "        other_ns_next_spont = (dt/(2*tau))*g*other_ns_next_spont\n",
    "        \n",
    "        #IV 6\n",
    "        cur_n_first_appr = all_nodes_ts[region,:]\n",
    "        cur_n_first_appr = cur_n_first_appr[:-1]\n",
    "        cur_n_first_appr = ((tau-dt)/tau)*cur_n_first_appr\n",
    "        tmp = np.delete(all_nodes_ts, drop_region, axis=0)[:,:-1] #dropping last col/timepoint\n",
    "        tmp = tmp.T\n",
    "        tmp = np.apply_along_axis(phi, 0, tmp)\n",
    "        tmp = np.sum(tmp*incoming_connections, axis = 1) \n",
    "        tmp = (dt/tau)*g*tmp\n",
    "        cur_n_first_appr = cur_n_first_appr+tmp\n",
    "        tmp = all_nodes_ts[region,:]\n",
    "        tmp = tmp[:-1]\n",
    "        tmp = s*phi(tmp)\n",
    "        cur_n_first_appr = cur_n_first_appr+tmp\n",
    "        cur_n_first_appr = cur_n_first_appr+task_reg[:-1]\n",
    "        cur_n_first_appr = (dt/(2*tau))*s*phi(cur_n_first_appr)\n",
    "        \n",
    "        #IV 7\n",
    "        cur_n_next_task = (dt/(2*tau))*task_reg[1:]\n",
    "        \n",
    "        #All IVs in design matrix\n",
    "        ext_des_mat = np.concatenate((cur_y.reshape(-1,1), other_ns_cur_spont.reshape(-1,1)), 1)\n",
    "        ext_des_mat = np.concatenate((ext_des_mat, cur_y_phi.reshape(-1,1)), 1)\n",
    "        ext_des_mat = np.concatenate((ext_des_mat, cur_n_task.reshape(-1,1)), 1)\n",
    "        ext_des_mat = np.concatenate((ext_des_mat, other_ns_next_spont.reshape(-1,1)), 1)\n",
    "        ext_des_mat = np.concatenate((ext_des_mat, cur_n_first_appr.reshape(-1,1)), 1)\n",
    "        ext_des_mat = np.concatenate((ext_des_mat, cur_n_next_task.reshape(-1,1)), 1)\n",
    "\n",
    "        ext_mod = sm.OLS(next_y, ext_des_mat)\n",
    "        ext_res = ext_mod.fit()\n",
    "        ext_params = ext_res.params\n",
    "\n",
    "        ext_task_betas[region] = ext_params[6]\n",
    "    \n",
    "    return ext_task_betas\n",
    "\n"
   ]
  },
  {
   "cell_type": "markdown",
   "metadata": {},
   "source": [
    "## Wrapper around network simulation and regression"
   ]
  },
  {
   "cell_type": "code",
   "execution_count": 6,
   "metadata": {
    "jupyter": {
     "source_hidden": true
    }
   },
   "outputs": [],
   "source": [
    "def make_stimtimes(Tmax, dt, stim_nodes, stim_mag, tasktiming=None, ncommunities = 3,nodespercommunity = 35):\n",
    "    totalnodes = nodespercommunity*ncommunities\n",
    "    T = np.arange(0,Tmax,dt)\n",
    "    # Construct timing array for convolution \n",
    "    # This timing is irrespective of the task being performed\n",
    "    # Tasks are only determined by which nodes are stimulated\n",
    "    if tasktiming is None:\n",
    "        tasktiming = np.zeros((1,len(T)))\n",
    "        for t in range(len(T)):\n",
    "            if t%2000>500 and t%2000<1000:\n",
    "                tasktiming[0,t] = 1.0\n",
    "    stimtimes = np.zeros((totalnodes,len(T)))\n",
    "    \n",
    "    # When task is ON the activity for a stim_node at that time point changes the size of stim_mag\n",
    "    for t in range(len(T)):\n",
    "        if tasktiming[0,t] == 1:\n",
    "            stimtimes[stim_nodes,t] = stim_mag\n",
    "            \n",
    "    return(stimtimes)"
   ]
  },
  {
   "cell_type": "code",
   "execution_count": 7,
   "metadata": {
    "jupyter": {
     "source_hidden": true
    }
   },
   "outputs": [],
   "source": [
    "def sim_network_task_glm(ncommunities = 3, \n",
    "                         innetwork_dsity = .60, \n",
    "                         outnetwork_dsity = .08, \n",
    "                         hubnetwork_dsity = .25, \n",
    "                         nodespercommunity = 35, \n",
    "                         plot_network = False,\n",
    "                         dt = 1, tau = 1, g = 1, s = 1, \n",
    "                         topdown = True, bottomup = False, \n",
    "                         local_com = 1, \n",
    "                         Tmax = 100000, \n",
    "                         plot_task = False, \n",
    "                         stimsize = np.floor(35/3.0), \n",
    "                         tasktiming = None, \n",
    "                         noise = 1,\n",
    "                         stim_mag = .5,\n",
    "                         plot_glm = True):\n",
    "\n",
    "    totalnodes = nodespercommunity*ncommunities\n",
    "\n",
    "    # Construct structural matrix\n",
    "    S = model.generateStructuralNetwork(ncommunities=ncommunities,\n",
    "                                        innetwork_dsity=innetwork_dsity,\n",
    "                                        outnetwork_dsity=outnetwork_dsity,\n",
    "                                        hubnetwork_dsity=hubnetwork_dsity,\n",
    "                                        nodespercommunity=nodespercommunity,\n",
    "                                        showplot=plot_network)\n",
    "    # Construct synaptic matrix\n",
    "    W = model.generateSynapticNetwork(S, showplot=plot_network)\n",
    "\n",
    "    if plot_network:\n",
    "        plt.rcParams[\"figure.figsize\"][0] = 5\n",
    "        plt.rcParams[\"figure.figsize\"][1] = 4\n",
    "        sns.heatmap(W, xticklabels=False, yticklabels=False)\n",
    "        plt.xlabel('Regions')\n",
    "        plt.ylabel('Regions')\n",
    "        plt.title(\"Synaptic Weight Matrix -- Coupling Matrix\")\n",
    "\n",
    "    T = np.arange(0,Tmax,dt)\n",
    "\n",
    "    # Construct timing array for convolution \n",
    "    # This timing is irrespective of the task being performed\n",
    "    # Tasks are only determined by which nodes are stimulated\n",
    "    if tasktiming is None:\n",
    "        tasktiming = np.zeros((1,len(T)))\n",
    "        for t in range(len(T)):\n",
    "            if t%2000>500 and t%2000<1000:\n",
    "                tasktiming[0,t] = 1.0\n",
    "\n",
    "    if plot_task:\n",
    "        if len(T)>9999:\n",
    "            plt.plot(T[:10000], tasktiming[0,:10000])\n",
    "            plt.ylim(top = 1.2, bottom = -0.1)\n",
    "        else:\n",
    "            plt.plot(T, tasktiming[0,:])\n",
    "            plt.ylim(top = 1.2, bottom = -0.1)\n",
    "\n",
    "    stimtimes = np.zeros((totalnodes,len(T)))\n",
    "\n",
    "    # Construct a community affiliation vector\n",
    "    Ci = np.repeat(np.arange(ncommunities),nodespercommunity) \n",
    "    # Identify the regions associated with the hub network (hub network is by default the 0th network)\n",
    "    hub_ind = np.where(Ci==0)[0] \n",
    "\n",
    "    if topdown:\n",
    "        stim_nodes_td = np.arange(0, stimsize,dtype=int)\n",
    "    else:\n",
    "        stim_nodes_td = None\n",
    "    \n",
    "    if bottomup:\n",
    "        # Identify indices for one of the local communities\n",
    "        local_ind = np.where(Ci==local_com)[0] \n",
    "        # Identify efferent connections from local network to hub network\n",
    "        W_mask = np.zeros((W.shape))\n",
    "        W_mask[local_ind,hub_ind] = 1.0\n",
    "        local2hub_connects = np.multiply(W,W_mask)\n",
    "        local_regions_wcon = np.where(local2hub_connects!=0)[0]\n",
    "        local_regions_ncon = np.setdiff1d(local_ind,local_regions_wcon)\n",
    "        #If there are enough nodes in the local community with hub connections:\n",
    "        if len(local_regions_wcon)>= np.floor(stimsize/2):\n",
    "            #Half of the stimulated local community nodes have hub connections while the other does not\n",
    "            stim_nodes_bu = np.hstack((np.random.choice(local_regions_ncon, int(np.floor(stimsize/2)), replace=False),\n",
    "                                np.random.choice(local_regions_wcon, int(stimsize-np.floor(stimsize/2)), replace=False)))\n",
    "        else:\n",
    "            stim_nodes_bu = np.hstack((np.random.choice(local_regions_wcon, len(local_regions_wcon), replace=False),\n",
    "                                np.random.choice(local_regions_ncon, int(stimsize-len(local_regions_wcon)), replace=False)))\n",
    "    else:\n",
    "        stim_nodes_bu = None\n",
    "    \n",
    "    if stim_nodes_td is not None and stim_nodes_bu is not None:\n",
    "        stim_nodes = np.hstack((stim_nodes_td, stim_nodes_bu))\n",
    "    elif stim_nodes_td is not None and stim_nodes_bu is None:\n",
    "        stim_nodes = stim_nodes_td\n",
    "    else:\n",
    "        stim_nodes = stim_nodes_bu\n",
    "    \n",
    "    # When task is ON the activity for a stim_node at that time point changes the size of stim_mag\n",
    "    for t in range(len(T)):\n",
    "        if tasktiming[0,t] == 1:\n",
    "            stimtimes[stim_nodes,t] = stim_mag\n",
    "\n",
    "    #Make task data\n",
    "    out = model.networkModel(W,Tmax=Tmax,dt=dt,g=g,s=s,tau=tau, I=stimtimes, noise=noise)\n",
    "    taskdata = out[0]\n",
    "    \n",
    "    #Use only a subset of data for GLM's if it's too long\n",
    "    if taskdata.shape[1]>44999:\n",
    "        short_lim = int(np.floor(taskdata.shape[1]/3))\n",
    "        y = copy.copy(taskdata[:,:short_lim])\n",
    "        I = copy.copy(stimtimes[:,:short_lim])\n",
    "    else:\n",
    "        y = copy.copy(taskdata)\n",
    "        I = copy.copy(stimtimes)\n",
    "\n",
    "    # Run uncorrected and extended GLM to compare task regressor\n",
    "    ucr_glm = run_ucr_glm(all_nodes_ts = y, task_reg = I[stim_nodes[0],:])\n",
    "    ext_glm = run_ext_glm(all_nodes_ts = y, task_reg = I[stim_nodes[0],:], \n",
    "                          weight_matrix = W, dt = dt, tau = tau, g = g, s = s)\n",
    "        \n",
    "    return(W, ucr_glm, ext_glm, stim_nodes)\n",
    "\n"
   ]
  },
  {
   "cell_type": "markdown",
   "metadata": {},
   "source": [
    "## Baseline simulation\n",
    "\n",
    "One hub network and topdown task."
   ]
  },
  {
   "cell_type": "code",
   "execution_count": 8,
   "metadata": {
    "jupyter": {
     "source_hidden": true
    }
   },
   "outputs": [],
   "source": [
    "base_W, base_ucr_glm, base_ext_glm, base_stim_nodes = sim_network_task_glm()"
   ]
  },
  {
   "cell_type": "code",
   "execution_count": null,
   "metadata": {
    "jupyter": {
     "source_hidden": true
    }
   },
   "outputs": [],
   "source": [
    "ncoms = 3\n",
    "nnods = 35\n",
    "true_task_stim = np.zeros(ncoms*nnods)\n",
    "true_task_stim[base_stim_nodes] = .5\n",
    "plt.rcParams[\"figure.figsize\"][0] = 8\n",
    "plt.rcParams[\"figure.figsize\"][1] = 6\n",
    "plt.plot(base_ucr_glm, color = \"blue\", label = \"Classic GLM\")\n",
    "plt.plot(base_ext_glm, color = \"green\", label = \"Extended GLM\")\n",
    "plt.plot(true_task_stim, color = \"black\", label = \"True task activity\")\n",
    "plt.ylabel('Beta',fontsize=14)\n",
    "plt.xlabel('Node',fontsize=14)\n",
    "for n in range(1,ncoms):\n",
    "    plt.axvline(x=nnods*n,linewidth=2, color='gray', ls = \"--\")\n",
    "plt.legend(loc=\"best\")\n",
    "plt.text(x = 15, y = 2, s = \"Hub\", fontsize = 14)\n",
    "plt.text(x = 45, y = 2, s = \"Local 1\", fontsize = 14)\n",
    "plt.text(x = 85, y = 2, s = \"Local 2\", fontsize = 14)"
   ]
  },
  {
   "cell_type": "markdown",
   "metadata": {},
   "source": [
    "## Different noise levels"
   ]
  },
  {
   "cell_type": "markdown",
   "metadata": {},
   "source": [
    "### Baseline without noise\n",
    "\n",
    "Why are the estimates for both GLM's more variable when turning **off** the noise in the data generation process?"
   ]
  },
  {
   "cell_type": "code",
   "execution_count": null,
   "metadata": {
    "jupyter": {
     "source_hidden": true
    }
   },
   "outputs": [],
   "source": [
    "new_W, new_ucr_glm, new_ext_glm, new_stim_nodes = sim_network_task_glm(noise=None)"
   ]
  },
  {
   "cell_type": "code",
   "execution_count": null,
   "metadata": {
    "jupyter": {
     "source_hidden": true
    }
   },
   "outputs": [],
   "source": [
    "plt.plot(base_ucr_glm, color = \"blue\", alpha = .5, label = \"Classic GLM (with noise)\")\n",
    "plt.plot(base_ext_glm, color = \"green\", alpha = .5, label = \"Extended GLM (with noise)\")\n",
    "plt.plot(new_ucr_glm, color = \"blue\", label = \"Classic GLM (no noise)\")\n",
    "plt.plot(new_ext_glm, color = \"green\", label = \"Extended GLM (no noise)\")\n",
    "plt.plot(true_task_stim, color = \"black\", label = \"True task activity\")\n",
    "plt.ylabel('Beta',fontsize=14)\n",
    "plt.xlabel('Node',fontsize=14)\n",
    "for n in range(1,ncoms):\n",
    "    plt.axvline(x=nnods*n,linewidth=2, color='gray', ls = \"--\")\n",
    "plt.legend(loc=\"best\")"
   ]
  },
  {
   "cell_type": "code",
   "execution_count": null,
   "metadata": {
    "jupyter": {
     "source_hidden": true
    }
   },
   "outputs": [],
   "source": [
    "del new_W, new_ucr_glm, new_ext_glm, new_stim_nodes"
   ]
  },
  {
   "cell_type": "markdown",
   "metadata": {},
   "source": [
    "Task parameter estimates should capture the relationship between a fixed task regressor and the time series of a node in the classic GLM and accounting for the change in activity in the whole network in the extended GLM.  \n",
    "Task parameter estimates can get worse in two ways:\n",
    "\n",
    "- bias [higher mean]: the correlation between the timeseries and task regressor is stronger for a given node\n",
    "- variance [more variable estimates]: the correlation between the timeseries and the task regressor varies more across nodes. Since the task regressor is the same for all nodes (since we wouldn't empirically know which nodes are stimulated by it) this increased variability would have to be due to increased variability in the timeseries across nodes. \n",
    "\n",
    "In the case above it is counterintuitive to see more variable and more biased estimated when noise is 'reduced'\n",
    "BUT I think this might be due to the amount of noise that is added to the data and how it compounds across the network compared to the smaller change in activity driven by the task\n",
    "The noise added to each node is so large (compared to task activity) and similar to each other that the estimates of the relationship between the task regressor and the node's timeseries are similar to each other too. (?)\n",
    "\n",
    "To get a good sense of the effect of the noise parameter on the timeseries of stimulated and non-stimulated nodes we generate task data using the same underlying connectivity matrix and task timing with varying amounts of noise.\n",
    "\n",
    "In the baseline simulation noise has a normal distribution with $\\mu = 0$ and $\\sigma = 1$. Below we simulate noise with different standard deviations and examine this parameter's effect on the timeseries of stimulated and non-stimulated nodes; the GLM estimates for the classic method and extended method."
   ]
  },
  {
   "cell_type": "markdown",
   "metadata": {},
   "source": [
    "### Comparing noise levels"
   ]
  },
  {
   "cell_type": "code",
   "execution_count": 9,
   "metadata": {
    "jupyter": {
     "source_hidden": true
    }
   },
   "outputs": [],
   "source": [
    "td_stimtimes_0_5 = make_stimtimes(Tmax=10000, dt=1, stim_nodes=base_stim_nodes, stim_mag=0.5)"
   ]
  },
  {
   "cell_type": "code",
   "execution_count": 10,
   "metadata": {
    "jupyter": {
     "source_hidden": true
    }
   },
   "outputs": [],
   "source": [
    "noise_ts = {}\n",
    "\n",
    "noise_sds = [0, .1, .5, 1, 2]\n",
    "\n",
    "for noise_sd in noise_sds:\n",
    "    var_name = \"noise_\"+str(noise_sd)\n",
    "    noise_ts[var_name] = model.networkModel(base_W,Tmax=10000,dt=1,g=1,s=1,tau=1, I=td_stimtimes_0_5, noise=1, noise_scale = noise_sd)[0]"
   ]
  },
  {
   "cell_type": "code",
   "execution_count": 11,
   "metadata": {
    "jupyter": {
     "source_hidden": true
    }
   },
   "outputs": [
    {
     "data": {
      "text/plain": [
       "Text(0.5, 1.0, 'Non-stimulated node')"
      ]
     },
     "execution_count": 11,
     "metadata": {},
     "output_type": "execute_result"
    },
    {
     "data": {
      "image/png": "[encoded data removed]",
      "text/plain": [
       "<Figure size 1296x432 with 2 Axes>"
      ]
     },
     "metadata": {
      "needs_background": "light"
     },
     "output_type": "display_data"
    }
   ],
   "source": [
    "plt.rcParams[\"figure.figsize\"][0] = 18\n",
    "plt.rcParams[\"figure.figsize\"][1] = 6\n",
    "\n",
    "#Plot same stimulated node's timeseries with and without noise\n",
    "fig,a =  plt.subplots(1,2)\n",
    "curns = [0, 21]\n",
    "rkeys = list(noise_ts.keys())\n",
    "rkeys.reverse()\n",
    "for i in range(2):\n",
    "    curn = curns[i]\n",
    "    for j in rkeys:\n",
    "        if j == 'noise_0':\n",
    "            a[i].plot(range(noise_ts[j].shape[1]), noise_ts[j][curn,:], linewidth = 6,label=j)\n",
    "        else:\n",
    "            a[i].plot(range(noise_ts[j].shape[1]), noise_ts[j][curn,:],label=j)\n",
    "    a[i].plot(range(noise_ts[j].shape[1]), td_stimtimes_0_5[0], label=\"Task\", color=\"black\")\n",
    "    a[i].legend(loc=\"best\")\n",
    "    a[i].set_ylim([-6,6])\n",
    "a[0].set_title(\"Stimulated node\")\n",
    "a[1].set_title(\"Non-stimulated node\")"
   ]
  },
  {
   "cell_type": "code",
   "execution_count": 12,
   "metadata": {
    "jupyter": {
     "source_hidden": true
    }
   },
   "outputs": [],
   "source": [
    "ucr_glms = {}\n",
    "ext_glms = {}\n",
    "\n",
    "for k in noise_ts.keys():\n",
    "    ucr_glms[k] = run_ucr_glm(all_nodes_ts = noise_ts[k], task_reg = td_stimtimes_0_5[0])\n",
    "    ext_glms[k] = run_ext_glm(all_nodes_ts = noise_ts[k], task_reg = td_stimtimes_0_5[0], weight_matrix = base_W, dt = 1, tau = 1, g = 1, s = 1)"
   ]
  },
  {
   "cell_type": "markdown",
   "metadata": {},
   "source": [
    "Reducing noise makes the relationship between the task regressor and the time series of the node stronger. In the case of the classic GLM this exacerbates the overestimation.\n",
    "\n",
    "For the extended GLM, however, the picture is different:\n",
    "- adding a little bit of noise drastically reduces the bias and overcorrects\n",
    "- it also reduces variance in the estimates for non-stimulated nodes\n",
    "- increasing noise from a little to a more improves the overcorrection. This might be due to the specific stimulation magnitude. "
   ]
  },
  {
   "cell_type": "code",
   "execution_count": 13,
   "metadata": {
    "jupyter": {
     "source_hidden": true
    }
   },
   "outputs": [],
   "source": [
    "true_task_stim = np.zeros(3*35)\n",
    "true_task_stim[base_stim_nodes] = .5"
   ]
  },
  {
   "cell_type": "code",
   "execution_count": 14,
   "metadata": {
    "jupyter": {
     "source_hidden": true
    }
   },
   "outputs": [],
   "source": [
    "mean_baselines = {k: np.mean(v) for k, v in noise_ts.items()}"
   ]
  },
  {
   "cell_type": "code",
   "execution_count": 17,
   "metadata": {
    "jupyter": {
     "source_hidden": true
    }
   },
   "outputs": [],
   "source": [
    "flatten = lambda l: [item for sublist in l for item in sublist]\n",
    "\n",
    "def get_true_baseline(ts, stim_nodes = np.array(range(11)), nonstim_nodes = np.array(range(11, 105))):\n",
    "    stim_t = []\n",
    "    nonstim_t = []\n",
    "    \n",
    "    for t in range(len(ts[0])):\n",
    "        if t%2000>500 and t%2000<1000:\n",
    "            stim_t.append(ts[stim_nodes,t])\n",
    "        else:\n",
    "            nonstim_t.append(ts[nonstim_nodes, t])\n",
    "            \n",
    "    stim_t = flatten(stim_t)\n",
    "    nonstim_t = flatten(nonstim_t)\n",
    "    \n",
    "    return(np.mean(stim_t), np.mean(nonstim_t))"
   ]
  },
  {
   "cell_type": "code",
   "execution_count": 23,
   "metadata": {
    "jupyter": {
     "source_hidden": true
    }
   },
   "outputs": [],
   "source": [
    "col_lookup = {'noise_0': \"b\",\n",
    " 'noise_0.1': \"g\",\n",
    " 'noise_0.5': \"r\",\n",
    " 'noise_1': \"m\",\n",
    " 'noise_2': \"c\"}"
   ]
  },
  {
   "cell_type": "code",
   "execution_count": 31,
   "metadata": {
    "jupyter": {
     "source_hidden": true
    }
   },
   "outputs": [
    {
     "data": {
      "text/plain": [
       "Text(0.5, 0.98, 'Stim mag = 0.5')"
      ]
     },
     "execution_count": 31,
     "metadata": {},
     "output_type": "execute_result"
    },
    {
     "data": {
      "image/png": "[encoded data removed]",
      "text/plain": [
       "<Figure size 1296x432 with 2 Axes>"
      ]
     },
     "metadata": {
      "needs_background": "light"
     },
     "output_type": "display_data"
    }
   ],
   "source": [
    "plt.rcParams[\"figure.figsize\"][0] = 18\n",
    "plt.rcParams[\"figure.figsize\"][1] = 6\n",
    "fig, a =  plt.subplots(1,2)\n",
    "\n",
    "glms = [ucr_glms, ext_glms]\n",
    "\n",
    "for i in range(len(glms)):\n",
    "    for j in rkeys:\n",
    "        a[i].plot(glms[i][j], label = j, color = col_lookup[j])\n",
    "        a[i].plot(true_task_stim, color = \"black\")\n",
    "        stim_baseline, nonstim_baseline = get_true_baseline(noise_ts[j])\n",
    "        \n",
    "        a[i].plot(np.concatenate((np.repeat(stim_baseline, 11), np.repeat(np.nan,94))), \n",
    "                  color = col_lookup[j])\n",
    "    \n",
    "        a[i].plot(np.concatenate((np.repeat(np.nan, 11), np.repeat(nonstim_baseline,94))), color = col_lookup[j])\n",
    "        for n in range(1,3):\n",
    "            a[i].axvline(x=35*n,linewidth=2, color='gray', ls = \"--\")\n",
    "        a[i].legend(loc=\"best\")\n",
    "        a[i].set_ylim([-1.5,4.5])\n",
    "        \n",
    "plt.ylabel('Beta',fontsize=14)\n",
    "plt.xlabel('Node',fontsize=14)\n",
    "a[0].set_title(\"Classic GLM\")\n",
    "a[1].set_title(\"Extended GLM\")\n",
    "fig.suptitle(\"Stim mag = 0.5\", fontsize = 16)"
   ]
  },
  {
   "cell_type": "markdown",
   "metadata": {},
   "source": [
    "### Noise and stim mag"
   ]
  },
  {
   "cell_type": "code",
   "execution_count": null,
   "metadata": {
    "jupyter": {
     "source_hidden": true
    }
   },
   "outputs": [],
   "source": [
    "td_stimtimes_0_75 = make_stimtimes(Tmax=10000, dt=1, stim_nodes=base_stim_nodes, stim_mag=0.75)"
   ]
  },
  {
   "cell_type": "code",
   "execution_count": null,
   "metadata": {
    "jupyter": {
     "source_hidden": true
    }
   },
   "outputs": [],
   "source": [
    "noise_ts_0_75 = {}\n",
    "\n",
    "for noise_sd in noise_sds:\n",
    "    var_name = \"noise_\"+str(noise_sd)\n",
    "    noise_ts_0_75[var_name] = model.networkModel(base_W,Tmax=10000,dt=1,g=1,s=1,tau=1, I=td_stimtimes_0_75, noise=1, noise_scale = noise_sd)[0]"
   ]
  },
  {
   "cell_type": "code",
   "execution_count": null,
   "metadata": {
    "jupyter": {
     "source_hidden": true
    }
   },
   "outputs": [],
   "source": [
    "ucr_glms_0_75 = {}\n",
    "ext_glms_0_75 = {}\n",
    "\n",
    "for k in noise_ts_0_75.keys():\n",
    "    ucr_glms_0_75[k] = run_ucr_glm(all_nodes_ts = noise_ts_0_75[k], task_reg = td_stimtimes_0_75[0])\n",
    "    ext_glms_0_75[k] = run_ext_glm(all_nodes_ts = noise_ts_0_75[k], task_reg = td_stimtimes_0_75[0], weight_matrix = base_W, dt = 1, tau = 1, g = 1, s = 1)"
   ]
  },
  {
   "cell_type": "code",
   "execution_count": null,
   "metadata": {
    "jupyter": {
     "source_hidden": true
    }
   },
   "outputs": [],
   "source": [
    "true_task_stim_0_75 = np.zeros(3*35)\n",
    "true_task_stim_0_75[base_stim_nodes] = .75"
   ]
  },
  {
   "cell_type": "code",
   "execution_count": null,
   "metadata": {
    "jupyter": {
     "source_hidden": true
    }
   },
   "outputs": [],
   "source": [
    "fig, a =  plt.subplots(1,2)\n",
    "\n",
    "glms_0_75 = [ucr_glms_0_75, ext_glms_0_75]\n",
    "\n",
    "for i in range(len(glms_0_75)):\n",
    "    for j in rkeys:\n",
    "        a[i].plot(glms_0_75[i][j], label = j)\n",
    "        a[i].plot(true_task_stim_0_75, color = \"black\")\n",
    "        for n in range(1,3):\n",
    "            a[i].axvline(x=35*n,linewidth=2, color='gray', ls = \"--\")\n",
    "        a[i].legend(loc=\"best\")\n",
    "        a[i].set_ylim([-1.5,4.5])\n",
    "        \n",
    "plt.ylabel('Beta',fontsize=14)\n",
    "plt.xlabel('Node',fontsize=14)\n",
    "a[0].set_title(\"Classic GLM\")\n",
    "a[1].set_title(\"Extended GLM\")\n",
    "fig.suptitle(\"Stim mag = 0.75\", fontsize = 16)"
   ]
  },
  {
   "cell_type": "markdown",
   "metadata": {},
   "source": [
    "### Noise and task type\n"
   ]
  },
  {
   "cell_type": "code",
   "execution_count": null,
   "metadata": {
    "jupyter": {
     "source_hidden": true
    }
   },
   "outputs": [],
   "source": [
    "bu_stim_nodes = np.array(range(35, 46))\n",
    "bu_stimtimes = make_stimtimes(Tmax=10000, dt=1, stim_nodes=bu_stim_nodes, stim_mag=0.5)"
   ]
  },
  {
   "cell_type": "code",
   "execution_count": null,
   "metadata": {
    "jupyter": {
     "source_hidden": true
    }
   },
   "outputs": [],
   "source": [
    "noise_ts_bu = {}\n",
    "\n",
    "for noise_sd in noise_sds:\n",
    "    var_name = \"noise_\"+str(noise_sd)\n",
    "    noise_ts_bu[var_name] = model.networkModel(base_W,Tmax=10000,dt=1,g=1,s=1,tau=1, I=bu_stimtimes, noise=1, noise_scale = noise_sd)[0]"
   ]
  },
  {
   "cell_type": "code",
   "execution_count": null,
   "metadata": {
    "jupyter": {
     "source_hidden": true
    }
   },
   "outputs": [],
   "source": [
    "ucr_glms_bu = {}\n",
    "ext_glms_bu = {}\n",
    "\n",
    "for k in noise_ts_bu.keys():\n",
    "    ucr_glms_bu[k] = run_ucr_glm(all_nodes_ts = noise_ts_bu[k], task_reg = bu_stimtimes[35])\n",
    "    ext_glms_bu[k] = run_ext_glm(all_nodes_ts = noise_ts_bu[k], task_reg = bu_stimtimes[35], weight_matrix = base_W, dt = 1, tau = 1, g = 1, s = 1)"
   ]
  },
  {
   "cell_type": "code",
   "execution_count": null,
   "metadata": {
    "jupyter": {
     "source_hidden": true
    }
   },
   "outputs": [],
   "source": [
    "true_task_stim_bu = np.zeros(3*35)\n",
    "true_task_stim_bu[bu_stim_nodes] = .5"
   ]
  },
  {
   "cell_type": "code",
   "execution_count": null,
   "metadata": {
    "jupyter": {
     "source_hidden": true
    }
   },
   "outputs": [],
   "source": [
    "fig, a =  plt.subplots(1,2)\n",
    "\n",
    "glms_bu = [ucr_glms_bu, ext_glms_bu]\n",
    "\n",
    "for i in range(len(glms_bu)):\n",
    "    for j in rkeys:\n",
    "        a[i].plot(glms_bu[i][j], label = j)\n",
    "        a[i].plot(true_task_stim_bu, color = \"black\")\n",
    "        for n in range(1,3):\n",
    "            a[i].axvline(x=35*n,linewidth=2, color='gray', ls = \"--\")\n",
    "        a[i].legend(loc=\"best\")\n",
    "        a[i].set_ylim([-1.5,4.5])\n",
    "        \n",
    "plt.ylabel('Beta',fontsize=14)\n",
    "plt.xlabel('Node',fontsize=14)\n",
    "a[0].set_title(\"Classic GLM\")\n",
    "a[1].set_title(\"Extended GLM\")\n",
    "fig.suptitle(\"Stim mag = 0.5; bottom up task\", fontsize = 16)"
   ]
  },
  {
   "cell_type": "markdown",
   "metadata": {},
   "source": [
    "## Different network structures\n",
    "\n",
    "Above we tested if true task activity can be recovered when accounting for connectivity in a neural network with one hub and two local networks.\n",
    "\n",
    "Various parameters control the structure of this network and they can be maniupulated \n",
    "\n",
    "Thing to modulate:   \n",
    "- hub and local network density  \n",
    "- local ($s$) and global ($g$) information transfer strength (change in conjunction)  \n",
    "- time step ($\\tau$)\n",
    "- number local networks   \n",
    "\n",
    "A summary of all changing parameters and their effect on task parameters estimated by both methods can be found in the [Summary](#summary) section."
   ]
  },
  {
   "cell_type": "markdown",
   "metadata": {},
   "source": [
    "### Changing network density\n",
    "\n",
    "#### Increased innetwork density\n",
    "\n",
    "In a topdown task (where only the hub network is stimulated) increasing the innetwork density exacerbates the bleeding of true activity from the stimulated nodes onto non-stimulated nodes in the same network.\n",
    "\n",
    "It doesn't have an effect on the improvement with eGLM."
   ]
  },
  {
   "cell_type": "code",
   "execution_count": null,
   "metadata": {
    "jupyter": {
     "source_hidden": true
    }
   },
   "outputs": [],
   "source": [
    "new_W, new_ucr_glm, new_ext_glm, new_stim_nodes = sim_network_task_glm(innetwork_dsity = .85)"
   ]
  },
  {
   "cell_type": "code",
   "execution_count": null,
   "metadata": {
    "jupyter": {
     "source_hidden": true
    }
   },
   "outputs": [],
   "source": [
    "plt.plot(base_ucr_glm, color = \"blue\", alpha = .5, label = \"Classic GLM (base)\")\n",
    "plt.plot(base_ext_glm, color = \"green\", alpha = .5, label = \"Extended GLM (base)\")\n",
    "plt.plot(new_ucr_glm, color = \"blue\", label = \"Classic GLM\")\n",
    "plt.plot(new_ext_glm, color = \"green\", label = \"Extended GLM\")\n",
    "plt.plot(true_task_stim, color = \"black\", label = \"True task activity\")\n",
    "plt.ylabel('Beta',fontsize=14)\n",
    "plt.xlabel('Node',fontsize=14)\n",
    "for n in range(1,ncoms):\n",
    "    plt.axvline(x=nnods*n,linewidth=2, color='gray', ls = \"--\")\n",
    "plt.legend(loc=\"best\")"
   ]
  },
  {
   "cell_type": "markdown",
   "metadata": {},
   "source": [
    "#### Increased outnetwork density\n",
    "\n",
    "The outnetwork density controls the probability of local networks having outside connections. Since this is a topdown task increasing the outnetwork density doesn't have an effect on neither the classic nor eGLM estimates."
   ]
  },
  {
   "cell_type": "code",
   "execution_count": null,
   "metadata": {
    "jupyter": {
     "source_hidden": true
    }
   },
   "outputs": [],
   "source": [
    "new_W, new_ucr_glm, new_ext_glm, new_stim_nodes = sim_network_task_glm(outnetwork_dsity = .25)"
   ]
  },
  {
   "cell_type": "code",
   "execution_count": null,
   "metadata": {
    "jupyter": {
     "source_hidden": true
    }
   },
   "outputs": [],
   "source": [
    "plt.plot(base_ucr_glm, color = \"blue\", alpha = .5, label = \"Classic GLM (base)\")\n",
    "plt.plot(base_ext_glm, color = \"green\", alpha = .5, label = \"Extended GLM (base)\")\n",
    "plt.plot(new_ucr_glm, color = \"blue\", label = \"Classic GLM\")\n",
    "plt.plot(new_ext_glm, color = \"green\", label = \"Extended GLM\")\n",
    "plt.plot(true_task_stim, color = \"black\", label = \"True task activity\")\n",
    "plt.ylabel('Beta',fontsize=14)\n",
    "plt.xlabel('Node',fontsize=14)\n",
    "for n in range(1,ncoms):\n",
    "    plt.axvline(x=nnods*n,linewidth=2, color='gray', ls = \"--\")\n",
    "plt.legend(loc=\"best\")"
   ]
  },
  {
   "cell_type": "markdown",
   "metadata": {},
   "source": [
    "#### Increased hub network density\n",
    "\n",
    "The hub network density controls the probability of a hub node to be connected to other local networks. Increasing it impacts the classic GLM estimates in the local networks by increasing the leakage from the hub network.\n",
    "\n",
    "It does not affect the eGLM improvement.\n"
   ]
  },
  {
   "cell_type": "code",
   "execution_count": null,
   "metadata": {
    "jupyter": {
     "source_hidden": true
    }
   },
   "outputs": [],
   "source": [
    "new_W, new_ucr_glm, new_ext_glm, new_stim_nodes = sim_network_task_glm(hubnetwork_dsity = .5)"
   ]
  },
  {
   "cell_type": "code",
   "execution_count": null,
   "metadata": {
    "jupyter": {
     "source_hidden": true
    }
   },
   "outputs": [],
   "source": [
    "plt.plot(base_ucr_glm, color = \"blue\", alpha = .5, label = \"Classic GLM (base)\")\n",
    "plt.plot(base_ext_glm, color = \"green\", alpha = .5, label = \"Extended GLM (base)\")\n",
    "plt.plot(new_ucr_glm, color = \"blue\", label = \"Classic GLM\")\n",
    "plt.plot(new_ext_glm, color = \"green\", label = \"Extended GLM\")\n",
    "plt.plot(true_task_stim, color = \"black\", label = \"True task activity\")\n",
    "plt.ylabel('Beta',fontsize=14)\n",
    "plt.xlabel('Node',fontsize=14)\n",
    "for n in range(1,ncoms):\n",
    "    plt.axvline(x=nnods*n,linewidth=2, color='gray', ls = \"--\")\n",
    "plt.legend(loc=\"best\")"
   ]
  },
  {
   "cell_type": "markdown",
   "metadata": {},
   "source": [
    "### Changing information transfer strength (ITS)\n",
    "\n",
    "One conclusion from this section: descreasing information transfer strength globally and locally both improve traditional GLM estimates. This makes sense since the classic GLM does not analyze each node's data with respect to its connectivity to other nodes.\n",
    "\n",
    "I'm confused by several results in this section. Some questions:\n",
    "\n",
    "- Why does decreasing ITS also improve the estimates for non-stimulated nodes in eGLM?\n",
    "- Why are estimates from higher ITS noisier?\n",
    "- What are the effects of changing information transfer strength for bottom-up only task?\n",
    "\n",
    "As one potential modulator to the effects of changing ITS in estimating task parameters I explored whether local community nodes have hub connections. These are depicted as red dots in some of the graphs below."
   ]
  },
  {
   "cell_type": "markdown",
   "metadata": {},
   "source": [
    "#### Increasing $g$ (global connectivity)\n",
    "\n",
    "Increasing global connectivity increases the impact of any stimulated node on all other nodes and exacerbates the traditional GLM estimates for all nodes.\n",
    "\n",
    "It also exacerbates the eGLM estimates making them noisier. **[NOT SURE WHY]**"
   ]
  },
  {
   "cell_type": "code",
   "execution_count": null,
   "metadata": {
    "jupyter": {
     "source_hidden": true
    }
   },
   "outputs": [],
   "source": [
    "new_W, new_ucr_glm, new_ext_glm, new_stim_nodes = sim_network_task_glm(g = 5)"
   ]
  },
  {
   "cell_type": "code",
   "execution_count": null,
   "metadata": {
    "jupyter": {
     "source_hidden": true
    }
   },
   "outputs": [],
   "source": [
    "newCi = np.repeat(np.arange(3),35) \n",
    "newhub_ind = np.hstack((np.where(newCi==0)[0], np.where(newCi==0)[0])) \n",
    "newlocal_ind = np.where(newCi!=0)[0] \n",
    "# Identify efferent connections from local network to hub network\n",
    "newW_mask = np.zeros((new_W.shape))\n",
    "newW_mask[newlocal_ind,newhub_ind] = 1.0\n",
    "newlocal2hub_connects = np.multiply(new_W,newW_mask)\n",
    "newlocal_regions_wcon = np.where(newlocal2hub_connects!=0)[0]\n",
    "tmp = pd.DataFrame(data={\"node_num\":range(3*35), \"hubcon\": np.zeros(3*35)})\n",
    "tmp['hubcon'] = [1 if x in newlocal_regions_wcon else 0 for x in tmp['node_num']]\n",
    "tmp['dotcol'] = np.where(tmp['hubcon']==1,\"red\", \"white\")"
   ]
  },
  {
   "cell_type": "code",
   "execution_count": null,
   "metadata": {
    "jupyter": {
     "source_hidden": true
    }
   },
   "outputs": [],
   "source": [
    "plt.plot(base_ucr_glm, color = \"blue\", alpha = .5, label = \"Classic GLM (base)\")\n",
    "plt.plot(base_ext_glm, color = \"green\", alpha = .5, label = \"Extended GLM (base)\")\n",
    "plt.plot(new_ucr_glm, color = \"blue\", label = \"Classic GLM\")\n",
    "plt.plot(new_ext_glm, color = \"green\", label = \"Extended GLM\")\n",
    "plt.plot(true_task_stim, color = \"black\", label = \"True task activity\")\n",
    "\n",
    "plt.scatter(tmp['node_num'], base_ucr_glm, c=tmp['dotcol'], alpha=.5)\n",
    "plt.scatter(tmp['node_num'], base_ext_glm, c=tmp['dotcol'], alpha=.5)\n",
    "plt.scatter(tmp['node_num'], new_ucr_glm, c=tmp['dotcol'])\n",
    "plt.scatter(tmp['node_num'], new_ext_glm, c=tmp['dotcol'])\n",
    "\n",
    "plt.ylabel('Beta',fontsize=14)\n",
    "plt.xlabel('Node',fontsize=14)\n",
    "for n in range(1,ncoms):\n",
    "    plt.axvline(x=nnods*n,linewidth=2, color='gray', ls = \"--\")\n",
    "plt.legend(loc=\"best\")"
   ]
  },
  {
   "cell_type": "markdown",
   "metadata": {},
   "source": [
    "#### Decreasing $g$\n",
    "\n",
    "Improves the classic GLM estimates by reducing the leakage from stimulated nodes to other nodes.\n",
    "\n",
    "It also makes the estimates for non-stimulated nodes better for the eGLM **[NOT SURE WHY]**"
   ]
  },
  {
   "cell_type": "code",
   "execution_count": null,
   "metadata": {
    "jupyter": {
     "source_hidden": true
    }
   },
   "outputs": [],
   "source": [
    "new_W, new_ucr_glm, new_ext_glm, new_stim_nodes = sim_network_task_glm(g = .5)"
   ]
  },
  {
   "cell_type": "code",
   "execution_count": null,
   "metadata": {
    "jupyter": {
     "source_hidden": true
    }
   },
   "outputs": [],
   "source": [
    "newCi = np.repeat(np.arange(3),35) \n",
    "newhub_ind = np.hstack((np.where(newCi==0)[0], np.where(newCi==0)[0])) \n",
    "newlocal_ind = np.where(newCi!=0)[0] \n",
    "# Identify efferent connections from local network to hub network\n",
    "newW_mask = np.zeros((new_W.shape))\n",
    "newW_mask[newlocal_ind,newhub_ind] = 1.0\n",
    "newlocal2hub_connects = np.multiply(new_W,newW_mask)\n",
    "newlocal_regions_wcon = np.where(newlocal2hub_connects!=0)[0]\n",
    "tmp = pd.DataFrame(data={\"node_num\":range(3*35), \"hubcon\": np.zeros(3*35)})\n",
    "tmp['hubcon'] = [1 if x in newlocal_regions_wcon else 0 for x in tmp['node_num']]\n",
    "tmp['dotcol'] = np.where(tmp['hubcon']==1,\"red\", \"white\")"
   ]
  },
  {
   "cell_type": "code",
   "execution_count": null,
   "metadata": {
    "jupyter": {
     "source_hidden": true
    }
   },
   "outputs": [],
   "source": [
    "plt.plot(base_ucr_glm, color = \"blue\", alpha = .5, label = \"Classic GLM (base)\")\n",
    "plt.plot(base_ext_glm, color = \"green\", alpha = .5, label = \"Extended GLM (base)\")\n",
    "plt.plot(new_ucr_glm, color = \"blue\", label = \"Classic GLM\")\n",
    "plt.plot(new_ext_glm, color = \"green\", label = \"Extended GLM\")\n",
    "plt.plot(true_task_stim, color = \"black\", label = \"True task activity\")\n",
    "\n",
    "plt.scatter(tmp['node_num'], base_ucr_glm, c=tmp['dotcol'], alpha=.5)\n",
    "plt.scatter(tmp['node_num'], base_ext_glm, c=tmp['dotcol'], alpha=.5)\n",
    "plt.scatter(tmp['node_num'], new_ucr_glm, c=tmp['dotcol'])\n",
    "plt.scatter(tmp['node_num'], new_ext_glm, c=tmp['dotcol'])\n",
    "\n",
    "plt.ylabel('Beta',fontsize=14)\n",
    "plt.xlabel('Node',fontsize=14)\n",
    "for n in range(1,ncoms):\n",
    "    plt.axvline(x=nnods*n,linewidth=2, color='gray', ls = \"--\")\n",
    "plt.legend(loc=\"best\")"
   ]
  },
  {
   "cell_type": "markdown",
   "metadata": {},
   "source": [
    "#### Increasing $s$\n",
    "\n",
    "Increasing information transfer strength within local communities drastically exacerbates the classic GLM estimates.\n",
    "\n",
    "It also exacerbates eGLM estimates for stimulated nodes but they are harder to see in comparison."
   ]
  },
  {
   "cell_type": "code",
   "execution_count": null,
   "metadata": {
    "jupyter": {
     "source_hidden": true
    }
   },
   "outputs": [],
   "source": [
    "new_W, new_ucr_glm, new_ext_glm, new_stim_nodes = sim_network_task_glm(s = 5)"
   ]
  },
  {
   "cell_type": "code",
   "execution_count": null,
   "metadata": {
    "jupyter": {
     "source_hidden": true
    }
   },
   "outputs": [],
   "source": [
    "plt.plot(base_ucr_glm, color = \"blue\", alpha = .5, label = \"Classic GLM (base)\")\n",
    "plt.plot(base_ext_glm, color = \"green\", alpha = .5, label = \"Extended GLM (base)\")\n",
    "plt.plot(new_ucr_glm, color = \"blue\", label = \"Classic GLM\")\n",
    "plt.plot(new_ext_glm, color = \"green\", label = \"Extended GLM\")\n",
    "plt.plot(true_task_stim, color = \"black\", label = \"True task activity\")\n",
    "plt.ylabel('Beta',fontsize=14)\n",
    "plt.xlabel('Node',fontsize=14)\n",
    "for n in range(1,ncoms):\n",
    "    plt.axvline(x=nnods*n,linewidth=2, color='gray', ls = \"--\")\n",
    "plt.legend(loc=\"best\")"
   ]
  },
  {
   "cell_type": "markdown",
   "metadata": {},
   "source": [
    "#### Decreasing $s$\n",
    "\n",
    "Increasing local ITS improves both classical GLM estimates for all nodes and eGLM estimates for non-stimulated nodes."
   ]
  },
  {
   "cell_type": "code",
   "execution_count": null,
   "metadata": {
    "jupyter": {
     "source_hidden": true
    }
   },
   "outputs": [],
   "source": [
    "new_W, new_ucr_glm, new_ext_glm, new_stim_nodes = sim_network_task_glm(s = .5)"
   ]
  },
  {
   "cell_type": "code",
   "execution_count": null,
   "metadata": {
    "jupyter": {
     "source_hidden": true
    }
   },
   "outputs": [],
   "source": [
    "plt.plot(base_ucr_glm, color = \"blue\", alpha = .5, label = \"Classic GLM (base)\")\n",
    "plt.plot(base_ext_glm, color = \"green\", alpha = .5, label = \"Extended GLM (base)\")\n",
    "plt.plot(new_ucr_glm, color = \"blue\", label = \"Classic GLM\")\n",
    "plt.plot(new_ext_glm, color = \"green\", label = \"Extended GLM\")\n",
    "plt.plot(true_task_stim, color = \"black\", label = \"True task activity\")\n",
    "plt.ylabel('Beta',fontsize=14)\n",
    "plt.xlabel('Node',fontsize=14)\n",
    "for n in range(1,ncoms):\n",
    "    plt.axvline(x=nnods*n,linewidth=2, color='gray', ls = \"--\")\n",
    "plt.legend(loc=\"best\")"
   ]
  },
  {
   "cell_type": "markdown",
   "metadata": {},
   "source": [
    "### Changing the time constant $\\tau$\n",
    "\n",
    "Increasing $\\tau$ to >1 exacerbates traditional GLM estimates for non-stimulated nodes; decreasing it to <1 improves it for all nodes.\n",
    "\n",
    "For eGLM estimates change in either direction leads to more variable estimates.\n",
    "\n",
    "#### Increasing $\\tau$"
   ]
  },
  {
   "cell_type": "code",
   "execution_count": null,
   "metadata": {
    "jupyter": {
     "source_hidden": true
    }
   },
   "outputs": [],
   "source": [
    "new_W, new_ucr_glm, new_ext_glm, new_stim_nodes = sim_network_task_glm(tau = 3)"
   ]
  },
  {
   "cell_type": "code",
   "execution_count": null,
   "metadata": {
    "jupyter": {
     "source_hidden": true
    }
   },
   "outputs": [],
   "source": [
    "plt.plot(base_ucr_glm, color = \"blue\", alpha = .5, label = \"Classic GLM (base)\")\n",
    "plt.plot(base_ext_glm, color = \"green\", alpha = .5, label = \"Extended GLM (base)\")\n",
    "plt.plot(new_ucr_glm, color = \"blue\", label = \"Classic GLM\")\n",
    "plt.plot(new_ext_glm, color = \"green\", label = \"Extended GLM\")\n",
    "plt.plot(true_task_stim, color = \"black\", label = \"True task activity\")\n",
    "plt.ylabel('Beta',fontsize=14)\n",
    "plt.xlabel('Node',fontsize=14)\n",
    "for n in range(1,ncoms):\n",
    "    plt.axvline(x=nnods*n,linewidth=2, color='gray', ls = \"--\")\n",
    "plt.legend(loc=\"best\")"
   ]
  },
  {
   "cell_type": "markdown",
   "metadata": {},
   "source": [
    "#### Decreasing $\\tau$\n",
    "\n",
    "Try with $tau$ != .5"
   ]
  },
  {
   "cell_type": "code",
   "execution_count": null,
   "metadata": {
    "jupyter": {
     "source_hidden": true
    }
   },
   "outputs": [],
   "source": [
    "new_W, new_ucr_glm, new_ext_glm, new_stim_nodes = sim_network_task_glm(tau = .5)"
   ]
  },
  {
   "cell_type": "code",
   "execution_count": null,
   "metadata": {
    "jupyter": {
     "source_hidden": true
    }
   },
   "outputs": [],
   "source": [
    "plt.plot(base_ucr_glm, color = \"blue\", alpha = .5, label = \"Classic GLM (base)\")\n",
    "plt.plot(base_ext_glm, color = \"green\", alpha = .5, label = \"Extended GLM (base)\")\n",
    "plt.plot(new_ucr_glm, color = \"blue\", label = \"Classic GLM\")\n",
    "plt.plot(new_ext_glm, color = \"green\", label = \"Extended GLM\")\n",
    "plt.plot(true_task_stim, color = \"black\", label = \"True task activity\")\n",
    "plt.ylabel('Beta',fontsize=14)\n",
    "plt.xlabel('Node',fontsize=14)\n",
    "for n in range(1,ncoms):\n",
    "    plt.axvline(x=nnods*n,linewidth=2, color='gray', ls = \"--\")\n",
    "plt.legend(loc=\"best\")"
   ]
  },
  {
   "cell_type": "markdown",
   "metadata": {},
   "source": [
    "### Changing number of local communities\n",
    "\n",
    "Does not lead to any difference for either method."
   ]
  },
  {
   "cell_type": "code",
   "execution_count": null,
   "metadata": {
    "jupyter": {
     "source_hidden": true
    }
   },
   "outputs": [],
   "source": [
    "new_W, new_ucr_glm, new_ext_glm, new_stim_nodes = sim_network_task_glm(ncommunities=4)"
   ]
  },
  {
   "cell_type": "code",
   "execution_count": null,
   "metadata": {
    "jupyter": {
     "source_hidden": true
    }
   },
   "outputs": [],
   "source": [
    "ncoms = 4\n",
    "plt.plot(base_ucr_glm, color = \"blue\", alpha = .5, label = \"Classic GLM (base)\")\n",
    "plt.plot(base_ext_glm, color = \"green\", alpha = .5, label = \"Extended GLM (base)\")\n",
    "plt.plot(new_ucr_glm, color = \"blue\", label = \"Classic GLM\")\n",
    "plt.plot(new_ext_glm, color = \"green\", label = \"Extended GLM\")\n",
    "plt.plot(true_task_stim, color = \"black\", label = \"True task activity\")\n",
    "plt.ylabel('Beta',fontsize=14)\n",
    "plt.xlabel('Node',fontsize=14)\n",
    "for n in range(1,ncoms):\n",
    "    plt.axvline(x=nnods*n,linewidth=2, color='gray', ls = \"--\")\n",
    "plt.legend(loc=\"best\")"
   ]
  },
  {
   "cell_type": "markdown",
   "metadata": {},
   "source": [
    "### Changing temporal resolution\n",
    "\n",
    "Decrease in $dt$ leads to some improvement of classical GLM estimates of stimulated nodes, while increasing it results in noisier estimates for all nodes.\n",
    "\n",
    "Change in either direction leads to noisier eGLM estimates.\n"
   ]
  },
  {
   "cell_type": "markdown",
   "metadata": {},
   "source": [
    "#### Increasing $dt$"
   ]
  },
  {
   "cell_type": "code",
   "execution_count": null,
   "metadata": {
    "jupyter": {
     "source_hidden": true
    }
   },
   "outputs": [],
   "source": [
    "new_W, new_ucr_glm, new_ext_glm, new_stim_nodes = sim_network_task_glm(dt=2)"
   ]
  },
  {
   "cell_type": "code",
   "execution_count": null,
   "metadata": {
    "jupyter": {
     "source_hidden": true
    }
   },
   "outputs": [],
   "source": [
    "plt.plot(base_ucr_glm, color = \"blue\", alpha = .5, label = \"Classic GLM (base)\")\n",
    "plt.plot(base_ext_glm, color = \"green\", alpha = .5, label = \"Extended GLM (base)\")\n",
    "plt.plot(new_ucr_glm, color = \"blue\", label = \"Classic GLM\")\n",
    "plt.plot(new_ext_glm, color = \"green\", label = \"Extended GLM\")\n",
    "plt.plot(true_task_stim, color = \"black\", label = \"True task activity\")\n",
    "plt.ylabel('Beta',fontsize=14)\n",
    "plt.xlabel('Node',fontsize=14)\n",
    "for n in range(1,ncoms):\n",
    "    plt.axvline(x=nnods*n,linewidth=2, color='gray', ls = \"--\")\n",
    "plt.legend(loc=\"best\")"
   ]
  },
  {
   "cell_type": "markdown",
   "metadata": {},
   "source": [
    "#### Decreasing $dt$"
   ]
  },
  {
   "cell_type": "code",
   "execution_count": null,
   "metadata": {
    "jupyter": {
     "source_hidden": true
    }
   },
   "outputs": [],
   "source": [
    "new_W, new_ucr_glm, new_ext_glm, new_stim_nodes = sim_network_task_glm(dt = .5)"
   ]
  },
  {
   "cell_type": "code",
   "execution_count": null,
   "metadata": {
    "jupyter": {
     "source_hidden": true
    }
   },
   "outputs": [],
   "source": [
    "plt.plot(base_ucr_glm, color = \"blue\", alpha = .5, label = \"Classic GLM (base)\")\n",
    "plt.plot(base_ext_glm, color = \"green\", alpha = .5, label = \"Extended GLM (base)\")\n",
    "plt.plot(new_ucr_glm, color = \"blue\", label = \"Classic GLM\")\n",
    "plt.plot(new_ext_glm, color = \"green\", label = \"Extended GLM\")\n",
    "plt.plot(true_task_stim, color = \"black\", label = \"True task activity\")\n",
    "plt.ylabel('Beta',fontsize=14)\n",
    "plt.xlabel('Node',fontsize=14)\n",
    "for n in range(1,ncoms):\n",
    "    plt.axvline(x=nnods*n,linewidth=2, color='gray', ls = \"--\")\n",
    "plt.legend(loc=\"best\")"
   ]
  },
  {
   "cell_type": "markdown",
   "metadata": {},
   "source": [
    "## Different task structures\n",
    "\n",
    "The initial task was a top down task that stimulated nodes only in the hub network and trickled activity down to the other nodes.\n",
    "\n",
    "Other task activations are possible.\n",
    "\n",
    "Things to modulate:  \n",
    "- Number of nodes stimulated\n",
    "- Stimulating only local community\n",
    "- Stimulating both hub and local community\n",
    "- Magnitude of stimulation (different from 0.5)"
   ]
  },
  {
   "cell_type": "markdown",
   "metadata": {},
   "source": [
    "### Changing number of stimulated nodes\n",
    "\n",
    "Makes the overestimation of non-stimulated node estimates in cGLM and their underestimation in the eGLM slightly worse."
   ]
  },
  {
   "cell_type": "code",
   "execution_count": null,
   "metadata": {
    "jupyter": {
     "source_hidden": true
    }
   },
   "outputs": [],
   "source": [
    "new_W, new_ucr_glm, new_ext_glm, new_stim_nodes = sim_network_task_glm(stimsize = np.floor(35/2))"
   ]
  },
  {
   "cell_type": "code",
   "execution_count": null,
   "metadata": {
    "jupyter": {
     "source_hidden": true
    }
   },
   "outputs": [],
   "source": [
    "ncoms=3\n",
    "new_true_task_stim = np.zeros(ncoms*nnods)\n",
    "new_true_task_stim[new_stim_nodes] = .5\n",
    "plt.plot(base_ucr_glm, color = \"blue\", alpha = .5, label = \"Classic GLM (base)\")\n",
    "plt.plot(base_ext_glm, color = \"green\", alpha = .5, label = \"Extended GLM (base)\")\n",
    "plt.plot(new_ucr_glm, color = \"blue\", label = \"Classic GLM\")\n",
    "plt.plot(new_ext_glm, color = \"green\", label = \"Extended GLM\")\n",
    "plt.plot(true_task_stim, color = \"black\", alpha = .5, label = \"True task activity (base)\")\n",
    "plt.plot(new_true_task_stim, color = \"black\", label = \"True task activity\")\n",
    "plt.ylabel('Beta',fontsize=14)\n",
    "plt.xlabel('Node',fontsize=14)\n",
    "for n in range(1,ncoms):\n",
    "    plt.axvline(x=nnods*n,linewidth=2, color='gray', ls = \"--\")\n",
    "plt.legend(loc=\"best\")"
   ]
  },
  {
   "cell_type": "markdown",
   "metadata": {},
   "source": [
    "### Stimulating only local community\n",
    "\n",
    "The new method seems to work expectedly with a bottom-up task that only stimulates a local community. The overestimated task parameters in the stimulated community are greatly improvement by the eGLM though non-stimulated nodes in the same community are again underestimated. \n",
    "\n",
    "**DOUBLE CHECK LOCAL NODES WITH CONNECTIONS ARE EXTRACTED CORRECTLY**\n",
    "\n",
    "Due to its connections to the stimulated local community there is some leakage to the hub community in the cGLM estimates but again is corrected by eGLM.\n",
    "\n",
    "The second local community's activity is only minimally impacted by the stimulated local community (since any trickling down would come from the hub network). Expectedly both methods do a reasonable job in estimating this lack of stimulation."
   ]
  },
  {
   "cell_type": "code",
   "execution_count": null,
   "metadata": {
    "jupyter": {
     "source_hidden": true
    }
   },
   "outputs": [],
   "source": [
    "new_W, new_ucr_glm, new_ext_glm, new_stim_nodes = sim_network_task_glm(topdown = False, bottomup=True)"
   ]
  },
  {
   "cell_type": "code",
   "execution_count": null,
   "metadata": {
    "jupyter": {
     "source_hidden": true
    }
   },
   "outputs": [],
   "source": [
    "new_true_task_stim = np.zeros(ncoms*nnods)\n",
    "new_true_task_stim[new_stim_nodes] = .5\n",
    "#plt.plot(base_ucr_glm, color = \"blue\", alpha = .5, label = \"Classic GLM (base)\")\n",
    "#plt.plot(base_ext_glm, color = \"green\", alpha = .5, label = \"Extended GLM (base)\")\n",
    "plt.plot(new_ucr_glm, color = \"blue\", label = \"Classic GLM\")\n",
    "plt.plot(new_ext_glm, color = \"green\", label = \"Extended GLM\")\n",
    "#plt.plot(true_task_stim, color = \"black\", alpha = .5, label = \"True task activity (base)\")\n",
    "plt.plot(new_true_task_stim, color = \"black\", label = \"True task activity\")\n",
    "plt.ylabel('Beta',fontsize=14)\n",
    "plt.xlabel('Node',fontsize=14)\n",
    "for n in range(1,ncoms):\n",
    "    plt.axvline(x=nnods*n,linewidth=2, color='gray', ls = \"--\")\n",
    "plt.legend(loc=\"best\")"
   ]
  },
  {
   "cell_type": "markdown",
   "metadata": {},
   "source": [
    "### Stimulating both hub and local community\n",
    "\n"
   ]
  },
  {
   "cell_type": "code",
   "execution_count": null,
   "metadata": {
    "jupyter": {
     "source_hidden": true
    }
   },
   "outputs": [],
   "source": [
    "new_W, new_ucr_glm, new_ext_glm, new_stim_nodes = sim_network_task_glm(topdown = True, bottomup=True)"
   ]
  },
  {
   "cell_type": "code",
   "execution_count": null,
   "metadata": {
    "jupyter": {
     "source_hidden": true
    }
   },
   "outputs": [],
   "source": [
    "new_true_task_stim = np.zeros(ncoms*nnods)\n",
    "new_true_task_stim[new_stim_nodes] = .5\n",
    "plt.plot(base_ucr_glm, color = \"blue\", alpha = .5, label = \"Classic GLM (base)\")\n",
    "plt.plot(base_ext_glm, color = \"green\", alpha = .5, label = \"Extended GLM (base)\")\n",
    "plt.plot(new_ucr_glm, color = \"blue\", label = \"Classic GLM\")\n",
    "plt.plot(new_ext_glm, color = \"green\", label = \"Extended GLM\")\n",
    "plt.plot(true_task_stim, color = \"black\", alpha = .5, label = \"True task activity (base)\")\n",
    "plt.plot(new_true_task_stim, color = \"black\", label = \"True task activity\")\n",
    "plt.ylabel('Beta',fontsize=14)\n",
    "plt.xlabel('Node',fontsize=14)\n",
    "for n in range(1,ncoms):\n",
    "    plt.axvline(x=nnods*n,linewidth=2, color='gray', ls = \"--\")\n",
    "plt.legend(loc=\"best\")"
   ]
  },
  {
   "cell_type": "markdown",
   "metadata": {},
   "source": [
    "### Changing magnitude of stimulation"
   ]
  },
  {
   "cell_type": "code",
   "execution_count": null,
   "metadata": {
    "jupyter": {
     "source_hidden": true
    }
   },
   "outputs": [],
   "source": [
    "new_W, new_ucr_glm, new_ext_glm, new_stim_nodes = sim_network_task_glm(stim_mag = .8)"
   ]
  },
  {
   "cell_type": "code",
   "execution_count": null,
   "metadata": {
    "jupyter": {
     "source_hidden": true
    }
   },
   "outputs": [],
   "source": [
    "new_true_task_stim = np.zeros(ncoms*nnods)\n",
    "new_true_task_stim[new_stim_nodes] = .8\n",
    "plt.plot(base_ucr_glm, color = \"blue\", alpha = .5, label = \"Classic GLM (base)\")\n",
    "plt.plot(base_ext_glm, color = \"green\", alpha = .5, label = \"Extended GLM (base)\")\n",
    "plt.plot(new_ucr_glm, color = \"blue\", label = \"Classic GLM\")\n",
    "plt.plot(new_ext_glm, color = \"green\", label = \"Extended GLM\")\n",
    "plt.plot(true_task_stim, color = \"black\", alpha = .5, label = \"True task activity (base)\")\n",
    "plt.plot(new_true_task_stim, color = \"black\", label = \"True task activity\")\n",
    "plt.ylabel('Beta',fontsize=14)\n",
    "plt.xlabel('Node',fontsize=14)\n",
    "for n in range(1,ncoms):\n",
    "    plt.axvline(x=nnods*n,linewidth=2, color='gray', ls = \"--\")\n",
    "plt.legend(loc=\"best\")"
   ]
  },
  {
   "cell_type": "markdown",
   "metadata": {},
   "source": [
    "<a id='summary'></a>\n",
    "## Summary\n",
    "\n",
    "| Parameters                   | Increase | Decrease |      |\n",
    "|------------------------------|----------|----------|------|\n",
    "| Innetwork density            | -        | +        | cGLM |\n",
    "|                              | o        | o        | eGLM |\n",
    "| Outnetwork density           | o        | o        | cGLM |\n",
    "|                              | o        | o        | eGLM |\n",
    "| Hubnetwork density           | -        | +        | cGLM |\n",
    "|                              | o        | o        | eGLM |\n",
    "| g                            | -        | +        | cGLM |\n",
    "|                              | -        | +        | eGLM |\n",
    "| s                            | -        | +        | cGLM |\n",
    "|                              | -        | +        | eGLM |\n",
    "| tau                          | -        | +        | cGLM |\n",
    "|                              | -        | -        | eGLM |\n",
    "| N local community            | o        | o        | cGLM |\n",
    "|                              | o        | o        | eGLM |\n",
    "| dt                           | +        | -        | cGLM |\n",
    "|                              | -        | -        | eGLM |\n",
    "| N stim nodes                 | -        | +        | cGLM |\n",
    "|                              | -        | +        | eGLM |\n",
    "| bottom up task               |          |          | cGLM |\n",
    "|                              |          |          | eGLM |\n",
    "| top down and  bottom up task | -        |          | cGLM |\n",
    "|                              | -        |          | eGLM |\n",
    "| Magnitude of  stimulation    | o        |          | cGLM |\n",
    "|                              | -        |          | eGLM |"
   ]
  },
  {
   "cell_type": "code",
   "execution_count": null,
   "metadata": {
    "jupyter": {
     "source_hidden": true
    }
   },
   "outputs": [],
   "source": []
  }
 ],
 "metadata": {
  "hide_input": false,
  "kernelspec": {
   "display_name": "Python 3",
   "language": "python",
   "name": "python3"
  },
  "language_info": {
   "codemirror_mode": {
    "name": "ipython",
    "version": 3
   },
   "file_extension": ".py",
   "mimetype": "text/x-python",
   "name": "python",
   "nbconvert_exporter": "python",
   "pygments_lexer": "ipython3",
   "version": "3.7.2"
  },
  "toc": {
   "base_numbering": 1,
   "nav_menu": {},
   "number_sections": true,
   "sideBar": true,
   "skip_h1_title": true,
   "title_cell": "Table of Contents",
   "title_sidebar": "Contents",
   "toc_cell": false,
   "toc_position": {
    "height": "calc(100% - 180px)",
    "left": "10px",
    "top": "150px",
    "width": "256px"
   },
   "toc_section_display": true,
   "toc_window_display": true
  },
  "toc-autonumbering": false,
  "toc-showcode": false,
  "toc-showmarkdowntxt": false,
  "toc-showtags": false
 },
 "nbformat": 4,
 "nbformat_minor": 4
}
