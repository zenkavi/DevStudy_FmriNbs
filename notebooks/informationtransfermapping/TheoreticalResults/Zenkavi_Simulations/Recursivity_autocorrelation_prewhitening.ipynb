{
 "cells": [
  {
   "cell_type": "markdown",
   "metadata": {},
   "source": [
    "# Effects of recursivity and autocorrelated noise in timeseries analysis\n",
    "\n",
    "This notebook simulates data to understand the effects of recursivity and autocorrelated noise on estimating parameters in timeseries analyses.\n",
    "\n",
    "Recursivity is defined as the extent to which each time point in the timeseries **data** depends on previous timepoints.  \n",
    "\n",
    "Autocorrelated noise is the extent to which the residuals/**error** from the predictions of a linear model depend on residuals from previous time points. This violates the assumption of normally distributed IID errors in the linear regression framework.  \n",
    "\n",
    "In this notebook we generate data that mimmicks the time course of a single node (in a neural network) in response to a block design task. Two parameters control the amount of recursivity in the data and autocorrelation in the residuals. We recover the recursivity parameter on simulated data both with and without accounting for autocorrelated noise. The \"task regressor\" coefficient is defined with respect to the recursivity parameter so this exercise gives us an idea of the impact of not accounting for autocorrelated noise in GLMs with real data.  \n",
    "\n",
    "First we set up our environment."
   ]
  },
  {
   "cell_type": "code",
   "execution_count": 2,
   "metadata": {},
   "outputs": [],
   "source": [
    "import copy\n",
    "import sys\n",
    "import numpy as np\n",
    "import matplotlib.pyplot as plt\n",
    "% matplotlib inline\n",
    "import pandas as pd\n",
    "import seaborn as sns\n",
    "sns.set_style(\"white\")\n",
    "import scipy.stats as stats\n",
    "import statsmodels.api as sm\n",
    "import statsmodels.formula.api as smf\n",
    "from statsmodels.tsa.arima_model import ARMA\n",
    "\n",
    "def pshift(y,p):\n",
    "    y_lag = np.roll(y, p)\n",
    "    y_lag[:p] = 0\n",
    "    return y_lag"
   ]
  },
  {
   "cell_type": "markdown",
   "metadata": {},
   "source": [
    "Our task is a block design that goes on for 500 ms and comes on for 10 ms every 15 ms after the first block at 11 ms. In total there are 20 events/blocks. Below is the first 100 ms."
   ]
  },
  {
   "cell_type": "code",
   "execution_count": 3,
   "metadata": {},
   "outputs": [
    {
     "data": {
      "text/plain": [
       "(0, 100)"
      ]
     },
     "execution_count": 3,
     "metadata": {},
     "output_type": "execute_result"
    },
    {
     "data": {
      "image/png": "[encoded data removed]",
      "text/plain": [
       "<Figure size 432x288 with 1 Axes>"
      ]
     },
     "metadata": {
      "needs_background": "light"
     },
     "output_type": "display_data"
    }
   ],
   "source": [
    "T = np.arange(0,500,1)\n",
    "tasktiming = np.zeros((1,len(T)))\n",
    "for t in range(len(T)):\n",
    "    if t%25>10 and t%25<21:\n",
    "        tasktiming[0,t] = 1.0\n",
    "plt.plot(T, tasktiming[0])\n",
    "#plt.ylim(top = 1.2, bottom = -0.1)\n",
    "plt.xlim(0,100)"
   ]
  },
  {
   "cell_type": "markdown",
   "metadata": {},
   "source": [
    "We define the data generating process in `make_y` as:\n",
    "\n",
    "\\begin{equation*}\n",
    "y(t) = \\phi y(t-1) + (1-\\phi)x(t) + \\epsilon(t)\n",
    "\\end{equation*}\n",
    "\n",
    "where $\\phi$ is the recursivity parameter determining the effect of the previous time point on the current time point.  \n",
    "\n",
    "$x(t)$ is the task regressor where its effect on the data/timeseries is linked (for exercise purposes, albeit unrealistically for real data) to the recursivity parameter.  \n",
    "\n",
    "$\\epsilon$ is the autocorrelated error defined as \n",
    "\n",
    "\\begin{equation*}\n",
    "\\epsilon(t) = \\rho \\epsilon(t-1) + v(t)\n",
    "\\end{equation*}\n",
    "\n",
    "where $\\rho$ determines the degree to which the error term from the previous time point affects the error terms in the current time point. $v(t)$ is IID and in line with regression assumptions.\n",
    "\n",
    "## Accounting for autocorrelated noise\n",
    "\n",
    "This is done by eliminating the effect of $\\epsilon$ in the estimation of $\\phi$. We start by substituting the error term in the original equation \n",
    "\n",
    "\\begin{equation*}\n",
    "y(t) = \\phi y(t-1) + (1-\\phi)x(t) + \\rho \\epsilon(t-1) + v(t)\n",
    "\\end{equation*}\n",
    "\n",
    "where\n",
    "\n",
    "\\begin{equation*}\n",
    "\\epsilon(t-1) = y(t-1) - \\phi y(t-2) - (1-\\phi)x(t-1)\n",
    "\\end{equation*}\n",
    "\n",
    "so to remove $\\epsilon$ from the estimation of $y(t)$ where the only error terms left the IID $v(t)$ we rewrite the equation as:  \n",
    "\n",
    "\\begin{equation*}\n",
    "y(t) = \\phi y(t-1) + (1-\\phi)x(t) + \\rho (y(t-1) - \\phi y(t-2) - (1-\\phi)x(t-1)) + v(t)\n",
    "\\end{equation*}\n",
    "\n",
    "which can be rearranged as:  \n",
    "\\begin{equation*}\n",
    "y(t) = \\phi y(t-1) + (1-\\phi)x(t) + \\rho y(t-1) - \\rho\\phi y(t-2) - \\rho(1-\\phi)x(t-1) + v(t)  \n",
    "\\end{equation*}\n",
    "\n",
    "\n",
    "\\begin{equation*}\n",
    "y(t) = (\\phi+\\rho) y(t-1)  - \\rho\\phi y(t-2) + (1-\\phi)x(t) - \\rho(1-\\phi)x(t-1) + v(t)\n",
    "\\end{equation*}\n",
    "\n",
    "Modeling $y(t)$ directly in this manner is one way to account for the effect of autocorrelation.   \n",
    "\n",
    "In this method $\\beta_1$ would give an estimate of $(\\phi+\\rho)$, $\\beta_2$ of $\\rho\\phi$ and $\\beta_3$ would yield a un-/less biased estimate of $(1-\\phi)$\n",
    "\n",
    "Note: The other coefficients from this model could/should also yield better estimates of $\\phi$ but since we don't know the true $\\rho$ in the estimation step (as opposed to the simulation step) and instead estimate it as $\\hat{\\rho}$ using the residuals from the uncorrected model using the other coefficients to estimate a corrected $\\phi$ would depend on the how well $\\hat{\\rho}$ is estimated. This plays a more important role below.\n"
   ]
  },
  {
   "cell_type": "markdown",
   "metadata": {},
   "source": [
    "## Prewhitening\n",
    "\n",
    "The above equation can be rewritten as \n",
    "\n",
    "\\begin{equation*}\n",
    "y(t) - \\rho y(t-1) = \\phi y(t-1) + (1-\\phi)x(t)  - \\rho(\\phi y(t-2) + (1-\\phi)x(t-1)) + v(t)  \n",
    "\\end{equation*}\n",
    "\n",
    "which clarifies the effect of \"prewhitening\" as detailed [here](https://newonlinecourses.science.psu.edu/stat510/lesson/8/8.1).   \n",
    "\n",
    "Modelling $y(t)$ directly accounting for the effect of autocorrelation as described above without transforming the data could be trickier to derive for more complicated models. This rearrangement of the equation makes the generalized procedure behind 'prewhitening' clearer: transforming both the outcome measure as well as the design matrix by subtracting out the effect of autocorrelation ($\\rho$) for the time steps it is modeled to affect (i.e. the $p$ in the $AR(p)$ model).\n",
    "\n",
    "For computational efficiency the above operations can be done in matrix form as well. The steps for this are translated from [this blog post by Mandy Mejia](https://mandymejia.com/2016/11/06/how-to-efficiently-prewhiten-fmri-timeseries-the-right-way/) to estimate a voxelwise prewhitening matrix $W$ and rerun the regression $Wy = WX\\beta + W\\epsilon$ in the `whiten` function.\n",
    "\n",
    "\n",
    "**These two ways of accounting for autocorrelated noise (i.e. modeling $y(t)$ directly versus prewhitening using the $W$ matrix) differ in one crucial aspect: the estimation of the autocorrelation. In the former method $\\rho$ is not estimated directly while it is necessary to do so using an $AR(p)$ model in the latter method. Therefore the latter method should depend on how well $\\rho$ can be recovered**"
   ]
  },
  {
   "cell_type": "markdown",
   "metadata": {},
   "source": [
    "## Simulations\n",
    "\n",
    "### Helper functions"
   ]
  },
  {
   "cell_type": "code",
   "execution_count": 15,
   "metadata": {},
   "outputs": [],
   "source": [
    "def make_y(x, phi, rho, mu=0, sigma=1):\n",
    "    y = y = np.zeros(len(x))\n",
    "    \n",
    "    noise = np.random.normal(mu, sigma, len(y))\n",
    "    \n",
    "    for i in range(len(y)):\n",
    "        if i == 0:\n",
    "            y[i] = copy.copy(x[i])\n",
    "        else:\n",
    "            noise[i] = rho*noise[i-1]+noise[i]\n",
    "            y[i] = phi*y[i-1]+(1-phi)*x[i]+noise[i]\n",
    "    \n",
    "    out = {'y' : y,\n",
    "          'noise' : noise}        \n",
    "    #return(y)\n",
    "    return(out)"
   ]
  },
  {
   "cell_type": "code",
   "execution_count": 5,
   "metadata": {},
   "outputs": [],
   "source": [
    "def whiten(mod_obj, p=1, q=0, verbose=False, manual = True):\n",
    "    \n",
    "    err = mod_obj.fit().resid\n",
    "    X = mod_obj.exog\n",
    "    y = mod_obj.endog\n",
    "    \n",
    "    try:\n",
    "        ar_mod = ARMA(err, order=(p, q))\n",
    "        ar_res = ar_mod.fit(trend=\"nc\")\n",
    "        \n",
    "        first_col = np.insert(-ar_res.params, 0, 1)\n",
    "        for i in range(len(y)-1):\n",
    "            if i == 0:\n",
    "                cur_col = copy.copy(first_col)\n",
    "                cur_col = np.insert(cur_col, 2, np.zeros(len(y)-len(ar_res.params)-1))\n",
    "                A = cur_col.reshape(-1,1)\n",
    "            else:\n",
    "                cur_col = A[:,i]\n",
    "            col_lag = np.r_[0, cur_col[:-1]]\n",
    "            col_lag = col_lag.reshape(-1,1)\n",
    "            A = np.concatenate((A, col_lag), 1)\n",
    "            \n",
    "        V_inv = np.dot(A,A.T)\n",
    "        \n",
    "        u, d, vh = np.linalg.svd(V_inv)\n",
    "        \n",
    "        W=u.dot(np.sqrt(np.diag(d))).dot(u.T)\n",
    "            \n",
    "        Wy = np.dot(W,y)\n",
    "        WX = np.dot(W,X)\n",
    "        \n",
    "        mod_pw = sm.OLS(Wy, WX)\n",
    "        res_pw = mod_pw.fit()\n",
    "        \n",
    "        out = np.insert(ar_res.params, 1, res_pw.params[1])\n",
    "        \n",
    "        if manual == True:\n",
    "            shift_y = pshift(y, p)\n",
    "            shift_X = pshift(X, p)\n",
    "            mpw_y = y - (ar_res.params*shift_y)\n",
    "            mpw_X = X - (ar_res.params*shift_X)\n",
    "            mod_mpw = sm.OLS(mpw_y, mpw_X)\n",
    "            res_mpw = mod_mpw.fit()\n",
    "            out = np.insert(out, 2, res_mpw.params[1])\n",
    "        \n",
    "    except:\n",
    "        print(\"Whitening failed!\")\n",
    "        out = [np.nan, np.nan]\n",
    "    return(out)"
   ]
  },
  {
   "cell_type": "code",
   "execution_count": 33,
   "metadata": {},
   "outputs": [
    {
     "name": "stderr",
     "output_type": "stream",
     "text": [
      "/home/groups/russpold/software/miniconda/envs/fmri/lib/python3.5/site-packages/matplotlib/axes/_axes.py:6521: MatplotlibDeprecationWarning: \n",
      "The 'normed' kwarg was deprecated in Matplotlib 2.1 and will be removed in 3.1. Use 'density' instead.\n",
      "  alternative=\"'density'\", removal=\"3.1\")\n",
      "/home/groups/russpold/software/miniconda/envs/fmri/lib/python3.5/site-packages/matplotlib/axes/_axes.py:6521: MatplotlibDeprecationWarning: \n",
      "The 'normed' kwarg was deprecated in Matplotlib 2.1 and will be removed in 3.1. Use 'density' instead.\n",
      "  alternative=\"'density'\", removal=\"3.1\")\n"
     ]
    },
    {
     "data": {
      "text/plain": [
       "<matplotlib.legend.Legend at 0x7f08e54f84e0>"
      ]
     },
     "execution_count": 33,
     "metadata": {},
     "output_type": "execute_result"
    },
    {
     "data": {
      "image/png": "[encoded data removed]",
      "text/plain": [
       "<Figure size 432x288 with 1 Axes>"
      ]
     },
     "metadata": {
      "needs_background": "light"
     },
     "output_type": "display_data"
    }
   ],
   "source": [
    "phi_stim = 0.4\n",
    "rho_stim = 0.6\n",
    "x = copy.copy(tasktiming[0])\n",
    "\n",
    "data_cornoise = make_y(x, phi_stim, rho_stim)\n",
    "data_randnoise = make_y(x, phi_stim, 0)\n",
    "\n",
    "df = pd.DataFrame({'y_cornoise': data_wnoise['y'],\n",
    "                  'y_randnoise': data_nonoise['y']})\n",
    "\n",
    "sns.distplot(df['y_cornoise'], label = \"Data with correlated noise\", axlabel=False)\n",
    "sns.distplot(df['y_randnoise'], label = \"Data with random noise\", axlabel=False)\n",
    "sns.plt.legend()"
   ]
  },
  {
   "cell_type": "code",
   "execution_count": 36,
   "metadata": {},
   "outputs": [
    {
     "ename": "TypeError",
     "evalue": "regplot() got an unexpected keyword argument 'hue'",
     "output_type": "error",
     "traceback": [
      "\u001b[0;31m---------------------------------------------------------------------------\u001b[0m",
      "\u001b[0;31mTypeError\u001b[0m                                 Traceback (most recent call last)",
      "\u001b[0;32m<ipython-input-36-9a59606342db>\u001b[0m in \u001b[0;36m<module>\u001b[0;34m()\u001b[0m\n\u001b[1;32m      1\u001b[0m \u001b[0mdf\u001b[0m\u001b[0;34m[\u001b[0m\u001b[0;34m'timepoint'\u001b[0m\u001b[0;34m]\u001b[0m \u001b[0;34m=\u001b[0m \u001b[0mnp\u001b[0m\u001b[0;34m.\u001b[0m\u001b[0marange\u001b[0m\u001b[0;34m(\u001b[0m\u001b[0;36m0\u001b[0m\u001b[0;34m,\u001b[0m \u001b[0mdf\u001b[0m\u001b[0;34m.\u001b[0m\u001b[0mshape\u001b[0m\u001b[0;34m[\u001b[0m\u001b[0;36m0\u001b[0m\u001b[0;34m]\u001b[0m\u001b[0;34m,\u001b[0m \u001b[0;36m1\u001b[0m\u001b[0;34m)\u001b[0m\u001b[0;34m.\u001b[0m\u001b[0mtolist\u001b[0m\u001b[0;34m(\u001b[0m\u001b[0;34m)\u001b[0m\u001b[0;34m\u001b[0m\u001b[0m\n\u001b[1;32m      2\u001b[0m \u001b[0mdf_m\u001b[0m \u001b[0;34m=\u001b[0m \u001b[0mpd\u001b[0m\u001b[0;34m.\u001b[0m\u001b[0mmelt\u001b[0m\u001b[0;34m(\u001b[0m\u001b[0mdf\u001b[0m\u001b[0;34m,\u001b[0m \u001b[0mid_vars\u001b[0m\u001b[0;34m=\u001b[0m\u001b[0;34m[\u001b[0m\u001b[0;34m'timepoint'\u001b[0m\u001b[0;34m]\u001b[0m\u001b[0;34m,\u001b[0m \u001b[0mvalue_vars\u001b[0m \u001b[0;34m=\u001b[0m \u001b[0;34m[\u001b[0m\u001b[0;34m'y_cornoise'\u001b[0m\u001b[0;34m,\u001b[0m \u001b[0;34m'y_randnoise'\u001b[0m\u001b[0;34m]\u001b[0m\u001b[0;34m)\u001b[0m\u001b[0;34m\u001b[0m\u001b[0m\n\u001b[0;32m----> 3\u001b[0;31m \u001b[0msns\u001b[0m\u001b[0;34m.\u001b[0m\u001b[0mregplot\u001b[0m\u001b[0;34m(\u001b[0m\u001b[0mx\u001b[0m\u001b[0;34m=\u001b[0m\u001b[0;34m\"timepoint\"\u001b[0m\u001b[0;34m,\u001b[0m \u001b[0my\u001b[0m\u001b[0;34m=\u001b[0m\u001b[0;34m\"value\"\u001b[0m\u001b[0;34m,\u001b[0m \u001b[0mhue\u001b[0m\u001b[0;34m=\u001b[0m\u001b[0;34m\"variable\"\u001b[0m\u001b[0;34m,\u001b[0m\u001b[0mdata\u001b[0m\u001b[0;34m=\u001b[0m\u001b[0mdf_m\u001b[0m\u001b[0;34m,\u001b[0m \u001b[0mfit_reg\u001b[0m\u001b[0;34m=\u001b[0m\u001b[0;32mFalse\u001b[0m\u001b[0;34m)\u001b[0m\u001b[0;34m\u001b[0m\u001b[0m\n\u001b[0m",
      "\u001b[0;31mTypeError\u001b[0m: regplot() got an unexpected keyword argument 'hue'"
     ]
    }
   ],
   "source": [
    "df['timepoint'] = np.arange(0, df.shape[0], 1).tolist()\n",
    "df_m = pd.melt(df, id_vars=['timepoint'], value_vars = ['y_cornoise', 'y_randnoise'])\n",
    "sns.regplot(x=\"timepoint\", y=\"value\", hue=\"variable\",data=df_m, fit_reg=False)"
   ]
  },
  {
   "cell_type": "code",
   "execution_count": 10,
   "metadata": {},
   "outputs": [
    {
     "name": "stderr",
     "output_type": "stream",
     "text": [
      "/home/groups/russpold/software/miniconda/envs/fmri/lib/python3.5/site-packages/matplotlib/axes/_axes.py:6521: MatplotlibDeprecationWarning: \n",
      "The 'normed' kwarg was deprecated in Matplotlib 2.1 and will be removed in 3.1. Use 'density' instead.\n",
      "  alternative=\"'density'\", removal=\"3.1\")\n"
     ]
    },
    {
     "data": {
      "text/plain": [
       "Text(0.5, 1.0, 'Distribution of Autocorrelated residuals')"
      ]
     },
     "execution_count": 10,
     "metadata": {},
     "output_type": "execute_result"
    },
    {
     "data": {
      "image/png": "[encoded data removed]",
      "text/plain": [
       "<Figure size 432x288 with 1 Axes>"
      ]
     },
     "metadata": {
      "needs_background": "light"
     },
     "output_type": "display_data"
    }
   ],
   "source": [
    "df = pd.DataFrame({\"y\": y, \n",
    "                   \"y_lag\": np.r_[0, y[:-1]], \n",
    "                   \"x\": x})\n",
    "df_res = smf.ols(formula=\"y ~ -1 + y_lag + x\", data=df).fit()\n",
    "df_res.summary()\n",
    "sns.distplot(df_res.resid)\n",
    "plt.title(\"Distribution of Autocorrelated residuals\")"
   ]
  },
  {
   "cell_type": "code",
   "execution_count": null,
   "metadata": {},
   "outputs": [],
   "source": [
    "p = 1\n",
    "q = 0\n",
    "ar_mod = ARMA(err, order=(p, q))\n",
    "ar_res = ar_mod.fit(trend=\"nc\")\n",
    "shift_y = pshift(y, p)\n",
    "shift_X = pshift(X, p)\n",
    "mpw_y = y - (ar_res.params*shift_y)\n",
    "mpw_X = X - (ar_res.params*shift_X)\n",
    "mod_mpw = sm.OLS(mpw_y, mpw_X)\n",
    "res_mpw = mod_mpw.fit()\n",
    "plt.plot(mpw_y)\n",
    "plt.title(\"Prewhitened data\")"
   ]
  },
  {
   "cell_type": "code",
   "execution_count": null,
   "metadata": {},
   "outputs": [],
   "source": [
    "plt.plot(res_mpw.resid)\n",
    "plt.title(\"Residuals from regression using prewhitened data\")\n",
    "print(\"True rho:%s ; estimated rho:%s\" %(str(rho_stim), str(round(ar_res.params[0],2))))"
   ]
  },
  {
   "cell_type": "code",
   "execution_count": null,
   "metadata": {},
   "outputs": [],
   "source": [
    "res_mpw.summary()"
   ]
  },
  {
   "cell_type": "code",
   "execution_count": null,
   "metadata": {},
   "outputs": [],
   "source": [
    "res.summary()"
   ]
  },
  {
   "cell_type": "code",
   "execution_count": null,
   "metadata": {},
   "outputs": [],
   "source": [
    "first_col = np.insert(-ar_res.params, 0, 1)\n",
    "for i in range(len(y)-1):\n",
    "    if i == 0:\n",
    "        cur_col = copy.copy(first_col)\n",
    "        cur_col = np.insert(cur_col, 2, np.zeros(len(y)-len(ar_res.params)-1))\n",
    "        A = cur_col.reshape(-1,1)\n",
    "    else:\n",
    "        cur_col = A[:,i]\n",
    "    col_lag = np.r_[0, cur_col[:-1]]\n",
    "    col_lag = col_lag.reshape(-1,1)\n",
    "    A = np.concatenate((A, col_lag), 1)\n",
    "\n",
    "A"
   ]
  },
  {
   "cell_type": "code",
   "execution_count": null,
   "metadata": {},
   "outputs": [],
   "source": [
    "V_inv = np.dot(A,A.T)\n",
    "\n",
    "u, d, vh = np.linalg.svd(V_inv)\n",
    "\n",
    "W=u.dot(np.sqrt(np.diag(d))).dot(u.T)\n",
    "\n",
    "Wy = np.dot(W,y)\n",
    "WX = np.dot(W,X)\n",
    "\n",
    "mod_pw = sm.OLS(Wy, WX)\n",
    "res_pw = mod_pw.fit()"
   ]
  },
  {
   "cell_type": "code",
   "execution_count": null,
   "metadata": {},
   "outputs": [],
   "source": [
    "plt.scatter(mpw_y, Wy)\n",
    "plt.title(\"Prewhitening manually vs. using linear algebra\")"
   ]
  },
  {
   "cell_type": "code",
   "execution_count": null,
   "metadata": {},
   "outputs": [],
   "source": [
    "res_pw.summary()"
   ]
  },
  {
   "cell_type": "markdown",
   "metadata": {},
   "source": [
    "The AR models aren't doing a good job in estimating rho. As a result any prewhitening that depends directly on the estimation of this parameter doesn't work well either. \n",
    "\n",
    "rho is the lagged correlation of the residuals. can i do i better job estimating it with an OLS?\n",
    "\n",
    "NO you get the same estimate. \n",
    "\n",
    "Why is the rho estimate bad? \n",
    "It might be because it depends on the estimation of the initial model. The data fed into the AR(p) model is the residuals. If the first model isn't a good fit the residuals aren't going to be a good approximation of the noise either"
   ]
  },
  {
   "cell_type": "code",
   "execution_count": null,
   "metadata": {},
   "outputs": [],
   "source": [
    "df = pd.DataFrame({\"err\": err, \n",
    "                   \"err_lag\": np.r_[0, err[:-1]]})\n",
    "df_res = smf.ols(formula=\"err ~ -1 + err_lag\", data=df).fit()\n",
    "df_res.summary()"
   ]
  },
  {
   "cell_type": "markdown",
   "metadata": {},
   "source": [
    "How good would the estimation of phi be without any autocorrelation in the noise?"
   ]
  },
  {
   "cell_type": "code",
   "execution_count": 12,
   "metadata": {},
   "outputs": [
    {
     "data": {
      "text/html": [
       "<table class=\"simpletable\">\n",
       "<caption>OLS Regression Results</caption>\n",
       "<tr>\n",
       "  <th>Dep. Variable:</th>            <td>y</td>        <th>  R-squared:         </th> <td>   0.331</td>\n",
       "</tr>\n",
       "<tr>\n",
       "  <th>Model:</th>                   <td>OLS</td>       <th>  Adj. R-squared:    </th> <td>   0.328</td>\n",
       "</tr>\n",
       "<tr>\n",
       "  <th>Method:</th>             <td>Least Squares</td>  <th>  F-statistic:       </th> <td>   123.2</td>\n",
       "</tr>\n",
       "<tr>\n",
       "  <th>Date:</th>             <td>Thu, 05 Dec 2019</td> <th>  Prob (F-statistic):</th> <td>3.47e-44</td>\n",
       "</tr>\n",
       "<tr>\n",
       "  <th>Time:</th>                 <td>08:43:47</td>     <th>  Log-Likelihood:    </th> <td> -723.67</td>\n",
       "</tr>\n",
       "<tr>\n",
       "  <th>No. Observations:</th>      <td>   500</td>      <th>  AIC:               </th> <td>   1451.</td>\n",
       "</tr>\n",
       "<tr>\n",
       "  <th>Df Residuals:</th>          <td>   498</td>      <th>  BIC:               </th> <td>   1460.</td>\n",
       "</tr>\n",
       "<tr>\n",
       "  <th>Df Model:</th>              <td>     2</td>      <th>                     </th>     <td> </td>   \n",
       "</tr>\n",
       "<tr>\n",
       "  <th>Covariance Type:</th>      <td>nonrobust</td>    <th>                     </th>     <td> </td>   \n",
       "</tr>\n",
       "</table>\n",
       "<table class=\"simpletable\">\n",
       "<tr>\n",
       "    <td></td>       <th>coef</th>     <th>std err</th>      <th>t</th>      <th>P>|t|</th>  <th>[0.025</th>    <th>0.975]</th>  \n",
       "</tr>\n",
       "<tr>\n",
       "  <th>y_lag</th> <td>    0.4073</td> <td>    0.039</td> <td>   10.377</td> <td> 0.000</td> <td>    0.330</td> <td>    0.484</td>\n",
       "</tr>\n",
       "<tr>\n",
       "  <th>x</th>     <td>    0.5700</td> <td>    0.078</td> <td>    7.306</td> <td> 0.000</td> <td>    0.417</td> <td>    0.723</td>\n",
       "</tr>\n",
       "</table>\n",
       "<table class=\"simpletable\">\n",
       "<tr>\n",
       "  <th>Omnibus:</th>       <td> 5.362</td> <th>  Durbin-Watson:     </th> <td>   1.994</td>\n",
       "</tr>\n",
       "<tr>\n",
       "  <th>Prob(Omnibus):</th> <td> 0.069</td> <th>  Jarque-Bera (JB):  </th> <td>   5.801</td>\n",
       "</tr>\n",
       "<tr>\n",
       "  <th>Skew:</th>          <td>-0.157</td> <th>  Prob(JB):          </th> <td>  0.0550</td>\n",
       "</tr>\n",
       "<tr>\n",
       "  <th>Kurtosis:</th>      <td> 3.424</td> <th>  Cond. No.          </th> <td>    2.21</td>\n",
       "</tr>\n",
       "</table><br/><br/>Warnings:<br/>[1] Standard Errors assume that the covariance matrix of the errors is correctly specified."
      ],
      "text/plain": [
       "<class 'statsmodels.iolib.summary.Summary'>\n",
       "\"\"\"\n",
       "                            OLS Regression Results                            \n",
       "==============================================================================\n",
       "Dep. Variable:                      y   R-squared:                       0.331\n",
       "Model:                            OLS   Adj. R-squared:                  0.328\n",
       "Method:                 Least Squares   F-statistic:                     123.2\n",
       "Date:                Thu, 05 Dec 2019   Prob (F-statistic):           3.47e-44\n",
       "Time:                        08:43:47   Log-Likelihood:                -723.67\n",
       "No. Observations:                 500   AIC:                             1451.\n",
       "Df Residuals:                     498   BIC:                             1460.\n",
       "Df Model:                           2                                         \n",
       "Covariance Type:            nonrobust                                         \n",
       "==============================================================================\n",
       "                 coef    std err          t      P>|t|      [0.025      0.975]\n",
       "------------------------------------------------------------------------------\n",
       "y_lag          0.4073      0.039     10.377      0.000       0.330       0.484\n",
       "x              0.5700      0.078      7.306      0.000       0.417       0.723\n",
       "==============================================================================\n",
       "Omnibus:                        5.362   Durbin-Watson:                   1.994\n",
       "Prob(Omnibus):                  0.069   Jarque-Bera (JB):                5.801\n",
       "Skew:                          -0.157   Prob(JB):                       0.0550\n",
       "Kurtosis:                       3.424   Cond. No.                         2.21\n",
       "==============================================================================\n",
       "\n",
       "Warnings:\n",
       "[1] Standard Errors assume that the covariance matrix of the errors is correctly specified.\n",
       "\"\"\""
      ]
     },
     "execution_count": 12,
     "metadata": {},
     "output_type": "execute_result"
    }
   ],
   "source": [
    "phi_stim = 0.4\n",
    "rho_stim = 0\n",
    "x = copy.copy(tasktiming[0])\n",
    "y = make_y(x, phi_stim, rho_stim)\n",
    "df = pd.DataFrame({\"y\": y, \n",
    "                   \"y_lag\": np.r_[0, y[:-1]], \n",
    "                   \"x\": x})\n",
    "df_res = smf.ols(formula=\"y ~ -1 + y_lag + x\", data=df).fit()\n",
    "df_res.summary()"
   ]
  },
  {
   "cell_type": "code",
   "execution_count": 13,
   "metadata": {},
   "outputs": [
    {
     "data": {
      "text/plain": [
       "Text(0.5, 1.0, 'Data without autocorrelated noise')"
      ]
     },
     "execution_count": 13,
     "metadata": {},
     "output_type": "execute_result"
    },
    {
     "data": {
      "image/png": "[encoded data removed]",
      "text/plain": [
       "<Figure size 432x288 with 1 Axes>"
      ]
     },
     "metadata": {
      "needs_background": "light"
     },
     "output_type": "display_data"
    }
   ],
   "source": [
    "plt.plot(y)\n",
    "plt.title(\"Data without autocorrelated noise\")"
   ]
  },
  {
   "cell_type": "code",
   "execution_count": 8,
   "metadata": {},
   "outputs": [
    {
     "name": "stderr",
     "output_type": "stream",
     "text": [
      "/home/groups/russpold/software/miniconda/envs/fmri/lib/python3.5/site-packages/matplotlib/axes/_axes.py:6521: MatplotlibDeprecationWarning: \n",
      "The 'normed' kwarg was deprecated in Matplotlib 2.1 and will be removed in 3.1. Use 'density' instead.\n",
      "  alternative=\"'density'\", removal=\"3.1\")\n"
     ]
    },
    {
     "data": {
      "text/plain": [
       "<matplotlib.axes._subplots.AxesSubplot at 0x7f08e5a29b38>"
      ]
     },
     "execution_count": 8,
     "metadata": {},
     "output_type": "execute_result"
    },
    {
     "data": {
      "image/png": "[encoded data removed]",
      "text/plain": [
       "<Figure size 432x288 with 1 Axes>"
      ]
     },
     "metadata": {
      "needs_background": "light"
     },
     "output_type": "display_data"
    }
   ],
   "source": [
    "sns.distplot(df_res.resid)"
   ]
  },
  {
   "cell_type": "markdown",
   "metadata": {},
   "source": [
    "Function to recover the $\\phi$ and $\\rho$ parameters from either given data or after simulating data.  \n",
    "\n",
    "Arguments:\n",
    "\n",
    "`phi_stim`: $\\phi$ that will be used if simulating data.  \n",
    "`rho_stim`: $\\rho$ that will be used if simulating data.  \n",
    "`x`: Simulate task data if None; numpy array with task timeseries otherwise.  \n",
    "`y`: Simulate task data if none; numpy array with response timeseries otherwise.  \n",
    "`Tmax`: Number of timepoints to simulate data for.  \n",
    "`mu_stim`: Mean of error term.  \n",
    "`sigma_stim`: SD of error term.  \n",
    "`verbose`: Print true and estimated parameter estimates while running.  \n",
    "`ar_correction`: Return recursivity parameter after accounting for autocorrelated noise without estimating the prewhitening matrix directly. \n",
    "`prewhiten`: Return recursivity parameter accouting for autocorrelation estimating the prewhitening matrix.  \n",
    "`arp`: p for the AR(p) model.\n",
    "\n",
    "Output:\n",
    "\n",
    "Dictionary with simulation and estimation parameters  "
   ]
  },
  {
   "cell_type": "code",
   "execution_count": null,
   "metadata": {},
   "outputs": [],
   "source": [
    "def get_phi_rho(phi_stim, rho_stim, x=None, y=None, Tmax = 500, mu_stim=0, sigma_stim=1, verbose = True, ar_correction = True, prewhiten=True, arp=1):\n",
    "    \n",
    "    if x is None:\n",
    "        T = np.arange(0,Tmax,1)\n",
    "        tasktiming = np.zeros((1,len(T)))\n",
    "        for t in range(len(T)):\n",
    "            if t%25>10 and t%25<21:\n",
    "                tasktiming[0,t] = 1.0\n",
    "        x = copy.copy(tasktiming[0])\n",
    "    \n",
    "    if y is None:\n",
    "        y = make_y(x, rho=rho_stim, phi = phi_stim)\n",
    "    \n",
    "    X = x.reshape(-1,1)\n",
    "    ## Constant/GLM:\n",
    "    #X = sm.add_constant(X)\n",
    "    y_lag = np.r_[0, y[:-1]]\n",
    "    y_lag = y_lag.reshape(-1,1)\n",
    "    X = np.concatenate((X, y_lag), 1)\n",
    "\n",
    "    #No intercept model\n",
    "    mod = sm.OLS(y, X)\n",
    "    res = mod.fit()\n",
    "    est_phi = res.params[1]\n",
    "    \n",
    "    if verbose:\n",
    "        print(\"Actual phi = %s; estimated phi = %s\"%(phi_stim,str(round(est_phi, 5))))\n",
    "    \n",
    "    out = {\"phi_stim\": phi_stim,\n",
    "          'rho_stim': rho_stim,\n",
    "          'phi_est_ncr': est_phi}\n",
    "    \n",
    "    if ar_correction:\n",
    "        arc_X = copy.copy(y_lag)\n",
    "        y_lag2 = np.r_[0, np.r_[0, y[:-1]][:-1]]\n",
    "        y_lag2 = y_lag2.reshape(-1,1)\n",
    "        arc_X = np.concatenate((arc_X, y_lag2), 1)\n",
    "        arc_X = np.concatenate((arc_X, x.reshape(-1,1)), 1)\n",
    "        x_lag = np.r_[0, x[:-1]]\n",
    "        x_lag = x_lag.reshape(-1,1)\n",
    "        arc_X = np.concatenate((arc_X, x_lag), 1)\n",
    "    \n",
    "        arc_mod = sm.OLS(y, arc_X)\n",
    "        arc_res = arc_mod.fit()\n",
    "        \n",
    "        est_phi_arc = 1 - arc_res.params[2]\n",
    "        \n",
    "        out.update({\"phi_est_arc\": est_phi_arc})\n",
    "        \n",
    "        if verbose:\n",
    "            print(\"Actual phi = %s; estimated phi with arc = %s\"%(phi_stim,str(round(est_phi_arc, 5))))\n",
    "            \n",
    "    if prewhiten:\n",
    "        pw_params = whiten(mod_obj=mod, p=arp, verbose=verbose)\n",
    "        \n",
    "        out.update({\"rho_est_pw\": pw_params[0],\n",
    "                    \"phi_est_pw\": pw_params[1],\n",
    "                    \"phi_est_mpw\": pw_params[2]})\n",
    "        \n",
    "        if verbose:\n",
    "            print(\"Actual rho = %s; estimated rho with AR = %s\"%(phi_stim,str(round(pw_params[0], 5))))\n",
    "            print(\"Actual phi = %s; estimated phi with pw = %s\"%(phi_stim,str(round(pw_params[1], 5))))            \n",
    "        \n",
    "    return(out)"
   ]
  },
  {
   "cell_type": "markdown",
   "metadata": {},
   "source": [
    "### Simulation results\n",
    "\n",
    "For $\\phi$ and $\\rho$ ranging from 0 to 1 with .1 increments simulate recursive data with autocorrelated noise and estimate the recursivity parameter using ordinary least squares with and without accounting for the autocorrelation."
   ]
  },
  {
   "cell_type": "code",
   "execution_count": null,
   "metadata": {},
   "outputs": [],
   "source": [
    "phi_stims=np.arange(0,1.1,.1)\n",
    "rho_stims=np.arange(0,1.1,.1)\n",
    "\n",
    "out = {}\n",
    "\n",
    "iterations = range(0, 2)\n",
    "\n",
    "for i in iterations:\n",
    "    print(\"Starting with iteration: %s\"%(str(i)))\n",
    "    cur_out = {}\n",
    "    for p in phi_stims:\n",
    "        for r in rho_stims:\n",
    "            sim_id = \"phi_%s_rho_%s\"%(p, r)\n",
    "            cur_out[sim_id] = get_phi_rho(p, r, verbose=False)\n",
    "            out[i] = cur_out"
   ]
  },
  {
   "cell_type": "code",
   "execution_count": null,
   "metadata": {},
   "outputs": [],
   "source": [
    "l1_keys = list(out.keys())\n",
    "l2_keys = [list(d.keys()) for d in out.values()][0]\n",
    "l3_keys = list(out[0][l2_keys[0]].keys())\n",
    "\n",
    "out_means = {}\n",
    "\n",
    "for l3_key in l3_keys:\n",
    "    for l2_key in l2_keys:\n",
    "        if l2_key not in out_means.keys():\n",
    "            out_means[l2_key] = {}\n",
    "        for l1_key in l1_keys:\n",
    "            cur_vals = np.array(np.nan)\n",
    "            cur_vals = np.insert(cur_vals, 1, out[l1_key][l2_key][l3_key])    \n",
    "        out_means[l2_key][l3_key] = np.nanmean(cur_vals) \n",
    "    "
   ]
  },
  {
   "cell_type": "markdown",
   "metadata": {},
   "source": [
    "Organize output"
   ]
  },
  {
   "cell_type": "code",
   "execution_count": null,
   "metadata": {},
   "outputs": [],
   "source": [
    "out_df = pd.DataFrame(out_means).T\n",
    "out_df['phi_stim'] = round(out_df['phi_stim'],1)\n",
    "out_df['rho_stim'] = round(out_df['rho_stim'],1)"
   ]
  },
  {
   "cell_type": "code",
   "execution_count": null,
   "metadata": {},
   "outputs": [],
   "source": [
    "out_df.reset_index(drop=True,inplace=True)"
   ]
  },
  {
   "cell_type": "markdown",
   "metadata": {},
   "source": [
    "Calculate the degree to which estimated parameters deviate from the true variable used in the simulation\n",
    "\n",
    "\\begin{equation*}\n",
    "deviation = |estimate - truth|\n",
    "\\end{equation*}"
   ]
  },
  {
   "cell_type": "code",
   "execution_count": null,
   "metadata": {},
   "outputs": [],
   "source": [
    "out_df['phi_pct_diff'] = abs(out_df['phi_est_ncr'] - out_df['phi_stim'])\n",
    "out_df['phi_pct_diff_arc'] = abs(out_df['phi_est_arc'] - out_df['phi_stim'])\n",
    "out_df['phi_pct_diff_pw'] = abs(out_df['phi_est_pw'] - out_df['phi_stim'])\n",
    "out_df['phi_pct_diff_mpw'] = abs(out_df['phi_est_mpw'] - out_df['phi_stim'])\n",
    "out_df['rho_pct_diff'] = abs(out_df['rho_est_pw'] - out_df['rho_stim'])\n",
    "out_df['phi_improvement_arc'] = out_df['phi_pct_diff'] - out_df['phi_pct_diff_arc']\n",
    "out_df['phi_improvement_pw'] = out_df['phi_pct_diff'] - out_df['phi_pct_diff_pw']\n",
    "out_df['phi_improvement_mpw'] = out_df['phi_pct_diff'] - out_df['phi_pct_diff_mpw']"
   ]
  },
  {
   "cell_type": "markdown",
   "metadata": {},
   "source": [
    "Darker colors are larger deviations from truth (\"bad\")\n",
    "\n",
    "`Estimation of Phi`: $\\phi$ estimate without correcting for $\\rho$ in any way  \n",
    "`Estimation of Phi (ARC)`: $\\phi$ estimate without correcting $\\rho$ without directly estimating $\\rho$ but modeling $y(t)$ directly  \n",
    "`Estimation of Phi (PW)`: $\\phi$ estimate correcting for $\\rho$ by estimating it using an $AR(1)$ model and running SVD on the $V^{-1}$ to estimate the prewhitening matrix $W$  \n",
    "`Estimation of Phi (MPW)`: $\\phi$ estimate correcting for $\\rho$ by estimating it using an $AR(1)$ but prewhitening 'manually' by transforming $y$ and $X$ through vectorized subtraction."
   ]
  },
  {
   "cell_type": "code",
   "execution_count": null,
   "metadata": {},
   "outputs": [],
   "source": [
    "plt.rcParams[\"figure.figsize\"][0] = 8\n",
    "plt.rcParams[\"figure.figsize\"][1] = 8\n",
    "fig, axn = plt.subplots(2, 2, sharex=True, sharey=True)\n",
    "cbar_ax = fig.add_axes([.91, .3, .03, .4])\n",
    "#vals = ['phi_pct_diff','phi_pct_diff_arc','phi_pct_diff_pw', 'rho_pct_diff']\n",
    "#ax_titles = ['Estimation of Phi','Estimation of Phi (ARC)', 'Estimation of Phi (PW)', 'Estimation of rho (AR)']\n",
    "vals = ['phi_pct_diff','phi_pct_diff_arc','phi_pct_diff_pw', 'phi_pct_diff_mpw']\n",
    "ax_titles = ['Estimation of Phi','Estimation of Phi (ARC)', 'Estimation of Phi (PW)', 'Estimation of Phi (MPW)']\n",
    "\n",
    "for i, ax in enumerate(axn.flat):\n",
    "    df = out_df.pivot(index='phi_stim',columns='rho_stim',values='%s'%(vals[i]))\n",
    "    sns.heatmap(df, ax=ax,\n",
    "                cbar=i == 0,\n",
    "                vmin=0, vmax=1,\n",
    "                xticklabels=True, yticklabels=True,\n",
    "                cbar_ax=None if i else cbar_ax)\n",
    "    ax.set_title('%s'%(ax_titles[i]))\n",
    "    ax.set_ylabel('')    \n",
    "    ax.set_xlabel('')\n",
    "    ax.invert_yaxis()\n",
    "\n",
    "fig.suptitle(\"Absolute difference between simulated and estimated parameter\", fontsize=14, y = 1.1)\n",
    "fig.text(-0.04, 0.5, 'Recursiveness (True phi)', va='center', rotation='vertical', size=13)\n",
    "fig.text(0.5, -0.04, 'Autocorrelation (True rho)', ha='center', size = 13)\n",
    "fig.tight_layout(rect=[0, 0, .9, 1])\n"
   ]
  },
  {
   "cell_type": "markdown",
   "metadata": {},
   "source": [
    "Thoughts from the heatmaps above:\n",
    "- Correcting for AR without estimating the $\\rho$ or $W$ directly works best for high (true) values of $\\rho$. It seems to \"overcorrect\"/work less well for lower values of $\\rho$ and higher recursivity  \n",
    "- Correcting for AR estimating both $\\rho$ and $W$ does not correct enough for too high values of $\\rho$\n",
    "- Correcting for AR estimating $\\rho$ but not the full $W$ works very similarly with slight bit better estimation for medium high $\\phi$ and $\\rho$ though worse for maximal $\\phi$"
   ]
  },
  {
   "cell_type": "markdown",
   "metadata": {},
   "source": [
    "### Dependence of correction success on actual and estimated $\\rho$\n",
    "\n",
    "Black dashed line is the 45 degree line for reference.   \n",
    "\n",
    "Below are several ways of depicting the relationship between the ability to estimate $\\phi$ depending on how much autocorrelation there is or estimated to be in the errors in the data."
   ]
  },
  {
   "cell_type": "code",
   "execution_count": null,
   "metadata": {},
   "outputs": [],
   "source": [
    "df = out_df[['rho_stim','phi_stim', 'phi_est_ncr', 'phi_est_arc','phi_est_pw', 'phi_est_mpw']]\n",
    "\n",
    "df = pd.melt(df, id_vars = [\"rho_stim\", 'phi_stim'], value_vars = ['phi_est_ncr', 'phi_est_arc','phi_est_pw', 'phi_est_mpw'])\n",
    "\n",
    "df = df.rename(columns={\"variable\": \"correction_type\", \"value\": \"Estimated phi\", 'phi_stim': 'True phi', \"rho_stim\": \"True rho\"})\n",
    "\n",
    "new = df['correction_type'].str.split(\"_\", expand=True)\n",
    "\n",
    "df['correction_type'] = new[2]\n",
    "\n",
    "g = sns.lmplot(x=\"True phi\", y = \"Estimated phi\",\n",
    "               col=\"correction_type\", hue=\"True rho\", \n",
    "               hue_order = [1.0,.9,.8,.7,.6,.5,.4,.3,.2,.1,0.0],\n",
    "               ci = None, scatter = False,\n",
    "               data=df, col_wrap=2,\n",
    "              palette = sns.color_palette(\"RdBu\", n_colors=11))\n",
    "\n",
    "plt.plot([0, 1], [0, 1], linewidth=4, color = \"black\", linestyle = \"--\")\n",
    "    \n",
    "    \n",
    "    "
   ]
  },
  {
   "cell_type": "code",
   "execution_count": null,
   "metadata": {},
   "outputs": [],
   "source": [
    "df = out_df[['rho_stim', 'phi_pct_diff_arc','phi_pct_diff_pw', 'phi_pct_diff_mpw']]\n",
    "\n",
    "df = pd.melt(df, id_vars =['rho_stim'], value_vars =['phi_pct_diff_arc','phi_pct_diff_pw', 'phi_pct_diff_mpw'])\n",
    "\n",
    "df = df.rename(columns={\"variable\": \"phi_est_type\", \"value\": \"phi_pct_diff\"})\n",
    "\n",
    "new = df['phi_est_type'].str.split(\"_\", expand=True)\n",
    "\n",
    "df['phi_est_type'] = new[3]\n",
    "\n",
    "df.head()\n",
    "\n",
    "g = sns.FacetGrid(df, col=\"phi_est_type\", margin_titles=True,\n",
    "                 sharex=True, sharey=True)\n",
    "\n",
    "g.map(sns.regplot, \"rho_stim\", \"phi_pct_diff\" , color=\".3\", fit_reg=True)\n",
    "\n",
    "g.set_ylabels(\"Deviance in phi estimation\")\n",
    "g.set_xlabels(\"True rho\")\n",
    "g.set_titles(col_template=\"'{col_name}'\")"
   ]
  },
  {
   "cell_type": "code",
   "execution_count": null,
   "metadata": {},
   "outputs": [],
   "source": [
    "df = out_df[['rho_pct_diff', 'phi_pct_diff_arc','phi_pct_diff_pw', 'phi_pct_diff_mpw']]\n",
    "\n",
    "df = pd.melt(df, id_vars =['rho_pct_diff'], value_vars =['phi_pct_diff_arc','phi_pct_diff_pw', 'phi_pct_diff_mpw'])\n",
    "\n",
    "df = df.rename(columns={\"variable\": \"phi_est_type\", \"value\": \"phi_pct_diff\"})\n",
    "\n",
    "new = df['phi_est_type'].str.split(\"_\", expand=True)\n",
    "\n",
    "df['phi_est_type'] = new[3]\n",
    "\n",
    "df.head()\n",
    "\n",
    "g = sns.FacetGrid(df, col=\"phi_est_type\", margin_titles=True,\n",
    "                 sharex=True, sharey=True)\n",
    "\n",
    "g.map(sns.regplot, \"rho_pct_diff\", \"phi_pct_diff\" , color=\".3\", fit_reg=True)\n",
    "\n",
    "g.set_ylabels(\"Deviance in phi estimation\")\n",
    "g.set_xlabels(\"Deviance of rho estimate\")\n",
    "g.set_titles(col_template=\"'{col_name}'\")"
   ]
  },
  {
   "cell_type": "markdown",
   "metadata": {},
   "source": [
    "## Additional concerns with timeseries analyses\n",
    "\n"
   ]
  },
  {
   "cell_type": "markdown",
   "metadata": {},
   "source": [
    "### Direct test of stationarity: Unit test\n",
    "\n",
    "If |$\\phi|<1$ AR(1) process is stationary (where phi is the parameter that determines the relationship between $y(t)$ and $y(t+1))$\n",
    "\n",
    "When $\\phi$ is not known (ie. not simulated data) you can use the first derivative of the timeseries to check if the slope is negative (if yes, then stationary).\n",
    "\n",
    "\n",
    "#### Why is stationarity important?   \n",
    "- because a regression between two nonstationary variables can produce spurious results (e.g. regressing the time series of one voxel over the time series of a task, of another voxel etc.)  \n",
    "\n",
    "#### How do you make a time series stationary?  \n",
    "- by taking the derivative until $|\\phi|<1$ \n",
    "\n",
    "### Indirect test of stationarity: Correlogram and autocorrelation"
   ]
  },
  {
   "cell_type": "code",
   "execution_count": null,
   "metadata": {},
   "outputs": [],
   "source": [
    "def make_correlogram(y, max_lag):\n",
    "    for i in range(2,max_lag):\n",
    "        #y_lag = np.roll(y, -i)\n",
    "        y_lag = np.roll(y, i)\n",
    "        #y_lag = y_lag[:-i]\n",
    "        y_lag[:i] = 0\n",
    "        y_cur = y[:len(y_lag)]\n",
    "        ac = (np.cov(y_cur, y_lag)[0][1]) / (np.var(y_cur))\n",
    "        print(\"s = %s, AC = %s\"%(str(i), str(ac)))"
   ]
  },
  {
   "cell_type": "markdown",
   "metadata": {},
   "source": [
    "When the time series are **not** stationary the autocorrelation does **not** decline quickly.  \n",
    "\n",
    "Note: As explained below only $\\phi$=1 is the time series we generate are not stationary."
   ]
  },
  {
   "cell_type": "code",
   "execution_count": null,
   "metadata": {},
   "outputs": [],
   "source": [
    "x = copy.copy(tasktiming[0])\n",
    "y = make_y(x, 1, 0)\n",
    "make_correlogram(y, 10)"
   ]
  },
  {
   "cell_type": "code",
   "execution_count": null,
   "metadata": {},
   "outputs": [],
   "source": [
    "y = make_y(x, .1, 0.5)\n",
    "make_correlogram(y, 10)"
   ]
  },
  {
   "cell_type": "code",
   "execution_count": null,
   "metadata": {},
   "outputs": [],
   "source": [
    "y = make_y(x, .8, 0.5)\n",
    "make_correlogram(y, 10)"
   ]
  }
 ],
 "metadata": {
  "hide_input": false,
  "kernelspec": {
   "display_name": "Python 3",
   "language": "python",
   "name": "python3"
  },
  "toc": {
   "base_numbering": 1,
   "nav_menu": {},
   "number_sections": true,
   "sideBar": true,
   "skip_h1_title": false,
   "title_cell": "Table of Contents",
   "title_sidebar": "Contents",
   "toc_cell": false,
   "toc_position": {
    "height": "calc(100% - 180px)",
    "left": "10px",
    "top": "150px",
    "width": "165px"
   },
   "toc_section_display": true,
   "toc_window_display": true
  }
 },
 "nbformat": 4,
 "nbformat_minor": 2
}
